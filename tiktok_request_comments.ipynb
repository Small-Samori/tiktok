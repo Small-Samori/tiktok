{
 "cells": [
  {
   "cell_type": "code",
   "execution_count": 1,
   "id": "6d8940c2-17cf-4dfa-b9b7-207b8fe9376a",
   "metadata": {},
   "outputs": [
    {
     "ename": "KeyboardInterrupt",
     "evalue": "",
     "output_type": "error",
     "traceback": [
      "\u001b[0;31m---------------------------------------------------------------------------\u001b[0m",
      "\u001b[0;31mKeyboardInterrupt\u001b[0m                         Traceback (most recent call last)",
      "Cell \u001b[0;32mIn[1], line 4\u001b[0m\n\u001b[1;32m      2\u001b[0m \u001b[38;5;28;01mimport\u001b[39;00m \u001b[38;5;21;01mdotenv\u001b[39;00m\n\u001b[1;32m      3\u001b[0m \u001b[38;5;28;01mimport\u001b[39;00m \u001b[38;5;21;01mos\u001b[39;00m\u001b[38;5;241m,\u001b[39m \u001b[38;5;21;01mtime\u001b[39;00m\n\u001b[0;32m----> 4\u001b[0m \u001b[38;5;28;01mimport\u001b[39;00m \u001b[38;5;21;01mpandas\u001b[39;00m \u001b[38;5;28;01mas\u001b[39;00m \u001b[38;5;21;01mpd\u001b[39;00m\n\u001b[1;32m      6\u001b[0m dotenv\u001b[38;5;241m.\u001b[39mload_dotenv()\n",
      "File \u001b[0;32m/home/groups/rbaltman/samori/miniconda3/envs/esm_env/lib/python3.12/site-packages/pandas/__init__.py:121\u001b[0m\n\u001b[1;32m    117\u001b[0m \u001b[38;5;28;01mfrom\u001b[39;00m \u001b[38;5;21;01mpandas\u001b[39;00m\u001b[38;5;21;01m.\u001b[39;00m\u001b[38;5;21;01mtseries\u001b[39;00m \u001b[38;5;28;01mimport\u001b[39;00m offsets\n\u001b[1;32m    119\u001b[0m \u001b[38;5;28;01mfrom\u001b[39;00m \u001b[38;5;21;01mpandas\u001b[39;00m\u001b[38;5;21;01m.\u001b[39;00m\u001b[38;5;21;01mcore\u001b[39;00m\u001b[38;5;21;01m.\u001b[39;00m\u001b[38;5;21;01mcomputation\u001b[39;00m\u001b[38;5;21;01m.\u001b[39;00m\u001b[38;5;21;01mapi\u001b[39;00m \u001b[38;5;28;01mimport\u001b[39;00m \u001b[38;5;28meval\u001b[39m\n\u001b[0;32m--> 121\u001b[0m \u001b[38;5;28;01mfrom\u001b[39;00m \u001b[38;5;21;01mpandas\u001b[39;00m\u001b[38;5;21;01m.\u001b[39;00m\u001b[38;5;21;01mcore\u001b[39;00m\u001b[38;5;21;01m.\u001b[39;00m\u001b[38;5;21;01mreshape\u001b[39;00m\u001b[38;5;21;01m.\u001b[39;00m\u001b[38;5;21;01mapi\u001b[39;00m \u001b[38;5;28;01mimport\u001b[39;00m (\n\u001b[1;32m    122\u001b[0m     concat,\n\u001b[1;32m    123\u001b[0m     lreshape,\n\u001b[1;32m    124\u001b[0m     melt,\n\u001b[1;32m    125\u001b[0m     wide_to_long,\n\u001b[1;32m    126\u001b[0m     merge,\n\u001b[1;32m    127\u001b[0m     merge_asof,\n\u001b[1;32m    128\u001b[0m     merge_ordered,\n\u001b[1;32m    129\u001b[0m     crosstab,\n\u001b[1;32m    130\u001b[0m     pivot,\n\u001b[1;32m    131\u001b[0m     pivot_table,\n\u001b[1;32m    132\u001b[0m     get_dummies,\n\u001b[1;32m    133\u001b[0m     from_dummies,\n\u001b[1;32m    134\u001b[0m     cut,\n\u001b[1;32m    135\u001b[0m     qcut,\n\u001b[1;32m    136\u001b[0m )\n\u001b[1;32m    138\u001b[0m \u001b[38;5;28;01mfrom\u001b[39;00m \u001b[38;5;21;01mpandas\u001b[39;00m \u001b[38;5;28;01mimport\u001b[39;00m api, arrays, errors, io, plotting, tseries\n\u001b[1;32m    139\u001b[0m \u001b[38;5;28;01mfrom\u001b[39;00m \u001b[38;5;21;01mpandas\u001b[39;00m \u001b[38;5;28;01mimport\u001b[39;00m testing\n",
      "File \u001b[0;32m/home/groups/rbaltman/samori/miniconda3/envs/esm_env/lib/python3.12/site-packages/pandas/core/reshape/api.py:16\u001b[0m\n\u001b[1;32m      6\u001b[0m \u001b[38;5;28;01mfrom\u001b[39;00m \u001b[38;5;21;01mpandas\u001b[39;00m\u001b[38;5;21;01m.\u001b[39;00m\u001b[38;5;21;01mcore\u001b[39;00m\u001b[38;5;21;01m.\u001b[39;00m\u001b[38;5;21;01mreshape\u001b[39;00m\u001b[38;5;21;01m.\u001b[39;00m\u001b[38;5;21;01mmelt\u001b[39;00m \u001b[38;5;28;01mimport\u001b[39;00m (\n\u001b[1;32m      7\u001b[0m     lreshape,\n\u001b[1;32m      8\u001b[0m     melt,\n\u001b[1;32m      9\u001b[0m     wide_to_long,\n\u001b[1;32m     10\u001b[0m )\n\u001b[1;32m     11\u001b[0m \u001b[38;5;28;01mfrom\u001b[39;00m \u001b[38;5;21;01mpandas\u001b[39;00m\u001b[38;5;21;01m.\u001b[39;00m\u001b[38;5;21;01mcore\u001b[39;00m\u001b[38;5;21;01m.\u001b[39;00m\u001b[38;5;21;01mreshape\u001b[39;00m\u001b[38;5;21;01m.\u001b[39;00m\u001b[38;5;21;01mmerge\u001b[39;00m \u001b[38;5;28;01mimport\u001b[39;00m (\n\u001b[1;32m     12\u001b[0m     merge,\n\u001b[1;32m     13\u001b[0m     merge_asof,\n\u001b[1;32m     14\u001b[0m     merge_ordered,\n\u001b[1;32m     15\u001b[0m )\n\u001b[0;32m---> 16\u001b[0m \u001b[38;5;28;01mfrom\u001b[39;00m \u001b[38;5;21;01mpandas\u001b[39;00m\u001b[38;5;21;01m.\u001b[39;00m\u001b[38;5;21;01mcore\u001b[39;00m\u001b[38;5;21;01m.\u001b[39;00m\u001b[38;5;21;01mreshape\u001b[39;00m\u001b[38;5;21;01m.\u001b[39;00m\u001b[38;5;21;01mpivot\u001b[39;00m \u001b[38;5;28;01mimport\u001b[39;00m (\n\u001b[1;32m     17\u001b[0m     crosstab,\n\u001b[1;32m     18\u001b[0m     pivot,\n\u001b[1;32m     19\u001b[0m     pivot_table,\n\u001b[1;32m     20\u001b[0m )\n\u001b[1;32m     21\u001b[0m \u001b[38;5;28;01mfrom\u001b[39;00m \u001b[38;5;21;01mpandas\u001b[39;00m\u001b[38;5;21;01m.\u001b[39;00m\u001b[38;5;21;01mcore\u001b[39;00m\u001b[38;5;21;01m.\u001b[39;00m\u001b[38;5;21;01mreshape\u001b[39;00m\u001b[38;5;21;01m.\u001b[39;00m\u001b[38;5;21;01mtile\u001b[39;00m \u001b[38;5;28;01mimport\u001b[39;00m (\n\u001b[1;32m     22\u001b[0m     cut,\n\u001b[1;32m     23\u001b[0m     qcut,\n\u001b[1;32m     24\u001b[0m )\n\u001b[1;32m     26\u001b[0m __all__ \u001b[38;5;241m=\u001b[39m [\n\u001b[1;32m     27\u001b[0m     \u001b[38;5;124m\"\u001b[39m\u001b[38;5;124mconcat\u001b[39m\u001b[38;5;124m\"\u001b[39m,\n\u001b[1;32m     28\u001b[0m     \u001b[38;5;124m\"\u001b[39m\u001b[38;5;124mcrosstab\u001b[39m\u001b[38;5;124m\"\u001b[39m,\n\u001b[0;32m   (...)\u001b[0m\n\u001b[1;32m     40\u001b[0m     \u001b[38;5;124m\"\u001b[39m\u001b[38;5;124mwide_to_long\u001b[39m\u001b[38;5;124m\"\u001b[39m,\n\u001b[1;32m     41\u001b[0m ]\n",
      "File \u001b[0;32m<frozen importlib._bootstrap>:1360\u001b[0m, in \u001b[0;36m_find_and_load\u001b[0;34m(name, import_)\u001b[0m\n",
      "File \u001b[0;32m<frozen importlib._bootstrap>:1331\u001b[0m, in \u001b[0;36m_find_and_load_unlocked\u001b[0;34m(name, import_)\u001b[0m\n",
      "File \u001b[0;32m<frozen importlib._bootstrap>:935\u001b[0m, in \u001b[0;36m_load_unlocked\u001b[0;34m(spec)\u001b[0m\n",
      "File \u001b[0;32m<frozen importlib._bootstrap_external>:991\u001b[0m, in \u001b[0;36mexec_module\u001b[0;34m(self, module)\u001b[0m\n",
      "File \u001b[0;32m<frozen importlib._bootstrap_external>:1128\u001b[0m, in \u001b[0;36mget_code\u001b[0;34m(self, fullname)\u001b[0m\n",
      "File \u001b[0;32m<frozen importlib._bootstrap_external>:1187\u001b[0m, in \u001b[0;36mget_data\u001b[0;34m(self, path)\u001b[0m\n",
      "\u001b[0;31mKeyboardInterrupt\u001b[0m: "
     ]
    }
   ],
   "source": [
    "import requests\n",
    "import dotenv\n",
    "import os, time\n",
    "import pandas as pd\n",
    "\n",
    "dotenv.load_dotenv()"
   ]
  },
  {
   "cell_type": "code",
   "execution_count": null,
   "id": "a1a03fef-053d-488e-8324-6364390fe551",
   "metadata": {},
   "outputs": [],
   "source": [
    "scratch = os.getenv('SCRATCH')\n",
    "hashtag_folder = f\"{scratch}/tiktok/hashtag_data\"\n",
    "oak = os.getenv('OAK')\n",
    "video_folder = f\"{oak}/samori/tiktok/video_data_known_keywords\"\n",
    "os.path.exists(video_folder)"
   ]
  },
  {
   "cell_type": "code",
   "execution_count": null,
   "id": "3068fe9d-384d-4da4-81ea-ffcda285e1b0",
   "metadata": {},
   "outputs": [],
   "source": [
    "def get_access_token(client_key, client_secret):\n",
    "    # Endpoint URL\n",
    "    endpoint_url = \"https://open.tiktokapis.com/v2/oauth/token/\"\n",
    "\n",
    "    # Request headers\n",
    "    headers = {\n",
    "        'Content-Type': 'application/x-www-form-urlencoded',\n",
    "    }\n",
    "\n",
    "    # Request body parameters\n",
    "    data = {\n",
    "        'client_key': client_key,\n",
    "        'client_secret': client_secret,\n",
    "        'grant_type': 'client_credentials',\n",
    "    }\n",
    "\n",
    "    # Make the POST request\n",
    "    response = requests.post(endpoint_url, headers=headers, data=data)\n",
    "\n",
    "    # Check if the request was successful (status code 200)\n",
    "    if response.status_code == 200:\n",
    "        # Parse and print the response JSON\n",
    "        response_json = response.json()\n",
    "        \n",
    "        return response_json\n",
    "        \n",
    "    else:\n",
    "        # If the request was not successful, print the error response JSON\n",
    "        print(\"Error:\", response.json())"
   ]
  },
  {
   "cell_type": "code",
   "execution_count": null,
   "id": "e71682cd-55e5-4ccd-9be3-29cdecae7b42",
   "metadata": {},
   "outputs": [],
   "source": [
    "client_key = os.getenv(\"CLIENT_KEY\")\n",
    "client_secret = os.getenv(\"CLIENT_SECRET\")\n",
    "\n",
    "credentials = get_access_token(client_key, client_secret)\n",
    "access_token = credentials['access_token']\n",
    "token_type = credentials['token_type']"
   ]
  },
  {
   "cell_type": "code",
   "execution_count": 8,
   "id": "322a8502-f4a3-47a2-b1f9-b40b74bc4d80",
   "metadata": {
    "scrolled": true
   },
   "outputs": [],
   "source": [
    "# video_data = pd.read_csv(\"videos_20240501_20240531_4900_7409171441372976170.csv\")\n",
    "video_data = pd.read_csv(\"./videos_20240501_20240531_500_7409171441372976170.csv\")\n",
    "video_ids = list(video_data['id'])\n",
    "video_id = video_ids[0]"
   ]
  },
  {
   "cell_type": "code",
   "execution_count": 9,
   "id": "a2b17417-bf99-4173-a85d-fa6e7c358791",
   "metadata": {},
   "outputs": [
    {
     "data": {
      "text/plain": [
       "7374503773617655086"
      ]
     },
     "execution_count": 9,
     "metadata": {},
     "output_type": "execute_result"
    }
   ],
   "source": [
    "video_id"
   ]
  },
  {
   "cell_type": "code",
   "execution_count": 10,
   "id": "9356e83b-b6ed-4a3e-8f51-9190f65fef8f",
   "metadata": {},
   "outputs": [],
   "source": [
    "fields = \"id,video_id,text,like_count,reply_count,parent_comment_id,create_time\""
   ]
  },
  {
   "cell_type": "code",
   "execution_count": 53,
   "id": "6457898b-aac4-4336-a229-1f72baddf15a",
   "metadata": {
    "scrolled": true
   },
   "outputs": [
    {
     "name": "stdout",
     "output_type": "stream",
     "text": [
      "200\n",
      "0    8\n",
      "\n",
      "\n",
      "200\n",
      "1    0\n",
      "\n",
      "\n",
      "200\n",
      "2    0\n",
      "\n",
      "\n",
      "200\n",
      "3    5\n",
      "\n",
      "\n",
      "200\n",
      "4    0\n",
      "\n",
      "\n",
      "200\n",
      "5    6\n",
      "\n",
      "\n",
      "200\n",
      "6    1\n",
      "\n",
      "\n",
      "200\n",
      "7    0\n",
      "\n",
      "\n",
      "200\n",
      "8    0\n",
      "\n",
      "\n",
      "200\n",
      "9    1\n",
      "\n",
      "\n",
      "200\n",
      "10    0\n",
      "\n",
      "\n",
      "200\n",
      "11    0\n",
      "\n",
      "\n",
      "200\n",
      "12    0\n",
      "\n",
      "\n",
      "200\n",
      "13    2\n",
      "\n",
      "\n",
      "200\n",
      "14    98\n",
      "\n",
      "\n",
      "200\n",
      "15    0\n",
      "\n",
      "\n",
      "200\n",
      "16    2\n",
      "\n",
      "\n",
      "200\n",
      "17    0\n",
      "\n",
      "\n",
      "200\n",
      "18    0\n",
      "\n",
      "\n",
      "200\n",
      "19    0\n",
      "\n",
      "\n",
      "200\n",
      "20    1\n",
      "\n",
      "\n",
      "200\n",
      "21    11\n",
      "\n",
      "\n",
      "200\n",
      "22    2\n",
      "\n",
      "\n",
      "200\n",
      "23    1\n",
      "\n",
      "\n",
      "200\n",
      "24    1\n",
      "\n",
      "\n",
      "200\n",
      "25    0\n",
      "\n",
      "\n",
      "200\n",
      "26    6\n",
      "\n",
      "\n",
      "200\n",
      "27    0\n",
      "\n",
      "\n",
      "200\n",
      "28    0\n",
      "\n",
      "\n",
      "200\n",
      "29    1\n",
      "\n",
      "\n",
      "200\n",
      "30    2\n",
      "\n",
      "\n",
      "200\n",
      "31    0\n",
      "\n",
      "\n",
      "200\n",
      "32    1\n",
      "\n",
      "\n",
      "200\n",
      "33    19\n",
      "\n",
      "\n",
      "200\n",
      "34    0\n",
      "\n",
      "\n",
      "200\n",
      "35    18\n",
      "\n",
      "\n",
      "200\n",
      "36    0\n",
      "\n",
      "\n",
      "200\n",
      "37    0\n",
      "\n",
      "\n",
      "200\n",
      "38    0\n",
      "\n",
      "\n",
      "200\n",
      "39    1\n",
      "\n",
      "\n",
      "200\n",
      "40    0\n",
      "\n",
      "\n",
      "200\n",
      "41    0\n",
      "\n",
      "\n",
      "200\n",
      "42    4\n",
      "\n",
      "\n",
      "200\n",
      "43    3\n",
      "\n",
      "\n",
      "200\n",
      "44    4\n",
      "\n",
      "\n",
      "200\n",
      "45    39\n",
      "\n",
      "\n",
      "200\n",
      "46    1\n",
      "\n",
      "\n",
      "200\n",
      "47    2\n",
      "\n",
      "\n",
      "200\n",
      "48    0\n",
      "\n",
      "\n",
      "200\n",
      "49    85\n",
      "\n",
      "\n",
      "200\n",
      "50    2\n",
      "\n",
      "\n",
      "400\n",
      "\n",
      "\n",
      "200\n",
      "52    1\n",
      "\n",
      "\n",
      "200\n",
      "53    8\n",
      "\n",
      "\n",
      "200\n",
      "54    0\n",
      "\n",
      "\n",
      "200\n",
      "55    0\n",
      "\n",
      "\n",
      "200\n",
      "56    4\n",
      "\n",
      "\n",
      "400\n",
      "\n",
      "\n",
      "200\n",
      "58    0\n",
      "\n",
      "\n"
     ]
    }
   ],
   "source": [
    "for i in range(len(video_ids)):\n",
    "    endpoint = \"https://open.tiktokapis.com/v2/research/video/comment/list/\"\n",
    "    query_params = {\n",
    "        \"fields\": fields\n",
    "    }\n",
    "    \n",
    "    query_body = {\n",
    "        \"video_id\":video_ids[i],\n",
    "        \"max_count\": 100,\n",
    "        \"cursor\": 0,\n",
    "        \"search_id\":\"comments\"\n",
    "    }\n",
    "    headers = {\n",
    "        \"Content-Type\": \"application/json\",\n",
    "        \"Authorization\": f\"Bearer {access_token}\"\n",
    "        }\n",
    "    response = requests.post(endpoint, json=query_body, params=query_params, headers=headers)\n",
    "    print(response.status_code)\n",
    "\n",
    "    if response.status_code == 200:\n",
    "        data = response.json().get(\"data\", {})\n",
    "        print(i, '  ', len(data['comments']))\n",
    "    print('\\n')"
   ]
  },
  {
   "cell_type": "code",
   "execution_count": 50,
   "id": "5f31e947-c1f7-47af-92b1-1be148dc9434",
   "metadata": {},
   "outputs": [
    {
     "name": "stdout",
     "output_type": "stream",
     "text": [
      "200\n"
     ]
    }
   ],
   "source": [
    "endpoint = \"https://open.tiktokapis.com/v2/research/video/comment/list/\"\n",
    "query_params = {\n",
    "    \"fields\": fields\n",
    "}\n",
    "\n",
    "query_body = {\n",
    "    \"video_id\":video_ids[49],\n",
    "    \"max_count\": 100,\n",
    "    \"cursor\": 0,\n",
    "    \"search_id\":\"comments\"\n",
    "}\n",
    "headers = {\n",
    "    \"Content-Type\": \"application/json\",\n",
    "    \"Authorization\": f\"Bearer {access_token}\"\n",
    "    }\n",
    "response = requests.post(endpoint, json=query_body, params=query_params, headers=headers)\n",
    "print(response.status_code)"
   ]
  },
  {
   "cell_type": "code",
   "execution_count": 48,
   "id": "87a9a333-85ab-4dc5-98b0-4eb88a8f00db",
   "metadata": {
    "scrolled": true
   },
   "outputs": [
    {
     "data": {
      "text/plain": [
       "{'data': {'has_more': False, 'comments': [], 'cursor': 0},\n",
       " 'error': {'code': 'ok',\n",
       "  'message': '',\n",
       "  'log_id': '20240902214622CE37A133CA12A78E23B8'}}"
      ]
     },
     "execution_count": 48,
     "metadata": {},
     "output_type": "execute_result"
    }
   ],
   "source": [
    "response.json()"
   ]
  },
  {
   "cell_type": "code",
   "execution_count": 72,
   "id": "ea546b02-2a15-4907-9c29-8028847946b9",
   "metadata": {},
   "outputs": [
    {
     "name": "stdout",
     "output_type": "stream",
     "text": [
      "200\n"
     ]
    }
   ],
   "source": [
    "response = requests.post(endpoint, json=query_body, params=query_params, headers=headers)\n",
    "print(response.status_code)"
   ]
  },
  {
   "cell_type": "code",
   "execution_count": 51,
   "id": "694579bc-e9e5-4e4c-acf7-39e1493dc10d",
   "metadata": {},
   "outputs": [],
   "source": [
    "data = response.json().get(\"data\", {})\n",
    "\n",
    "if \"search_id\" in list(data.keys()):\n",
    "    search_id = data[\"search_id\"]\n",
    "has_more = data[\"has_more\"]\n",
    "cursor = data[\"cursor\"]\n",
    "\n",
    "comments = data.get(\"comments\", [])"
   ]
  },
  {
   "cell_type": "code",
   "execution_count": 18,
   "id": "6573d02b-937e-458d-a83d-65ce4a0d0033",
   "metadata": {},
   "outputs": [
    {
     "data": {
      "text/plain": [
       "dict_keys(['has_more', 'comments', 'cursor'])"
      ]
     },
     "execution_count": 18,
     "metadata": {},
     "output_type": "execute_result"
    }
   ],
   "source": [
    "data.keys()"
   ]
  },
  {
   "cell_type": "code",
   "execution_count": 52,
   "id": "bce9331f-1c01-4dab-95c9-ab33ffdbe557",
   "metadata": {},
   "outputs": [
    {
     "data": {
      "text/plain": [
       "85"
      ]
     },
     "execution_count": 52,
     "metadata": {},
     "output_type": "execute_result"
    }
   ],
   "source": [
    "len(comments)"
   ]
  },
  {
   "cell_type": "code",
   "execution_count": 29,
   "id": "6fb8fa79-f440-4e5d-ab17-7b979e4aa5fb",
   "metadata": {},
   "outputs": [
    {
     "data": {
      "text/plain": [
       "True"
      ]
     },
     "execution_count": 29,
     "metadata": {},
     "output_type": "execute_result"
    }
   ],
   "source": [
    "response.json().get(\"data\", {})['']"
   ]
  },
  {
   "cell_type": "code",
   "execution_count": 66,
   "id": "e6843709-ef13-42bb-9fde-2285987fe997",
   "metadata": {
    "scrolled": true
   },
   "outputs": [
    {
     "data": {
      "text/html": [
       "<div>\n",
       "<style scoped>\n",
       "    .dataframe tbody tr th:only-of-type {\n",
       "        vertical-align: middle;\n",
       "    }\n",
       "\n",
       "    .dataframe tbody tr th {\n",
       "        vertical-align: top;\n",
       "    }\n",
       "\n",
       "    .dataframe thead th {\n",
       "        text-align: right;\n",
       "    }\n",
       "</style>\n",
       "<table border=\"1\" class=\"dataframe\">\n",
       "  <thead>\n",
       "    <tr style=\"text-align: right;\">\n",
       "      <th></th>\n",
       "      <th>like_count</th>\n",
       "      <th>parent_comment_id</th>\n",
       "      <th>reply_count</th>\n",
       "      <th>text</th>\n",
       "      <th>video_id</th>\n",
       "      <th>create_time</th>\n",
       "      <th>id</th>\n",
       "    </tr>\n",
       "  </thead>\n",
       "  <tbody>\n",
       "    <tr>\n",
       "      <th>0</th>\n",
       "      <td>2</td>\n",
       "      <td>7366989874760682798</td>\n",
       "      <td>1</td>\n",
       "      <td>Beautiful boy! So sorry for your loss❤️I lost ...</td>\n",
       "      <td>7366989874760682798</td>\n",
       "      <td>1715268226</td>\n",
       "      <td>7367020742477464362</td>\n",
       "    </tr>\n",
       "    <tr>\n",
       "      <th>1</th>\n",
       "      <td>2</td>\n",
       "      <td>7366989874760682798</td>\n",
       "      <td>1</td>\n",
       "      <td>So sorry for your loss what a handsome young m...</td>\n",
       "      <td>7366989874760682798</td>\n",
       "      <td>1715262837</td>\n",
       "      <td>7366997641442083630</td>\n",
       "    </tr>\n",
       "    <tr>\n",
       "      <th>2</th>\n",
       "      <td>2</td>\n",
       "      <td>7366989874760682798</td>\n",
       "      <td>1</td>\n",
       "      <td>God bless our hearts for our heavenly children</td>\n",
       "      <td>7366989874760682798</td>\n",
       "      <td>1715262113</td>\n",
       "      <td>7366994469810701086</td>\n",
       "    </tr>\n",
       "    <tr>\n",
       "      <th>3</th>\n",
       "      <td>1</td>\n",
       "      <td>7366989874760682798</td>\n",
       "      <td>3</td>\n",
       "      <td>hunny your son is so handsome I hate what that...</td>\n",
       "      <td>7366989874760682798</td>\n",
       "      <td>1715295521</td>\n",
       "      <td>7367138080337675051</td>\n",
       "    </tr>\n",
       "    <tr>\n",
       "      <th>4</th>\n",
       "      <td>1</td>\n",
       "      <td>7367103606941598494</td>\n",
       "      <td>0</td>\n",
       "      <td>😘😘😘</td>\n",
       "      <td>7366989874760682798</td>\n",
       "      <td>1715289241</td>\n",
       "      <td>7367111113328575263</td>\n",
       "    </tr>\n",
       "    <tr>\n",
       "      <th>...</th>\n",
       "      <td>...</td>\n",
       "      <td>...</td>\n",
       "      <td>...</td>\n",
       "      <td>...</td>\n",
       "      <td>...</td>\n",
       "      <td>...</td>\n",
       "      <td>...</td>\n",
       "    </tr>\n",
       "    <tr>\n",
       "      <th>70</th>\n",
       "      <td>0</td>\n",
       "      <td>7366989874760682798</td>\n",
       "      <td>1</td>\n",
       "      <td>🥺</td>\n",
       "      <td>7366989874760682798</td>\n",
       "      <td>1716399198</td>\n",
       "      <td>7371878309423137567</td>\n",
       "    </tr>\n",
       "    <tr>\n",
       "      <th>71</th>\n",
       "      <td>0</td>\n",
       "      <td>7371878309423137567</td>\n",
       "      <td>0</td>\n",
       "      <td>🥺🥺🥺</td>\n",
       "      <td>7366989874760682798</td>\n",
       "      <td>1717879052</td>\n",
       "      <td>7378234254382564127</td>\n",
       "    </tr>\n",
       "    <tr>\n",
       "      <th>72</th>\n",
       "      <td>0</td>\n",
       "      <td>7366989874760682798</td>\n",
       "      <td>0</td>\n",
       "      <td></td>\n",
       "      <td>7366989874760682798</td>\n",
       "      <td>1717697558</td>\n",
       "      <td>7377454403395699499</td>\n",
       "    </tr>\n",
       "    <tr>\n",
       "      <th>73</th>\n",
       "      <td>0</td>\n",
       "      <td>7366989874760682798</td>\n",
       "      <td>0</td>\n",
       "      <td>so very sorry</td>\n",
       "      <td>7366989874760682798</td>\n",
       "      <td>1717699890</td>\n",
       "      <td>7377464773301486342</td>\n",
       "    </tr>\n",
       "    <tr>\n",
       "      <th>74</th>\n",
       "      <td>0</td>\n",
       "      <td>7366989874760682798</td>\n",
       "      <td>1</td>\n",
       "      <td>😢</td>\n",
       "      <td>7366989874760682798</td>\n",
       "      <td>1717701307</td>\n",
       "      <td>7377470859383096094</td>\n",
       "    </tr>\n",
       "  </tbody>\n",
       "</table>\n",
       "<p>75 rows × 7 columns</p>\n",
       "</div>"
      ],
      "text/plain": [
       "    like_count    parent_comment_id  reply_count  \\\n",
       "0            2  7366989874760682798            1   \n",
       "1            2  7366989874760682798            1   \n",
       "2            2  7366989874760682798            1   \n",
       "3            1  7366989874760682798            3   \n",
       "4            1  7367103606941598494            0   \n",
       "..         ...                  ...          ...   \n",
       "70           0  7366989874760682798            1   \n",
       "71           0  7371878309423137567            0   \n",
       "72           0  7366989874760682798            0   \n",
       "73           0  7366989874760682798            0   \n",
       "74           0  7366989874760682798            1   \n",
       "\n",
       "                                                 text             video_id  \\\n",
       "0   Beautiful boy! So sorry for your loss❤️I lost ...  7366989874760682798   \n",
       "1   So sorry for your loss what a handsome young m...  7366989874760682798   \n",
       "2      God bless our hearts for our heavenly children  7366989874760682798   \n",
       "3   hunny your son is so handsome I hate what that...  7366989874760682798   \n",
       "4                                                 😘😘😘  7366989874760682798   \n",
       "..                                                ...                  ...   \n",
       "70                                                  🥺  7366989874760682798   \n",
       "71                                                🥺🥺🥺  7366989874760682798   \n",
       "72                                                     7366989874760682798   \n",
       "73                                      so very sorry  7366989874760682798   \n",
       "74                                                  😢  7366989874760682798   \n",
       "\n",
       "    create_time                   id  \n",
       "0    1715268226  7367020742477464362  \n",
       "1    1715262837  7366997641442083630  \n",
       "2    1715262113  7366994469810701086  \n",
       "3    1715295521  7367138080337675051  \n",
       "4    1715289241  7367111113328575263  \n",
       "..          ...                  ...  \n",
       "70   1716399198  7371878309423137567  \n",
       "71   1717879052  7378234254382564127  \n",
       "72   1717697558  7377454403395699499  \n",
       "73   1717699890  7377464773301486342  \n",
       "74   1717701307  7377470859383096094  \n",
       "\n",
       "[75 rows x 7 columns]"
      ]
     },
     "execution_count": 66,
     "metadata": {},
     "output_type": "execute_result"
    }
   ],
   "source": [
    "df = pd.DataFrame(comments)\n",
    "df"
   ]
  },
  {
   "cell_type": "code",
   "execution_count": 17,
   "id": "b0237c4e-ac4b-406b-8182-c2eb5807da08",
   "metadata": {},
   "outputs": [
    {
     "name": "stdout",
     "output_type": "stream",
     "text": [
      "Search ID:  7409072743070700586\n",
      "100 True 86\n"
     ]
    }
   ],
   "source": [
    "data = response.json().get(\"data\", {})\n",
    "\n",
    "search_id = data[\"search_id\"]\n",
    "has_more = data[\"has_more\"]\n",
    "cursor = data[\"cursor\"]\n",
    "\n",
    "videos = data.get(\"videos\", [])\n",
    "df = pd.DataFrame(videos)\n",
    "df.to_csv(f\"{hashtag_folder}/hashtags_{start_date}_{end_date}_{cursor}_{search_id}.csv\", index=False)\n",
    "\n",
    "print(\"Search ID: \", search_id)\n",
    "print(cursor, has_more, len(df))"
   ]
  },
  {
   "cell_type": "code",
   "execution_count": 8,
   "id": "d76768c0-d0b5-41c5-8ae2-a64e9e597746",
   "metadata": {},
   "outputs": [],
   "source": [
    "# details below for jun 01 - jun 15\n",
    "# search_id = \"7408038137778181162\"\n",
    "# has_more = True\n",
    "# cursor = 32500\n",
    "# # hashtags_20240601_20240615_9900_7408038137778181162\n",
    "# # 32500"
   ]
  },
  {
   "cell_type": "code",
   "execution_count": 74,
   "id": "42484fce-8e6c-4fca-96a7-e33a212b4da1",
   "metadata": {},
   "outputs": [],
   "source": [
    "search_id = \"7409162096480654378\"\n",
    "has_more = True\n",
    "cursor = 6120"
   ]
  },
  {
   "cell_type": "code",
   "execution_count": 62,
   "id": "5b183669-42af-41c8-9fc1-fde863ba2558",
   "metadata": {},
   "outputs": [
    {
     "data": {
      "text/plain": [
       "5800"
      ]
     },
     "execution_count": 62,
     "metadata": {},
     "output_type": "execute_result"
    }
   ],
   "source": [
    "cursor"
   ]
  },
  {
   "cell_type": "code",
   "execution_count": 75,
   "id": "a83cf342-4108-490a-91f4-ae541e03e2fb",
   "metadata": {},
   "outputs": [
    {
     "name": "stdout",
     "output_type": "stream",
     "text": [
      "6220 True 60 7409162096480654378\n",
      "6320 True 77 7409162096480654378\n",
      "6420 True 65 7409162096480654378\n",
      "6520 True 71 7409162096480654378\n",
      "6524 False 3 7409162096480654378\n"
     ]
    }
   ],
   "source": [
    "while has_more:\n",
    "    \n",
    "    query_body.update({\n",
    "        \"search_id\": search_id,\n",
    "        \"cursor\": cursor})\n",
    "    \n",
    "    response = requests.post(endpoint, json=query_body, params=query_params, headers=headers)\n",
    "\n",
    "    if response.status_code != 200:\n",
    "        i = 0\n",
    "        while i < 5 and response.status_code != 200:\n",
    "            response = requests.post(endpoint, json=query_body, params=query_params, headers=headers)\n",
    "            time.sleep(5)\n",
    "            i += 1\n",
    "        if response.status_code != 200:\n",
    "            print(response.status_code)\n",
    "            print(response.json())\n",
    "            break\n",
    "            \n",
    "    data = response.json().get(\"data\", {})\n",
    "\n",
    "    search_id = data[\"search_id\"]\n",
    "    has_more = data[\"has_more\"]\n",
    "    cursor = data[\"cursor\"]\n",
    "\n",
    "    videos = data.get(\"videos\", [])\n",
    "    df = pd.DataFrame(videos)\n",
    "    \n",
    "    # df.to_csv(f\"./hashtag_data/hashtags_{start_date}_{end_date}_{cursor}.csv\", index=False)\n",
    "    # df.to_csv(f\"{hashtag_folder}/hashtags_{start_date}_{end_date}_{cursor}_{search_id}.csv\", index=False)\n",
    "    df.to_csv(f\"{video_folder}/videos_{start_date}_{end_date}_{cursor}_{search_id}.csv\", index=False)\n",
    "    \n",
    "    \n",
    "    time.sleep(5)\n",
    "    print(cursor, has_more, len(df), search_id)\n",
    "\n",
    "    # if cursor > 800:\n",
    "    #     break"
   ]
  },
  {
   "cell_type": "code",
   "execution_count": 19,
   "id": "affb4fd3-ce8a-4b7b-abf8-113348c99da7",
   "metadata": {},
   "outputs": [
    {
     "data": {
      "text/plain": [
       "700"
      ]
     },
     "execution_count": 19,
     "metadata": {},
     "output_type": "execute_result"
    }
   ],
   "source": [
    "cursor"
   ]
  },
  {
   "cell_type": "code",
   "execution_count": 28,
   "id": "584d6364-c871-400a-b48d-9552554256dd",
   "metadata": {},
   "outputs": [
    {
     "data": {
      "text/plain": [
       "{'error': {'code': 'invalid_params',\n",
       "  'message': 'Search Id 7408027535520551979 is invalid or expired',\n",
       "  'log_id': '20240828033812355512ACD27525003BC7'}}"
      ]
     },
     "execution_count": 28,
     "metadata": {},
     "output_type": "execute_result"
    }
   ],
   "source": [
    "response.json()"
   ]
  },
  {
   "cell_type": "code",
   "execution_count": 4,
   "id": "4270d853-cd3b-4fd9-a01e-74d61ba9c9df",
   "metadata": {},
   "outputs": [],
   "source": [
    "query_body.update({\n",
    "        \"search_id\": \"a\",\n",
    "        \"cursor\": \"c\"\n",
    "    })"
   ]
  }
 ],
 "metadata": {
  "kernelspec": {
   "display_name": "esm_env",
   "language": "python",
   "name": "esm_env"
  },
  "language_info": {
   "codemirror_mode": {
    "name": "ipython",
    "version": 3
   },
   "file_extension": ".py",
   "mimetype": "text/x-python",
   "name": "python",
   "nbconvert_exporter": "python",
   "pygments_lexer": "ipython3",
   "version": "3.12.2"
  }
 },
 "nbformat": 4,
 "nbformat_minor": 5
}
