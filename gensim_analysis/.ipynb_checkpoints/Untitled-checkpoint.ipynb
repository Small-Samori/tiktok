{
 "cells": [
  {
   "cell_type": "code",
   "execution_count": null,
   "id": "a82935db-2955-4aac-829b-ad104673fd07",
   "metadata": {},
   "outputs": [],
   "source": [
    "import re, os\n",
    "import numpy as np\n",
    "import pandas as pd\n",
    "from pprint import pprint\n",
    "\n",
    "# Gensim\n",
    "import gensim\n",
    "import gensim.corpora as corpora\n",
    "from gensim.utils import simple_preprocess\n",
    "from gensim.models import CoherenceModel\n",
    "\n",
    "# spacy for lemmatization\n",
    "import spacy\n",
    "\n",
    "# Plotting tools\n",
    "import pyLDAvis\n",
    "import pyLDAvis.gensim_models  # don't skip this\n",
    "import matplotlib.pyplot as plt\n",
    "%matplotlib inline\n",
    "\n",
    "# Enable logging for gensim - optional\n",
    "import logging\n",
    "logging.basicConfig(format='%(asctime)s : %(levelname)s : %(message)s', level=logging.ERROR)\n",
    "\n",
    "import warnings\n",
    "warnings.filterwarnings(\"ignore\", category=DeprecationWarning)"
   ]
  },
  {
   "cell_type": "code",
   "execution_count": null,
   "id": "2de4d662-4cdc-4ab3-bb58-4958a8625c06",
   "metadata": {},
   "outputs": [],
   "source": [
    "print('a')"
   ]
  },
  {
   "cell_type": "code",
   "execution_count": null,
   "id": "6d6cd655-1bf7-459d-b64f-91898271c8ac",
   "metadata": {},
   "outputs": [],
   "source": [
    "from nltk.corpus import stopwords\n",
    "stop_words = stopwords.words('english')\n",
    "# stop_words.extend(['from', 'subject', 're', 'edu', 'use'])"
   ]
  },
  {
   "cell_type": "code",
   "execution_count": 5,
   "id": "66af589b-1ef2-434a-a0c9-89d0bbd3c686",
   "metadata": {},
   "outputs": [
    {
     "name": "stdout",
     "output_type": "stream",
     "text": [
      "['rec.autos' 'comp.sys.mac.hardware' 'comp.graphics' 'sci.space'\n",
      " 'talk.politics.guns' 'sci.med' 'comp.sys.ibm.pc.hardware'\n",
      " 'comp.os.ms-windows.misc' 'rec.motorcycles' 'talk.religion.misc'\n",
      " 'misc.forsale' 'alt.atheism' 'sci.electronics' 'comp.windows.x'\n",
      " 'rec.sport.hockey' 'rec.sport.baseball' 'soc.religion.christian'\n",
      " 'talk.politics.mideast' 'talk.politics.misc' 'sci.crypt']\n"
     ]
    },
    {
     "data": {
      "text/html": [
       "<div>\n",
       "<style scoped>\n",
       "    .dataframe tbody tr th:only-of-type {\n",
       "        vertical-align: middle;\n",
       "    }\n",
       "\n",
       "    .dataframe tbody tr th {\n",
       "        vertical-align: top;\n",
       "    }\n",
       "\n",
       "    .dataframe thead th {\n",
       "        text-align: right;\n",
       "    }\n",
       "</style>\n",
       "<table border=\"1\" class=\"dataframe\">\n",
       "  <thead>\n",
       "    <tr style=\"text-align: right;\">\n",
       "      <th></th>\n",
       "      <th>content</th>\n",
       "      <th>target</th>\n",
       "      <th>target_names</th>\n",
       "    </tr>\n",
       "  </thead>\n",
       "  <tbody>\n",
       "    <tr>\n",
       "      <th>0</th>\n",
       "      <td>From: lerxst@wam.umd.edu (where's my thing)\\nS...</td>\n",
       "      <td>7</td>\n",
       "      <td>rec.autos</td>\n",
       "    </tr>\n",
       "    <tr>\n",
       "      <th>1</th>\n",
       "      <td>From: guykuo@carson.u.washington.edu (Guy Kuo)...</td>\n",
       "      <td>4</td>\n",
       "      <td>comp.sys.mac.hardware</td>\n",
       "    </tr>\n",
       "    <tr>\n",
       "      <th>2</th>\n",
       "      <td>From: twillis@ec.ecn.purdue.edu (Thomas E Will...</td>\n",
       "      <td>4</td>\n",
       "      <td>comp.sys.mac.hardware</td>\n",
       "    </tr>\n",
       "    <tr>\n",
       "      <th>3</th>\n",
       "      <td>From: jgreen@amber (Joe Green)\\nSubject: Re: W...</td>\n",
       "      <td>1</td>\n",
       "      <td>comp.graphics</td>\n",
       "    </tr>\n",
       "    <tr>\n",
       "      <th>4</th>\n",
       "      <td>From: jcm@head-cfa.harvard.edu (Jonathan McDow...</td>\n",
       "      <td>14</td>\n",
       "      <td>sci.space</td>\n",
       "    </tr>\n",
       "  </tbody>\n",
       "</table>\n",
       "</div>"
      ],
      "text/plain": [
       "                                             content  target  \\\n",
       "0  From: lerxst@wam.umd.edu (where's my thing)\\nS...       7   \n",
       "1  From: guykuo@carson.u.washington.edu (Guy Kuo)...       4   \n",
       "2  From: twillis@ec.ecn.purdue.edu (Thomas E Will...       4   \n",
       "3  From: jgreen@amber (Joe Green)\\nSubject: Re: W...       1   \n",
       "4  From: jcm@head-cfa.harvard.edu (Jonathan McDow...      14   \n",
       "\n",
       "            target_names  \n",
       "0              rec.autos  \n",
       "1  comp.sys.mac.hardware  \n",
       "2  comp.sys.mac.hardware  \n",
       "3          comp.graphics  \n",
       "4              sci.space  "
      ]
     },
     "execution_count": 5,
     "metadata": {},
     "output_type": "execute_result"
    }
   ],
   "source": [
    "df = pd.read_json('https://raw.githubusercontent.com/selva86/datasets/master/newsgroups.json')\n",
    "print(df.target_names.unique())\n",
    "df.head()"
   ]
  },
  {
   "cell_type": "code",
   "execution_count": 6,
   "id": "07bc4007-1de2-4c18-8433-eeba95fe5fd9",
   "metadata": {},
   "outputs": [
    {
     "name": "stdout",
     "output_type": "stream",
     "text": [
      "['From: (wheres my thing) Subject: WHAT car is this!? Nntp-Posting-Host: '\n",
      " 'rac3.wam.umd.edu Organization: University of Maryland, College Park Lines: '\n",
      " '15 I was wondering if anyone out there could enlighten me on this car I saw '\n",
      " 'the other day. It was a 2-door sports car, looked to be from the late 60s/ '\n",
      " 'early 70s. It was called a Bricklin. The doors were really small. In '\n",
      " 'addition, the front bumper was separate from the rest of the body. This is '\n",
      " 'all I know. If anyone can tellme a model name, engine specs, years of '\n",
      " 'production, where this car is made, history, or whatever info you have on '\n",
      " 'this funky looking car, please e-mail. Thanks, - IL ---- brought to you by '\n",
      " 'your neighborhood Lerxst ---- ']\n"
     ]
    }
   ],
   "source": [
    "# Convert to list\n",
    "data = df.content.values.tolist()\n",
    "\n",
    "# Remove Emails\n",
    "data = [re.sub('\\S*@\\S*\\s?', '', sent) for sent in data]\n",
    "\n",
    "# Remove new line characters\n",
    "data = [re.sub('\\s+', ' ', sent) for sent in data]\n",
    "\n",
    "# Remove distracting single quotes\n",
    "data = [re.sub(\"\\'\", \"\", sent) for sent in data]\n",
    "\n",
    "pprint(data[:1])"
   ]
  },
  {
   "cell_type": "code",
   "execution_count": 7,
   "id": "b369cd0c-a16c-4236-a29d-4e40a14c8147",
   "metadata": {},
   "outputs": [
    {
     "name": "stdout",
     "output_type": "stream",
     "text": [
      "[['from', 'wheres', 'my', 'thing', 'subject', 'what', 'car', 'is', 'this', 'nntp', 'posting', 'host', 'rac', 'wam', 'umd', 'edu', 'organization', 'university', 'of', 'maryland', 'college', 'park', 'lines', 'was', 'wondering', 'if', 'anyone', 'out', 'there', 'could', 'enlighten', 'me', 'on', 'this', 'car', 'saw', 'the', 'other', 'day', 'it', 'was', 'door', 'sports', 'car', 'looked', 'to', 'be', 'from', 'the', 'late', 'early', 'it', 'was', 'called', 'bricklin', 'the', 'doors', 'were', 'really', 'small', 'in', 'addition', 'the', 'front', 'bumper', 'was', 'separate', 'from', 'the', 'rest', 'of', 'the', 'body', 'this', 'is', 'all', 'know', 'if', 'anyone', 'can', 'tellme', 'model', 'name', 'engine', 'specs', 'years', 'of', 'production', 'where', 'this', 'car', 'is', 'made', 'history', 'or', 'whatever', 'info', 'you', 'have', 'on', 'this', 'funky', 'looking', 'car', 'please', 'mail', 'thanks', 'il', 'brought', 'to', 'you', 'by', 'your', 'neighborhood', 'lerxst']]\n"
     ]
    }
   ],
   "source": [
    "def sent_to_words(sentences):\n",
    "    for sentence in sentences:\n",
    "        yield(gensim.utils.simple_preprocess(str(sentence), deacc=True))  # deacc=True removes punctuations\n",
    "\n",
    "data_words = list(sent_to_words(data))\n",
    "\n",
    "print(data_words[:1])"
   ]
  },
  {
   "cell_type": "code",
   "execution_count": 8,
   "id": "b758ecfa-3003-405e-8f32-31f1f0fb65ad",
   "metadata": {},
   "outputs": [
    {
     "name": "stdout",
     "output_type": "stream",
     "text": [
      "['from', 'wheres', 'my', 'thing', 'subject', 'what', 'car', 'is', 'this', 'nntp_posting_host', 'rac_wam_umd_edu', 'organization', 'university', 'of', 'maryland_college_park', 'lines', 'was', 'wondering', 'if', 'anyone', 'out', 'there', 'could', 'enlighten', 'me', 'on', 'this', 'car', 'saw', 'the', 'other', 'day', 'it', 'was', 'door', 'sports', 'car', 'looked', 'to', 'be', 'from', 'the', 'late', 'early', 'it', 'was', 'called', 'bricklin', 'the', 'doors', 'were', 'really', 'small', 'in', 'addition', 'the', 'front_bumper', 'was', 'separate', 'from', 'the', 'rest', 'of', 'the', 'body', 'this', 'is', 'all', 'know', 'if', 'anyone', 'can', 'tellme', 'model', 'name', 'engine', 'specs', 'years', 'of', 'production', 'where', 'this', 'car', 'is', 'made', 'history', 'or', 'whatever', 'info', 'you', 'have', 'on', 'this', 'funky', 'looking', 'car', 'please', 'mail', 'thanks', 'il', 'brought', 'to', 'you', 'by', 'your', 'neighborhood', 'lerxst']\n"
     ]
    }
   ],
   "source": [
    "# Build the bigram and trigram models\n",
    "bigram = gensim.models.Phrases(data_words, min_count=5, threshold=100) # higher threshold fewer phrases.\n",
    "trigram = gensim.models.Phrases(bigram[data_words], threshold=100)  \n",
    "\n",
    "# Faster way to get a sentence clubbed as a trigram/bigram\n",
    "bigram_mod = gensim.models.phrases.Phraser(bigram)\n",
    "trigram_mod = gensim.models.phrases.Phraser(trigram)\n",
    "\n",
    "# See trigram example\n",
    "print(trigram_mod[bigram_mod[data_words[0]]])"
   ]
  },
  {
   "cell_type": "code",
   "execution_count": 9,
   "id": "35929228-2a2d-4cf3-8ee2-60d0b99f3482",
   "metadata": {},
   "outputs": [],
   "source": [
    "# Define functions for stopwords, bigrams, trigrams and lemmatization\n",
    "def remove_stopwords(texts):\n",
    "    return [[word for word in simple_preprocess(str(doc)) if word not in stop_words] for doc in texts]\n",
    "\n",
    "def make_bigrams(texts):\n",
    "    return [bigram_mod[doc] for doc in texts]\n",
    "\n",
    "def make_trigrams(texts):\n",
    "    return [trigram_mod[bigram_mod[doc]] for doc in texts]\n",
    "\n",
    "def lemmatization(texts, allowed_postags=['NOUN', 'ADJ', 'VERB', 'ADV']):\n",
    "    \"\"\"https://spacy.io/api/annotation\"\"\"\n",
    "    texts_out = []\n",
    "    for sent in texts:\n",
    "        doc = nlp(\" \".join(sent)) \n",
    "        texts_out.append([token.lemma_ for token in doc if token.pos_ in allowed_postags])\n",
    "    return texts_out"
   ]
  },
  {
   "cell_type": "code",
   "execution_count": 13,
   "id": "af380aa0-6924-41d7-bcd1-f46ca86f80ef",
   "metadata": {},
   "outputs": [
    {
     "name": "stdout",
     "output_type": "stream",
     "text": [
      "[['s', 'thing', 'subject', 'car', 'nntp_poste', 'host', 'organization', 'park', 'line', 'wonder', 'enlighten', 'car', 'see', 'day', 'door', 'sport', 'car', 'look', 'late', 'early', 'call', 'bricklin', 'door', 'really', 'small', 'addition', 'separate', 'rest', 'body', 'know', 'model', 'name', 'engine', 'spec', 'year', 'production', 'car', 'make', 'history', 'info', 'funky', 'look', 'car', 'mail', 'thank', 'bring', 'neighborhood', 'lerxst']]\n"
     ]
    }
   ],
   "source": [
    "# Remove Stop Words\n",
    "data_words_nostops = remove_stopwords(data_words)\n",
    "\n",
    "# Form Bigrams\n",
    "data_words_bigrams = make_bigrams(data_words_nostops)\n",
    "\n",
    "# Initialize spacy 'en' model, keeping only tagger component (for efficiency)\n",
    "# python3 -m spacy download en\n",
    "nlp = spacy.load('en_core_web_sm', disable=['parser', 'ner'])\n",
    "\n",
    "# Do lemmatization keeping only noun, adj, vb, adv\n",
    "data_lemmatized = lemmatization(data_words_bigrams, allowed_postags=['NOUN', 'ADJ', 'VERB', 'ADV'])\n",
    "\n",
    "print(data_lemmatized[:1])"
   ]
  },
  {
   "cell_type": "code",
   "execution_count": 14,
   "id": "450e8318-9192-479d-b516-c27e7dd6fefb",
   "metadata": {},
   "outputs": [
    {
     "name": "stdout",
     "output_type": "stream",
     "text": [
      "[[(0, 1), (1, 1), (2, 1), (3, 1), (4, 1), (5, 5), (6, 1), (7, 2), (8, 1), (9, 1), (10, 1), (11, 1), (12, 1), (13, 1), (14, 1), (15, 1), (16, 1), (17, 1), (18, 1), (19, 2), (20, 1), (21, 1), (22, 1), (23, 1), (24, 1), (25, 1), (26, 1), (27, 1), (28, 1), (29, 1), (30, 1), (31, 1), (32, 1), (33, 1), (34, 1), (35, 1), (36, 1), (37, 1), (38, 1), (39, 1), (40, 1), (41, 1)]]\n"
     ]
    }
   ],
   "source": [
    "# Create Dictionary\n",
    "id2word = corpora.Dictionary(data_lemmatized)\n",
    "\n",
    "# Create Corpus\n",
    "texts = data_lemmatized\n",
    "\n",
    "# Term Document Frequency\n",
    "corpus = [id2word.doc2bow(text) for text in texts]\n",
    "\n",
    "# View\n",
    "print(corpus[:1])"
   ]
  },
  {
   "cell_type": "code",
   "execution_count": 15,
   "id": "e76d6adf-2ac1-4a92-b32c-8477e6f360fe",
   "metadata": {},
   "outputs": [
    {
     "data": {
      "text/plain": [
       "'addition'"
      ]
     },
     "execution_count": 15,
     "metadata": {},
     "output_type": "execute_result"
    }
   ],
   "source": [
    "id2word[0]"
   ]
  },
  {
   "cell_type": "code",
   "execution_count": 16,
   "id": "40e05606-1ceb-41c2-b1b1-eaee7ac4a9d1",
   "metadata": {},
   "outputs": [
    {
     "data": {
      "text/plain": [
       "[[('addition', 1),\n",
       "  ('body', 1),\n",
       "  ('bricklin', 1),\n",
       "  ('bring', 1),\n",
       "  ('call', 1),\n",
       "  ('car', 5),\n",
       "  ('day', 1),\n",
       "  ('door', 2),\n",
       "  ('early', 1),\n",
       "  ('engine', 1),\n",
       "  ('enlighten', 1),\n",
       "  ('funky', 1),\n",
       "  ('history', 1),\n",
       "  ('host', 1),\n",
       "  ('info', 1),\n",
       "  ('know', 1),\n",
       "  ('late', 1),\n",
       "  ('lerxst', 1),\n",
       "  ('line', 1),\n",
       "  ('look', 2),\n",
       "  ('mail', 1),\n",
       "  ('make', 1),\n",
       "  ('model', 1),\n",
       "  ('name', 1),\n",
       "  ('neighborhood', 1),\n",
       "  ('nntp_poste', 1),\n",
       "  ('organization', 1),\n",
       "  ('park', 1),\n",
       "  ('production', 1),\n",
       "  ('really', 1),\n",
       "  ('rest', 1),\n",
       "  ('s', 1),\n",
       "  ('see', 1),\n",
       "  ('separate', 1),\n",
       "  ('small', 1),\n",
       "  ('spec', 1),\n",
       "  ('sport', 1),\n",
       "  ('subject', 1),\n",
       "  ('thank', 1),\n",
       "  ('thing', 1),\n",
       "  ('wonder', 1),\n",
       "  ('year', 1)]]"
      ]
     },
     "execution_count": 16,
     "metadata": {},
     "output_type": "execute_result"
    }
   ],
   "source": [
    "# Human readable format of corpus (term-frequency)\n",
    "[[(id2word[id], freq) for id, freq in cp] for cp in corpus[:1]]"
   ]
  },
  {
   "cell_type": "code",
   "execution_count": 17,
   "id": "325183c9-7dc4-4787-afcc-8e7d6d4a4ca4",
   "metadata": {},
   "outputs": [],
   "source": [
    "lda_model = gensim.models.ldamodel.LdaModel(corpus=corpus,\n",
    "                                           id2word=id2word,\n",
    "                                           num_topics=20, \n",
    "                                           random_state=100,\n",
    "                                           update_every=1,\n",
    "                                           chunksize=100,\n",
    "                                           passes=10,\n",
    "                                           alpha='auto',\n",
    "                                           per_word_topics=True)\n"
   ]
  },
  {
   "cell_type": "code",
   "execution_count": 18,
   "id": "850c06a5-18ea-4a77-84ce-59e8c7f114f6",
   "metadata": {
    "scrolled": true
   },
   "outputs": [
    {
     "name": "stdout",
     "output_type": "stream",
     "text": [
      "[(0,\n",
      "  '0.071*\"price\" + 0.065*\"sale\" + 0.064*\"sell\" + 0.057*\"cost\" + 0.048*\"buy\" + '\n",
      "  '0.046*\"cheap\" + 0.043*\"graphic\" + 0.023*\"offer\" + 0.021*\"external\" + '\n",
      "  '0.021*\"purchase\"'),\n",
      " (1,\n",
      "  '0.140*\"file\" + 0.096*\"image\" + 0.090*\"entry\" + 0.074*\"screen\" + '\n",
      "  '0.048*\"format\" + 0.039*\"display\" + 0.031*\"processor\" + 0.024*\"blind\" + '\n",
      "  '0.020*\"map\" + 0.017*\"pointer\"'),\n",
      " (2,\n",
      "  '0.027*\"people\" + 0.023*\"state\" + 0.019*\"right\" + 0.017*\"group\" + '\n",
      "  '0.017*\"issue\" + 0.016*\"law\" + 0.015*\"government\" + 0.015*\"case\" + '\n",
      "  '0.011*\"public\" + 0.010*\"rule\"'),\n",
      " (3,\n",
      "  '0.167*\"car\" + 0.068*\"model\" + 0.045*\"engine\" + 0.028*\"cop\" + 0.024*\"safety\" '\n",
      "  '+ 0.021*\"motto\" + 0.021*\"mirror\" + 0.021*\"auto\" + 0.019*\"energy\" + '\n",
      "  '0.018*\"tie\"'),\n",
      " (4,\n",
      "  '0.030*\"war\" + 0.029*\"israeli\" + 0.027*\"soldier\" + 0.025*\"attack\" + '\n",
      "  '0.023*\"village\" + 0.022*\"greek\" + 0.020*\"armenian\" + 0.019*\"turk\" + '\n",
      "  '0.018*\"arab\" + 0.016*\"turkish\"'),\n",
      " (5,\n",
      "  '0.080*\"space\" + 0.076*\"team\" + 0.036*\"season\" + 0.026*\"wing\" + '\n",
      "  '0.024*\"launch\" + 0.020*\"year\" + 0.020*\"signal\" + 0.020*\"mission\" + '\n",
      "  '0.020*\"orbit\" + 0.020*\"pen\"'),\n",
      " (6,\n",
      "  '0.075*\"player\" + 0.059*\"chip\" + 0.055*\"encryption\" + 0.051*\"security\" + '\n",
      "  '0.049*\"tape\" + 0.038*\"clipper\" + 0.032*\"library\" + 0.030*\"tap\" + '\n",
      "  '0.029*\"clipper_chip\" + 0.025*\"doctor\"'),\n",
      " (7,\n",
      "  '0.026*\"get\" + 0.021*\"go\" + 0.018*\"know\" + 0.016*\"think\" + 0.015*\"make\" + '\n",
      "  '0.015*\"time\" + 0.015*\"m\" + 0.014*\"well\" + 0.013*\"say\" + 0.013*\"good\"'),\n",
      " (8,\n",
      "  '0.633*\"ax\" + 0.036*\"_\" + 0.017*\"nhl\" + 0.014*\"route\" + '\n",
      "  '0.010*\"law_enforcement\" + 0.009*\"ensure\" + 0.008*\"blue\" + 0.007*\"draft\" + '\n",
      "  '0.007*\"expansion\" + 0.007*\"trick\"'),\n",
      " (9,\n",
      "  '0.063*\"color\" + 0.040*\"self\" + 0.038*\"scan\" + 0.026*\"material\" + '\n",
      "  '0.026*\"upgrade\" + 0.025*\"bit\" + 0.025*\"gateway\" + 0.024*\"hole\" + '\n",
      "  '0.022*\"warranty\" + 0.022*\"font\"'),\n",
      " (10,\n",
      "  '0.102*\"drive\" + 0.055*\"card\" + 0.043*\"driver\" + 0.033*\"physical\" + '\n",
      "  '0.028*\"memory\" + 0.026*\"speed\" + 0.026*\"cpu\" + 0.020*\"fast\" + 0.020*\"chip\" '\n",
      "  '+ 0.020*\"mode\"'),\n",
      " (11,\n",
      "  '0.070*\"gun\" + 0.065*\"child\" + 0.049*\"kill\" + 0.043*\"death\" + 0.031*\"fire\" + '\n",
      "  '0.029*\"woman\" + 0.024*\"crime\" + 0.022*\"police\" + 0.022*\"weapon\" + '\n",
      "  '0.018*\"murder\"'),\n",
      " (12,\n",
      "  '0.176*\"key\" + 0.037*\"bit\" + 0.033*\"master\" + 0.031*\"publish\" + '\n",
      "  '0.030*\"secure\" + 0.028*\"block\" + 0.027*\"secret\" + 0.027*\"proof\" + '\n",
      "  '0.021*\"resource\" + 0.020*\"industry\"'),\n",
      " (13,\n",
      "  '0.060*\"percent\" + 0.042*\"combine\" + 0.016*\"tolerance\" + 0.007*\"chamber\" + '\n",
      "  '0.000*\"revolution\" + 0.000*\"vaccination\" + 0.000*\"egg\" + 0.000*\"restraint\" '\n",
      "  '+ 0.000*\"autotrace\" + 0.000*\"mortality\"'),\n",
      " (14,\n",
      "  '0.143*\"patient\" + 0.070*\"disease\" + 0.053*\"health\" + 0.048*\"treatment\" + '\n",
      "  '0.044*\"medical\" + 0.023*\"medicine\" + 0.020*\"physician\" + 0.015*\"impressive\" '\n",
      "  '+ 0.014*\"payment\" + 0.013*\"treat\"'),\n",
      " (15,\n",
      "  '0.067*\"internet\" + 0.045*\"sorry\" + 0.031*\"meet\" + 0.029*\"possibly\" + '\n",
      "  '0.028*\"united_state\" + 0.023*\"table\" + 0.020*\"fill\" + 0.019*\"dangerous\" + '\n",
      "  '0.019*\"aware\" + 0.019*\"primarily\"'),\n",
      " (16,\n",
      "  '0.061*\"use\" + 0.029*\"system\" + 0.017*\"program\" + 0.016*\"mail\" + '\n",
      "  '0.015*\"window\" + 0.015*\"need\" + 0.014*\"information\" + 0.013*\"also\" + '\n",
      "  '0.013*\"include\" + 0.011*\"send\"'),\n",
      " (17,\n",
      "  '0.103*\"line\" + 0.093*\"subject\" + 0.073*\"write\" + 0.068*\"organization\" + '\n",
      "  '0.053*\"article\" + 0.043*\"nntp_poste\" + 0.039*\"host\" + 0.021*\"reply\" + '\n",
      "  '0.017*\"thank\" + 0.015*\"game\"'),\n",
      " (18,\n",
      "  '0.018*\"say\" + 0.016*\"believe\" + 0.016*\"reason\" + 0.014*\"evidence\" + '\n",
      "  '0.012*\"point\" + 0.011*\"people\" + 0.011*\"question\" + 0.011*\"many\" + '\n",
      "  '0.010*\"claim\" + 0.010*\"mean\"'),\n",
      " (19,\n",
      "  '0.048*\"corporation\" + 0.046*\"boy\" + 0.040*\"session\" + 0.036*\"description\" + '\n",
      "  '0.034*\"background\" + 0.032*\"telnet\" + 0.031*\"frame\" + 0.030*\"registration\" '\n",
      "  '+ 0.028*\"configuration\" + 0.025*\"cylinder\"')]\n"
     ]
    }
   ],
   "source": [
    "# Print the Keyword in the 10 topics\n",
    "pprint(lda_model.print_topics())\n",
    "doc_lda = lda_model[corpus]"
   ]
  },
  {
   "cell_type": "code",
   "execution_count": 19,
   "id": "bcb3b856-4a3d-45a4-ab65-19224f591a8d",
   "metadata": {},
   "outputs": [
    {
     "name": "stdout",
     "output_type": "stream",
     "text": [
      "\n",
      "Perplexity:  -13.282198746050597\n",
      "\n",
      "Coherence Score:  0.4746451640664289\n"
     ]
    }
   ],
   "source": [
    "# Compute Perplexity\n",
    "print('\\nPerplexity: ', lda_model.log_perplexity(corpus))  # a measure of how good the model is. lower the better.\n",
    "\n",
    "# Compute Coherence Score\n",
    "coherence_model_lda = CoherenceModel(model=lda_model, texts=data_lemmatized, dictionary=id2word, coherence='c_v')\n",
    "coherence_lda = coherence_model_lda.get_coherence()\n",
    "print('\\nCoherence Score: ', coherence_lda)"
   ]
  },
  {
   "cell_type": "code",
   "execution_count": 20,
   "id": "70346d3e-d436-4a1c-892c-fd8ceb270afa",
   "metadata": {},
   "outputs": [
    {
     "data": {
      "text/html": [
       "\n",
       "<link rel=\"stylesheet\" type=\"text/css\" href=\"https://cdn.jsdelivr.net/gh/bmabey/pyLDAvis@3.4.0/pyLDAvis/js/ldavis.v1.0.0.css\">\n",
       "\n",
       "\n",
       "<div id=\"ldavis_el257880139810105511488740385759\" style=\"background-color:white;\"></div>\n",
       "<script type=\"text/javascript\">\n",
       "\n",
       "var ldavis_el257880139810105511488740385759_data = {\"mdsDat\": {\"x\": [-0.35066765758902346, -0.3395256567505145, -0.27887094935741985, -0.21028319673704612, -0.24299878593451799, 0.037138637280686955, -0.02666662439639739, -0.008248001887901788, 0.03582426562943725, 0.043555545468856115, 0.06417826217636541, 0.11813215060893335, 0.10492947553670666, 0.10204080170119526, 0.11620202837676312, 0.13091749243116904, 0.13593187473513943, 0.17952163632815635, 0.1805499225442585, 0.20833877983515392], \"y\": [-0.0752655077331719, -0.10054680941599388, 0.16040869609742547, 0.19900835398902392, -0.16386061145278713, 0.07702486225917551, 0.22112383200194125, -0.20172682948717877, -0.1385063458995729, 0.030754082616829576, 0.030268571273685135, 0.0010896192653020674, -0.007015725301314763, 0.03976373520597582, 0.016972670717829094, -0.014585539972387757, -0.00027640112129933176, -0.0208851067659809, -0.027184438536915913, -0.026561107740584743], \"topics\": [1, 2, 3, 4, 5, 6, 7, 8, 9, 10, 11, 12, 13, 14, 15, 16, 17, 18, 19, 20], \"cluster\": [1, 1, 1, 1, 1, 1, 1, 1, 1, 1, 1, 1, 1, 1, 1, 1, 1, 1, 1, 1], \"Freq\": [29.391527499939833, 16.282154711850172, 13.070863936120553, 12.106639696100979, 9.46636110285047, 4.4657006349653745, 2.186171859773075, 1.921080789595903, 1.801237950020534, 1.385092471278903, 1.3499588817790806, 1.096293490217681, 1.0780591881100674, 1.0450995762527326, 1.014418428864978, 0.8390487689150402, 0.828613258476755, 0.36037725324235703, 0.26387025020875976, 0.04743025143675661]}, \"tinfo\": {\"Term\": [\"ax\", \"line\", \"subject\", \"write\", \"organization\", \"use\", \"article\", \"nntp_poste\", \"host\", \"key\", \"drive\", \"file\", \"year\", \"get\", \"go\", \"people\", \"system\", \"car\", \"team\", \"problem\", \"say\", \"space\", \"right\", \"gun\", \"state\", \"_\", \"reply\", \"bit\", \"m\", \"believe\", \"go\", \"s\", \"ve\", \"back\", \"re\", \"bad\", \"hear\", \"little\", \"d\", \"happen\", \"put\", \"maybe\", \"money\", \"lose\", \"pay\", \"remember\", \"turn\", \"week\", \"ill\", \"move\", \"face\", \"guess\", \"friend\", \"pretty\", \"couple\", \"light\", \"head\", \"guy\", \"i\", \"month\", \"m\", \"really\", \"lot\", \"get\", \"want\", \"still\", \"start\", \"much\", \"probably\", \"take\", \"well\", \"time\", \"let\", \"sure\", \"know\", \"think\", \"come\", \"tell\", \"good\", \"see\", \"make\", \"year\", \"day\", \"thing\", \"say\", \"try\", \"look\", \"even\", \"work\", \"way\", \"give\", \"believe\", \"evidence\", \"claim\", \"sense\", \"exist\", \"true\", \"faith\", \"view\", \"christian\", \"religion\", \"god\", \"argument\", \"science\", \"accept\", \"explain\", \"prove\", \"truth\", \"belief\", \"correct\", \"appear\", \"atheist\", \"suggest\", \"human\", \"church\", \"particular\", \"fail\", \"conclusion\", \"thus\", \"reality\", \"character\", \"book\", \"reason\", \"speak\", \"value\", \"talk\", \"matter\", \"point\", \"answer\", \"mean\", \"life\", \"question\", \"fact\", \"say\", \"many\", \"man\", \"however\", \"read\", \"people\", \"part\", \"way\", \"follow\", \"think\", \"make\", \"give\", \"write\", \"know\", \"see\", \"also\", \"find\", \"program\", \"window\", \"available\", \"email\", \"info\", \"copy\", \"code\", \"user\", \"application\", \"disk\", \"network\", \"appreciate\", \"section\", \"server\", \"function\", \"distribution\", \"package\", \"input\", \"fax\", \"option\", \"sun\", \"motif\", \"technical\", \"feature\", \"site\", \"update\", \"environment\", \"digital\", \"test\", \"load\", \"address\", \"version\", \"software\", \"mail\", \"datum\", \"information\", \"com\", \"system\", \"use\", \"include\", \"computer\", \"list\", \"send\", \"message\", \"source\", \"type\", \"set\", \"need\", \"run\", \"also\", \"number\", \"new\", \"do\", \"work\", \"help\", \"organization\", \"nntp_poste\", \"host\", \"game\", \"play\", \"win\", \"bike\", \"video\", \"division\", \"wire\", \"fan\", \"brain\", \"originator\", \"score\", \"version_pl\", \"ride\", \"advice\", \"distribution_world\", \"dept\", \"apr\", \"printer\", \"mouse\", \"average\", \"manager\", \"baseball\", \"sport\", \"son\", \"rider\", \"saturn\", \"helmet\", \"line\", \"subject\", \"university\", \"reply\", \"serious\", \"article\", \"write\", \"goal\", \"thank\", \"keyword\", \"news\", \"net\", \"post\", \"like\", \"run\", \"wonder\", \"good\", \"team\", \"first\", \"question\", \"look\", \"state\", \"issue\", \"law\", \"whole\", \"discussion\", \"member\", \"protect\", \"drug\", \"involve\", \"risk\", \"grant\", \"individual\", \"relate\", \"national\", \"society\", \"license\", \"reduce\", \"deny\", \"visit\", \"serve\", \"scientific\", \"legal\", \"activity\", \"department\", \"prevent\", \"suspect\", \"freedom\", \"decision\", \"insist\", \"vote\", \"rule\", \"citizen\", \"government\", \"public\", \"group\", \"country\", \"draw\", \"right\", \"report\", \"case\", \"person\", \"people\", \"word\", \"free\", \"increase\", \"force\", \"allow\", \"purpose\", \"provide\", \"make\", \"situation\", \"support\", \"ax\", \"_\", \"nhl\", \"route\", \"law_enforcement\", \"ensure\", \"blue\", \"draft\", \"expansion\", \"trick\", \"unlikely\", \"spec\", \"spacecraft\", \"finish\", \"buyer\", \"hopefully\", \"computer_science\", \"connector\", \"flow\", \"compound\", \"soft\", \"significance\", \"import\", \"meter\", \"spell\", \"presentation\", \"subscription\", \"flag\", \"wake\", \"sue\", \"drive\", \"card\", \"driver\", \"physical\", \"memory\", \"speed\", \"cpu\", \"board\", \"monitor\", \"bus\", \"controller\", \"ide\", \"mac\", \"switch\", \"direct\", \"scsi\", \"apple\", \"mount\", \"mb\", \"ram\", \"crash\", \"motherboard\", \"bio\", \"isa\", \"strange\", \"daughter\", \"power_supply\", \"button\", \"director\", \"backup\", \"instal\", \"mode\", \"fast\", \"slow\", \"pc\", \"chip\", \"port\", \"problem\", \"bit\", \"machine\", \"computer\", \"war\", \"israeli\", \"soldier\", \"village\", \"greek\", \"armenian\", \"turk\", \"arab\", \"turkish\", \"terrorism\", \"occupy\", \"poor\", \"muslim\", \"rocket\", \"bomb\", \"withdraw\", \"inhabitant\", \"russian\", \"trap\", \"islamic\", \"invasion\", \"escape\", \"specification\", \"proceed\", \"serdar_argic\", \"territory\", \"french\", \"genocide\", \"slaughter\", \"historical\", \"civilian\", \"attack\", \"jewish\", \"land\", \"peace\", \"force\", \"international\", \"population\", \"kill\", \"people\", \"gun\", \"child\", \"fire\", \"woman\", \"crime\", \"police\", \"weapon\", \"trial\", \"firearm\", \"criminal\", \"mother\", \"arm\", \"male\", \"minority\", \"northern\", \"girl\", \"ethnic\", \"violence\", \"constitution\", \"militia\", \"gun_control\", \"aged\", \"survive\", \"disarm\", \"effectively\", \"restore\", \"employment\", \"crowd\", \"rape\", \"subsequent\", \"kill\", \"death\", \"murder\", \"parent\", \"pro\", \"shoot\", \"die\", \"city\", \"rate\", \"man\", \"black\", \"carry\", \"season\", \"wing\", \"launch\", \"signal\", \"mission\", \"orbit\", \"pen\", \"star\", \"circuit\", \"plane\", \"moon\", \"satellite\", \"flight\", \"ice\", \"mar\", \"planet\", \"shuttle\", \"fuel\", \"sky\", \"penguin\", \"leafs\", \"lunar\", \"astronomy\", \"radius\", \"captain\", \"ozone\", \"voltage\", \"distant\", \"crew\", \"planetary\", \"space\", \"team\", \"earth\", \"schedule\", \"trade\", \"ground\", \"series\", \"year\", \"project\", \"price\", \"sale\", \"sell\", \"cheap\", \"graphic\", \"external\", \"purchase\", \"market\", \"box\", \"cable\", \"cd\", \"modem\", \"immediate\", \"assembly\", \"remote\", \"mph\", \"solar\", \"reflect\", \"wall\", \"belt\", \"dirty\", \"dare\", \"suck\", \"deficit\", \"portable\", \"junk\", \"catalog\", \"jim_frost\", \"timing\", \"admin\", \"expensive\", \"cost\", \"vehicle\", \"buy\", \"offer\", \"trade\", \"cover\", \"low\", \"interested\", \"supply\", \"condition\", \"internet\", \"sorry\", \"meet\", \"possibly\", \"united_state\", \"table\", \"fill\", \"dangerous\", \"primarily\", \"requirement\", \"statistic\", \"homosexual\", \"meeting\", \"somehow\", \"bug\", \"consideration\", \"consequence\", \"approve\", \"warn\", \"guilty\", \"tree\", \"previously\", \"curious\", \"partner\", \"entity\", \"derive\", \"traditional\", \"creator\", \"introduce\", \"reserve\", \"manage\", \"aware\", \"additional\", \"office\", \"key\", \"master\", \"secure\", \"secret\", \"proof\", \"resource\", \"industry\", \"mhz\", \"link\", \"imply\", \"register\", \"economic\", \"dream\", \"german\", \"solid\", \"nuclear\", \"default\", \"camp\", \"assign\", \"render\", \"hence\", \"schneider\", \"thermal\", \"nist\", \"cooperation\", \"line_communication\", \"access_digex\", \"political_atheist\", \"definite\", \"services_gu\", \"publish\", \"block\", \"bit\", \"standard\", \"public\", \"attack\", \"player\", \"encryption\", \"security\", \"tape\", \"clipper\", \"library\", \"tap\", \"clipper_chip\", \"doctor\", \"crypto\", \"privacy\", \"scheme\", \"cryptography\", \"duo\", \"assure\", \"forsale\", \"qualified\", \"phase\", \"wiretap\", \"brand\", \"bag\", \"app\", \"dry\", \"bury\", \"appearance\", \"po_andrew\", \"cmu_edu\", \"hair\", \"wash\", \"utilize\", \"chip\", \"proposal\", \"communication\", \"technology\", \"phone\", \"government\", \"public\", \"voice\", \"color\", \"self\", \"scan\", \"upgrade\", \"gateway\", \"hole\", \"warranty\", \"font\", \"procedure\", \"directory\", \"compile\", \"specify\", \"clock\", \"serial\", \"feed\", \"properly\", \"definitely\", \"probe\", \"icon\", \"confirm\", \"gif\", \"strip\", \"compression\", \"luck\", \"meg\", \"replacement\", \"suitable\", \"bolt\", \"preferably\", \"generic\", \"material\", \"apparently\", \"depth\", \"bit\", \"contain\", \"car\", \"model\", \"engine\", \"cop\", \"motto\", \"mirror\", \"auto\", \"energy\", \"tie\", \"floppy\", \"factory\", \"capture\", \"radiation\", \"ammunition\", \"mechanism\", \"pound\", \"conservative\", \"cure\", \"jack\", \"amazing\", \"trigger\", \"revolver\", \"rear\", \"engage\", \"intelligence\", \"motion\", \"convenient\", \"slide\", \"fame\", \"adapter\", \"safety\", \"accident\", \"design\", \"image\", \"entry\", \"screen\", \"format\", \"processor\", \"blind\", \"map\", \"pointer\", \"enable\", \"pixel\", \"thanx\", \"out\", \"row\", \"ms_window\", \"int\", \"formation\", \"array\", \"jpeg\", \"compiler\", \"mapping\", \"powerbook\", \"equip\", \"oracle_corporation\", \"related\", \"schematic\", \"oracle\", \"efficiently\", \"initialize\", \"menu\", \"file\", \"display\", \"limit\", \"draw\", \"corporation\", \"boy\", \"session\", \"description\", \"background\", \"telnet\", \"frame\", \"registration\", \"configuration\", \"cylinder\", \"implementation\", \"locate\", \"terminal\", \"investigation\", \"dump\", \"edit\", \"instrument\", \"worthless\", \"running\", \"login\", \"rutger\", \"twin\", \"radio_shack\", \"herein\", \"camping\", \"ncd\", \"localtalk\", \"ethernet\", \"slip\", \"consulting\", \"slave\", \"patient\", \"disease\", \"health\", \"medical\", \"medicine\", \"physician\", \"impressive\", \"payment\", \"consult\", \"yellow\", \"narrow\", \"controversial\", \"adequately\", \"upcoming\", \"incur\", \"pitt\", \"treatment\", \"treat\", \"diagnosis\", \"tumor\", \"eeg\", \"neurologist\", \"migraine\", \"aunt\", \"millie\", \"dn\", \"syndrome\", \"pathology\", \"examination\", \"slmr\", \"study\", \"examine\", \"percent\", \"combine\", \"tolerance\", \"chamber\", \"vaccination\", \"revolution\", \"autotrace\", \"mortality\", \"farzin\", \"farzin_mokhtarian\", \"desease\", \"illustrator\", \"infant\", \"kinsey_report\", \"template\", \"boesel\", \"sexual_partner\", \"dramatically\", \"hypothesis\", \"four_decade\", \"men_surveye\", \"sex_survey\", \"sexual_practice\", \"freehand\", \"charles_boesel\", \"conventional_wisdom\", \"aluminum\", \"approximate\", \"poorly\", \"con\", \"murray\", \"newsletter_page\", \"restraint\", \"egg\", \"embryo\", \"gonorrhea\", \"surveillance\", \"influenza\", \"rating\", \"talent\", \"coach\", \"infertility\", \"adult\", \"accelerator\", \"sperm\", \"consistent\"], \"Freq\": [36447.0, 16206.0, 14829.0, 13614.0, 10564.0, 12642.0, 8836.0, 6706.0, 6137.0, 2444.0, 2865.0, 2346.0, 4972.0, 10659.0, 7830.0, 8020.0, 5332.0, 1804.0, 2159.0, 4075.0, 8937.0, 1594.0, 4130.0, 1626.0, 2771.0, 2081.0, 3270.0, 2019.0, 5611.0, 3463.0, 7829.4809740191495, 4410.922797186006, 2947.801977546635, 2340.0776742538774, 2262.669221622844, 2179.0534033394824, 2143.5287423584596, 2079.2733754852256, 1937.019613596431, 1905.1187835655303, 2026.0583841611294, 1491.6644663250015, 1406.670586396181, 1346.6567870321587, 1324.1045055565405, 1316.2796954156154, 1301.3422236508932, 1268.0418907541562, 1211.2237155810417, 1105.8490292114825, 1052.9518620676236, 987.3074923500549, 929.1021672775764, 920.035354593337, 915.552727766966, 913.1782229045667, 860.6393800238791, 826.1865153552772, 792.316445997743, 785.9387858790473, 5576.669772583095, 3118.4837976490694, 1999.0120934828906, 9916.010658481151, 4533.976343286914, 2605.765453610926, 2138.973674207276, 3531.0594660315187, 1906.1370209447466, 4282.020650873316, 5162.529159819556, 5716.361352754587, 2073.875482078732, 2535.9256635374672, 6833.357522439718, 5881.904515275496, 3910.3943604627225, 2909.740370194102, 5054.667644828175, 4728.664036076856, 5835.375831760954, 3911.5234215982905, 2456.751442584694, 3392.02682838585, 5078.892517964142, 3170.490139439326, 2872.796176894463, 2838.4589889333265, 2998.156374777647, 2837.3599278591914, 2551.9305198408706, 3461.964191014234, 3017.141299203738, 2101.6154065246405, 1790.0981966965269, 1759.963555299024, 1623.7199779613204, 1452.3766065839802, 1123.0634857049797, 1116.659691107272, 1098.8922283309892, 1065.7791210147263, 1061.4991709729334, 1049.0876091329153, 1042.6594721971444, 1027.2420715280946, 992.6659799181948, 935.0710304567498, 903.9085362785386, 876.5483348578763, 869.1871727234102, 837.6968879446935, 800.1815812141558, 753.5106714402409, 740.0725277046342, 690.6103142859433, 684.388793942528, 674.090127494316, 598.4670860466425, 597.1318257075418, 583.8892516397882, 1769.229089905261, 3301.055275272133, 975.8639010309643, 789.4012981857499, 1435.4455817372905, 970.5863061701558, 2551.078006626217, 1098.9137356176313, 2093.9234232174604, 1315.6461824850128, 2232.0101750203985, 1603.0483471655873, 3817.117925752233, 2208.795796381197, 1473.543784816028, 1415.834553454198, 1569.335675353977, 2271.2588224137044, 1348.4775443462631, 1552.236404869509, 1283.0230502626164, 1641.624598570144, 1670.855151845525, 1428.1456176093607, 1703.6907174037096, 1567.6101066425176, 1471.990958720463, 1387.1654381205715, 1320.2167741776566, 2888.2473255302975, 2528.8527433823547, 1655.795478681724, 1509.509826181237, 1419.1493383685413, 1258.3340202861827, 1112.424597756526, 1026.2630687171504, 1000.7384471667131, 930.055320487967, 859.6377679062776, 842.4697052886656, 810.0613466373949, 798.2442410704946, 782.961016836159, 727.711009937073, 721.9548640379265, 703.2642236847961, 647.4582298795052, 644.9565438594483, 607.0368556198373, 524.9367503049956, 507.48263048177745, 500.1103202304636, 480.15561309799205, 466.9068873542283, 429.947393877468, 411.6588816783913, 1227.6387872154817, 389.62612001992653, 1480.6826369143887, 1150.893288240806, 1614.5155011688505, 2731.53788972034, 1465.4596848155554, 2322.1948157378692, 1615.070036207208, 4835.770927150709, 10207.526259453873, 2121.7752110765473, 1735.6428736924993, 1518.596635401625, 1854.5409619959976, 1602.0619281293943, 1516.593528648294, 1280.8868645513835, 1476.0195513059646, 2467.4726365142424, 1655.0952859825695, 2201.1230065891364, 1632.3224641186546, 1745.873283900567, 1387.939045369063, 1635.0461682003463, 1454.0511427088434, 10563.614698146534, 6705.541066971825, 6136.220756474053, 2290.6484972872836, 1581.6885115328596, 1441.8306208890876, 899.2829832349476, 851.4795662150506, 741.276288938953, 701.6157513647704, 651.4383515574068, 606.1916963359408, 583.8309795312773, 579.0469597151675, 553.6781488873454, 539.9790637303238, 531.7270765910491, 519.9614364621186, 474.793395478218, 426.6641455226886, 422.98952052278014, 422.6499491766994, 400.4229092863979, 392.31822843693004, 383.1712092984491, 343.40094616568604, 319.39365542729223, 310.4831695565298, 288.31248259056713, 275.9332479791142, 16054.904748215533, 14520.293189818865, 1483.7451300568207, 3221.6854538484104, 582.5113652282163, 8215.218791514864, 11456.018808387013, 650.0174073910393, 2577.511595748055, 985.2804897211747, 1063.960439048619, 959.18347044959, 1581.1600552156153, 874.9775544518251, 1130.1443227582981, 637.6611246478353, 1179.946787533427, 806.6167505511099, 882.740483255141, 811.3817982766005, 796.3130154048836, 2770.242830099823, 2017.8771948213296, 1991.6571970722555, 1109.9207938244276, 1031.9417125183345, 845.7901070074586, 765.9628442664995, 728.5897021688594, 697.9494037041301, 685.4584208522004, 634.4256623115159, 632.5925996225882, 630.2898895739318, 627.3129175588634, 551.9913252944591, 533.1606430414043, 528.5681818691813, 507.4882735521615, 487.45968645175805, 472.04532924423296, 463.1391658826976, 462.6754864489972, 458.6187461032444, 454.17284014305835, 444.09974831213054, 436.36596980949923, 379.80242161277715, 379.27482853318355, 375.3926073957143, 367.81720628239486, 1201.179022079916, 559.049278802433, 1851.03148898753, 1391.0342088091486, 2091.26154145957, 778.6895886152407, 620.7760492492428, 2319.4286534693833, 1084.1667490046839, 1825.1131841085323, 1135.260948764764, 3262.483507348906, 1002.3868377046688, 826.0839584247534, 683.6271769597765, 734.9812941077352, 837.074490998397, 665.3718596132367, 749.4468647515483, 777.3508407136252, 654.8001617719955, 680.2248907497609, 36446.128146081566, 2080.8166870931786, 983.4465695920507, 806.0643678095532, 552.2876677642108, 494.7313488321591, 442.06901934813493, 429.6477644422685, 406.89584143926163, 395.97829679897137, 385.1201423059342, 368.9779270952357, 338.89795705158684, 335.94890778480027, 333.54600655837464, 282.9979931292702, 279.8303130450109, 254.21262104490972, 239.96091621909835, 230.3936327189983, 216.21021985935118, 206.96218186185592, 198.40117927661396, 192.22316948243176, 191.3555236720307, 179.05786194167823, 163.64716442508086, 153.67884325795356, 152.26273010798738, 149.85745595694237, 2864.006066667266, 1556.262683366836, 1224.6311889968865, 943.0147164703617, 794.6877510628921, 743.2541139574784, 738.7529678086554, 536.3941346116319, 512.3701878374764, 470.3980461490451, 464.4644235875924, 414.07840594709097, 398.3186977033146, 376.4058986796055, 372.77811002987295, 371.7030832898299, 358.28134162516847, 354.4520412475587, 353.0147606861273, 269.1818915579765, 249.8730199413035, 236.3012995766209, 207.91517256447065, 186.5492720648628, 183.49043376979648, 159.626087119355, 153.43109786134872, 140.67830110209403, 116.12579295103914, 110.6443904292441, 524.6783645629645, 554.2886175671742, 564.4206986507663, 444.3868619104749, 494.6027129251166, 563.4734675192832, 250.41381483373053, 531.0612669199995, 366.43490096785484, 310.70134066752365, 293.7541676000021, 749.7144582486546, 706.7485591348388, 676.4667198530265, 581.1499436918823, 555.8999828802918, 500.7123244816074, 459.4081236218444, 444.1825642250781, 407.12613027879473, 362.34184901291513, 359.9517736393396, 348.1618408984738, 346.161929654324, 278.25383178477233, 277.1304460690125, 258.4968273393908, 205.54742795197188, 200.98513979799148, 199.99516147065887, 199.7010561974342, 192.6018707221617, 190.07012929769013, 171.5768501578137, 171.5662269341632, 160.17016087950043, 153.977040645722, 145.1175489478973, 141.50742921123182, 141.46958469787978, 137.87813922732738, 268.49762928017714, 630.940358547215, 395.29003668988423, 315.26006782733486, 234.71125656929598, 319.1910988869142, 197.25095557317775, 200.74273190631018, 239.8737280234165, 234.5524272645543, 1625.0616411494336, 1518.2392406495962, 717.4608325406564, 674.2848020431979, 548.5713822271257, 506.64996562558747, 501.39682690331693, 409.0438423504325, 403.8869994192218, 392.5605206276477, 376.8115300159327, 324.30514682163323, 281.18057357640555, 228.713707994475, 224.4292590751282, 223.05100934324688, 218.68263686834925, 207.3568069702459, 207.21069779041449, 168.43909661504517, 157.3484365256342, 144.01196694883518, 138.63410008659451, 124.62504161246787, 122.29431359954046, 114.54079366641386, 100.75570077371793, 100.1577562553094, 97.80471712187924, 90.72466209226575, 1131.6166576536882, 989.857313573684, 425.8131530555609, 256.3489129056364, 251.20790297511206, 274.7294693582114, 374.3487197370333, 277.8678858890774, 314.43513105494867, 392.2346895861998, 266.8394006090559, 254.25711828353172, 641.2728231193818, 466.31156962446494, 434.9570455515085, 358.72700070912225, 357.724754221838, 351.75485267867424, 348.7626168335514, 334.8220464723658, 291.0075850213637, 275.5727762200599, 272.5907028862008, 264.8288562104315, 250.07841187468915, 236.8266136148831, 225.22450196257816, 221.56283771591168, 193.76856900062816, 184.91597383686369, 175.90480357917366, 161.4811230671424, 152.8964788959457, 137.8175159984589, 137.554687842993, 121.14966691887955, 117.69459604767455, 115.40186863948077, 105.40395346651597, 103.93690099147238, 98.89727672734702, 98.27362120796022, 1436.8070452031816, 1351.3607835583273, 318.0575953217229, 156.61218242100156, 233.16857527239912, 205.36745393086244, 177.90708441953907, 362.1218782443804, 153.25213352500077, 1240.1171652269172, 1135.2753462575793, 1114.5115225133616, 803.4711053937314, 748.5833173746732, 372.90337487329833, 358.0455931884986, 329.7626336696909, 315.2651832859005, 313.51669785640297, 197.95097000859494, 178.67224034158025, 164.95016365126557, 158.7862742968208, 144.9955453184112, 142.54252692719115, 137.24971920221094, 132.23627846823058, 123.0404382161348, 110.10950822432929, 99.09285042715638, 97.50203831056456, 97.00219777901323, 95.6338369076122, 91.27083405026043, 82.8529693079897, 82.72673663564132, 79.86512770807339, 75.15548348059681, 72.29550372775228, 293.3070204678494, 998.0459228439622, 256.8669857427161, 831.1537180796445, 403.14730959547575, 263.3289411234187, 215.2592898484687, 195.8254076314288, 142.92529382837134, 118.31306759502617, 117.90403126459972, 942.4563162566627, 635.0850716794653, 439.43966076881907, 415.0413788000392, 401.6735630002924, 331.92602739312815, 283.08636253248875, 273.0364226166088, 266.8538229485239, 262.1172237053246, 248.42632212237, 240.65522832401922, 239.87988563443378, 210.6109887239356, 197.0371731549917, 182.33012189253898, 173.64787931954157, 170.99005049779163, 170.89826685829507, 159.56875347830334, 143.194299431663, 135.42610184683622, 134.41020229486972, 132.06122831623924, 126.26494403843354, 123.91086219231529, 121.59479973100287, 120.11887615457164, 111.43584370515859, 111.11883997035117, 203.83384907780365, 269.55714865181426, 174.02682252994157, 174.02421593776998, 2442.8687434262097, 460.82293761028706, 413.5107506900642, 381.1807131424313, 376.6411676583344, 285.2066782209731, 281.24311033832277, 260.3355583794591, 255.10582882084276, 252.39293962370323, 215.15950631627769, 210.64236974227933, 196.7314335897491, 188.53263348105278, 177.29103737859595, 177.1142516614928, 159.28681798859887, 150.78894760774992, 126.62723612238234, 115.91481911761338, 108.53965972942486, 107.36688145784697, 104.81034975127363, 86.2404057100311, 83.64046078565566, 78.2318094786443, 71.38188723948682, 69.82007294143517, 56.5282169126929, 55.000721517397594, 428.74435625546397, 387.52539925283634, 511.7541570386008, 165.8589331761911, 158.25897267658664, 102.59156342888035, 1016.1213563347166, 740.5478596352234, 683.5850685430503, 658.8992513587584, 517.0802594681842, 432.608536049402, 407.7413232506365, 388.54581694360263, 338.80069886900435, 197.56383203567077, 196.0231364492269, 186.7691740431078, 155.34087157795247, 141.44834445195085, 116.67997431677979, 116.16352265448455, 113.89075633474296, 112.38870175403899, 103.46597396467699, 102.98359516064214, 95.78721924821205, 88.72782501088774, 82.90017401206832, 82.27905027820005, 63.644164850642746, 63.50641763433849, 61.11696275617882, 57.78576670532683, 55.529647769188344, 53.789917746066536, 801.3396619048101, 174.90925919792662, 194.69286429352044, 198.86581681660047, 141.19168735276733, 142.440222298216, 113.27005302104108, 95.8557602851878, 819.3879238335185, 522.9992192009158, 498.74965110273763, 342.30437928206715, 325.9437230202309, 312.06910124663926, 293.3471970417926, 285.3286017262859, 269.36654614125104, 247.30656530710624, 224.65215516465034, 210.5450873879194, 208.9875456808971, 202.91663883839874, 199.41570870234193, 199.20987911870054, 179.43861800711278, 178.8015902461773, 178.02883701794394, 168.1107185945066, 157.70145718812333, 147.2057320080118, 139.15713383610995, 122.95261911437639, 110.69642182339088, 105.81164495771264, 100.30413523649061, 85.72079190930677, 84.22565565632927, 84.03222067536025, 342.35615034974046, 209.77565968944484, 122.21849319334117, 327.7741774331715, 206.04950713686756, 1802.9042796206388, 734.0797128693349, 486.20349173696354, 300.5728994186974, 226.79601833599344, 226.45645253846416, 222.43566785431406, 207.5817851132559, 191.75097816210817, 171.18037595048594, 169.00105713041623, 163.03173383486086, 141.22349277968908, 129.23262467268628, 125.53908340251618, 124.79332227155288, 96.69391499546587, 93.94870355720639, 93.78133878767464, 89.42905881231005, 89.2796990300249, 87.6269278504181, 81.61368024490103, 77.75887494374301, 77.47235181849113, 76.61514011873754, 75.36537032686964, 64.56505807214424, 48.68112280664209, 48.453108333287794, 258.53283605743195, 72.86268213736182, 90.92074228285217, 1030.6969323396172, 958.8424508764031, 787.5919791705714, 509.01287875492943, 332.2941410220096, 251.24718319386955, 209.60600535855534, 178.43481338703674, 141.76298730368944, 117.79844541976642, 81.07043041095673, 78.91301746368912, 71.2119705035151, 68.70740910113948, 60.16428447619525, 56.173293657565175, 55.84699092564536, 51.99561172613392, 44.49816131250657, 40.044124295443766, 39.84836852687913, 38.49758307717946, 32.25270938395942, 29.36739015105863, 28.446678338829937, 21.561403133794276, 11.300283704919323, 4.825757865890183, 104.31578986977414, 1494.371407933942, 414.47132510575847, 61.67844019682386, 71.41479093244425, 221.70500813540858, 213.5124884586211, 184.79007161320294, 166.843803867428, 157.6933977313185, 149.07967251005476, 141.94235641629152, 137.18379660102661, 128.51303475176596, 118.10345201108387, 112.83705848599806, 110.06045658092387, 101.0269192745325, 98.25151176318572, 77.34620279798949, 71.9139053876595, 60.68472188171017, 52.205452505049216, 39.08190861727896, 38.46438109513132, 32.504025340614426, 23.200109317939297, 23.17477605388057, 21.512924317660477, 17.675408675492115, 7.017799366719188, 0.043281017764451944, 0.04327694381619131, 0.04327629299873058, 0.04327616621610836, 0.04327654656397502, 485.56958749972006, 237.77858694968492, 179.61303997900464, 151.21882240412702, 78.31983170680512, 67.01454747499507, 49.385879253046056, 48.861898801081814, 38.88293959320785, 31.286641001521513, 27.509206622406285, 26.396510613506198, 19.77593925856845, 18.570833332811198, 14.26086320151522, 12.921548380083724, 164.56019837761323, 44.54431762122285, 0.03406706126474267, 0.034066835376101244, 0.03406356772671299, 0.03405687461532399, 0.034056976729367375, 0.0340564444985958, 0.03405644140423085, 0.034056450687325705, 0.03405447648248697, 0.03405093652898303, 0.034050187692664886, 0.0340499153885492, 21.565814212957964, 0.03405038573202175, 36.5948116070913, 25.39014227481146, 10.042279426820807, 4.205754694029585, 0.010817654164298912, 0.010817671962926234, 0.010817295966924028, 0.010817287067610365, 0.010817222547586318, 0.010817222547586318, 0.010817222547586318, 0.01081722588482894, 0.010817223660000526, 0.010817150240662817, 0.010817173601361179, 0.010817154690319648, 0.010817082383396147, 0.010817091282709808, 0.010817125767550248, 0.010817010076472644, 0.010817010076472644, 0.010817010076472644, 0.010817010076472644, 0.010817007851644229, 0.010817007851644229, 0.010817004514401606, 0.010817087945467185, 0.010817007851644229, 0.010817008964058437, 0.010817010076472644, 0.01081705123579833, 0.010817273718639874, 0.010817302641409274, 0.010817307091066104, 0.010817238121385226, 0.010817238121385226, 0.01081720697378741, 0.010817174713775387, 0.010817081270981938, 0.010817116868236585, 0.010817159139976478, 0.010817142453763362, 0.010817181388260632, 0.010817148015834402, 0.010817111306165547, 0.010817138004106532], \"Total\": [36447.0, 16206.0, 14829.0, 13614.0, 10564.0, 12642.0, 8836.0, 6706.0, 6137.0, 2444.0, 2865.0, 2346.0, 4972.0, 10659.0, 7830.0, 8020.0, 5332.0, 1804.0, 2159.0, 4075.0, 8937.0, 1594.0, 4130.0, 1626.0, 2771.0, 2081.0, 3270.0, 2019.0, 5611.0, 3463.0, 7830.660813021361, 4412.102636188218, 2948.9818165488464, 2341.2575132617208, 2263.8490606250552, 2180.2332423416938, 2144.708581360671, 2080.4532154032736, 1938.1994525986418, 1906.2986225853065, 2027.4245434055235, 1492.8443053272122, 1407.8504253983917, 1347.8366260388061, 1325.284344562709, 1317.459534417826, 1302.5220626531038, 1269.2217297594611, 1212.4035545832523, 1107.0288682136932, 1054.131701079527, 988.4873313522656, 930.2820062797872, 921.2151935955478, 916.7325667722711, 914.3580619067775, 861.8192190324991, 827.3663543574879, 793.4962849999538, 787.118624881258, 5611.38362216171, 3123.3749280924944, 2020.991024910633, 10659.370382596648, 4788.315948908811, 2737.355360874111, 2229.2672723865585, 3782.438678767376, 1996.128574296883, 4780.612957621601, 5865.903486358995, 6560.778961806841, 2190.5954712994608, 2746.6808296154195, 8463.04710349204, 7524.642524904884, 4778.269117832928, 3367.9236064006545, 6656.644874707454, 6201.768405856564, 8291.446153562238, 4972.27392893824, 2747.8195046776477, 4645.558420815895, 8937.203241413103, 4280.882700793102, 4210.203183210849, 4110.986435584633, 4809.049516798895, 4428.65991055912, 4143.099253399849, 3463.1505916495003, 3018.3276998390043, 2102.8018071599067, 1791.2845973317924, 1761.1499559342894, 1624.906378596586, 1453.5630072192457, 1124.2498863402452, 1117.8460917425375, 1100.0786289662547, 1066.9655216499918, 1062.6855716081989, 1050.2740097681808, 1043.845872838042, 1028.42847216336, 993.8523805590926, 936.2574310920155, 905.0949369138043, 877.7347355044097, 870.3735733617702, 838.8832885799592, 801.3679818494215, 754.6970733798804, 741.2589283399, 691.7967152750551, 685.5751945956446, 675.2765281295817, 599.6534866882293, 598.3182263537202, 585.0756522894925, 1804.470938268086, 3434.5150382332995, 1007.3591241420391, 806.6865318419341, 1736.0702797916585, 1066.199254686468, 3780.6330370943065, 1257.4848908290544, 3047.7838783916545, 1618.4664379587084, 3410.6019189174785, 2272.2798475369755, 8937.203241413103, 3963.989069618567, 2172.7330614503094, 2113.030094333561, 2678.837134338652, 8020.926079413607, 2443.4692198821394, 4428.65991055912, 2354.8551282370568, 7524.642524904884, 8291.446153562238, 4143.099253399849, 13614.44318281846, 8463.04710349204, 6201.768405856564, 6029.350057426456, 4013.3795585286407, 2889.4223949082434, 2530.0278127603005, 1656.970548059669, 1510.684895559182, 1420.3244077464863, 1259.5090896641277, 1113.599667140599, 1027.4381380950954, 1001.9135165446584, 931.2303898723216, 860.812837284223, 843.6447746666109, 811.236416027559, 799.4193104484399, 784.1360862435542, 728.8860793150183, 723.1299334158718, 704.4392930675999, 648.6332992574505, 646.1316132373936, 608.2163053375892, 526.1118196829409, 508.6576998637833, 501.2853896084088, 481.33068247593724, 468.08195673217347, 431.1224632772985, 412.83395106029417, 1231.2777191052633, 390.8011893978717, 1488.1018225221035, 1155.2984172991708, 1629.5313236096965, 2790.9389343601124, 1500.3249030399031, 2401.703890734661, 1662.7183899279214, 5332.461489069927, 12642.758377670398, 2509.6868819614037, 2030.515844411846, 1753.7608047989984, 2231.1637372559944, 1882.3964948325718, 1905.945383066706, 1578.4484264381442, 2084.9190963584415, 4969.576180891833, 3249.7444710277914, 6029.350057426456, 3164.3071415983613, 4119.928138180746, 2394.3036542885216, 4809.049516798895, 3064.6193124174615, 10564.79657897992, 6706.722947765194, 6137.402637267422, 2291.8303780806523, 1582.8703923262276, 1443.0125016873142, 900.4648640283158, 852.6614470292665, 742.4581697661947, 702.7976321725662, 652.6202323612449, 607.3735771723098, 585.0128603466744, 580.2288405085358, 554.8600296871228, 541.160944523692, 532.9089573971477, 521.1433172554869, 475.9752762715861, 427.84602631605674, 424.17140132651514, 423.83182998605673, 401.6047900902359, 393.5002255348217, 384.35309009181725, 344.58282695905416, 320.5755362498635, 311.6650503590437, 289.4943634271398, 277.1151287724823, 16206.803437086846, 14829.222303282082, 1491.9506768793635, 3270.7434224836447, 588.1782897926048, 8836.41415866177, 13614.44318281846, 674.0090777025471, 3180.9427529037325, 1113.0723433958478, 1264.4458476951027, 1154.1176394207769, 3047.441750208435, 1495.8505026021357, 3249.7444710277914, 836.2001554474485, 6656.644874707454, 2159.1014100231755, 3778.486158638588, 3410.6019189174785, 4210.203183210849, 2771.4235565694644, 2019.05792129738, 1992.8379235418968, 1111.101520294069, 1033.12243899107, 846.970833482732, 767.1435707488712, 729.7704286385008, 699.1301301737715, 686.6391473289968, 635.6063887811573, 633.7733260922296, 631.470616049701, 628.4936440285048, 553.1720517641005, 534.3413695206257, 529.7489083452319, 508.66900004014565, 488.64041295082893, 473.226055724787, 464.3198923523389, 463.8562129186385, 459.799486029612, 455.3535666367288, 445.2804747926846, 437.54669629005326, 380.98314808241844, 380.45555500282484, 376.5733338890839, 368.99793275203615, 1208.2689426323873, 563.7352750732118, 2184.1546257235505, 1663.6210953823538, 2767.6647147891317, 906.4908341032229, 693.3086612710715, 4130.545626226502, 1477.990690092579, 3070.147011722614, 1696.4932581625458, 8020.926079413607, 1500.106679772481, 1285.3812652114536, 891.9297290919446, 1055.2856177982626, 1617.976919243963, 924.8348380693387, 2033.5086750323565, 8291.446153562238, 974.8318168725987, 1981.5778235449834, 36447.25543608357, 2081.943977166585, 984.5738596427693, 807.1916580338395, 553.4149578851957, 495.8586390640829, 443.19630940989066, 430.77505461778605, 408.0231315150042, 397.1055869103083, 386.2474324647478, 370.1052172461312, 340.02524712320377, 337.0761978924629, 334.6732966885096, 284.1252832626373, 280.95760310957115, 255.3399112072722, 241.08820640497024, 231.52092275429456, 217.33750994271907, 208.08947200554888, 199.52846939773104, 193.35045957069974, 192.48281387737705, 180.1851520671516, 164.77445470222315, 154.80613338528107, 153.3900202468953, 150.98474611663778, 2865.202628986898, 1557.4592456973805, 1225.8277513165183, 944.2112788557754, 795.884313382524, 744.4506762771103, 739.9495301282874, 537.5906969312639, 513.5667501571083, 471.5946084739576, 465.6609859072242, 415.27496826672274, 399.5152600451468, 377.6024609992373, 373.9746724036022, 372.8996456094617, 359.47790394480023, 355.6486035671905, 354.2113230057591, 270.37845387760825, 251.0695822902653, 237.4978618962528, 209.11173488410256, 187.7458343844947, 184.6869961468721, 160.8226494890202, 154.62766018098063, 141.87486342172593, 117.32235534193161, 111.8409535076443, 556.1956559083453, 644.616214329278, 891.0873327667701, 673.1962317806989, 851.9068424149415, 1365.9474341033072, 442.95668487635794, 4075.139473260773, 2019.7345733155526, 1388.9215816099788, 2030.515844411846, 750.8997851608591, 707.9338860470433, 677.6520467652309, 582.3352706040868, 557.0853097924962, 501.89765139381166, 460.59345053404866, 445.36789113728236, 408.31145719099896, 363.52717604242156, 361.1371005515438, 349.34716786204353, 347.34725656652824, 279.4391587059569, 278.3157729934356, 259.6821542568757, 206.73275486417623, 202.17046671425652, 201.1804884134979, 200.88638310963856, 193.78719763436604, 191.25545620989448, 172.76217716298677, 172.75155389783848, 161.35548779170477, 155.16236755792636, 146.30287586010164, 142.69275612343617, 142.6549116150038, 139.06346614549855, 297.6700431949572, 912.8599799030342, 554.3617481725518, 498.7309112139005, 408.1010286523178, 1055.2856177982626, 302.41359755669714, 342.68374922306236, 1372.6096126450714, 8020.926079413607, 1626.248369783428, 1519.4259692835906, 718.6475611746512, 675.4715306771927, 549.7581108611205, 507.83669425958203, 502.5835555373115, 410.23057098442706, 405.07372805321637, 393.74724926164225, 377.99825864992727, 325.4918754653205, 282.3673022266814, 229.9004366341017, 225.6159877429847, 224.23773797724155, 219.86936554340915, 208.54353560987263, 208.3974264313473, 169.62582524903985, 158.5351651596289, 145.19869562758927, 139.82082872946657, 125.81177025772662, 123.48104227348861, 115.72752232795047, 101.94242945502491, 101.34448489468951, 98.99144577239245, 91.91139079098292, 1372.6096126450714, 1248.762472838672, 578.0072159470519, 330.7052761683856, 363.0045320027588, 552.0115533524897, 1031.6134347861316, 641.4535990984699, 975.281059323155, 2172.7330614503094, 776.6500031861717, 811.6133039959612, 642.4676468210787, 467.50639332306736, 436.15186925574295, 359.921824469509, 358.9195779204404, 352.94967637727666, 349.95744053215384, 336.0168701709682, 292.2024087199661, 276.76759992429436, 273.7855265848032, 266.02367990903394, 251.2732355732917, 238.02143731348562, 226.4193256611807, 222.75766141451422, 194.9633926992307, 186.11079753546622, 177.0996272777762, 162.67594676574492, 154.09130259454824, 139.01233969706144, 138.74951154159552, 122.34449064655011, 118.88941974627707, 116.59669233808329, 106.59877716511849, 105.13172477931838, 100.09210043191635, 99.46844490656274, 1594.410850565485, 2159.1014100231755, 787.6185556795003, 225.72192229136, 497.6316735755952, 526.4934911259678, 373.0894115666956, 4972.27392893824, 511.69570807093845, 1241.309327286324, 1136.4675083169861, 1115.7036845727685, 804.6632674562328, 749.7754794340804, 374.09553698974, 359.2377552479055, 330.95479572909784, 316.45734534530743, 314.7088599222191, 199.143132068002, 179.8644024009873, 166.14232578388996, 159.97843639663537, 146.18770741310647, 143.73468899557858, 138.44188126973935, 133.4284405904615, 124.23260027554183, 111.30167036477485, 100.2850125305326, 98.69420039917479, 98.19435983842025, 96.8259989739574, 92.462996170952, 84.04513137302878, 83.91889869504834, 81.05728977240011, 76.34764554632496, 73.48766580450093, 304.78584202203126, 1098.3956698505779, 316.40201813137037, 1525.4893448414973, 837.9913200593103, 497.6316735755952, 803.5689283296109, 1150.0605731428943, 1084.2656335930126, 346.5840541161898, 624.1196534929861, 943.6437501192115, 636.2725055356048, 440.6270946249584, 416.228812666206, 402.86099686646423, 333.11346125567667, 284.27379638862806, 274.2238564780288, 268.041256861324, 263.30465759528954, 249.6137559837901, 241.8426621801586, 241.06731949057317, 211.7984225863961, 198.22460702090927, 183.51755574867838, 174.83531319168029, 172.17748435393102, 172.0857007200665, 160.7561873466616, 144.3817332878024, 136.6135357089424, 135.5976361510091, 133.24866217869973, 127.45237793094438, 125.0982960607426, 122.78223361587968, 121.3063100295828, 112.62327756129795, 112.30627388116756, 214.67916190114352, 296.72775668959065, 231.97335027690752, 688.8460356971486, 2444.060964050796, 462.01515824128234, 414.7029713146502, 382.3729337670173, 377.83338831802354, 286.39889884555913, 282.4353309669695, 261.52777901045437, 256.2980494645124, 253.58516025425612, 216.35172694086378, 211.83459038471634, 197.92365422402793, 189.72485411127093, 178.48325800318204, 178.30647229013957, 160.47903862917417, 151.98116839373557, 127.81945682429783, 117.10703976885684, 109.73188037495122, 108.55910208243306, 106.00257042740094, 87.43262634074505, 84.83268142281196, 79.42403010851109, 72.5741078640729, 71.01229356602126, 57.720437574871916, 56.19294214198367, 562.963130488305, 569.8771190678217, 2019.7345733155526, 991.5454649614362, 1663.6210953823538, 912.8599799030342, 1017.311927272531, 741.7384305730378, 684.7756394808647, 660.089822302982, 518.2708304059986, 433.7991070124801, 408.93189418845077, 389.7363878814169, 339.9912698262112, 198.75440297348504, 197.21370738704118, 187.95974498092207, 156.53144251576674, 142.63891538976512, 117.8705452902065, 117.35409360710239, 115.081327683668, 113.57927269591396, 104.65654490249126, 104.17416610486563, 96.97779018998402, 89.91839594870201, 84.09074495394329, 83.46962124535362, 64.83473581354407, 64.69698857215276, 62.30753369399308, 58.97633765943932, 56.7202187070026, 54.98048876207332, 1365.9474341033072, 235.29156968636158, 405.99132862730374, 1308.4141360093668, 1100.0390130142164, 2184.1546257235505, 1663.6210953823538, 466.80993090448055, 820.5796273280608, 524.190922731652, 499.94135462791974, 343.4960827830186, 327.13542651477314, 313.2608047411815, 294.53890055902536, 286.52030522082816, 270.5582496697477, 248.49826881291625, 225.8438586736311, 211.7367908824617, 210.17924918184863, 204.10834234539, 200.60741220216494, 200.4015826181625, 180.63032150165506, 179.99329374884098, 179.22054051248622, 169.3024221329332, 158.8931606826656, 148.39743550818616, 140.34883733065223, 124.14432264088147, 111.88812532434238, 107.00334846217943, 101.49583873103289, 86.91249542098761, 85.41735915087155, 85.22392417603038, 394.5982200318805, 283.6389173620069, 140.77010120945513, 2019.7345733155526, 761.1542418524344, 1804.099000610473, 735.2744338591691, 487.3982127267976, 301.7676204146593, 227.99073933179437, 227.6511735520829, 223.6303888441482, 208.7765061071507, 192.94569919971607, 172.37509695602444, 170.19577812665958, 164.22645485962894, 142.41821384947073, 130.42734584630998, 126.73380441437928, 125.988043261387, 97.8886359853, 95.14342456148717, 94.97605979139158, 90.62377981734939, 90.47442001985902, 88.82164884025222, 82.80840123473516, 78.9535959444899, 78.66707283367921, 77.80986111420373, 76.56009139938489, 65.75977906197836, 49.87584385840589, 49.64782933348883, 519.5758267800978, 203.1269883090188, 992.8118643612764, 1031.8868555347199, 960.0323740779916, 788.7819023625799, 510.2028019469378, 333.4840642300072, 252.43710645340747, 210.79592856646485, 179.62473657904513, 142.952910527154, 118.98836861177483, 82.26035361429406, 80.1029406996433, 72.40189370599343, 69.89733230272789, 61.35420766820366, 57.36321694355031, 57.03691412812368, 53.18553491814233, 45.688084504514975, 41.23404748745217, 41.038291718887535, 39.687506328381964, 33.44263257596783, 30.557313343067037, 29.636601530838345, 22.751326325802683, 12.490206900988422, 6.015681057898592, 159.80431257720318, 2346.8949781293218, 753.8443297059215, 470.1086821758387, 693.3086612710715, 222.91457023361693, 214.72205055682946, 185.99963373284064, 168.05336596563635, 158.9029598326212, 150.2892346178431, 143.15191851449987, 138.39335869923497, 129.7225968659635, 119.31301413652226, 114.04662059665537, 111.2700186831929, 102.23648137274085, 99.46107387142659, 78.55576491549485, 73.12346751519237, 61.89428397991851, 53.41501460922438, 40.29147072675504, 39.67394319333967, 33.71358743882277, 24.409671416147642, 24.384338152088915, 22.72248642078852, 18.88497078965043, 8.227361464927533, 1.2528869618422376, 1.2528823691925828, 1.2528743986950466, 1.252871730242558, 1.2529837427867687, 486.78837360141694, 238.99737305138183, 180.8318260929204, 152.43760850582393, 79.53861780850202, 68.23333357669198, 50.60466535880366, 50.080684906839416, 40.10172574135204, 32.50542711219881, 28.727992724103196, 27.615296876988403, 20.99472537317034, 19.789619492214335, 15.47964934346289, 14.140334481780632, 258.12835888018134, 400.54615675029686, 1.2528996228778955, 1.252891639361957, 1.2528850005344752, 1.2528672194691037, 1.2528719402094575, 1.2528656502099875, 1.2528655504373143, 1.2528671257652493, 1.252863360422079, 1.2528565103053197, 1.2528538514207637, 1.2528504686302195, 823.1723076391593, 1.2528917439670662, 37.83682340970577, 26.632154068079522, 11.284291219754103, 5.44776653373274, 1.252831716329457, 1.2528418820052274, 1.2528339374900532, 1.2528362240745576, 1.2528299357950592, 1.2528303108163286, 1.2528303416723086, 1.252834901840416, 1.2528368027180892, 1.2528316056238047, 1.2528349786597803, 1.2528328778479385, 1.2528338301404625, 1.2528368117410142, 1.2528431114645795, 1.2528303172591273, 1.2528303172591273, 1.2528303172591273, 1.2528303172591273, 1.2528304143293478, 1.2528304143293478, 1.2528302260309143, 1.2528422667289678, 1.2528332833866633, 1.252835087887805, 1.2528358463949456, 1.2528411404667397, 1.2528722583230723, 1.2528764883804413, 1.2528793438278127, 1.2528688827279726, 1.2528688827279726, 1.252866970255432, 1.2528631394588445, 1.2528454349755738, 1.2528536369827945, 1.252863025444383, 1.2528602283819013, 1.2528801283993276, 1.2528764336754115, 1.252857386070358, 1.2528939187213635], \"Category\": [\"Default\", \"Default\", \"Default\", \"Default\", \"Default\", \"Default\", \"Default\", \"Default\", \"Default\", \"Default\", \"Default\", \"Default\", \"Default\", \"Default\", \"Default\", \"Default\", \"Default\", \"Default\", \"Default\", \"Default\", \"Default\", \"Default\", \"Default\", \"Default\", \"Default\", \"Default\", \"Default\", \"Default\", \"Default\", \"Default\", \"Topic1\", \"Topic1\", \"Topic1\", \"Topic1\", \"Topic1\", \"Topic1\", \"Topic1\", \"Topic1\", \"Topic1\", \"Topic1\", \"Topic1\", \"Topic1\", \"Topic1\", \"Topic1\", \"Topic1\", \"Topic1\", \"Topic1\", \"Topic1\", \"Topic1\", \"Topic1\", \"Topic1\", \"Topic1\", \"Topic1\", \"Topic1\", \"Topic1\", \"Topic1\", \"Topic1\", \"Topic1\", \"Topic1\", \"Topic1\", \"Topic1\", \"Topic1\", \"Topic1\", \"Topic1\", \"Topic1\", \"Topic1\", \"Topic1\", \"Topic1\", \"Topic1\", \"Topic1\", \"Topic1\", \"Topic1\", \"Topic1\", \"Topic1\", \"Topic1\", \"Topic1\", \"Topic1\", \"Topic1\", \"Topic1\", \"Topic1\", \"Topic1\", \"Topic1\", \"Topic1\", \"Topic1\", \"Topic1\", \"Topic1\", \"Topic1\", \"Topic1\", \"Topic1\", \"Topic1\", \"Topic1\", \"Topic2\", \"Topic2\", \"Topic2\", \"Topic2\", \"Topic2\", \"Topic2\", \"Topic2\", \"Topic2\", \"Topic2\", \"Topic2\", \"Topic2\", \"Topic2\", \"Topic2\", \"Topic2\", \"Topic2\", \"Topic2\", \"Topic2\", \"Topic2\", \"Topic2\", \"Topic2\", \"Topic2\", \"Topic2\", \"Topic2\", \"Topic2\", \"Topic2\", \"Topic2\", \"Topic2\", \"Topic2\", \"Topic2\", \"Topic2\", \"Topic2\", \"Topic2\", \"Topic2\", \"Topic2\", \"Topic2\", \"Topic2\", \"Topic2\", \"Topic2\", \"Topic2\", \"Topic2\", \"Topic2\", \"Topic2\", \"Topic2\", \"Topic2\", \"Topic2\", \"Topic2\", \"Topic2\", \"Topic2\", \"Topic2\", \"Topic2\", \"Topic2\", \"Topic2\", \"Topic2\", \"Topic2\", \"Topic2\", \"Topic2\", \"Topic2\", \"Topic2\", \"Topic2\", \"Topic3\", \"Topic3\", \"Topic3\", \"Topic3\", \"Topic3\", \"Topic3\", \"Topic3\", \"Topic3\", \"Topic3\", \"Topic3\", \"Topic3\", \"Topic3\", \"Topic3\", \"Topic3\", \"Topic3\", \"Topic3\", \"Topic3\", \"Topic3\", \"Topic3\", \"Topic3\", \"Topic3\", \"Topic3\", \"Topic3\", \"Topic3\", \"Topic3\", \"Topic3\", \"Topic3\", \"Topic3\", \"Topic3\", \"Topic3\", \"Topic3\", \"Topic3\", \"Topic3\", \"Topic3\", \"Topic3\", \"Topic3\", \"Topic3\", \"Topic3\", \"Topic3\", \"Topic3\", \"Topic3\", \"Topic3\", \"Topic3\", \"Topic3\", \"Topic3\", \"Topic3\", \"Topic3\", \"Topic3\", \"Topic3\", \"Topic3\", \"Topic3\", \"Topic3\", \"Topic3\", \"Topic3\", \"Topic3\", \"Topic4\", \"Topic4\", \"Topic4\", \"Topic4\", \"Topic4\", \"Topic4\", \"Topic4\", \"Topic4\", \"Topic4\", \"Topic4\", \"Topic4\", \"Topic4\", \"Topic4\", \"Topic4\", \"Topic4\", \"Topic4\", \"Topic4\", \"Topic4\", \"Topic4\", \"Topic4\", \"Topic4\", \"Topic4\", \"Topic4\", \"Topic4\", \"Topic4\", \"Topic4\", \"Topic4\", \"Topic4\", \"Topic4\", \"Topic4\", \"Topic4\", \"Topic4\", \"Topic4\", \"Topic4\", \"Topic4\", \"Topic4\", \"Topic4\", \"Topic4\", \"Topic4\", \"Topic4\", \"Topic4\", \"Topic4\", \"Topic4\", \"Topic4\", \"Topic4\", \"Topic4\", \"Topic4\", \"Topic4\", \"Topic4\", \"Topic4\", \"Topic4\", \"Topic5\", \"Topic5\", \"Topic5\", \"Topic5\", \"Topic5\", \"Topic5\", \"Topic5\", \"Topic5\", \"Topic5\", \"Topic5\", \"Topic5\", \"Topic5\", \"Topic5\", \"Topic5\", \"Topic5\", \"Topic5\", \"Topic5\", \"Topic5\", \"Topic5\", \"Topic5\", \"Topic5\", \"Topic5\", \"Topic5\", \"Topic5\", \"Topic5\", \"Topic5\", \"Topic5\", \"Topic5\", \"Topic5\", \"Topic5\", \"Topic5\", \"Topic5\", \"Topic5\", \"Topic5\", \"Topic5\", \"Topic5\", \"Topic5\", \"Topic5\", \"Topic5\", \"Topic5\", \"Topic5\", \"Topic5\", \"Topic5\", \"Topic5\", \"Topic5\", \"Topic5\", \"Topic5\", \"Topic5\", \"Topic5\", \"Topic5\", \"Topic5\", \"Topic5\", \"Topic6\", \"Topic6\", \"Topic6\", \"Topic6\", \"Topic6\", \"Topic6\", \"Topic6\", \"Topic6\", \"Topic6\", \"Topic6\", \"Topic6\", \"Topic6\", \"Topic6\", \"Topic6\", \"Topic6\", \"Topic6\", \"Topic6\", \"Topic6\", \"Topic6\", \"Topic6\", \"Topic6\", \"Topic6\", \"Topic6\", \"Topic6\", \"Topic6\", \"Topic6\", \"Topic6\", \"Topic6\", \"Topic6\", \"Topic6\", \"Topic7\", \"Topic7\", \"Topic7\", \"Topic7\", \"Topic7\", \"Topic7\", \"Topic7\", \"Topic7\", \"Topic7\", \"Topic7\", \"Topic7\", \"Topic7\", \"Topic7\", \"Topic7\", \"Topic7\", \"Topic7\", \"Topic7\", \"Topic7\", \"Topic7\", \"Topic7\", \"Topic7\", \"Topic7\", \"Topic7\", \"Topic7\", \"Topic7\", \"Topic7\", \"Topic7\", \"Topic7\", \"Topic7\", \"Topic7\", \"Topic7\", \"Topic7\", \"Topic7\", \"Topic7\", \"Topic7\", \"Topic7\", \"Topic7\", \"Topic7\", \"Topic7\", \"Topic7\", \"Topic7\", \"Topic8\", \"Topic8\", \"Topic8\", \"Topic8\", \"Topic8\", \"Topic8\", \"Topic8\", \"Topic8\", \"Topic8\", \"Topic8\", \"Topic8\", \"Topic8\", \"Topic8\", \"Topic8\", \"Topic8\", \"Topic8\", \"Topic8\", \"Topic8\", \"Topic8\", \"Topic8\", \"Topic8\", \"Topic8\", \"Topic8\", \"Topic8\", \"Topic8\", \"Topic8\", \"Topic8\", \"Topic8\", \"Topic8\", \"Topic8\", \"Topic8\", \"Topic8\", \"Topic8\", \"Topic8\", \"Topic8\", \"Topic8\", \"Topic8\", \"Topic8\", \"Topic8\", \"Topic8\", \"Topic9\", \"Topic9\", \"Topic9\", \"Topic9\", \"Topic9\", \"Topic9\", \"Topic9\", \"Topic9\", \"Topic9\", \"Topic9\", \"Topic9\", \"Topic9\", \"Topic9\", \"Topic9\", \"Topic9\", \"Topic9\", \"Topic9\", \"Topic9\", \"Topic9\", \"Topic9\", \"Topic9\", \"Topic9\", \"Topic9\", \"Topic9\", \"Topic9\", \"Topic9\", \"Topic9\", \"Topic9\", \"Topic9\", \"Topic9\", \"Topic9\", \"Topic9\", \"Topic9\", \"Topic9\", \"Topic9\", \"Topic9\", \"Topic9\", \"Topic9\", \"Topic9\", \"Topic9\", \"Topic9\", \"Topic9\", \"Topic10\", \"Topic10\", \"Topic10\", \"Topic10\", \"Topic10\", \"Topic10\", \"Topic10\", \"Topic10\", \"Topic10\", \"Topic10\", \"Topic10\", \"Topic10\", \"Topic10\", \"Topic10\", \"Topic10\", \"Topic10\", \"Topic10\", \"Topic10\", \"Topic10\", \"Topic10\", \"Topic10\", \"Topic10\", \"Topic10\", \"Topic10\", \"Topic10\", \"Topic10\", \"Topic10\", \"Topic10\", \"Topic10\", \"Topic10\", \"Topic10\", \"Topic10\", \"Topic10\", \"Topic10\", \"Topic10\", \"Topic10\", \"Topic10\", \"Topic10\", \"Topic10\", \"Topic11\", \"Topic11\", \"Topic11\", \"Topic11\", \"Topic11\", \"Topic11\", \"Topic11\", \"Topic11\", \"Topic11\", \"Topic11\", \"Topic11\", \"Topic11\", \"Topic11\", \"Topic11\", \"Topic11\", \"Topic11\", \"Topic11\", \"Topic11\", \"Topic11\", \"Topic11\", \"Topic11\", \"Topic11\", \"Topic11\", \"Topic11\", \"Topic11\", \"Topic11\", \"Topic11\", \"Topic11\", \"Topic11\", \"Topic11\", \"Topic11\", \"Topic11\", \"Topic11\", \"Topic11\", \"Topic11\", \"Topic11\", \"Topic11\", \"Topic11\", \"Topic11\", \"Topic11\", \"Topic11\", \"Topic12\", \"Topic12\", \"Topic12\", \"Topic12\", \"Topic12\", \"Topic12\", \"Topic12\", \"Topic12\", \"Topic12\", \"Topic12\", \"Topic12\", \"Topic12\", \"Topic12\", \"Topic12\", \"Topic12\", \"Topic12\", \"Topic12\", \"Topic12\", \"Topic12\", \"Topic12\", \"Topic12\", \"Topic12\", \"Topic12\", \"Topic12\", \"Topic12\", \"Topic12\", \"Topic12\", \"Topic12\", \"Topic12\", \"Topic12\", \"Topic12\", \"Topic12\", \"Topic12\", \"Topic12\", \"Topic13\", \"Topic13\", \"Topic13\", \"Topic13\", \"Topic13\", \"Topic13\", \"Topic13\", \"Topic13\", \"Topic13\", \"Topic13\", \"Topic13\", \"Topic13\", \"Topic13\", \"Topic13\", \"Topic13\", \"Topic13\", \"Topic13\", \"Topic13\", \"Topic13\", \"Topic13\", \"Topic13\", \"Topic13\", \"Topic13\", \"Topic13\", \"Topic13\", \"Topic13\", \"Topic13\", \"Topic13\", \"Topic13\", \"Topic13\", \"Topic13\", \"Topic13\", \"Topic13\", \"Topic13\", \"Topic13\", \"Topic13\", \"Topic14\", \"Topic14\", \"Topic14\", \"Topic14\", \"Topic14\", \"Topic14\", \"Topic14\", \"Topic14\", \"Topic14\", \"Topic14\", \"Topic14\", \"Topic14\", \"Topic14\", \"Topic14\", \"Topic14\", \"Topic14\", \"Topic14\", \"Topic14\", \"Topic14\", \"Topic14\", \"Topic14\", \"Topic14\", \"Topic14\", \"Topic14\", \"Topic14\", \"Topic14\", \"Topic14\", \"Topic14\", \"Topic14\", \"Topic14\", \"Topic14\", \"Topic14\", \"Topic14\", \"Topic14\", \"Topic14\", \"Topic14\", \"Topic14\", \"Topic14\", \"Topic15\", \"Topic15\", \"Topic15\", \"Topic15\", \"Topic15\", \"Topic15\", \"Topic15\", \"Topic15\", \"Topic15\", \"Topic15\", \"Topic15\", \"Topic15\", \"Topic15\", \"Topic15\", \"Topic15\", \"Topic15\", \"Topic15\", \"Topic15\", \"Topic15\", \"Topic15\", \"Topic15\", \"Topic15\", \"Topic15\", \"Topic15\", \"Topic15\", \"Topic15\", \"Topic15\", \"Topic15\", \"Topic15\", \"Topic15\", \"Topic15\", \"Topic15\", \"Topic15\", \"Topic15\", \"Topic15\", \"Topic16\", \"Topic16\", \"Topic16\", \"Topic16\", \"Topic16\", \"Topic16\", \"Topic16\", \"Topic16\", \"Topic16\", \"Topic16\", \"Topic16\", \"Topic16\", \"Topic16\", \"Topic16\", \"Topic16\", \"Topic16\", \"Topic16\", \"Topic16\", \"Topic16\", \"Topic16\", \"Topic16\", \"Topic16\", \"Topic16\", \"Topic16\", \"Topic16\", \"Topic16\", \"Topic16\", \"Topic16\", \"Topic16\", \"Topic16\", \"Topic16\", \"Topic16\", \"Topic16\", \"Topic17\", \"Topic17\", \"Topic17\", \"Topic17\", \"Topic17\", \"Topic17\", \"Topic17\", \"Topic17\", \"Topic17\", \"Topic17\", \"Topic17\", \"Topic17\", \"Topic17\", \"Topic17\", \"Topic17\", \"Topic17\", \"Topic17\", \"Topic17\", \"Topic17\", \"Topic17\", \"Topic17\", \"Topic17\", \"Topic17\", \"Topic17\", \"Topic17\", \"Topic17\", \"Topic17\", \"Topic17\", \"Topic17\", \"Topic17\", \"Topic17\", \"Topic17\", \"Topic17\", \"Topic18\", \"Topic18\", \"Topic18\", \"Topic18\", \"Topic18\", \"Topic18\", \"Topic18\", \"Topic18\", \"Topic18\", \"Topic18\", \"Topic18\", \"Topic18\", \"Topic18\", \"Topic18\", \"Topic18\", \"Topic18\", \"Topic18\", \"Topic18\", \"Topic18\", \"Topic18\", \"Topic18\", \"Topic18\", \"Topic18\", \"Topic18\", \"Topic18\", \"Topic18\", \"Topic18\", \"Topic18\", \"Topic18\", \"Topic18\", \"Topic18\", \"Topic19\", \"Topic19\", \"Topic19\", \"Topic19\", \"Topic19\", \"Topic19\", \"Topic19\", \"Topic19\", \"Topic19\", \"Topic19\", \"Topic19\", \"Topic19\", \"Topic19\", \"Topic19\", \"Topic19\", \"Topic19\", \"Topic19\", \"Topic19\", \"Topic19\", \"Topic19\", \"Topic19\", \"Topic19\", \"Topic19\", \"Topic19\", \"Topic19\", \"Topic19\", \"Topic19\", \"Topic19\", \"Topic19\", \"Topic19\", \"Topic19\", \"Topic19\", \"Topic20\", \"Topic20\", \"Topic20\", \"Topic20\", \"Topic20\", \"Topic20\", \"Topic20\", \"Topic20\", \"Topic20\", \"Topic20\", \"Topic20\", \"Topic20\", \"Topic20\", \"Topic20\", \"Topic20\", \"Topic20\", \"Topic20\", \"Topic20\", \"Topic20\", \"Topic20\", \"Topic20\", \"Topic20\", \"Topic20\", \"Topic20\", \"Topic20\", \"Topic20\", \"Topic20\", \"Topic20\", \"Topic20\", \"Topic20\", \"Topic20\", \"Topic20\", \"Topic20\", \"Topic20\", \"Topic20\", \"Topic20\", \"Topic20\", \"Topic20\", \"Topic20\", \"Topic20\", \"Topic20\", \"Topic20\", \"Topic20\", \"Topic20\", \"Topic20\", \"Topic20\"], \"logprob\": [30.0, 29.0, 28.0, 27.0, 26.0, 25.0, 24.0, 23.0, 22.0, 21.0, 20.0, 19.0, 18.0, 17.0, 16.0, 15.0, 14.0, 13.0, 12.0, 11.0, 10.0, 9.0, 8.0, 7.0, 6.0, 5.0, 4.0, 3.0, 2.0, 1.0, -3.8796, -4.4534, -4.8564, -5.0873, -5.1209, -5.1586, -5.175, -5.2054, -5.2763, -5.2929, -5.2314, -5.5376, -5.5962, -5.6398, -5.6567, -5.6626, -5.6741, -5.7, -5.7458, -5.8368, -5.8859, -5.9502, -6.011, -6.0208, -6.0257, -6.0283, -6.0875, -6.1284, -6.1702, -6.1783, -4.2189, -4.8001, -5.2448, -3.6433, -4.4259, -4.9797, -5.1771, -4.6759, -5.2924, -4.483, -4.296, -4.1941, -5.208, -5.0069, -4.0156, -4.1656, -4.5738, -4.8694, -4.3171, -4.3838, -4.1735, -4.5735, -5.0386, -4.716, -4.3124, -4.7836, -4.8822, -4.8942, -4.8395, -4.8946, -5.0006, -4.105, -4.2425, -4.6041, -4.7645, -4.7815, -4.8621, -4.9736, -5.2308, -5.2365, -5.2525, -5.2831, -5.2871, -5.2989, -5.305, -5.3199, -5.3542, -5.4139, -5.4478, -5.4786, -5.487, -5.5239, -5.5697, -5.6298, -5.6478, -5.717, -5.726, -5.7412, -5.8602, -5.8624, -5.8849, -4.7763, -4.1526, -5.3712, -5.5833, -4.9853, -5.3767, -4.4103, -5.2525, -4.6078, -5.0725, -4.5439, -4.8749, -4.0073, -4.5544, -4.9591, -4.9991, -4.8962, -4.5265, -5.0478, -4.9071, -5.0976, -4.8511, -4.8335, -4.9904, -4.814, -4.8973, -4.9602, -5.0196, -5.069, -4.0665, -4.1994, -4.6229, -4.7153, -4.7771, -4.8973, -5.0206, -5.1012, -5.1264, -5.1996, -5.2784, -5.2985, -5.3378, -5.3525, -5.3718, -5.445, -5.4529, -5.4792, -5.5618, -5.5657, -5.6263, -5.7716, -5.8054, -5.8201, -5.8608, -5.8888, -5.9712, -6.0147, -4.922, -6.0697, -4.7346, -4.9866, -4.6481, -4.1223, -4.745, -4.2846, -4.6478, -3.5511, -2.804, -4.3749, -4.5758, -4.7093, -4.5095, -4.6558, -4.7107, -4.8796, -4.7378, -4.2239, -4.6233, -4.3382, -4.6371, -4.5699, -4.7993, -4.6355, -4.7528, -2.6931, -3.1476, -3.2363, -4.2217, -4.592, -4.6846, -5.1567, -5.2113, -5.3499, -5.4049, -5.4791, -5.5511, -5.5886, -5.5969, -5.6417, -5.6667, -5.6821, -5.7045, -5.7954, -5.9023, -5.9109, -5.9117, -5.9657, -5.9862, -6.0098, -6.1194, -6.1918, -6.2201, -6.2942, -6.3381, -2.2745, -2.375, -4.6559, -3.8806, -5.5909, -2.9445, -2.612, -5.4813, -4.1037, -5.0653, -4.9885, -5.0922, -4.5923, -5.1841, -4.9282, -5.5004, -4.885, -5.2654, -5.1752, -5.2595, -5.2783, -3.7856, -4.1024, -4.1155, -4.7002, -4.773, -4.972, -5.0711, -5.1211, -5.1641, -5.1822, -5.2595, -5.2624, -5.2661, -5.2708, -5.3987, -5.4334, -5.4421, -5.4828, -5.523, -5.5552, -5.5742, -5.5752, -5.584, -5.5938, -5.6162, -5.6338, -5.7726, -5.774, -5.7843, -5.8047, -4.6212, -5.386, -4.1887, -4.4744, -4.0667, -5.0546, -5.2813, -3.9632, -4.7237, -4.2028, -4.6776, -3.622, -4.8021, -4.9956, -5.1848, -5.1124, -4.9823, -5.2119, -5.0929, -5.0564, -5.2279, -5.1898, -0.4573, -3.3204, -4.0699, -4.2688, -4.6469, -4.7569, -4.8695, -4.898, -4.9524, -4.9796, -5.0074, -5.0502, -5.1352, -5.144, -5.1511, -5.3155, -5.3267, -5.4228, -5.4805, -5.5211, -5.5847, -5.6284, -5.6706, -5.7023, -5.7068, -5.7732, -5.8632, -5.9261, -5.9353, -5.9512, -2.2867, -2.8966, -3.1363, -3.3976, -3.5687, -3.6356, -3.6417, -3.9618, -4.0076, -4.0931, -4.1058, -4.2206, -4.2594, -4.316, -4.3257, -4.3286, -4.3653, -4.3761, -4.3801, -4.6513, -4.7257, -4.7815, -4.9095, -5.018, -5.0345, -5.1738, -5.2134, -5.3002, -5.492, -5.5403, -3.9839, -3.929, -3.9109, -4.15, -4.0429, -3.9125, -4.7235, -3.9718, -4.3428, -4.5078, -4.5639, -3.4977, -3.5567, -3.6005, -3.7524, -3.7968, -3.9014, -3.9875, -4.0212, -4.1083, -4.2248, -4.2314, -4.2647, -4.2705, -4.4889, -4.4929, -4.5625, -4.7917, -4.8142, -4.8191, -4.8206, -4.8568, -4.87, -4.9724, -4.9724, -5.0412, -5.0806, -5.1398, -5.165, -5.1653, -5.191, -4.5245, -3.6702, -4.1378, -4.364, -4.659, -4.3516, -4.8329, -4.8154, -4.6373, -4.6597, -2.6597, -2.7277, -3.4773, -3.5393, -3.7457, -3.8252, -3.8356, -4.0392, -4.0518, -4.0803, -4.1212, -4.2713, -4.414, -4.6205, -4.6394, -4.6456, -4.6654, -4.7185, -4.7192, -4.9264, -4.9945, -5.0831, -5.1211, -5.2277, -5.2465, -5.312, -5.4403, -5.4462, -5.47, -5.5451, -3.0216, -3.1554, -3.999, -4.5064, -4.5267, -4.4372, -4.1278, -4.4258, -4.3022, -4.0811, -4.4663, -4.5146, -3.3268, -3.6454, -3.715, -3.9077, -3.9105, -3.9273, -3.9359, -3.9767, -4.1169, -4.1714, -4.1823, -4.2112, -4.2685, -4.3229, -4.3732, -4.3896, -4.5236, -4.5704, -4.6203, -4.7059, -4.7605, -4.8643, -4.8662, -4.9932, -5.0222, -5.0418, -5.1325, -5.1465, -5.1962, -5.2025, -2.5201, -2.5814, -4.028, -4.7365, -4.3385, -4.4655, -4.609, -3.8983, -4.7582, -2.6416, -2.7299, -2.7484, -3.0756, -3.1464, -3.8433, -3.8839, -3.9662, -4.0112, -4.0167, -4.4766, -4.579, -4.6589, -4.697, -4.7879, -4.8049, -4.8428, -4.88, -4.9521, -5.0631, -5.1685, -5.1847, -5.1898, -5.204, -5.2507, -5.3475, -5.349, -5.3842, -5.445, -5.4838, -4.0834, -2.8588, -4.216, -3.0418, -3.7653, -4.1912, -4.3927, -4.4874, -4.8023, -4.9912, -4.9947, -2.7079, -3.1027, -3.4709, -3.5281, -3.5608, -3.7515, -3.9107, -3.9468, -3.9697, -3.9876, -4.0413, -4.0731, -4.0763, -4.2064, -4.273, -4.3506, -4.3994, -4.4148, -4.4154, -4.484, -4.5922, -4.648, -4.6555, -4.6732, -4.7181, -4.7369, -4.7557, -4.768, -4.843, -4.8458, -4.2391, -3.9597, -4.3972, -4.3972, -1.7387, -3.4067, -3.515, -3.5964, -3.6084, -3.8865, -3.9004, -3.9777, -3.998, -4.0087, -4.1683, -4.1895, -4.2578, -4.3004, -4.3619, -4.3629, -4.469, -4.5238, -4.6984, -4.7868, -4.8525, -4.8634, -4.8875, -5.0825, -5.1131, -5.18, -5.2716, -5.2937, -5.5049, -5.5323, -3.4788, -3.5799, -3.3018, -4.4285, -4.4754, -4.9089, -2.5849, -2.9012, -2.9813, -3.018, -3.2604, -3.4388, -3.498, -3.5462, -3.6832, -4.2226, -4.2304, -4.2787, -4.463, -4.5567, -4.7492, -4.7536, -4.7734, -4.7867, -4.8694, -4.874, -4.9465, -5.023, -5.091, -5.0985, -5.3553, -5.3575, -5.3958, -5.4519, -5.4917, -5.5235, -2.8223, -4.3443, -4.2372, -4.216, -4.5585, -4.5497, -4.7788, -4.9458, -2.7703, -3.2192, -3.2667, -3.6431, -3.6921, -3.7356, -3.7975, -3.8252, -3.8827, -3.9682, -4.0643, -4.1291, -4.1365, -4.166, -4.1834, -4.1845, -4.289, -4.2925, -4.2969, -4.3542, -4.4181, -4.487, -4.5432, -4.667, -4.772, -4.8172, -4.8706, -5.0277, -5.0453, -5.0476, -3.643, -4.1328, -4.673, -3.6865, -4.1507, -1.7919, -2.6904, -3.1024, -3.5833, -3.865, -3.8665, -3.8844, -3.9535, -4.0328, -4.1463, -4.1591, -4.1951, -4.3387, -4.4274, -4.4564, -4.4624, -4.7175, -4.7463, -4.748, -4.7956, -4.7972, -4.8159, -4.887, -4.9354, -4.9391, -4.9502, -4.9667, -5.1213, -5.4037, -5.4084, -3.734, -5.0004, -4.779, -2.3385, -2.4108, -2.6075, -3.044, -3.4705, -3.7501, -3.9313, -4.0923, -4.3223, -4.5075, -4.8812, -4.9082, -5.0108, -5.0466, -5.1794, -5.2481, -5.2539, -5.3253, -5.4811, -5.5865, -5.5914, -5.6259, -5.8029, -5.8966, -5.9285, -6.2056, -6.8517, -7.7025, -4.6291, -1.967, -3.2495, -5.1546, -5.008, -3.0426, -3.0802, -3.2247, -3.3268, -3.3832, -3.4394, -3.4885, -3.5226, -3.5879, -3.6723, -3.718, -3.7429, -3.8285, -3.8564, -4.0956, -4.1684, -4.3382, -4.4887, -4.7782, -4.7942, -4.9625, -5.2997, -5.3008, -5.3752, -5.5717, -6.4954, -11.5839, -11.584, -11.584, -11.5841, -11.584, -1.9469, -2.6609, -2.9414, -3.1135, -3.7714, -3.9273, -4.2325, -4.2432, -4.4716, -4.689, -4.8177, -4.859, -5.1477, -5.2106, -5.4747, -5.5733, -3.0289, -4.3357, -11.5116, -11.5116, -11.5117, -11.5119, -11.5119, -11.5119, -11.5119, -11.5119, -11.512, -11.5121, -11.5121, -11.5121, -5.0611, -11.5121, -2.8161, -3.1816, -4.1092, -4.9796, -10.9426, -10.9426, -10.9426, -10.9426, -10.9426, -10.9426, -10.9426, -10.9426, -10.9426, -10.9426, -10.9426, -10.9426, -10.9426, -10.9426, -10.9426, -10.9426, -10.9426, -10.9426, -10.9426, -10.9426, -10.9426, -10.9426, -10.9426, -10.9426, -10.9426, -10.9426, -10.9426, -10.9426, -10.9426, -10.9426, -10.9426, -10.9426, -10.9426, -10.9426, -10.9426, -10.9426, -10.9426, -10.9426, -10.9426, -10.9426, -10.9426, -10.9426], \"loglift\": [30.0, 29.0, 28.0, 27.0, 26.0, 25.0, 24.0, 23.0, 22.0, 21.0, 20.0, 19.0, 18.0, 17.0, 16.0, 15.0, 14.0, 13.0, 12.0, 11.0, 10.0, 9.0, 8.0, 7.0, 6.0, 5.0, 4.0, 3.0, 2.0, 1.0, 1.2243, 1.2242, 1.2241, 1.224, 1.2239, 1.2239, 1.2239, 1.2239, 1.2239, 1.2238, 1.2238, 1.2237, 1.2236, 1.2236, 1.2236, 1.2236, 1.2236, 1.2235, 1.2235, 1.2234, 1.2233, 1.2233, 1.2232, 1.2232, 1.2232, 1.2232, 1.2231, 1.223, 1.223, 1.223, 1.2183, 1.2229, 1.2135, 1.1522, 1.1699, 1.1752, 1.1831, 1.1557, 1.1783, 1.1143, 1.0967, 1.0867, 1.1697, 1.1446, 1.0106, 0.9782, 1.024, 1.0782, 0.9492, 0.9533, 0.8732, 0.9845, 1.1125, 0.91, 0.6593, 0.9242, 0.8422, 0.8541, 0.752, 0.7792, 0.7399, 1.8148, 1.8147, 1.8145, 1.8144, 1.8144, 1.8144, 1.8143, 1.814, 1.814, 1.814, 1.814, 1.814, 1.814, 1.814, 1.8139, 1.8139, 1.8138, 1.8138, 1.8137, 1.8137, 1.8137, 1.8136, 1.8135, 1.8135, 1.8134, 1.8134, 1.8133, 1.8131, 1.8131, 1.8131, 1.7954, 1.7755, 1.7833, 1.7934, 1.625, 1.7211, 1.4217, 1.6803, 1.4397, 1.6079, 1.3911, 1.4662, 0.9644, 1.2303, 1.4268, 1.4147, 1.2804, 0.5534, 1.2207, 0.7667, 1.2078, 0.2926, 0.2132, 0.75, -0.2632, 0.1289, 0.3769, 0.3457, 0.7033, 2.0344, 2.0343, 2.0341, 2.034, 2.034, 2.0339, 2.0337, 2.0336, 2.0336, 2.0335, 2.0334, 2.0334, 2.0333, 2.0333, 2.0333, 2.0332, 2.0332, 2.0331, 2.033, 2.033, 2.0328, 2.0325, 2.0325, 2.0324, 2.0323, 2.0323, 2.0321, 2.0319, 2.0318, 2.0318, 2.0298, 2.031, 2.0255, 2.0133, 2.0113, 2.0011, 2.0057, 1.937, 1.8208, 1.8669, 1.8779, 1.8908, 1.8499, 1.8735, 1.8063, 1.8259, 1.6894, 1.3346, 1.3601, 1.0271, 1.3729, 1.1762, 1.4895, 0.956, 1.2892, 2.1113, 2.1112, 2.1112, 2.1109, 2.1107, 2.1106, 2.1101, 2.11, 2.1098, 2.1097, 2.1096, 2.1095, 2.1094, 2.1094, 2.1093, 2.1092, 2.1092, 2.1091, 2.1089, 2.1086, 2.1086, 2.1086, 2.1085, 2.1084, 2.1083, 2.108, 2.1077, 2.1076, 2.1073, 2.1071, 2.102, 2.0904, 2.1059, 2.0963, 2.1017, 2.0385, 1.9388, 2.0752, 1.9011, 1.9895, 1.9388, 1.9264, 1.4553, 1.5752, 1.0552, 1.8404, 0.3813, 1.1268, 0.6574, 0.6755, 0.4461, 2.357, 2.3568, 2.3568, 2.3564, 2.3563, 2.356, 2.3559, 2.3558, 2.3557, 2.3557, 2.3556, 2.3556, 2.3556, 2.3555, 2.3553, 2.3552, 2.3552, 2.3551, 2.355, 2.3549, 2.3549, 2.3549, 2.3549, 2.3548, 2.3548, 2.3547, 2.3543, 2.3543, 2.3543, 2.3542, 2.3515, 2.3491, 2.1919, 2.1785, 2.0772, 2.2055, 2.2469, 1.7803, 2.0476, 1.8373, 1.9557, 1.4579, 1.9543, 1.9153, 2.0915, 1.9957, 1.6984, 2.0282, 1.3592, -0.0097, 1.9595, 1.2882, 3.1087, 3.1082, 3.1076, 3.1073, 3.1067, 3.1065, 3.1062, 3.1061, 3.106, 3.1059, 3.1058, 3.1057, 3.1054, 3.1054, 3.1054, 3.1048, 3.1047, 3.1043, 3.1041, 3.1039, 3.1035, 3.1033, 3.1031, 3.1029, 3.1029, 3.1025, 3.1019, 3.1014, 3.1014, 3.1012, 3.8226, 3.8222, 3.822, 3.8218, 3.8215, 3.8214, 3.8214, 3.8208, 3.8207, 3.8205, 3.8204, 3.8201, 3.82, 3.8198, 3.8198, 3.8198, 3.8197, 3.8196, 3.8196, 3.8186, 3.8182, 3.818, 3.8173, 3.8166, 3.8165, 3.8156, 3.8152, 3.8145, 3.8128, 3.8123, 3.7647, 3.672, 3.3664, 3.4077, 3.2793, 2.9375, 3.2527, 1.7852, 2.1161, 2.3256, 1.8897, 3.9507, 3.9506, 3.9505, 3.9502, 3.9502, 3.9499, 3.9497, 3.9496, 3.9494, 3.949, 3.949, 3.9489, 3.9489, 3.948, 3.948, 3.9477, 3.9465, 3.9464, 3.9464, 3.9464, 3.9461, 3.9461, 3.9454, 3.9454, 3.9449, 3.9446, 3.9441, 3.9439, 3.9439, 3.9437, 3.8491, 3.5829, 3.6141, 3.4936, 3.3991, 2.7565, 3.525, 3.4175, 2.2079, 0.4202, 4.016, 4.0159, 4.015, 4.0149, 4.0145, 4.0144, 4.0143, 4.0138, 4.0138, 4.0137, 4.0136, 4.013, 4.0125, 4.0115, 4.0114, 4.0114, 4.0113, 4.011, 4.011, 4.0097, 4.0092, 4.0085, 4.0082, 4.0072, 4.007, 4.0064, 4.005, 4.0049, 4.0046, 4.0037, 3.8236, 3.7843, 3.7111, 3.762, 3.6486, 3.3189, 3.003, 3.1801, 2.8847, 2.3048, 2.9484, 2.856, 4.2775, 4.2768, 4.2767, 4.2761, 4.2761, 4.276, 4.276, 4.2758, 4.2753, 4.2751, 4.275, 4.2749, 4.2746, 4.2744, 4.2741, 4.274, 4.2733, 4.273, 4.2726, 4.272, 4.2716, 4.2708, 4.2708, 4.2696, 4.2693, 4.2691, 4.2681, 4.268, 4.2674, 4.2673, 4.1753, 3.8108, 3.3726, 3.9139, 3.5213, 3.338, 3.5388, 1.6598, 3.0738, 4.3041, 4.304, 4.304, 4.3036, 4.3035, 4.3019, 4.3018, 4.3015, 4.3013, 4.3013, 4.2991, 4.2984, 4.2979, 4.2976, 4.2969, 4.2968, 4.2964, 4.2961, 4.2955, 4.2943, 4.2931, 4.2929, 4.2929, 4.2927, 4.2921, 4.2908, 4.2908, 4.2903, 4.2894, 4.2887, 4.2667, 4.2093, 4.0966, 3.6978, 3.5734, 3.6686, 2.9879, 2.5347, 2.2788, 3.2303, 2.6386, 4.512, 4.5114, 4.5105, 4.5104, 4.5103, 4.5097, 4.509, 4.5089, 4.5088, 4.5087, 4.5085, 4.5083, 4.5083, 4.5076, 4.5072, 4.5067, 4.5064, 4.5063, 4.5063, 4.5058, 4.505, 4.5045, 4.5044, 4.5043, 4.5039, 4.5037, 4.5035, 4.5034, 4.5026, 4.5026, 4.4614, 4.4172, 4.2258, 3.1374, 4.5295, 4.5274, 4.5271, 4.5269, 4.5268, 4.5258, 4.5258, 4.5254, 4.5253, 4.5253, 4.5245, 4.5244, 4.524, 4.5237, 4.5233, 4.5233, 4.5226, 4.5221, 4.5206, 4.5198, 4.5191, 4.519, 4.5187, 4.5163, 4.5159, 4.5149, 4.5134, 4.5131, 4.5091, 4.5086, 4.2577, 4.1444, 3.1571, 2.7419, 2.1775, 2.3442, 4.5599, 4.5595, 4.5593, 4.5593, 4.5588, 4.5583, 4.5581, 4.558, 4.5576, 4.555, 4.555, 4.5547, 4.5534, 4.5527, 4.5509, 4.5509, 4.5507, 4.5505, 4.5496, 4.5496, 4.5487, 4.5477, 4.5468, 4.5467, 4.5425, 4.5425, 4.5418, 4.5407, 4.5398, 4.5392, 4.0277, 4.2645, 3.8261, 2.6771, 2.5081, 1.831, 1.8741, 2.978, 4.5894, 4.5886, 4.5885, 4.5874, 4.5872, 4.587, 4.5868, 4.5867, 4.5864, 4.586, 4.5856, 4.5852, 4.5852, 4.585, 4.5849, 4.5849, 4.5842, 4.5842, 4.5842, 4.5838, 4.5833, 4.5828, 4.5823, 4.5812, 4.5801, 4.5797, 4.579, 4.577, 4.5768, 4.5768, 4.4488, 4.2892, 4.4495, 2.7725, 3.2841, 4.78, 4.779, 4.7782, 4.7767, 4.7754, 4.7754, 4.7753, 4.7749, 4.7744, 4.7737, 4.7736, 4.7734, 4.7722, 4.7715, 4.7712, 4.7711, 4.7684, 4.768, 4.768, 4.7674, 4.7674, 4.7671, 4.7661, 4.7654, 4.7654, 4.7652, 4.7649, 4.7623, 4.7564, 4.7563, 4.0827, 3.7554, 2.3901, 4.792, 4.7919, 4.7917, 4.7908, 4.7896, 4.7884, 4.7875, 4.7865, 4.7848, 4.7831, 4.7786, 4.7782, 4.7766, 4.776, 4.7736, 4.7722, 4.7721, 4.7705, 4.7668, 4.7639, 4.7637, 4.7627, 4.7569, 4.7535, 4.7522, 4.7395, 4.6931, 4.5728, 4.3666, 4.3418, 4.195, 2.7621, 2.5202, 5.6203, 5.6201, 5.6192, 5.6186, 5.6181, 5.6177, 5.6173, 5.617, 5.6164, 5.6156, 5.6151, 5.6148, 5.6139, 5.6135, 5.6103, 5.6091, 5.606, 5.6029, 5.5953, 5.5948, 5.5892, 5.575, 5.5749, 5.5711, 5.5596, 5.4668, 2.2603, 2.2602, 2.2602, 2.2602, 2.2601, 5.935, 5.9324, 5.9307, 5.9294, 5.922, 5.9194, 5.9131, 5.9128, 5.9066, 5.8993, 5.8941, 5.8923, 5.8777, 5.8739, 5.8555, 5.8473, 5.4873, 3.7411, 2.3326, 2.3326, 2.3325, 2.3323, 2.3323, 2.3323, 2.3323, 2.3323, 2.3322, 2.3321, 2.3321, 2.3321, 2.2954, 2.3321, 7.6203, 7.6059, 7.5371, 7.3949, 2.9017, 2.9017, 2.9016, 2.9016, 2.9016, 2.9016, 2.9016, 2.9016, 2.9016, 2.9016, 2.9016, 2.9016, 2.9016, 2.9016, 2.9016, 2.9016, 2.9016, 2.9016, 2.9016, 2.9016, 2.9016, 2.9016, 2.9016, 2.9016, 2.9016, 2.9016, 2.9016, 2.9016, 2.9016, 2.9016, 2.9016, 2.9016, 2.9016, 2.9016, 2.9016, 2.9016, 2.9016, 2.9016, 2.9016, 2.9016, 2.9016, 2.9016]}, \"token.table\": {\"Topic\": [6, 2, 13, 1, 9, 16, 5, 16, 7, 12, 2, 3, 19, 11, 4, 9, 3, 5, 7, 1, 2, 3, 4, 5, 16, 16, 2, 3, 14, 9, 15, 2, 14, 7, 3, 3, 12, 4, 8, 2, 9, 8, 17, 1, 2, 4, 5, 11, 13, 14, 10, 2, 5, 8, 9, 13, 16, 3, 4, 9, 12, 6, 1, 18, 7, 1, 14, 4, 2, 2, 11, 4, 7, 1, 3, 7, 13, 15, 1, 9, 15, 17, 1, 13, 6, 7, 15, 8, 2, 11, 11, 18, 4, 14, 12, 14, 7, 7, 1, 7, 11, 6, 11, 13, 18, 10, 16, 16, 7, 1, 5, 9, 10, 1, 2, 3, 5, 7, 11, 11, 20, 2, 11, 9, 7, 14, 2, 2, 10, 5, 9, 1, 5, 8, 9, 8, 9, 2, 14, 14, 15, 14, 3, 15, 2, 3, 20, 1, 2, 3, 14, 15, 17, 6, 15, 3, 7, 6, 2, 1, 5, 11, 18, 15, 6, 12, 16, 12, 9, 19, 2, 15, 7, 19, 16, 13, 16, 3, 18, 2, 1, 11, 5, 8, 1, 1, 2, 5, 8, 11, 7, 7, 12, 10, 9, 9, 9, 14, 14, 16, 12, 18, 1, 12, 11, 3, 7, 7, 1, 2, 5, 5, 9, 5, 13, 11, 13, 15, 5, 5, 4, 2, 15, 12, 18, 3, 10, 16, 1, 9, 3, 7, 7, 15, 11, 9, 5, 19, 3, 3, 17, 10, 3, 4, 4, 1, 3, 14, 6, 5, 17, 13, 7, 7, 5, 14, 18, 14, 2, 10, 13, 18, 9, 17, 3, 9, 17, 14, 16, 16, 16, 6, 12, 17, 3, 17, 8, 9, 1, 2, 5, 2, 2, 6, 1, 11, 2, 11, 1, 1, 2, 5, 16, 2, 2, 16, 4, 1, 3, 7, 3, 3, 15, 3, 17, 12, 1, 2, 3, 6, 9, 9, 1, 2, 3, 4, 5, 8, 10, 6, 10, 16, 6, 2, 3, 4, 5, 15, 5, 8, 17, 17, 14, 18, 1, 2, 3, 5, 5, 8, 1, 10, 3, 4, 15, 15, 8, 13, 1, 3, 4, 15, 9, 1, 2, 3, 4, 5, 1, 4, 5, 2, 1, 2, 4, 5, 8, 14, 5, 11, 8, 4, 5, 10, 1, 2, 3, 5, 1, 12, 9, 9, 1, 14, 1, 1, 19, 1, 4, 1, 3, 4, 13, 18, 8, 15, 12, 6, 4, 1, 2, 3, 5, 2, 1, 10, 15, 7, 1, 17, 11, 18, 13, 6, 19, 2, 3, 5, 8, 11, 1, 5, 7, 19, 5, 13, 3, 3, 5, 8, 17, 3, 5, 7, 15, 18, 17, 16, 1, 2, 3, 11, 8, 10, 14, 12, 12, 8, 18, 5, 7, 8, 8, 5, 16, 2, 8, 11, 17, 11, 13, 3, 4, 8, 9, 1, 2, 4, 1, 5, 8, 10, 5, 6, 10, 5, 1, 2, 14, 5, 1, 2, 5, 1, 1, 2, 3, 4, 1, 5, 16, 17, 3, 4, 13, 13, 1, 3, 1, 3, 18, 18, 1, 3, 4, 1, 1, 4, 1, 3, 4, 10, 11, 15, 10, 1, 4, 7, 3, 7, 3, 4, 1, 2, 3, 4, 5, 9, 1, 2, 8, 9, 9, 12, 4, 1, 2, 3, 5, 17, 17, 10, 11, 13, 10, 15, 1, 2, 5, 1, 7, 1, 2, 5, 16, 19, 19, 12, 12, 15, 5, 7, 15, 17, 2, 3, 6, 13, 9, 9, 16, 10, 3, 7, 16, 11, 1, 7, 1, 10, 9, 7, 3, 16, 16, 7, 4, 1, 11, 17, 1, 2, 8, 9, 8, 19, 5, 18, 1, 3, 4, 3, 4, 3, 1, 2, 3, 4, 11, 1, 3, 4, 6, 13, 4, 9, 13, 1, 2, 3, 4, 8, 9, 8, 2, 3, 11, 1, 12, 3, 17, 17, 10, 4, 4, 17, 10, 3, 2, 9, 1, 2, 3, 5, 6, 2, 12, 19, 1, 19, 3, 7, 2, 8, 10, 10, 1, 2, 5, 8, 9, 20, 2, 5, 14, 3, 14, 7, 19, 19, 17, 10, 10, 10, 4, 14, 14, 1, 2, 4, 17, 9, 13, 8, 8, 9, 3, 7, 11, 12, 2, 3, 4, 16, 7, 17, 15, 6, 1, 5, 12, 11, 12, 4, 14, 7, 9, 1, 2, 3, 15, 1, 2, 3, 7, 15, 8, 17, 3, 1, 3, 10, 13, 15, 12, 14, 5, 2, 2, 3, 5, 5, 13, 14, 8, 13, 11, 2, 5, 1, 14, 1, 2, 3, 4, 16, 18, 10, 7, 9, 1, 9, 1, 1, 2, 3, 2, 1, 2, 16, 1, 2, 5, 11, 13, 18, 5, 17, 2, 1, 11, 13, 15, 4, 8, 3, 4, 5, 12, 12, 13, 9, 16, 4, 4, 1, 5, 5, 8, 6, 17, 2, 5, 1, 3, 4, 7, 18, 8, 18, 1, 5, 16, 11, 10, 4, 1, 2, 5, 15, 5, 10, 17, 14, 13, 2, 5, 4, 17, 7, 10, 13, 3, 13, 14, 1, 2, 15, 11, 1, 3, 2, 8, 15, 1, 10, 4, 14, 5, 3, 13, 18, 1, 2, 3, 7, 1, 9, 10, 10, 6, 3, 1, 2, 5, 10, 8, 16, 1, 7, 5, 6, 3, 7, 11, 8, 13, 12, 4, 12, 2, 3, 8, 3, 10, 6, 2, 5, 6, 8, 15, 7, 6, 4, 2, 4, 5, 7, 13, 17, 10, 1, 3, 5, 12, 1, 2, 7, 15, 2, 5, 19, 1, 2, 3, 4, 6, 9, 11, 6, 2, 15, 3, 3, 5, 11, 3, 5, 7, 1, 2, 5, 9, 5, 7, 2, 3, 7, 13, 12, 1, 2, 5, 2, 5, 14, 14, 4, 10, 3, 3, 4, 14, 1, 2, 18, 18, 8, 8, 3, 16, 3, 4, 17, 13, 1, 2, 1, 2, 2, 16, 1, 2, 3, 11, 20, 10, 11, 12, 8, 5, 19, 5, 19, 12, 9, 6, 16, 2, 2, 1, 2, 3, 8, 8, 1, 18, 1, 3, 12, 4, 6, 6, 19, 3, 15, 1, 2, 3, 5, 7, 3, 14, 2, 15, 1, 10, 11, 3, 7, 4, 4, 2, 8, 9, 5, 3, 4, 14, 10, 5, 6, 11, 1, 2, 3, 8, 12, 15, 14, 1, 2, 8, 9, 1, 1, 2, 4, 5, 4, 3, 10, 4, 14, 8, 9, 1, 4, 1, 5, 1, 3, 7, 8, 18, 1, 2, 4, 1, 4, 5, 10, 19], \"Freq\": [0.9995465885840649, 0.99918965734305, 0.9783103380751009, 0.45291864348443756, 0.18215206314048032, 0.35938109754743414, 0.9982612289619642, 0.9668096399054988, 0.24571788066154526, 0.750086162019454, 0.00403198215954801, 0.995227596381767, 0.9526202245807167, 0.9797562517707588, 0.9982943476844764, 0.9917444463091891, 0.4542710042757876, 0.5173126946650806, 0.027812510465864547, 0.39722357753138526, 0.23004137872068114, 0.36504763847456323, 0.0013268428477040007, 0.006136648170631004, 0.9820821883547333, 0.9890563912264848, 0.8739667633504797, 0.12485239476435424, 0.9897863397248995, 0.25736947764058227, 0.7403779493770175, 0.9984218576898367, 0.9871251759867633, 0.9958887488533171, 0.9990882281458695, 0.9980503942939006, 0.9931612175752866, 0.9980225916240443, 0.9969286265029359, 0.9984138566917324, 0.9954165508334495, 0.9982114851677054, 0.981820297539337, 0.0018106892357819407, 0.04854910513440328, 0.9296757544967902, 0.019804413516364975, 0.9938839482453152, 0.993588950816586, 0.9926143949867786, 0.9945980959985519, 0.9989470661866987, 0.1347413652782383, 0.6912341584599054, 0.061345662240498734, 0.1128322001923459, 0.9927094486014401, 0.9994142635420976, 0.9960040564011318, 0.08762240610742329, 0.909924986500165, 0.9999655547154772, 0.999462889812591, 0.994317539248027, 0.992480808851591, 0.9994343530234548, 0.9899173801746928, 0.9964795649451029, 0.9987902518629285, 0.9996677615890356, 0.9883050239901269, 0.9983732135624231, 0.9946835366043961, 0.3208342366176647, 0.08169390284246092, 0.18121192994145877, 0.2534986560929696, 0.16239757655955867, 0.6502285430094125, 0.34378419996735277, 0.005150325093143861, 0.9943070712796627, 0.31761233070046985, 0.6808485321092944, 0.9973007234390477, 0.9970410631353108, 0.9895009869804375, 0.9952723736089991, 0.9803427489377409, 0.018842087882353416, 0.9953948127078004, 0.9966372780300998, 0.9977384969910865, 0.9887288168576874, 0.9938221241080322, 0.9823933399549788, 0.9966186880738149, 0.993833555848964, 0.37823928561097353, 0.07604117353704147, 0.5447432345627713, 0.9979881971607186, 0.9977475692219332, 0.9935441449483158, 0.9531388849097175, 0.9925189327345092, 0.9925319287889565, 0.9993908313179592, 0.9990630601080498, 0.2883146430053646, 0.3412955389422478, 0.31295692018531024, 0.055445123654877804, 0.1452699164883821, 0.1628586507717288, 0.07361211014882142, 0.5944340753168101, 0.023777363012672408, 0.9890501578388498, 0.9942597464641079, 0.7342458556606409, 0.9981615158906659, 0.9979329646033293, 0.9990615078902048, 0.4121681302982118, 0.5864061676178822, 0.999243105335531, 0.9983016348380188, 0.9958850143459342, 0.9916001795832329, 0.007095529013117945, 0.40532939617988994, 0.05768149099483049, 0.10289130826104899, 0.4333906620692669, 0.9003257335655876, 0.09406388261133006, 0.9996186958004427, 0.9975479414787766, 0.9981105488111597, 0.9943893168024959, 0.9790148379100562, 0.9985635168653503, 0.9980749859301231, 0.028266963476621824, 0.9713009790371117, 0.9387149059025695, 0.8182879414237114, 0.18144645657656208, 0.5172524268191404, 0.4803058249034875, 0.9962635305711343, 0.9630519746489228, 0.9934307330145333, 0.9903893943383766, 0.8549551606689606, 0.14479079333909817, 0.9965916455046148, 0.9981096216491968, 0.3220536300612729, 0.4870860872568506, 0.1890663101852249, 0.9944296762212513, 0.9923071264041895, 0.9947524411638707, 0.9952222856102045, 0.9909219698859278, 0.9917307325585971, 0.9932944160814402, 0.9725267249479999, 0.7278419662376452, 0.27064159755407025, 0.9964330576159646, 0.9415071695885183, 0.9796226549515663, 0.9901844264634072, 0.9974562532136334, 0.9988018429747656, 0.9958972164418932, 0.9991629185052275, 0.09013145510075403, 0.9085979009146719, 0.8593578342914547, 0.14010069955714344, 0.9992008936970022, 0.3248010105897749, 0.062222415821795954, 0.30488983752680016, 0.03982234612594941, 0.2675563880337226, 0.9987167636580258, 0.9957398969619955, 0.9892313101497834, 0.9890890447177776, 0.9986210101385625, 0.9981022108394573, 0.9867335169142493, 0.9962043458549913, 0.9902163904506759, 0.9879820958016051, 0.988217817092107, 0.9889952144279931, 0.999381151100299, 0.9955370167506676, 0.9929661479968727, 0.97645516449915, 0.022661758083939318, 0.9948847411006224, 0.8941635343287352, 0.001819624611983588, 0.10371860288306452, 0.20660454298688002, 0.7927848742519814, 0.9961741786032956, 0.9907836023831633, 0.9914692439767179, 0.9875185011558965, 0.9909742645193702, 0.9967188878425579, 0.9970274381581629, 0.9979509938431558, 0.12076428058189219, 0.8666613077053439, 0.9912205354083375, 0.993731955563141, 0.8803279164701423, 0.027195484833745814, 0.09165885629151367, 0.6358971082380275, 0.36253890012350953, 0.9979799358600417, 0.9973937475569192, 0.9887288715089494, 0.9939707072404427, 0.9871863950743252, 0.9935477399605482, 0.9989135469827117, 0.9958268451295178, 0.9986787481533005, 0.4483684318907798, 0.5491850023750972, 0.9892351734769502, 0.9987843377172864, 0.9978061365892439, 0.9980360243504979, 0.4197462582492029, 0.5797092601491479, 0.9970844256479943, 0.9982007903905352, 0.8957049503196671, 0.10240749029419705, 0.9953332802607694, 0.9995802638966155, 0.9993247409225078, 0.998944286301189, 0.9870289536079067, 0.9801954074641315, 0.9885100402980019, 0.5941962598840037, 0.4037487406904128, 0.9960601789197854, 0.9846360196887688, 0.9880059137320175, 0.8806899747296826, 0.9995466324173921, 0.9907552776595275, 0.9933340949572833, 0.9990044596011193, 0.9962806825268348, 0.9879220707672346, 0.9971312723553597, 0.9982683793395158, 0.9886045442656919, 0.9989246465995659, 0.9973964166265757, 0.9574801622853495, 0.9934357103594647, 0.9960459905759927, 0.690345260065642, 0.29700900723754364, 0.01240578162908659, 0.9995601207121827, 0.9993470425783934, 0.9974924668824405, 0.03280992297298756, 0.9613307431085354, 0.9986110145702645, 0.9970715047857679, 0.9989264139591211, 0.03344658453155748, 0.705458881632719, 0.26053129003528985, 0.9929741022966523, 0.9977023751616719, 0.9989247062483821, 0.9824395179980845, 0.9975173427348663, 0.270456094636325, 0.09426685456203858, 0.6329345949165448, 0.9974819373915581, 0.9974358127424919, 0.9919872741265161, 0.3626067667835399, 0.6365857926846165, 0.9955191213372102, 0.41037733311319613, 0.3288998662473703, 0.26037906077916817, 0.9968072563438423, 0.9977074142268594, 0.9973493021668507, 0.49755376123367234, 0.15694115979338708, 0.017202656638398248, 0.2336914740262408, 0.037581188348500785, 0.02699493810948648, 0.029906156925215414, 0.9947926263149098, 0.9949328643363599, 0.9920226472367105, 0.9954862727580199, 0.5448318177265145, 0.43187370119085366, 0.005520509454750341, 0.01741083751113569, 0.9946939005957836, 0.6964939042128677, 0.3022878305359249, 0.9976425022709637, 0.9762353470362058, 0.9884614710447525, 0.9919531744565254, 0.04434481934869584, 0.022561399317757528, 0.2894082946967518, 0.64261089091268, 0.997419444698888, 0.9910946667832594, 0.9986219165036697, 0.9940315255741433, 0.998551161892068, 0.9996376790845456, 0.9965291850935567, 0.9856387254182011, 0.9951451205915673, 0.9961794456784991, 0.9302613235196017, 0.06773383174477132, 0.0018762834278330004, 0.9943788601168971, 0.994480242316005, 0.6159640027705867, 0.34466951252209943, 0.0009654608193896343, 0.017861025158708233, 0.02027467720718232, 0.9997879089567258, 0.9643787027551834, 0.03412416948210649, 0.9990950769913364, 0.7593915696489903, 0.06324507434663204, 0.17726647916633206, 0.8474674724033399, 0.08699017815053191, 0.06501371209145017, 0.9974726673464726, 0.9989657177977257, 0.9980518068356524, 0.22982240434013224, 0.37797238399740757, 0.38936853627873647, 0.006503677957744033, 0.028905235367751254, 0.20847901008990594, 0.7555105894245985, 0.9984953460655576, 0.9952960607044573, 0.9992323621615103, 0.9903165637851821, 0.9983485497684409, 0.9834452646911171, 0.9993187727411011, 0.999049430536698, 0.9954000016983019, 0.9996696141532565, 0.9959759368699143, 0.43626952117107665, 0.4744471830835792, 0.08875490632650175, 0.9933302849413461, 0.9682039013068778, 0.9923526561290664, 0.9959752234492815, 0.9965156595095249, 0.9960394821266324, 0.9997714607708961, 0.12588557101639153, 0.6701277013504151, 0.13440414349118496, 0.06909508785110212, 0.9990763534079196, 0.9981143137929702, 0.9957086331171913, 0.9931897286494279, 0.9969298215299511, 0.9988423371261603, 0.999140549634911, 0.9931244143928992, 0.9908228705841542, 0.993749002297032, 0.9923395924283653, 0.9682901695441308, 0.07092518245179937, 0.8455238042849339, 0.07132363853298924, 0.007969121623797681, 0.003586104730708956, 0.19956729122732364, 0.7668765573005021, 0.03251377216624936, 0.904413251835853, 0.99877980650117, 0.9949180190663279, 0.9990675315165586, 0.9668136063558276, 0.032476942849162166, 0.9964555453989009, 0.8311610858150462, 0.997956824552855, 0.9958219721167316, 0.9439124423627537, 0.053937853849300214, 0.9855514286228974, 0.977928039173335, 0.9788085055966961, 0.14940988165710686, 0.04980329388570229, 0.6677330513564529, 0.1318865004751005, 0.6514257347937737, 0.30752585449655306, 0.03968075541891007, 0.9982580819096148, 0.9855866602673284, 0.9959378243559138, 0.9853100935415666, 0.9983835195695391, 0.9960274251253571, 0.9955876396602014, 0.998680828725041, 0.99947603221967, 0.9897230966041819, 0.28501244994057673, 0.7125311248514418, 0.9869562654343753, 0.9777094482556774, 0.9875646410927715, 0.9995659011512391, 0.11409860352161702, 0.8849379879432502, 0.17484942389228267, 0.8247064493585999, 0.8073924103743383, 0.18527605729064284, 0.007207805800209958, 0.3348499085278783, 0.030076339089330387, 0.6316031208759382, 0.9973590179546667, 0.9995795325189278, 0.9974432243562719, 0.992917818357213, 0.9981541415318098, 0.9467745310227011, 0.05295363818641916, 0.9981578869122543, 0.9974896768299466, 0.16373524577638532, 0.8131154092140493, 0.022861147523495308, 0.9985147373186108, 0.36367270596471657, 0.02540360813724123, 0.02540360813724123, 0.5849515031601599, 0.29993064443608936, 0.5275375873769514, 0.0404161861296858, 0.13188439684423786, 0.009317074806649353, 0.9906333511308302, 0.9820705382670013, 0.9949353907795067, 0.1334275457403777, 0.8661386409386058, 0.999301490947975, 0.9979498798376071, 0.9885861555680251, 0.9578074913002174, 0.6823898693195489, 0.12825984317179132, 0.18906450956434423, 0.999379282308669, 0.989118692443671, 0.010390941741529311, 0.6051855147924652, 0.12086319907493197, 0.07217011167783707, 0.03043317962318431, 0.17042580588983214, 0.9907823199922584, 0.9927176270878718, 0.9938725233423865, 0.006059111671802249, 0.9962072536478942, 0.7754217475342182, 0.2239147293251085, 0.9788820408664278, 0.02078153673874554, 0.7037373085385257, 0.20153299786938755, 0.00012060622254302068, 0.0007236373352581241, 0.09371103491592707, 0.9951577175689283, 0.1178239538680922, 0.6784082343811246, 0.02301249098986176, 0.18041792936051618, 0.04658113955468509, 0.9502552469155757, 0.9961874849429052, 0.324672943693016, 0.557266925111012, 0.040111109593775875, 0.07795177902186631, 0.9962241748601236, 0.9700721233386632, 0.9937314288122887, 0.9971150267606957, 0.9978027598809817, 0.12924538786789153, 0.8667043657023314, 0.013130753879692883, 0.910711572655842, 0.07503287931253076, 0.9994344317594278, 0.9965802250603395, 0.21983186037245056, 0.6870565904774798, 0.09285435296328881, 0.9942098762222905, 0.9905692006066271, 0.980655713527655, 0.9963073205329253, 0.9955725251650508, 0.9920623808668894, 0.9988537580701097, 0.998888892056729, 0.3379132836225056, 0.6507959536433442, 0.14821532061172663, 0.851042808673785, 0.9930154830058424, 0.9941582534129451, 0.9904152257083917, 0.9960833626621823, 0.9927469139459317, 0.9974379276667815, 0.13806664806376975, 0.8594261014306567, 0.9982667235518035, 0.9951941440916129, 0.9993959405182187, 0.9969492764930186, 0.99857883571053, 0.9971308688424773, 0.9973590919347283, 0.9936931562907833, 0.9978867236177835, 0.9895917933458964, 0.9956544755515155, 0.9953645155621171, 0.9980373583879151, 0.9990706039894395, 0.9948885756061212, 0.987162138050684, 0.9335247177492074, 0.06609492479107955, 0.2612424133020379, 0.7370150203090605, 0.9961212978048376, 0.9746591162461413, 0.9976234540433362, 0.8508195525187924, 0.4579867411533577, 0.4964206021200938, 0.045275490667621036, 0.16809378296770838, 0.8309378240517131, 0.9990557328503751, 0.40000697699734983, 0.022815931940382818, 0.42379379965860003, 0.13471108752034536, 0.018689646376696564, 0.09253065302343605, 0.06485054314463039, 0.8414753403156918, 0.9984014813847075, 0.9836145109588522, 0.9998922055121668, 0.9928374413571011, 0.992672883528234, 0.3002237006361317, 0.07647803742520408, 0.5157527151980704, 0.05562039085469387, 0.006952548856836734, 0.044559517673362706, 0.9968513327769227, 0.11933297828541031, 0.39857214747327047, 0.48091190249020355, 0.7461754490316618, 0.2525963582325081, 0.9982486335381058, 0.9669765922635204, 0.9568624697026837, 0.9973093150643336, 0.9999246006324907, 0.9982686528530771, 0.9862309586887837, 0.9863058521981608, 0.9984374406816016, 0.22074035481317966, 0.7741031620845752, 0.21076590439917267, 0.5516746390875432, 0.19807902471689237, 0.030284809564152963, 0.008594337849286652, 0.998848339031592, 0.9906290828119149, 0.9983804592628532, 0.9990308913193019, 0.9784211236557624, 0.41788606720287585, 0.5810494473747853, 0.42146426478756965, 0.5758378036341795, 0.9972641229439273, 0.9896976363189187, 0.2778980853247007, 0.28313438841291855, 0.40668620651824755, 0.029298362517409006, 0.0028674993102144985, 0.9778833597988801, 0.33009267635200046, 0.6690271208205724, 0.9860954146084194, 0.8708782040147691, 0.1281772721984159, 0.9987171527359393, 0.9819247644510033, 0.9193559046817515, 0.991693569520231, 0.997226554248025, 0.9965987189410095, 0.9852370778698496, 0.9994501177541464, 0.9987103982197001, 0.9892268776718185, 0.18277362368157374, 0.6747547236059257, 0.14230421062328028, 0.9909548283271655, 0.9983524344163395, 0.985744812409416, 0.9961437561658564, 0.5865466350701197, 0.4114580872879945, 0.4311934022472505, 0.5643892699571342, 0.9841774955221319, 0.9970477472274571, 0.300908130544999, 0.17982296132896342, 0.5187958063158598, 0.9921576426158384, 0.9894736803294083, 0.9746994410488663, 0.9834066615385746, 0.993422587524249, 0.9986808797727219, 0.9971243410273475, 0.988189049492284, 0.9989452046661194, 0.9961153112266494, 0.9972383774039179, 0.9938457250100815, 0.30578130633133915, 0.6914514224249201, 0.954848312149116, 0.010520364404581026, 0.034065941881500465, 0.9944814957926876, 0.5631709086422084, 0.05300432081338432, 0.25324286610839175, 0.13030228866623647, 0.9942406129857444, 0.9956495100571835, 0.9955498196490024, 0.9995077234430141, 0.02931429707813865, 0.6683659733815612, 0.29900583019701427, 0.9977942967885038, 0.9930061299923313, 0.2507527153592697, 0.7437580540317322, 0.9985093132596355, 0.9991423469161355, 0.12687430507071468, 0.5040548941762889, 0.36832889340296626, 0.8361278922592066, 0.0949735492285799, 0.0679241206508198, 0.23624992969723965, 0.762039246918164, 0.9965544956513511, 0.27896872974486353, 0.7190473072881173, 0.9992973630460591, 0.9906037955467432, 0.004984457407857139, 0.654429937313949, 0.10262118192647052, 0.23778793869247883, 0.9900419067818831, 0.9432283893270106, 0.989010615521427, 0.9949017613724789, 0.9899845308384317, 0.6767279992682724, 0.3219584723791478, 0.9996249482176958, 0.16499696615901974, 0.5857019002341673, 0.2486153381491112, 0.9977967805497857, 0.9982791281174249, 0.0012806659757760423, 0.9902376905883788, 0.03843337371668643, 0.961125504839257, 0.9985862956328286, 0.9892943319719528, 0.9937521786399548, 0.9899318962099685, 0.9976711251286707, 0.9490363133177621, 0.9990194982996186, 0.9988921599641609, 0.9918754631690737, 0.9905467701084248, 0.9906232050062054, 0.9850971427020003, 0.014675562647329615, 0.1813272585520907, 0.08457428104108708, 0.7334281651883071, 0.99504506449979, 0.9883686473068305, 0.9951155578768007, 0.9937134891224163, 0.9907494529657969, 0.9978547148765257, 0.994657564724933, 0.4381987668911292, 0.5614270389063694, 0.9976127965680764, 0.9948498316677539, 0.9985236987746601, 0.9806373337182839, 0.004965781862213672, 0.9939840027531033, 0.13570297724378486, 0.5092708102913014, 0.3477196469058433, 0.006769763037104913, 0.9679467960970347, 0.9942104960567221, 0.97883383249802, 0.9997500882732931, 0.5004081918346075, 0.49848354494293595, 0.9987087107143438, 0.9961519218537839, 0.9948380223730474, 0.5682985899285575, 0.4270911041065769, 0.004475673084690352, 0.9981170698938872, 0.3012556304222244, 0.6955460878866063, 0.9447776922352119, 0.9948938801708872, 0.9856382186981505, 0.9987869739169667, 0.9971573641920615, 0.9978821450732115, 0.9990087217261985, 0.9975874323828028, 0.9977156097612999, 0.9964094378922389, 0.9984758869262632, 0.9983048799664451, 0.9988673085954799, 0.7625244431143586, 0.2373516557970683, 0.9977280744858269, 0.9993692908049884, 0.16852192141775532, 0.831404692100894, 0.9992828625145854, 0.9915993697502586, 0.9945698331942039, 0.5199825939453643, 0.4770974315581178, 0.9911960541854907, 0.008500823792328395, 0.9974091542298761, 0.9982245732247277, 0.9787706054086037, 0.9946256145091315, 0.13189960247393778, 0.14293120558993985, 0.7079411390964806, 0.01630758721495958, 0.49998953522583034, 0.49817797893878024, 0.9950585969709866, 0.9974388203025264, 0.994764405930542, 0.9972354089934756, 0.19387959720717704, 0.1333563367033493, 0.6719107733899522, 0.9937909113944579, 0.9883991963804928, 0.9884461433293096, 0.3386828226844168, 0.6595402336486011, 0.9978812165937112, 0.9938459314129826, 0.9910825134815407, 0.00859142736144989, 0.9895849344395284, 0.9975621017111703, 0.9916896519047428, 0.9962302713275855, 0.9950852885772435, 0.9980000620417606, 0.16789568202899566, 0.7959304676187076, 0.03567783243116158, 0.0978417827153346, 0.9012733446277937, 0.9969847911827786, 0.9688699656453229, 0.0297808391079505, 0.997013775557246, 0.9955882868837215, 0.9965202510182999, 0.9980513466864387, 0.9922963829990469, 0.9954065413734555, 0.3449161052976035, 0.0625286506679866, 0.2622169221560729, 0.14321078056216288, 0.16741541953041575, 0.019162005849866864, 0.996973752626019, 0.9595080977930824, 0.03992343183898286, 0.9994863446382672, 0.9935349877756942, 0.9520137711195211, 0.04749109372430459, 0.9908656473814187, 0.9905831559460535, 0.8357909924996985, 0.13727381126811908, 0.026725874760164775, 0.0002697376786316501, 0.01908394076318924, 0.0014161228128161628, 0.9791477734328897, 0.9952999103919189, 0.9900840278540064, 0.9878367775869654, 0.9934778436764926, 0.9982929417191532, 0.985262068379011, 0.9980002092562873, 0.470304383782629, 0.1875446929194533, 0.3404657502230075, 0.6308104507163829, 0.3431608851897123, 0.025232418028655314, 0.9232962099768548, 0.03677165505034004, 0.039684261390961026, 0.9941294245147498, 0.9964650714925569, 0.9957562220463375, 0.05757191132636686, 0.9068982513821177, 0.034693171320449086, 0.0007501226231448451, 0.996657411407274, 0.895701040422719, 0.08137031871191913, 0.02259124529791071, 0.8265794401896049, 0.17280406415113692, 0.9977211506324295, 0.9983489787811305, 0.373766603205237, 0.6257232725282221, 0.9967410306297787, 0.7275983756210234, 0.11922830524882316, 0.15209251759305006, 0.8640338499571718, 0.1356919138936177, 0.9914216435986158, 0.9879056736290366, 0.9925087018442638, 0.9957990044677063, 0.9973379530430835, 0.0024364933706264255, 0.18925206983070117, 0.8104515548563914, 0.9846784804718484, 0.9905420177703371, 0.7301597984003538, 0.26950473690956456, 0.7816982641410399, 0.21821634643311588, 0.9972425963911905, 0.9950986251383753, 0.8712380089735277, 0.09251950165271716, 0.03597133836909596, 0.9823485644294394, 0.8861876927187201, 0.4682177851056842, 0.5285033368360298, 0.9936290976891098, 0.9941321923273614, 0.8862898670160237, 0.11234660286118611, 0.3564118270426257, 0.6392168637177525, 0.9904299993057423, 0.9970002942943182, 0.9972158867899332, 0.9837034598338913, 0.9994421964191138, 0.9986569600942458, 0.7405014856895534, 0.15440740758384694, 0.10465131406590533, 0.9965404403119473, 0.9967880960284063, 0.9988314496185934, 0.9422494718542131, 0.18752592421910186, 0.8115564490698293, 0.9978627941817122, 0.994670951927182, 0.004691844112864066, 0.9967703799173819, 0.9600993090076851, 0.9976885314278573, 0.995644541938012, 0.06462197374925578, 0.07656556987671921, 0.8074187368817661, 0.04049749150504156, 0.01083624284412245, 0.9986002679462904, 0.9821666052057784, 0.9780750872317778, 0.01983422230127813, 0.999667065919723, 0.18331109372355, 0.8122577773612474, 0.9962793878751955, 0.002596731679952725, 0.9984500060535847, 0.9980514575450138, 0.9988882486398873, 0.9977070415077184, 0.9925984969739836, 0.9966429036417133, 0.39416470777193124, 0.3984491067694523, 0.2056511518810076, 0.9850019183368114, 0.9972955600466554, 0.9909380007600369, 0.9900782864336094, 0.9468882271716498, 0.0031326253655877255, 0.04970432246732524, 0.998801724040091, 0.9936909300684278, 0.9947752213507126, 0.987302257935164, 0.6406001041614928, 0.35044461108869823, 0.00858047372510988, 0.9968491696159487, 0.9990374181824851, 0.880171317514245, 0.11882227548081131, 0.0008523836117705259, 0.9990086231780356, 0.9992983417079684, 0.9995937543630482, 0.996777812358116, 0.9988650613831744, 0.9841716071934663, 0.9935222570003338, 0.9978214763904003, 0.23558952807726496, 0.7629752229101271, 0.3313097706326988, 0.6679524953198475, 0.6234080122334849, 0.3399840226823708, 0.02848795786390508, 0.007901769334513817, 0.9735090476043787, 0.03334693853458155, 0.12516119661437655, 0.8414593124497054, 0.7867627680833251, 0.04424534994333628, 0.09613307851324882, 0.0728037121794897, 0.9536868995136555], \"Term\": [\"_\", \"accept\", \"access_digex\", \"accident\", \"accident\", \"accident\", \"activity\", \"adapter\", \"additional\", \"additional\", \"address\", \"address\", \"adequately\", \"admin\", \"advice\", \"aged\", \"allow\", \"allow\", \"allow\", \"also\", \"also\", \"also\", \"also\", \"also\", \"amazing\", \"ammunition\", \"answer\", \"answer\", \"app\", \"apparently\", \"apparently\", \"appear\", \"appearance\", \"apple\", \"application\", \"appreciate\", \"approve\", \"apr\", \"arab\", \"argument\", \"arm\", \"armenian\", \"array\", \"article\", \"article\", \"article\", \"article\", \"assembly\", \"assign\", \"assure\", \"astronomy\", \"atheist\", \"attack\", \"attack\", \"attack\", \"attack\", \"auto\", \"available\", \"average\", \"aware\", \"aware\", \"ax\", \"back\", \"background\", \"backup\", \"bad\", \"bag\", \"baseball\", \"belief\", \"believe\", \"belt\", \"bike\", \"bio\", \"bit\", \"bit\", \"bit\", \"bit\", \"bit\", \"black\", \"black\", \"black\", \"blind\", \"block\", \"block\", \"blue\", \"board\", \"bolt\", \"bomb\", \"book\", \"book\", \"box\", \"boy\", \"brain\", \"brand\", \"bug\", \"bury\", \"bus\", \"button\", \"buy\", \"buy\", \"buy\", \"buyer\", \"cable\", \"camp\", \"camping\", \"captain\", \"capture\", \"car\", \"card\", \"carry\", \"carry\", \"carry\", \"carry\", \"case\", \"case\", \"case\", \"case\", \"case\", \"catalog\", \"cd\", \"chamber\", \"character\", \"cheap\", \"child\", \"chip\", \"chip\", \"christian\", \"church\", \"circuit\", \"citizen\", \"citizen\", \"city\", \"city\", \"city\", \"city\", \"civilian\", \"civilian\", \"claim\", \"clipper\", \"clipper_chip\", \"clock\", \"cmu_edu\", \"code\", \"color\", \"com\", \"com\", \"combine\", \"come\", \"come\", \"communication\", \"communication\", \"compile\", \"compiler\", \"compound\", \"compression\", \"computer\", \"computer\", \"computer_science\", \"conclusion\", \"condition\", \"condition\", \"condition\", \"configuration\", \"confirm\", \"connector\", \"consequence\", \"conservative\", \"consideration\", \"constitution\", \"consult\", \"contain\", \"contain\", \"controller\", \"controversial\", \"convenient\", \"cooperation\", \"cop\", \"copy\", \"corporation\", \"correct\", \"cost\", \"cost\", \"country\", \"country\", \"couple\", \"cover\", \"cover\", \"cover\", \"cover\", \"cover\", \"cpu\", \"crash\", \"creator\", \"crew\", \"crime\", \"criminal\", \"crowd\", \"crypto\", \"cryptography\", \"cure\", \"curious\", \"cylinder\", \"d\", \"dangerous\", \"dare\", \"datum\", \"datum\", \"daughter\", \"day\", \"day\", \"day\", \"death\", \"death\", \"decision\", \"default\", \"deficit\", \"definite\", \"definitely\", \"deny\", \"department\", \"dept\", \"depth\", \"depth\", \"derive\", \"description\", \"design\", \"design\", \"design\", \"die\", \"die\", \"digital\", \"direct\", \"director\", \"directory\", \"dirty\", \"disarm\", \"discussion\", \"disease\", \"disk\", \"display\", \"display\", \"distant\", \"distribution\", \"distribution_world\", \"division\", \"do\", \"do\", \"doctor\", \"draft\", \"draw\", \"draw\", \"dream\", \"drive\", \"driver\", \"drug\", \"dry\", \"dump\", \"duo\", \"earth\", \"earth\", \"economic\", \"edit\", \"effectively\", \"efficiently\", \"email\", \"employment\", \"enable\", \"encryption\", \"energy\", \"engage\", \"engine\", \"ensure\", \"entity\", \"entry\", \"environment\", \"equip\", \"escape\", \"ethnic\", \"even\", \"even\", \"even\", \"evidence\", \"exist\", \"expansion\", \"expensive\", \"expensive\", \"explain\", \"external\", \"face\", \"fact\", \"fact\", \"fact\", \"factory\", \"fail\", \"faith\", \"fame\", \"fan\", \"fast\", \"fast\", \"fast\", \"fax\", \"feature\", \"feed\", \"file\", \"file\", \"fill\", \"find\", \"find\", \"find\", \"finish\", \"fire\", \"firearm\", \"first\", \"first\", \"first\", \"first\", \"first\", \"first\", \"first\", \"flag\", \"flight\", \"floppy\", \"flow\", \"follow\", \"follow\", \"follow\", \"follow\", \"font\", \"force\", \"force\", \"format\", \"formation\", \"forsale\", \"frame\", \"free\", \"free\", \"free\", \"free\", \"freedom\", \"french\", \"friend\", \"fuel\", \"function\", \"game\", \"gateway\", \"generic\", \"genocide\", \"german\", \"get\", \"get\", \"get\", \"gif\", \"girl\", \"give\", \"give\", \"give\", \"give\", \"give\", \"go\", \"goal\", \"goal\", \"god\", \"good\", \"good\", \"good\", \"government\", \"government\", \"government\", \"grant\", \"graphic\", \"greek\", \"ground\", \"ground\", \"ground\", \"group\", \"group\", \"group\", \"group\", \"guess\", \"guilty\", \"gun\", \"gun_control\", \"guy\", \"hair\", \"happen\", \"head\", \"health\", \"hear\", \"helmet\", \"help\", \"help\", \"help\", \"hence\", \"herein\", \"historical\", \"hole\", \"homosexual\", \"hopefully\", \"host\", \"however\", \"however\", \"however\", \"however\", \"human\", \"i\", \"ice\", \"icon\", \"ide\", \"ill\", \"image\", \"immediate\", \"implementation\", \"imply\", \"import\", \"impressive\", \"include\", \"include\", \"include\", \"include\", \"include\", \"increase\", \"increase\", \"increase\", \"incur\", \"individual\", \"industry\", \"info\", \"information\", \"information\", \"inhabitant\", \"initialize\", \"input\", \"insist\", \"instal\", \"instal\", \"instrument\", \"int\", \"intelligence\", \"interested\", \"interested\", \"interested\", \"interested\", \"international\", \"international\", \"international\", \"internet\", \"introduce\", \"invasion\", \"investigation\", \"involve\", \"isa\", \"islamic\", \"israeli\", \"issue\", \"jack\", \"jewish\", \"jewish\", \"jim_frost\", \"jpeg\", \"junk\", \"key\", \"keyword\", \"keyword\", \"kill\", \"kill\", \"know\", \"know\", \"know\", \"land\", \"land\", \"land\", \"launch\", \"law\", \"law_enforcement\", \"leafs\", \"legal\", \"let\", \"let\", \"library\", \"license\", \"life\", \"life\", \"life\", \"light\", \"like\", \"like\", \"like\", \"like\", \"limit\", \"limit\", \"limit\", \"limit\", \"line\", \"line\", \"line_communication\", \"link\", \"list\", \"list\", \"little\", \"load\", \"locate\", \"login\", \"look\", \"look\", \"look\", \"lose\", \"lot\", \"lot\", \"low\", \"low\", \"low\", \"low\", \"low\", \"luck\", \"lunar\", \"m\", \"m\", \"mac\", \"machine\", \"machine\", \"mail\", \"mail\", \"make\", \"make\", \"make\", \"make\", \"make\", \"male\", \"man\", \"man\", \"man\", \"man\", \"manage\", \"manage\", \"manager\", \"many\", \"many\", \"many\", \"many\", \"map\", \"mapping\", \"mar\", \"market\", \"master\", \"material\", \"material\", \"matter\", \"matter\", \"matter\", \"maybe\", \"mb\", \"mean\", \"mean\", \"mean\", \"mechanism\", \"medical\", \"medicine\", \"meet\", \"meeting\", \"meg\", \"member\", \"memory\", \"menu\", \"menu\", \"message\", \"message\", \"meter\", \"mhz\", \"militia\", \"minority\", \"mirror\", \"mission\", \"mode\", \"mode\", \"model\", \"modem\", \"money\", \"monitor\", \"month\", \"moon\", \"mother\", \"motherboard\", \"motif\", \"motion\", \"motto\", \"mount\", \"mouse\", \"move\", \"mph\", \"ms_window\", \"much\", \"much\", \"murder\", \"murder\", \"muslim\", \"narrow\", \"national\", \"ncd\", \"need\", \"need\", \"need\", \"net\", \"net\", \"network\", \"new\", \"new\", \"new\", \"new\", \"new\", \"news\", \"news\", \"news\", \"nhl\", \"nist\", \"nntp_poste\", \"northern\", \"nuclear\", \"number\", \"number\", \"number\", \"number\", \"number\", \"number\", \"occupy\", \"offer\", \"offer\", \"offer\", \"office\", \"office\", \"option\", \"oracle\", \"oracle_corporation\", \"orbit\", \"organization\", \"originator\", \"out\", \"ozone\", \"package\", \"parent\", \"parent\", \"part\", \"part\", \"part\", \"part\", \"part\", \"particular\", \"partner\", \"patient\", \"pay\", \"payment\", \"pc\", \"pc\", \"peace\", \"peace\", \"pen\", \"penguin\", \"people\", \"people\", \"people\", \"people\", \"people\", \"percent\", \"person\", \"person\", \"phase\", \"phone\", \"phone\", \"physical\", \"physician\", \"pitt\", \"pixel\", \"plane\", \"planet\", \"planetary\", \"play\", \"player\", \"po_andrew\", \"point\", \"point\", \"point\", \"pointer\", \"police\", \"political_atheist\", \"poor\", \"population\", \"population\", \"port\", \"port\", \"portable\", \"possibly\", \"post\", \"post\", \"post\", \"pound\", \"power_supply\", \"powerbook\", \"preferably\", \"presentation\", \"pretty\", \"prevent\", \"previously\", \"price\", \"primarily\", \"printer\", \"privacy\", \"pro\", \"pro\", \"probably\", \"probably\", \"probably\", \"probe\", \"problem\", \"problem\", \"problem\", \"problem\", \"procedure\", \"proceed\", \"processor\", \"program\", \"project\", \"project\", \"project\", \"proof\", \"properly\", \"proposal\", \"proposal\", \"protect\", \"prove\", \"provide\", \"provide\", \"provide\", \"public\", \"public\", \"public\", \"publish\", \"publish\", \"purchase\", \"purpose\", \"purpose\", \"put\", \"qualified\", \"question\", \"question\", \"question\", \"question\", \"radiation\", \"radio_shack\", \"radius\", \"ram\", \"rape\", \"rate\", \"rate\", \"re\", \"read\", \"read\", \"read\", \"reality\", \"really\", \"really\", \"rear\", \"reason\", \"reason\", \"reduce\", \"reflect\", \"register\", \"registration\", \"relate\", \"related\", \"religion\", \"remember\", \"remote\", \"render\", \"replacement\", \"reply\", \"reply\", \"report\", \"report\", \"report\", \"requirement\", \"reserve\", \"resource\", \"restore\", \"revolver\", \"ride\", \"rider\", \"right\", \"right\", \"risk\", \"rocket\", \"route\", \"row\", \"rule\", \"rule\", \"run\", \"run\", \"run\", \"run\", \"running\", \"russian\", \"rutger\", \"s\", \"safety\", \"safety\", \"sale\", \"satellite\", \"saturn\", \"say\", \"say\", \"say\", \"scan\", \"schedule\", \"schedule\", \"schematic\", \"scheme\", \"schneider\", \"science\", \"scientific\", \"score\", \"screen\", \"scsi\", \"season\", \"secret\", \"section\", \"secure\", \"security\", \"see\", \"see\", \"self\", \"sell\", \"send\", \"send\", \"sense\", \"serdar_argic\", \"serial\", \"series\", \"series\", \"serious\", \"serious\", \"serve\", \"server\", \"services_gu\", \"session\", \"set\", \"set\", \"set\", \"set\", \"shoot\", \"shoot\", \"shuttle\", \"signal\", \"significance\", \"site\", \"situation\", \"situation\", \"situation\", \"sky\", \"slaughter\", \"slide\", \"slow\", \"slow\", \"society\", \"soft\", \"software\", \"software\", \"solar\", \"soldier\", \"solid\", \"somehow\", \"son\", \"sorry\", \"source\", \"source\", \"source\", \"space\", \"space\", \"spacecraft\", \"speak\", \"speak\", \"spec\", \"specification\", \"specify\", \"speed\", \"spell\", \"sport\", \"standard\", \"standard\", \"standard\", \"standard\", \"standard\", \"standard\", \"star\", \"start\", \"start\", \"state\", \"statistic\", \"still\", \"still\", \"strange\", \"strip\", \"study\", \"study\", \"study\", \"subject\", \"subject\", \"subject\", \"subject\", \"subscription\", \"subsequent\", \"suck\", \"sue\", \"suggest\", \"suitable\", \"sun\", \"supply\", \"supply\", \"supply\", \"support\", \"support\", \"support\", \"sure\", \"sure\", \"sure\", \"survive\", \"suspect\", \"switch\", \"system\", \"system\", \"system\", \"system\", \"table\", \"take\", \"take\", \"take\", \"talk\", \"talk\", \"tap\", \"tape\", \"team\", \"team\", \"technical\", \"technology\", \"technology\", \"technology\", \"tell\", \"tell\", \"telnet\", \"terminal\", \"territory\", \"terrorism\", \"test\", \"test\", \"thank\", \"thank\", \"thanx\", \"thermal\", \"thing\", \"thing\", \"think\", \"think\", \"thus\", \"tie\", \"time\", \"time\", \"time\", \"timing\", \"tolerance\", \"trade\", \"trade\", \"traditional\", \"trap\", \"treat\", \"treat\", \"treatment\", \"treatment\", \"tree\", \"trial\", \"trick\", \"trigger\", \"true\", \"truth\", \"try\", \"try\", \"try\", \"turk\", \"turkish\", \"turn\", \"twin\", \"type\", \"type\", \"united_state\", \"university\", \"university\", \"unlikely\", \"upcoming\", \"update\", \"upgrade\", \"use\", \"use\", \"use\", \"use\", \"use\", \"user\", \"utilize\", \"value\", \"value\", \"ve\", \"vehicle\", \"vehicle\", \"version\", \"version\", \"version_pl\", \"video\", \"view\", \"village\", \"violence\", \"visit\", \"voice\", \"voice\", \"voice\", \"voltage\", \"vote\", \"wake\", \"wall\", \"want\", \"want\", \"want\", \"war\", \"warn\", \"warranty\", \"wash\", \"way\", \"way\", \"way\", \"weapon\", \"week\", \"well\", \"well\", \"well\", \"whole\", \"win\", \"window\", \"wing\", \"wire\", \"wiretap\", \"withdraw\", \"woman\", \"wonder\", \"wonder\", \"word\", \"word\", \"work\", \"work\", \"work\", \"work\", \"worthless\", \"write\", \"write\", \"write\", \"year\", \"year\", \"year\", \"year\", \"yellow\"]}, \"R\": 30, \"lambda.step\": 0.01, \"plot.opts\": {\"xlab\": \"PC1\", \"ylab\": \"PC2\"}, \"topic.order\": [8, 19, 17, 18, 3, 9, 11, 5, 12, 6, 1, 16, 13, 7, 10, 4, 2, 20, 15, 14]};\n",
       "\n",
       "function LDAvis_load_lib(url, callback){\n",
       "  var s = document.createElement('script');\n",
       "  s.src = url;\n",
       "  s.async = true;\n",
       "  s.onreadystatechange = s.onload = callback;\n",
       "  s.onerror = function(){console.warn(\"failed to load library \" + url);};\n",
       "  document.getElementsByTagName(\"head\")[0].appendChild(s);\n",
       "}\n",
       "\n",
       "if(typeof(LDAvis) !== \"undefined\"){\n",
       "   // already loaded: just create the visualization\n",
       "   !function(LDAvis){\n",
       "       new LDAvis(\"#\" + \"ldavis_el257880139810105511488740385759\", ldavis_el257880139810105511488740385759_data);\n",
       "   }(LDAvis);\n",
       "}else if(typeof define === \"function\" && define.amd){\n",
       "   // require.js is available: use it to load d3/LDAvis\n",
       "   require.config({paths: {d3: \"https://d3js.org/d3.v5\"}});\n",
       "   require([\"d3\"], function(d3){\n",
       "      window.d3 = d3;\n",
       "      LDAvis_load_lib(\"https://cdn.jsdelivr.net/gh/bmabey/pyLDAvis@3.4.0/pyLDAvis/js/ldavis.v3.0.0.js\", function(){\n",
       "        new LDAvis(\"#\" + \"ldavis_el257880139810105511488740385759\", ldavis_el257880139810105511488740385759_data);\n",
       "      });\n",
       "    });\n",
       "}else{\n",
       "    // require.js not available: dynamically load d3 & LDAvis\n",
       "    LDAvis_load_lib(\"https://d3js.org/d3.v5.js\", function(){\n",
       "         LDAvis_load_lib(\"https://cdn.jsdelivr.net/gh/bmabey/pyLDAvis@3.4.0/pyLDAvis/js/ldavis.v3.0.0.js\", function(){\n",
       "                 new LDAvis(\"#\" + \"ldavis_el257880139810105511488740385759\", ldavis_el257880139810105511488740385759_data);\n",
       "            })\n",
       "         });\n",
       "}\n",
       "</script>"
      ],
      "text/plain": [
       "PreparedData(topic_coordinates=              x         y  topics  cluster       Freq\n",
       "topic                                                \n",
       "7     -0.350668 -0.075266       1        1  29.391527\n",
       "18    -0.339526 -0.100547       2        1  16.282155\n",
       "16    -0.278871  0.160409       3        1  13.070864\n",
       "17    -0.210283  0.199008       4        1  12.106640\n",
       "2     -0.242999 -0.163861       5        1   9.466361\n",
       "8      0.037139  0.077025       6        1   4.465701\n",
       "10    -0.026667  0.221124       7        1   2.186172\n",
       "4     -0.008248 -0.201727       8        1   1.921081\n",
       "11     0.035824 -0.138506       9        1   1.801238\n",
       "5      0.043556  0.030754      10        1   1.385092\n",
       "0      0.064178  0.030269      11        1   1.349959\n",
       "15     0.118132  0.001090      12        1   1.096293\n",
       "12     0.104929 -0.007016      13        1   1.078059\n",
       "6      0.102041  0.039764      14        1   1.045100\n",
       "9      0.116202  0.016973      15        1   1.014418\n",
       "3      0.130917 -0.014586      16        1   0.839049\n",
       "1      0.135932 -0.000276      17        1   0.828613\n",
       "19     0.179522 -0.020885      18        1   0.360377\n",
       "14     0.180550 -0.027184      19        1   0.263870\n",
       "13     0.208339 -0.026561      20        1   0.047430, topic_info=               Term          Freq         Total Category  logprob  loglift\n",
       "4348             ax  36447.000000  36447.000000  Default  30.0000  30.0000\n",
       "18             line  16206.000000  16206.000000  Default  29.0000  29.0000\n",
       "37          subject  14829.000000  14829.000000  Default  28.0000  28.0000\n",
       "209           write  13614.000000  13614.000000  Default  27.0000  27.0000\n",
       "26     organization  10564.000000  10564.000000  Default  26.0000  26.0000\n",
       "...             ...           ...           ...      ...      ...      ...\n",
       "49164   infertility      0.010817      1.252860  Topic20 -10.9426   2.9016\n",
       "8513          adult      0.010817      1.252880  Topic20 -10.9426   2.9016\n",
       "5474    accelerator      0.010817      1.252876  Topic20 -10.9426   2.9016\n",
       "20563         sperm      0.010817      1.252857  Topic20 -10.9426   2.9016\n",
       "9835     consistent      0.010817      1.252894  Topic20 -10.9426   2.9016\n",
       "\n",
       "[859 rows x 6 columns], token_table=      Topic      Freq          Term\n",
       "term                               \n",
       "961       6  0.999547             _\n",
       "1377      2  0.999190        accept\n",
       "3130     13  0.978310  access_digex\n",
       "963       1  0.452919      accident\n",
       "963       9  0.182152      accident\n",
       "...     ...       ...           ...\n",
       "41        1  0.786763          year\n",
       "41        4  0.044245          year\n",
       "41        5  0.096133          year\n",
       "41       10  0.072804          year\n",
       "1142     19  0.953687        yellow\n",
       "\n",
       "[1063 rows x 3 columns], R=30, lambda_step=0.01, plot_opts={'xlab': 'PC1', 'ylab': 'PC2'}, topic_order=[8, 19, 17, 18, 3, 9, 11, 5, 12, 6, 1, 16, 13, 7, 10, 4, 2, 20, 15, 14])"
      ]
     },
     "execution_count": 20,
     "metadata": {},
     "output_type": "execute_result"
    }
   ],
   "source": [
    "# Visualize the topics\n",
    "pyLDAvis.enable_notebook()\n",
    "vis = pyLDAvis.gensim_models.prepare(lda_model, corpus, id2word)\n",
    "vis"
   ]
  },
  {
   "cell_type": "code",
   "execution_count": 34,
   "id": "c4a80630-ce51-4b0d-83f4-2c6909bf646f",
   "metadata": {
    "scrolled": true
   },
   "outputs": [
    {
     "name": "stderr",
     "output_type": "stream",
     "text": [
      "/home/users/iasamori/tiktok/mallet-2.0.8//bin/mallet: line 60: java: command not found\n"
     ]
    },
    {
     "ename": "CalledProcessError",
     "evalue": "Command '/home/users/iasamori/tiktok/mallet-2.0.8//bin/mallet import-file --preserve-case --keep-sequence --remove-stopwords --token-regex \"\\S+\" --input /tmp/971eb9_corpus.txt --output /tmp/971eb9_corpus.mallet' returned non-zero exit status 127.",
     "output_type": "error",
     "traceback": [
      "\u001b[0;31m---------------------------------------------------------------------------\u001b[0m",
      "\u001b[0;31mCalledProcessError\u001b[0m                        Traceback (most recent call last)",
      "Cell \u001b[0;32mIn[34], line 4\u001b[0m\n\u001b[1;32m      2\u001b[0m \u001b[38;5;66;03m# mallet_path = \"/oak/stanford/groups/rbaltman/samori/mallet-2.0.8/bin/mallet\"\u001b[39;00m\n\u001b[1;32m      3\u001b[0m mallet_path \u001b[38;5;241m=\u001b[39m \u001b[38;5;124m\"\u001b[39m\u001b[38;5;124m/home/users/iasamori/tiktok/mallet-2.0.8//bin/mallet\u001b[39m\u001b[38;5;124m\"\u001b[39m\n\u001b[0;32m----> 4\u001b[0m ldamallet \u001b[38;5;241m=\u001b[39m \u001b[43mgensim\u001b[49m\u001b[38;5;241;43m.\u001b[39;49m\u001b[43mmodels\u001b[49m\u001b[38;5;241;43m.\u001b[39;49m\u001b[43mwrappers\u001b[49m\u001b[38;5;241;43m.\u001b[39;49m\u001b[43mLdaMallet\u001b[49m\u001b[43m(\u001b[49m\u001b[43mmallet_path\u001b[49m\u001b[38;5;241;43m=\u001b[39;49m\u001b[43mmallet_path\u001b[49m\u001b[43m,\u001b[49m\u001b[43m \u001b[49m\u001b[43mcorpus\u001b[49m\u001b[38;5;241;43m=\u001b[39;49m\u001b[43mcorpus\u001b[49m\u001b[43m,\u001b[49m\u001b[43m \u001b[49m\u001b[43mnum_topics\u001b[49m\u001b[38;5;241;43m=\u001b[39;49m\u001b[38;5;241;43m20\u001b[39;49m\u001b[43m,\u001b[49m\u001b[43m \u001b[49m\u001b[43mid2word\u001b[49m\u001b[38;5;241;43m=\u001b[39;49m\u001b[43mid2word\u001b[49m\u001b[43m)\u001b[49m\n",
      "File \u001b[0;32m/home/groups/rbaltman/samori/miniconda3/envs/lda_env/lib/python3.9/site-packages/gensim/models/wrappers/ldamallet.py:131\u001b[0m, in \u001b[0;36mLdaMallet.__init__\u001b[0;34m(self, mallet_path, corpus, num_topics, alpha, id2word, workers, prefix, optimize_interval, iterations, topic_threshold, random_seed)\u001b[0m\n\u001b[1;32m    129\u001b[0m \u001b[38;5;28mself\u001b[39m\u001b[38;5;241m.\u001b[39mrandom_seed \u001b[38;5;241m=\u001b[39m random_seed\n\u001b[1;32m    130\u001b[0m \u001b[38;5;28;01mif\u001b[39;00m corpus \u001b[38;5;129;01mis\u001b[39;00m \u001b[38;5;129;01mnot\u001b[39;00m \u001b[38;5;28;01mNone\u001b[39;00m:\n\u001b[0;32m--> 131\u001b[0m     \u001b[38;5;28;43mself\u001b[39;49m\u001b[38;5;241;43m.\u001b[39;49m\u001b[43mtrain\u001b[49m\u001b[43m(\u001b[49m\u001b[43mcorpus\u001b[49m\u001b[43m)\u001b[49m\n",
      "File \u001b[0;32m/home/groups/rbaltman/samori/miniconda3/envs/lda_env/lib/python3.9/site-packages/gensim/models/wrappers/ldamallet.py:272\u001b[0m, in \u001b[0;36mLdaMallet.train\u001b[0;34m(self, corpus)\u001b[0m\n\u001b[1;32m    263\u001b[0m \u001b[38;5;28;01mdef\u001b[39;00m \u001b[38;5;21mtrain\u001b[39m(\u001b[38;5;28mself\u001b[39m, corpus):\n\u001b[1;32m    264\u001b[0m \u001b[38;5;250m    \u001b[39m\u001b[38;5;124;03m\"\"\"Train Mallet LDA.\u001b[39;00m\n\u001b[1;32m    265\u001b[0m \n\u001b[1;32m    266\u001b[0m \u001b[38;5;124;03m    Parameters\u001b[39;00m\n\u001b[0;32m   (...)\u001b[0m\n\u001b[1;32m    270\u001b[0m \n\u001b[1;32m    271\u001b[0m \u001b[38;5;124;03m    \"\"\"\u001b[39;00m\n\u001b[0;32m--> 272\u001b[0m     \u001b[38;5;28;43mself\u001b[39;49m\u001b[38;5;241;43m.\u001b[39;49m\u001b[43mconvert_input\u001b[49m\u001b[43m(\u001b[49m\u001b[43mcorpus\u001b[49m\u001b[43m,\u001b[49m\u001b[43m \u001b[49m\u001b[43minfer\u001b[49m\u001b[38;5;241;43m=\u001b[39;49m\u001b[38;5;28;43;01mFalse\u001b[39;49;00m\u001b[43m)\u001b[49m\n\u001b[1;32m    273\u001b[0m     cmd \u001b[38;5;241m=\u001b[39m \u001b[38;5;28mself\u001b[39m\u001b[38;5;241m.\u001b[39mmallet_path \u001b[38;5;241m+\u001b[39m \u001b[38;5;124m'\u001b[39m\u001b[38;5;124m train-topics --input \u001b[39m\u001b[38;5;132;01m%s\u001b[39;00m\u001b[38;5;124m --num-topics \u001b[39m\u001b[38;5;132;01m%s\u001b[39;00m\u001b[38;5;124m  --alpha \u001b[39m\u001b[38;5;132;01m%s\u001b[39;00m\u001b[38;5;124m --optimize-interval \u001b[39m\u001b[38;5;132;01m%s\u001b[39;00m\u001b[38;5;124m \u001b[39m\u001b[38;5;124m'\u001b[39m\\\n\u001b[1;32m    274\u001b[0m         \u001b[38;5;124m'\u001b[39m\u001b[38;5;124m--num-threads \u001b[39m\u001b[38;5;132;01m%s\u001b[39;00m\u001b[38;5;124m --output-state \u001b[39m\u001b[38;5;132;01m%s\u001b[39;00m\u001b[38;5;124m --output-doc-topics \u001b[39m\u001b[38;5;132;01m%s\u001b[39;00m\u001b[38;5;124m --output-topic-keys \u001b[39m\u001b[38;5;132;01m%s\u001b[39;00m\u001b[38;5;124m \u001b[39m\u001b[38;5;124m'\u001b[39m\\\n\u001b[1;32m    275\u001b[0m         \u001b[38;5;124m'\u001b[39m\u001b[38;5;124m--num-iterations \u001b[39m\u001b[38;5;132;01m%s\u001b[39;00m\u001b[38;5;124m --inferencer-filename \u001b[39m\u001b[38;5;132;01m%s\u001b[39;00m\u001b[38;5;124m --doc-topics-threshold \u001b[39m\u001b[38;5;132;01m%s\u001b[39;00m\u001b[38;5;124m  --random-seed \u001b[39m\u001b[38;5;132;01m%s\u001b[39;00m\u001b[38;5;124m'\u001b[39m\n\u001b[1;32m    277\u001b[0m     cmd \u001b[38;5;241m=\u001b[39m cmd \u001b[38;5;241m%\u001b[39m (\n\u001b[1;32m    278\u001b[0m         \u001b[38;5;28mself\u001b[39m\u001b[38;5;241m.\u001b[39mfcorpusmallet(), \u001b[38;5;28mself\u001b[39m\u001b[38;5;241m.\u001b[39mnum_topics, \u001b[38;5;28mself\u001b[39m\u001b[38;5;241m.\u001b[39malpha, \u001b[38;5;28mself\u001b[39m\u001b[38;5;241m.\u001b[39moptimize_interval,\n\u001b[1;32m    279\u001b[0m         \u001b[38;5;28mself\u001b[39m\u001b[38;5;241m.\u001b[39mworkers, \u001b[38;5;28mself\u001b[39m\u001b[38;5;241m.\u001b[39mfstate(), \u001b[38;5;28mself\u001b[39m\u001b[38;5;241m.\u001b[39mfdoctopics(), \u001b[38;5;28mself\u001b[39m\u001b[38;5;241m.\u001b[39mftopickeys(), \u001b[38;5;28mself\u001b[39m\u001b[38;5;241m.\u001b[39miterations,\n\u001b[1;32m    280\u001b[0m         \u001b[38;5;28mself\u001b[39m\u001b[38;5;241m.\u001b[39mfinferencer(), \u001b[38;5;28mself\u001b[39m\u001b[38;5;241m.\u001b[39mtopic_threshold, \u001b[38;5;28mstr\u001b[39m(\u001b[38;5;28mself\u001b[39m\u001b[38;5;241m.\u001b[39mrandom_seed)\n\u001b[1;32m    281\u001b[0m     )\n",
      "File \u001b[0;32m/home/groups/rbaltman/samori/miniconda3/envs/lda_env/lib/python3.9/site-packages/gensim/models/wrappers/ldamallet.py:261\u001b[0m, in \u001b[0;36mLdaMallet.convert_input\u001b[0;34m(self, corpus, infer, serialize_corpus)\u001b[0m\n\u001b[1;32m    259\u001b[0m     cmd \u001b[38;5;241m=\u001b[39m cmd \u001b[38;5;241m%\u001b[39m (\u001b[38;5;28mself\u001b[39m\u001b[38;5;241m.\u001b[39mfcorpustxt(), \u001b[38;5;28mself\u001b[39m\u001b[38;5;241m.\u001b[39mfcorpusmallet())\n\u001b[1;32m    260\u001b[0m logger\u001b[38;5;241m.\u001b[39minfo(\u001b[38;5;124m\"\u001b[39m\u001b[38;5;124mconverting temporary corpus to MALLET format with \u001b[39m\u001b[38;5;132;01m%s\u001b[39;00m\u001b[38;5;124m\"\u001b[39m, cmd)\n\u001b[0;32m--> 261\u001b[0m \u001b[43mcheck_output\u001b[49m\u001b[43m(\u001b[49m\u001b[43margs\u001b[49m\u001b[38;5;241;43m=\u001b[39;49m\u001b[43mcmd\u001b[49m\u001b[43m,\u001b[49m\u001b[43m \u001b[49m\u001b[43mshell\u001b[49m\u001b[38;5;241;43m=\u001b[39;49m\u001b[38;5;28;43;01mTrue\u001b[39;49;00m\u001b[43m)\u001b[49m\n",
      "File \u001b[0;32m/home/groups/rbaltman/samori/miniconda3/envs/lda_env/lib/python3.9/site-packages/gensim/utils.py:1932\u001b[0m, in \u001b[0;36mcheck_output\u001b[0;34m(stdout, *popenargs, **kwargs)\u001b[0m\n\u001b[1;32m   1930\u001b[0m         error \u001b[38;5;241m=\u001b[39m subprocess\u001b[38;5;241m.\u001b[39mCalledProcessError(retcode, cmd)\n\u001b[1;32m   1931\u001b[0m         error\u001b[38;5;241m.\u001b[39moutput \u001b[38;5;241m=\u001b[39m output\n\u001b[0;32m-> 1932\u001b[0m         \u001b[38;5;28;01mraise\u001b[39;00m error\n\u001b[1;32m   1933\u001b[0m     \u001b[38;5;28;01mreturn\u001b[39;00m output\n\u001b[1;32m   1934\u001b[0m \u001b[38;5;28;01mexcept\u001b[39;00m \u001b[38;5;167;01mKeyboardInterrupt\u001b[39;00m:\n",
      "\u001b[0;31mCalledProcessError\u001b[0m: Command '/home/users/iasamori/tiktok/mallet-2.0.8//bin/mallet import-file --preserve-case --keep-sequence --remove-stopwords --token-regex \"\\S+\" --input /tmp/971eb9_corpus.txt --output /tmp/971eb9_corpus.mallet' returned non-zero exit status 127."
     ]
    }
   ],
   "source": [
    "oak = os.getenv(\"OAK\")\n",
    "# mallet_path = \"/oak/stanford/groups/rbaltman/samori/mallet-2.0.8/bin/mallet\"\n",
    "mallet_path = \"/home/users/iasamori/tiktok/mallet-2.0.8//bin/mallet\"\n",
    "ldamallet = gensim.models.wrappers.LdaMallet(mallet_path=mallet_path, corpus=corpus, num_topics=20, id2word=id2word)"
   ]
  },
  {
   "cell_type": "code",
   "execution_count": 25,
   "id": "9ffa9d88-c876-41ec-9f61-c82e8cda7931",
   "metadata": {},
   "outputs": [
    {
     "name": "stdout",
     "output_type": "stream",
     "text": [
      "ls: cannot access f/oak/stanford/groups/rbaltman/samori/mallet-2.0.8/bin/mallet: No such file or directory\n"
     ]
    }
   ],
   "source": [
    "! ls \"/oak/stanford/groups/rbaltman/samori/mallet-2.0.8/bin/mallet\""
   ]
  },
  {
   "cell_type": "code",
   "execution_count": 30,
   "id": "c3d36648-e1c6-4ce4-8c89-5913b358c02b",
   "metadata": {},
   "outputs": [
    {
     "name": "stdout",
     "output_type": "stream",
     "text": [
      "/oak/stanford/groups/rbaltman/samori/mallet-2.0.8/bin/mallet\n"
     ]
    }
   ],
   "source": [
    "! ls \"/oak/stanford/groups/rbaltman/samori/mallet-2.0.8/bin/mallet\""
   ]
  },
  {
   "cell_type": "code",
   "execution_count": 20,
   "id": "d1b645dd-a46f-4c9f-9fde-f0ec75c1f7f7",
   "metadata": {},
   "outputs": [],
   "source": [
    "from tqdm import tqdm"
   ]
  },
  {
   "cell_type": "code",
   "execution_count": 22,
   "id": "65ee5759-b588-424d-88bf-384b476c447a",
   "metadata": {},
   "outputs": [
    {
     "ename": "SyntaxError",
     "evalue": "invalid syntax (172852406.py, line 19)",
     "output_type": "error",
     "traceback": [
      "\u001b[0;36m  Cell \u001b[0;32mIn[22], line 19\u001b[0;36m\u001b[0m\n\u001b[0;31m    for num_topics in tqdm((range(start, limit, step)):\u001b[0m\n\u001b[0m                                                      ^\u001b[0m\n\u001b[0;31mSyntaxError\u001b[0m\u001b[0;31m:\u001b[0m invalid syntax\n"
     ]
    }
   ],
   "source": [
    "def compute_coherence_values(dictionary, corpus, texts, limit, start=2, step=3):\n",
    "    \"\"\"\n",
    "    Compute c_v coherence for various number of topics\n",
    "\n",
    "    Parameters:\n",
    "    ----------\n",
    "    dictionary : Gensim dictionary\n",
    "    corpus : Gensim corpus\n",
    "    texts : List of input texts\n",
    "    limit : Max num of topics\n",
    "\n",
    "    Returns:\n",
    "    -------\n",
    "    model_list : List of LDA topic models\n",
    "    coherence_values : Coherence values corresponding to the LDA model with respective number of topics\n",
    "    \"\"\"\n",
    "    coherence_values = []\n",
    "    model_list = []\n",
    "    for num_topics in tqdm((range(start, limit, step)):\n",
    "        # model = gensim.models.wrappers.LdaMallet(mallet_path, corpus=corpus, num_topics=num_topics, id2word=id2word)\n",
    "        model = gensim.models.ldamodel.LdaModel(corpus=corpus,\n",
    "                                           id2word=id2word,\n",
    "                                           num_topics=20, \n",
    "                                           random_state=100,\n",
    "                                           update_every=1,\n",
    "                                           chunksize=100,\n",
    "                                           passes=10,\n",
    "                                           alpha='auto',\n",
    "                                           per_word_topics=True)\n",
    "        model_list.append(model)\n",
    "        coherencemodel = CoherenceModel(model=model, texts=texts, dictionary=dictionary, coherence='c_v')\n",
    "        coherence_values.append(coherencemodel.get_coherence())\n",
    "\n",
    "    return model_list, coherence_values"
   ]
  },
  {
   "cell_type": "code",
   "execution_count": 23,
   "id": "823f5738-e714-4da1-ac3e-37b092c1895f",
   "metadata": {},
   "outputs": [
    {
     "ename": "KeyboardInterrupt",
     "evalue": "",
     "output_type": "error",
     "traceback": [
      "\u001b[0;31m---------------------------------------------------------------------------\u001b[0m",
      "\u001b[0;31mKeyboardInterrupt\u001b[0m                         Traceback (most recent call last)",
      "Cell \u001b[0;32mIn[23], line 1\u001b[0m\n\u001b[0;32m----> 1\u001b[0m model_list, coherence_values \u001b[38;5;241m=\u001b[39m \u001b[43mcompute_coherence_values\u001b[49m\u001b[43m(\u001b[49m\u001b[43mdictionary\u001b[49m\u001b[38;5;241;43m=\u001b[39;49m\u001b[43mid2word\u001b[49m\u001b[43m,\u001b[49m\u001b[43m \u001b[49m\u001b[43mcorpus\u001b[49m\u001b[38;5;241;43m=\u001b[39;49m\u001b[43mcorpus\u001b[49m\u001b[43m,\u001b[49m\u001b[43m \u001b[49m\u001b[43mtexts\u001b[49m\u001b[38;5;241;43m=\u001b[39;49m\u001b[43mdata_lemmatized\u001b[49m\u001b[43m,\u001b[49m\u001b[43m \u001b[49m\u001b[43mstart\u001b[49m\u001b[38;5;241;43m=\u001b[39;49m\u001b[38;5;241;43m2\u001b[39;49m\u001b[43m,\u001b[49m\u001b[43m \u001b[49m\u001b[43mlimit\u001b[49m\u001b[38;5;241;43m=\u001b[39;49m\u001b[38;5;241;43m40\u001b[39;49m\u001b[43m,\u001b[49m\u001b[43m \u001b[49m\u001b[43mstep\u001b[49m\u001b[38;5;241;43m=\u001b[39;49m\u001b[38;5;241;43m6\u001b[39;49m\u001b[43m)\u001b[49m\n",
      "Cell \u001b[0;32mIn[17], line 21\u001b[0m, in \u001b[0;36mcompute_coherence_values\u001b[0;34m(dictionary, corpus, texts, limit, start, step)\u001b[0m\n\u001b[1;32m     18\u001b[0m model_list \u001b[38;5;241m=\u001b[39m []\n\u001b[1;32m     19\u001b[0m \u001b[38;5;28;01mfor\u001b[39;00m num_topics \u001b[38;5;129;01min\u001b[39;00m \u001b[38;5;28mrange\u001b[39m(start, limit, step):\n\u001b[1;32m     20\u001b[0m     \u001b[38;5;66;03m# model = gensim.models.wrappers.LdaMallet(mallet_path, corpus=corpus, num_topics=num_topics, id2word=id2word)\u001b[39;00m\n\u001b[0;32m---> 21\u001b[0m     model \u001b[38;5;241m=\u001b[39m \u001b[43mgensim\u001b[49m\u001b[38;5;241;43m.\u001b[39;49m\u001b[43mmodels\u001b[49m\u001b[38;5;241;43m.\u001b[39;49m\u001b[43mldamodel\u001b[49m\u001b[38;5;241;43m.\u001b[39;49m\u001b[43mLdaModel\u001b[49m\u001b[43m(\u001b[49m\u001b[43mcorpus\u001b[49m\u001b[38;5;241;43m=\u001b[39;49m\u001b[43mcorpus\u001b[49m\u001b[43m,\u001b[49m\n\u001b[1;32m     22\u001b[0m \u001b[43m                                       \u001b[49m\u001b[43mid2word\u001b[49m\u001b[38;5;241;43m=\u001b[39;49m\u001b[43mid2word\u001b[49m\u001b[43m,\u001b[49m\n\u001b[1;32m     23\u001b[0m \u001b[43m                                       \u001b[49m\u001b[43mnum_topics\u001b[49m\u001b[38;5;241;43m=\u001b[39;49m\u001b[38;5;241;43m20\u001b[39;49m\u001b[43m,\u001b[49m\u001b[43m \u001b[49m\n\u001b[1;32m     24\u001b[0m \u001b[43m                                       \u001b[49m\u001b[43mrandom_state\u001b[49m\u001b[38;5;241;43m=\u001b[39;49m\u001b[38;5;241;43m100\u001b[39;49m\u001b[43m,\u001b[49m\n\u001b[1;32m     25\u001b[0m \u001b[43m                                       \u001b[49m\u001b[43mupdate_every\u001b[49m\u001b[38;5;241;43m=\u001b[39;49m\u001b[38;5;241;43m1\u001b[39;49m\u001b[43m,\u001b[49m\n\u001b[1;32m     26\u001b[0m \u001b[43m                                       \u001b[49m\u001b[43mchunksize\u001b[49m\u001b[38;5;241;43m=\u001b[39;49m\u001b[38;5;241;43m100\u001b[39;49m\u001b[43m,\u001b[49m\n\u001b[1;32m     27\u001b[0m \u001b[43m                                       \u001b[49m\u001b[43mpasses\u001b[49m\u001b[38;5;241;43m=\u001b[39;49m\u001b[38;5;241;43m10\u001b[39;49m\u001b[43m,\u001b[49m\n\u001b[1;32m     28\u001b[0m \u001b[43m                                       \u001b[49m\u001b[43malpha\u001b[49m\u001b[38;5;241;43m=\u001b[39;49m\u001b[38;5;124;43m'\u001b[39;49m\u001b[38;5;124;43mauto\u001b[39;49m\u001b[38;5;124;43m'\u001b[39;49m\u001b[43m,\u001b[49m\n\u001b[1;32m     29\u001b[0m \u001b[43m                                       \u001b[49m\u001b[43mper_word_topics\u001b[49m\u001b[38;5;241;43m=\u001b[39;49m\u001b[38;5;28;43;01mTrue\u001b[39;49;00m\u001b[43m)\u001b[49m\n\u001b[1;32m     30\u001b[0m     model_list\u001b[38;5;241m.\u001b[39mappend(model)\n\u001b[1;32m     31\u001b[0m     coherencemodel \u001b[38;5;241m=\u001b[39m CoherenceModel(model\u001b[38;5;241m=\u001b[39mmodel, texts\u001b[38;5;241m=\u001b[39mtexts, dictionary\u001b[38;5;241m=\u001b[39mdictionary, coherence\u001b[38;5;241m=\u001b[39m\u001b[38;5;124m'\u001b[39m\u001b[38;5;124mc_v\u001b[39m\u001b[38;5;124m'\u001b[39m)\n",
      "File \u001b[0;32m/home/groups/rbaltman/samori/miniconda3/envs/lda_env/lib/python3.10/site-packages/gensim/models/ldamodel.py:521\u001b[0m, in \u001b[0;36m__init__\u001b[0;34m(self, corpus, num_topics, id2word, distributed, chunksize, passes, update_every, alpha, eta, decay, offset, eval_every, iterations, gamma_threshold, minimum_probability, random_state, ns_conf, minimum_phi_value, per_word_topics, callbacks, dtype)\u001b[0m\n",
      "File \u001b[0;32m/home/groups/rbaltman/samori/miniconda3/envs/lda_env/lib/python3.10/site-packages/gensim/models/ldamodel.py:1020\u001b[0m, in \u001b[0;36mupdate\u001b[0;34m(self, corpus, chunksize, decay, offset, passes, update_every, eval_every, iterations, gamma_threshold, chunks_as_numpy)\u001b[0m\n",
      "File \u001b[0;32m/home/groups/rbaltman/samori/miniconda3/envs/lda_env/lib/python3.10/site-packages/gensim/models/ldamodel.py:1073\u001b[0m, in \u001b[0;36mdo_mstep\u001b[0;34m(self, rho, other, extra_pass)\u001b[0m\n",
      "File \u001b[0;32m/home/groups/rbaltman/samori/miniconda3/envs/lda_env/lib/python3.10/site-packages/gensim/models/basemodel.py:37\u001b[0m, in \u001b[0;36mprint_topics\u001b[0;34m(self, num_topics, num_words)\u001b[0m\n",
      "File \u001b[0;32m/home/groups/rbaltman/samori/miniconda3/envs/lda_env/lib/python3.10/site-packages/gensim/models/ldamodel.py:1189\u001b[0m, in \u001b[0;36mshow_topics\u001b[0;34m(self, num_topics, num_words, log, formatted)\u001b[0m\n",
      "File \u001b[0;32m/home/groups/rbaltman/samori/miniconda3/envs/lda_env/lib/python3.10/site-packages/numpy/core/_methods.py:49\u001b[0m, in \u001b[0;36m_sum\u001b[0;34m(a, axis, dtype, out, keepdims, initial, where)\u001b[0m\n",
      "\u001b[0;31mKeyboardInterrupt\u001b[0m: "
     ]
    }
   ],
   "source": [
    "model_list, coherence_values = compute_coherence_values(dictionary=id2word, corpus=corpus, texts=data_lemmatized, start=2, limit=40, step=6)"
   ]
  },
  {
   "cell_type": "code",
   "execution_count": null,
   "id": "1abe133f-1b21-4345-9286-2f18c18b6686",
   "metadata": {},
   "outputs": [],
   "source": [
    "limit=40; start=2; step=6;\n",
    "x = range(start, limit, step)\n",
    "plt.plot(x, coherence_values)\n",
    "plt.xlabel(\"Num Topics\")\n",
    "plt.ylabel(\"Coherence score\")\n",
    "plt.legend((\"coherence_values\"), loc='best')\n",
    "plt.show()"
   ]
  },
  {
   "cell_type": "code",
   "execution_count": 21,
   "id": "935f80d1-8b4b-41a0-b947-f15c03fefcb2",
   "metadata": {},
   "outputs": [
    {
     "ename": "NameError",
     "evalue": "name 'model_list' is not defined",
     "output_type": "error",
     "traceback": [
      "\u001b[0;31m---------------------------------------------------------------------------\u001b[0m",
      "\u001b[0;31mNameError\u001b[0m                                 Traceback (most recent call last)",
      "Cell \u001b[0;32mIn[21], line 1\u001b[0m\n\u001b[0;32m----> 1\u001b[0m \u001b[43mmodel_list\u001b[49m\n",
      "\u001b[0;31mNameError\u001b[0m: name 'model_list' is not defined"
     ]
    }
   ],
   "source": [
    "model_list"
   ]
  }
 ],
 "metadata": {
  "kernelspec": {
   "display_name": "lda_env",
   "language": "python",
   "name": "lda_env"
  },
  "language_info": {
   "codemirror_mode": {
    "name": "ipython",
    "version": 3
   },
   "file_extension": ".py",
   "mimetype": "text/x-python",
   "name": "python",
   "nbconvert_exporter": "python",
   "pygments_lexer": "ipython3",
   "version": "3.9.18"
  }
 },
 "nbformat": 4,
 "nbformat_minor": 5
}
