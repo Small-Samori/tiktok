{
 "cells": [
  {
   "cell_type": "code",
   "execution_count": 1,
   "id": "6d8940c2-17cf-4dfa-b9b7-207b8fe9376a",
   "metadata": {},
   "outputs": [
    {
     "data": {
      "text/plain": [
       "True"
      ]
     },
     "execution_count": 1,
     "metadata": {},
     "output_type": "execute_result"
    }
   ],
   "source": [
    "import requests\n",
    "import dotenv\n",
    "import os, time\n",
    "import pandas as pd\n",
    "\n",
    "dotenv.load_dotenv()"
   ]
  },
  {
   "cell_type": "code",
   "execution_count": 2,
   "id": "a1a03fef-053d-488e-8324-6364390fe551",
   "metadata": {},
   "outputs": [
    {
     "data": {
      "text/plain": [
       "True"
      ]
     },
     "execution_count": 2,
     "metadata": {},
     "output_type": "execute_result"
    }
   ],
   "source": [
    "scratch = os.getenv('SCRATCH')\n",
    "hashtag_folder = f\"{scratch}/tiktok/hashtag_data\"\n",
    "oak = os.getenv('OAK')\n",
    "# video_folder = f\"{oak}/samori/tiktok/video_data_known_keywords\"\n",
    "video_folder = f\"{oak}/samori/tiktok/test_folder2\"\n",
    "os.path.exists(video_folder)"
   ]
  },
  {
   "cell_type": "code",
   "execution_count": 3,
   "id": "3068fe9d-384d-4da4-81ea-ffcda285e1b0",
   "metadata": {},
   "outputs": [],
   "source": [
    "def get_access_token(client_key, client_secret):\n",
    "    # Endpoint URL\n",
    "    endpoint_url = \"https://open.tiktokapis.com/v2/oauth/token/\"\n",
    "\n",
    "    # Request headers\n",
    "    headers = {\n",
    "        'Content-Type': 'application/x-www-form-urlencoded',\n",
    "    }\n",
    "\n",
    "    # Request body parameters\n",
    "    data = {\n",
    "        'client_key': client_key,\n",
    "        'client_secret': client_secret,\n",
    "        'grant_type': 'client_credentials',\n",
    "    }\n",
    "\n",
    "    # Make the POST request\n",
    "    response = requests.post(endpoint_url, headers=headers, data=data)\n",
    "\n",
    "    # Check if the request was successful (status code 200)\n",
    "    if response.status_code == 200:\n",
    "        # Parse and print the response JSON\n",
    "        response_json = response.json()\n",
    "        \n",
    "        return response_json\n",
    "        \n",
    "    else:\n",
    "        # If the request was not successful, print the error response JSON\n",
    "        print(\"Error:\", response.json())"
   ]
  },
  {
   "cell_type": "code",
   "execution_count": 4,
   "id": "e71682cd-55e5-4ccd-9be3-29cdecae7b42",
   "metadata": {},
   "outputs": [],
   "source": [
    "client_key = os.getenv(\"CLIENT_KEY\")\n",
    "client_secret = os.getenv(\"CLIENT_SECRET\")\n",
    "\n",
    "credentials = get_access_token(client_key, client_secret)\n",
    "access_token = credentials['access_token']\n",
    "token_type = credentials['token_type']"
   ]
  },
  {
   "cell_type": "code",
   "execution_count": 5,
   "id": "d9c05458-fed7-459d-a1a8-0d3442fc0994",
   "metadata": {},
   "outputs": [],
   "source": [
    "formal_terms = [\"fentanyl\", \"opioids\", \"opiates\", \"morphine\", \"codeine\", \"oxycodone\", \"oxymorphone\", \"mscontin\", \"percocet\"]\n",
    "informal_terms = [\"sublimaze\", \"duragesic\", \"fentanil\", \"sufentanil\", \"fentanylum\", \"fentora\", \"thebaine\", \"codiene\", \"roxanol\", \n",
    "                     \"kadian\", \"oxycontin\", \"roxicodone\", \"roxicet\", \"endocet\", \"endocodone\", \"oxyir\", \"oxynorm\", \"hydrocodone\", \n",
    "                     \"vicodinsublimaze\", \"duragesic\", \"fentanil\", \"sufentanil\", \"fentanylum\", \"fentora\", \"thebaine\", \"codiene\", \n",
    "                     \"roxanol\", \"kadian\", \"oxycontin\", \"roxicodone\", \"roxicet\", \"endocet\", \"endocodone\", \"oxyir\", \"oxynorm\", \n",
    "                     \"hydrocodone\", \"vicodin\"]\n",
    "\n",
    "algospeak_terms = [\"paink!ller\", \"f3nt@nol\", \"cod3in3\", \"c0d0n3\", \"f3nt4nol\", \"p@1nk!ller\", \"oxy80s\", \"0xy80\", \"m0rph!n3\", \"m3rph0n3\", \n",
    "                   \"m0rf3n\", \"c0d3in\", \"0xyc\", \"s!zzurp\", \"0pana\", \"0xym0rph0ne\", \"num0rph@n\", \"m0rf33n\"]\n"
   ]
  },
  {
   "cell_type": "code",
   "execution_count": 6,
   "id": "5fcf1727-d553-4d05-bd3e-4fbba5d3ad7b",
   "metadata": {},
   "outputs": [],
   "source": [
    "fields = \"id,video_description,create_time,region_code,share_count,view_count,like_count,comment_count,music_id,hashtag_names,username,effect_ids,playlist_id,voice_to_text,is_stem_verified,favorites_count,video_duration\"\n",
    "normal_keywords = formal_terms + informal_terms"
   ]
  },
  {
   "cell_type": "code",
   "execution_count": 36,
   "id": "a957c227-bfed-4b78-bfe6-c78d78354591",
   "metadata": {},
   "outputs": [],
   "source": [
    "start_date = \"20220102\"\n",
    "end_date = \"20220115\" \n",
    "\n",
    "endpoint = \"https://open.tiktokapis.com/v2/research/video/query/\"\n",
    "\n",
    "query_params = {\n",
    "    \"fields\": fields\n",
    "}\n",
    "\n",
    "query_body = {\n",
    "    \"query\": {\n",
    "        \"and\": [\n",
    "        {\n",
    "            \"operation\":\"IN\",\n",
    "            \"field_name\":\"keyword\",\n",
    "            \"field_values\":[\"animal\"]\n",
    "        },\n",
    "        {\n",
    "            \"operation\":\"EQ\",\n",
    "            \"field_name\":\"region_code\",\n",
    "            \"field_values\":[\"US\"]\n",
    "        }\n",
    "        ]\n",
    "    },\n",
    "    \"max_count\": 100,\n",
    "    \"start_date\": start_date,\n",
    "    \"end_date\": end_date\n",
    "}\n",
    "\n",
    "headers = {\n",
    "    \"Content-Type\": \"application/json\",\n",
    "    \"Authorization\": f\"Bearer {access_token}\"\n",
    "    }"
   ]
  },
  {
   "cell_type": "code",
   "execution_count": 37,
   "id": "ea546b02-2a15-4907-9c29-8028847946b9",
   "metadata": {},
   "outputs": [
    {
     "name": "stdout",
     "output_type": "stream",
     "text": [
      "500\n"
     ]
    }
   ],
   "source": [
    "response = requests.post(endpoint, json=query_body, params=query_params, headers=headers)\n",
    "print(response.status_code)"
   ]
  },
  {
   "cell_type": "code",
   "execution_count": 38,
   "id": "87a9a333-85ab-4dc5-98b0-4eb88a8f00db",
   "metadata": {},
   "outputs": [
    {
     "data": {
      "text/plain": [
       "{'error': {'code': 'internal_error',\n",
       "  'message': 'Server Internal Error',\n",
       "  'log_id': '202409030249109892239942FB3A9B0194'}}"
      ]
     },
     "execution_count": 38,
     "metadata": {},
     "output_type": "execute_result"
    }
   ],
   "source": [
    "response.json()"
   ]
  },
  {
   "cell_type": "code",
   "execution_count": 17,
   "id": "b0237c4e-ac4b-406b-8182-c2eb5807da08",
   "metadata": {
    "scrolled": true
   },
   "outputs": [
    {
     "name": "stdout",
     "output_type": "stream",
     "text": [
      "Search ID:  7409072743070700586\n",
      "100 True 86\n"
     ]
    }
   ],
   "source": [
    "data = response.json().get(\"data\", {})\n",
    "\n",
    "search_id = data[\"search_id\"]\n",
    "has_more = data[\"has_more\"]\n",
    "cursor = data[\"cursor\"]\n",
    "\n",
    "videos = data.get(\"videos\", [])\n",
    "df = pd.DataFrame(videos)\n",
    "df.to_csv(f\"{hashtag_folder}/hashtags_{start_date}_{end_date}_{cursor}_{search_id}.csv\", index=False)\n",
    "\n",
    "print(\"Search ID: \", search_id)\n",
    "print(cursor, has_more, len(df))"
   ]
  },
  {
   "cell_type": "code",
   "execution_count": 8,
   "id": "d76768c0-d0b5-41c5-8ae2-a64e9e597746",
   "metadata": {},
   "outputs": [],
   "source": [
    "# details below for jun 01 - jun 15\n",
    "# search_id = \"7408038137778181162\"\n",
    "# has_more = True\n",
    "# cursor = 32500\n",
    "# # hashtags_20240601_20240615_9900_7408038137778181162\n",
    "# # 32500"
   ]
  },
  {
   "cell_type": "code",
   "execution_count": 74,
   "id": "42484fce-8e6c-4fca-96a7-e33a212b4da1",
   "metadata": {},
   "outputs": [],
   "source": [
    "search_id = \"7409162096480654378\"\n",
    "has_more = True\n",
    "cursor = 6120"
   ]
  },
  {
   "cell_type": "code",
   "execution_count": 62,
   "id": "5b183669-42af-41c8-9fc1-fde863ba2558",
   "metadata": {},
   "outputs": [
    {
     "data": {
      "text/plain": [
       "5800"
      ]
     },
     "execution_count": 62,
     "metadata": {},
     "output_type": "execute_result"
    }
   ],
   "source": [
    "cursor"
   ]
  },
  {
   "cell_type": "code",
   "execution_count": 75,
   "id": "a83cf342-4108-490a-91f4-ae541e03e2fb",
   "metadata": {},
   "outputs": [
    {
     "name": "stdout",
     "output_type": "stream",
     "text": [
      "6220 True 60 7409162096480654378\n",
      "6320 True 77 7409162096480654378\n",
      "6420 True 65 7409162096480654378\n",
      "6520 True 71 7409162096480654378\n",
      "6524 False 3 7409162096480654378\n"
     ]
    }
   ],
   "source": [
    "while has_more:\n",
    "    \n",
    "    query_body.update({\n",
    "        \"search_id\": search_id,\n",
    "        \"cursor\": cursor})\n",
    "    \n",
    "    response = requests.post(endpoint, json=query_body, params=query_params, headers=headers)\n",
    "\n",
    "    if response.status_code != 200:\n",
    "        i = 0\n",
    "        while i < 5 and response.status_code != 200:\n",
    "            response = requests.post(endpoint, json=query_body, params=query_params, headers=headers)\n",
    "            time.sleep(5)\n",
    "            i += 1\n",
    "        if response.status_code != 200:\n",
    "            print(response.status_code)\n",
    "            print(response.json())\n",
    "            break\n",
    "            \n",
    "    data = response.json().get(\"data\", {})\n",
    "\n",
    "    search_id = data[\"search_id\"]\n",
    "    has_more = data[\"has_more\"]\n",
    "    cursor = data[\"cursor\"]\n",
    "\n",
    "    videos = data.get(\"videos\", [])\n",
    "    df = pd.DataFrame(videos)\n",
    "    \n",
    "    # df.to_csv(f\"./hashtag_data/hashtags_{start_date}_{end_date}_{cursor}.csv\", index=False)\n",
    "    # df.to_csv(f\"{hashtag_folder}/hashtags_{start_date}_{end_date}_{cursor}_{search_id}.csv\", index=False)\n",
    "    df.to_csv(f\"{video_folder}/videos_{start_date}_{end_date}_{cursor}_{search_id}.csv\", index=False)\n",
    "    \n",
    "    \n",
    "    time.sleep(5)\n",
    "    print(cursor, has_more, len(df), search_id)\n",
    "\n",
    "    # if cursor > 800:\n",
    "    #     break"
   ]
  },
  {
   "cell_type": "code",
   "execution_count": 19,
   "id": "affb4fd3-ce8a-4b7b-abf8-113348c99da7",
   "metadata": {},
   "outputs": [
    {
     "data": {
      "text/plain": [
       "700"
      ]
     },
     "execution_count": 19,
     "metadata": {},
     "output_type": "execute_result"
    }
   ],
   "source": [
    "cursor"
   ]
  },
  {
   "cell_type": "code",
   "execution_count": 28,
   "id": "584d6364-c871-400a-b48d-9552554256dd",
   "metadata": {},
   "outputs": [
    {
     "data": {
      "text/plain": [
       "{'error': {'code': 'invalid_params',\n",
       "  'message': 'Search Id 7408027535520551979 is invalid or expired',\n",
       "  'log_id': '20240828033812355512ACD27525003BC7'}}"
      ]
     },
     "execution_count": 28,
     "metadata": {},
     "output_type": "execute_result"
    }
   ],
   "source": [
    "response.json()"
   ]
  },
  {
   "cell_type": "code",
   "execution_count": 4,
   "id": "4270d853-cd3b-4fd9-a01e-74d61ba9c9df",
   "metadata": {},
   "outputs": [],
   "source": [
    "query_body.update({\n",
    "        \"search_id\": \"a\",\n",
    "        \"cursor\": \"c\"\n",
    "    })"
   ]
  }
 ],
 "metadata": {
  "kernelspec": {
   "display_name": "esm_env",
   "language": "python",
   "name": "esm_env"
  },
  "language_info": {
   "codemirror_mode": {
    "name": "ipython",
    "version": 3
   },
   "file_extension": ".py",
   "mimetype": "text/x-python",
   "name": "python",
   "nbconvert_exporter": "python",
   "pygments_lexer": "ipython3",
   "version": "3.12.4"
  }
 },
 "nbformat": 4,
 "nbformat_minor": 5
}
