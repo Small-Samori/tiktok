{
 "cells": [
  {
   "cell_type": "code",
   "execution_count": 36,
   "id": "641c6194-3693-4c02-93c6-e9526d1b8b92",
   "metadata": {},
   "outputs": [
    {
     "data": {
      "text/plain": [
       "True"
      ]
     },
     "execution_count": 36,
     "metadata": {},
     "output_type": "execute_result"
    }
   ],
   "source": [
    "import requests\n",
    "import json\n",
    "# import openai\n",
    "from openai import AzureOpenAI\n",
    "import time\n",
    "from dotenv import load_dotenv\n",
    "import os, time\n",
    "from tqdm import tqdm\n",
    "\n",
    "load_dotenv()"
   ]
  },
  {
   "cell_type": "code",
   "execution_count": 2,
   "id": "6c893431-5470-46e8-a44e-5e58f54dd059",
   "metadata": {},
   "outputs": [
    {
     "data": {
      "text/plain": [
       "'R21-GPT4'"
      ]
     },
     "execution_count": 2,
     "metadata": {},
     "output_type": "execute_result"
    }
   ],
   "source": [
    "os.getenv(\"DEPLOYMENT_NAME\")"
   ]
  },
  {
   "cell_type": "code",
   "execution_count": 3,
   "id": "ef3696d1-20bd-431a-87f0-4b57965e6df6",
   "metadata": {},
   "outputs": [],
   "source": [
    "test = \"\"\"I broke 4 ribs,I was given 30 TylenolW/Cod. It did absolutely nothing for pain. Ibuprofen gave me a tiny bit of relief.i was surprised.\"\"\""
   ]
  },
  {
   "cell_type": "code",
   "execution_count": 4,
   "id": "a57d8104-1132-42b9-90a3-983a87e7b7d9",
   "metadata": {},
   "outputs": [],
   "source": [
    "context = \"\"\"You are an AI assistant that helps to annotate social media comment data related to opioids and/or drug addiction, and you know everything about identifying the grammartical person (ie first, second, or third person) of a sentence or post\"\"\""
   ]
  },
  {
   "cell_type": "code",
   "execution_count": 6,
   "id": "ffcad92d-6c20-4bb6-b59a-cb7d4dc77d21",
   "metadata": {},
   "outputs": [],
   "source": [
    "prompt = \"\"\"I will give you an opioid-related social media comment to annotate. You will return a onehot integer of length 3 (eg. 010). If the comment contains a first-person or personal account with opioids put 1 in position 1 of the onehot integer else 0. If the comment contains a second-person experience with opioid, put 1 in position 2 of the onehot integer else 0. If the comment contains a third-person experience with opioid, put 1 in position 3 of the onehot integer else 0. Examples: return 100 for 'I am recovering from OUD', 010 for 'I am sorry to hear you lost your son to fentanyl OD', 001 for 'They take fent laced substances'. Note that some comments can have multiple persons-perspective and you will put 1 in the positions corresponding to the persons-perspective present. Example return 110 for 'I lost a partner. I am sorry to hear you lost someone too. My condolences to you and your family', and 011 for 'You should take lower dose. They should be careful with supplies from the street'. \n",
    "Annotate the following:\\n\"\"\""
   ]
  },
  {
   "cell_type": "code",
   "execution_count": 7,
   "id": "5d506f2b-acfb-461c-bc57-b82fb54a0f0b",
   "metadata": {},
   "outputs": [
    {
     "name": "stdout",
     "output_type": "stream",
     "text": [
      "I will give you an opioid-related social media comment to annotate. You will return a onehot integer of length 3 (eg. 010). If the comment contains a first-person or personal account with opioids put 1 in position 1 of the onehot integer else 0. If the comment contains a second-person experience with opioid, put 1 in position 2 of the onehot integer else 0. If the comment contains a third-person experience with opioid, put 1 in position 3 of the onehot integer else 0. Examples: return 100 for 'I am recovering from OUD', 010 for 'I am sorry to hear you lost your son to fentanyl OD', 001 for 'They take fent laced substances'. Note that some comments can have multiple persons-perspective and you will put 1 in the positions corresponding to the persons-perspective present. Example return 110 for 'I lost a partner. I am sorry to hear you lost someone too. My condolences to you and your family', and 011 for 'You should take lower dose. They should be careful with supplies from the street'. \n",
      "Annotate the following:\n",
      "I broke 4 ribs,I was given 30 TylenolW/Cod. It did absolutely nothing for pain. Ibuprofen gave me a tiny bit of relief.i was surprised.\n"
     ]
    }
   ],
   "source": [
    "print(prompt)"
   ]
  },
  {
   "cell_type": "code",
   "execution_count": 11,
   "id": "05143efb-31f4-4c36-bf6d-b514b2d024e6",
   "metadata": {},
   "outputs": [
    {
     "name": "stdout",
     "output_type": "stream",
     "text": [
      "100\n"
     ]
    }
   ],
   "source": [
    "client = AzureOpenAI(\n",
    "  azure_endpoint = os.getenv(\"AZURE_OPENAI_ENDPOINT\"), \n",
    "  api_key=os.getenv(\"AZURE_OPENAI_KEY\"),  \n",
    "  api_version=\"2024-02-01\"\n",
    ")\n",
    "\n",
    "response = client.chat.completions.create(\n",
    "    model=os.getenv(\"DEPLOYMENT_NAME\"), # model = \"deployment_name\".\n",
    "    messages=[\n",
    "        {\"role\": \"system\", \"content\": context},\n",
    "        {\"role\": \"user\", \"content\": prompt},\n",
    "    ]\n",
    ")\n",
    "\n",
    "print(response.choices[0].message.content)"
   ]
  },
  {
   "cell_type": "code",
   "execution_count": 12,
   "id": "e1741267-92c9-4f2e-aa04-37a4100d16ef",
   "metadata": {},
   "outputs": [],
   "source": [
    "def query(context, prompt):\n",
    "    client = AzureOpenAI(\n",
    "      azure_endpoint = os.getenv(\"AZURE_OPENAI_ENDPOINT\"), \n",
    "      api_key=os.getenv(\"AZURE_OPENAI_KEY\"),  \n",
    "      api_version=\"2024-02-01\"\n",
    "    )\n",
    "    \n",
    "    response = client.chat.completions.create(\n",
    "        model=os.getenv(\"DEPLOYMENT_NAME\"), # model = \"deployment_name\".\n",
    "        messages=[\n",
    "            {\"role\": \"system\", \"content\": context},\n",
    "            {\"role\": \"user\", \"content\": prompt},\n",
    "        ]\n",
    "    )\n",
    "    return response.choices[0].message.content"
   ]
  },
  {
   "cell_type": "markdown",
   "id": "e4b79fe6-311a-4303-b631-369857013958",
   "metadata": {},
   "source": [
    "# Persons"
   ]
  },
  {
   "cell_type": "code",
   "execution_count": 14,
   "id": "8f019e0c-d63d-48fc-a29d-8912d297ebc2",
   "metadata": {},
   "outputs": [],
   "source": [
    "context = \"\"\"You are an AI assistant that helps to annotate social media comment data related to opioids and/or drug addiction, and you know everything about identifying the grammartical person (ie first, second, or third person) of a sentence or post\"\"\""
   ]
  },
  {
   "cell_type": "code",
   "execution_count": 28,
   "id": "e8278697-4195-468d-b428-9e880fde5fe6",
   "metadata": {},
   "outputs": [],
   "source": [
    "prompt_template = \"\"\"I will give you an opioid-related social media comment to annotate. You will return a onehot integer of length 3 (eg. 010). If the comment contains a first-person or personal account with opioids put 1 in position 1 of the onehot integer else 0. If the comment contains a second-person experience with opioid, put 1 in position 2 of the onehot integer else 0. If the comment contains a third-person experience with opioid, put 1 in position 3 of the onehot integer else 0. Examples: return 100 for 'I am recovering from OUD', 010 for 'I am sorry to hear you lost your son to fentanyl OD', 001 for 'They take fent laced substances'. Note that some comments can have multiple persons-perspective and you will put 1 in the positions corresponding to the persons-perspective present. Example return 110 for 'I lost a partner. I am sorry to hear you lost someone too. My condolences to you and your family', and 011 for 'You should take lower dose. They should be careful with supplies from the street'. \n",
    "Annotate the following (only return the annotation):\\n\"\"\""
   ]
  },
  {
   "cell_type": "code",
   "execution_count": 29,
   "id": "a5ee70c5-89f3-480b-a145-20f5f80af1e7",
   "metadata": {},
   "outputs": [],
   "source": [
    "with open(\"./persons.txt\") as f:\n",
    "    comments = f.read()\n",
    "    comments = comments.split(\"\\n\\n\")"
   ]
  },
  {
   "cell_type": "code",
   "execution_count": null,
   "id": "640d7e61-a513-403b-8be6-6696d1155172",
   "metadata": {},
   "outputs": [
    {
     "name": "stderr",
     "output_type": "stream",
     "text": [
      " 32%|███▏      | 9/28 [06:06<12:48, 40.43s/it]"
     ]
    }
   ],
   "source": [
    "for i in tqdm(range(len(comments))):\n",
    "    comment = comments[i]\n",
    "    text = ''\n",
    "    for _ in range(20):\n",
    "        prompt = prompt_template + comment\n",
    "        response = query(context, prompt)\n",
    "        text += response + \"\\n\"\n",
    "        time.sleep(0.5)\n",
    "    with open(f\"./persons_predictions/sample_{i}.txt\", \"w\") as f:\n",
    "        f.write(text)"
   ]
  },
  {
   "cell_type": "markdown",
   "id": "879d9f57-f9a6-4052-b185-d04fb04afcdc",
   "metadata": {},
   "source": [
    "# Expert"
   ]
  },
  {
   "cell_type": "code",
   "execution_count": null,
   "id": "45c64460-b7db-493f-a410-de1139b535ec",
   "metadata": {},
   "outputs": [],
   "source": [
    "context = \"You are an AI assistant that helps to annotate social media comment data related to opioids and/or drug addiction, and you can differentiate between comments generated by experts and those that are not\""
   ]
  },
  {
   "cell_type": "code",
   "execution_count": null,
   "id": "001f74c2-0f87-46ce-8445-b44256f7f21c",
   "metadata": {},
   "outputs": [],
   "source": [
    "prompt_template = \"\"\"I will give you an opioid-related social media comment to annotate. Return 1 if the post is written by an expert and 0 if it is not. An expert here is broadly defined as someone who works in healthcare. Some posts have hints that the author works in healthcare. Example: 'Neurosurgeon here, I see alot of patients', 'I am a physician assistant, and I have seen a lot of that', 'My patients respond well to XYZ drug'. Post that don't have hint that the author work in healthcare is not considered generated by an expert. Example: '8 months clean now', 'I am so sorry to hear this', etc. Return 1 for generated comments, 0 otherwise.\n",
    "Annotate the following:\\n\"\"\""
   ]
  },
  {
   "cell_type": "code",
   "execution_count": null,
   "id": "503460c1-b865-4285-8148-201626a4fb28",
   "metadata": {},
   "outputs": [],
   "source": [
    "with open(\"./experts.txt\") as f:\n",
    "    comments = f.read()\n",
    "    comments = comments.split(\"\\n\\n\")"
   ]
  },
  {
   "cell_type": "code",
   "execution_count": null,
   "id": "5dcd2b43-8872-4dd1-abcb-196cd2389140",
   "metadata": {},
   "outputs": [],
   "source": [
    "for i in tqdm(range(len(comments))):\n",
    "    comment = comments[i]\n",
    "    text = ''\n",
    "    prompt = prompt_template + comment\n",
    "    response = query(context, prompt)\n",
    "    text += response + \"\\n\"\n",
    "    time.sleep(0.5)\n",
    "\n",
    "print(comments)"
   ]
  }
 ],
 "metadata": {
  "kernelspec": {
   "display_name": "lda_env2",
   "language": "python",
   "name": "lda_env2"
  },
  "language_info": {
   "codemirror_mode": {
    "name": "ipython",
    "version": 3
   },
   "file_extension": ".py",
   "mimetype": "text/x-python",
   "name": "python",
   "nbconvert_exporter": "python",
   "pygments_lexer": "ipython3",
   "version": "3.9.20"
  }
 },
 "nbformat": 4,
 "nbformat_minor": 5
}
