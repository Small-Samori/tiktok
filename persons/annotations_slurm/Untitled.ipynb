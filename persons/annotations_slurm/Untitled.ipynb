{
 "cells": [
  {
   "cell_type": "code",
   "execution_count": 1,
   "id": "d8575b7c-a166-431e-9ed8-d46415284632",
   "metadata": {},
   "outputs": [
    {
     "data": {
      "text/plain": [
       "True"
      ]
     },
     "execution_count": 1,
     "metadata": {},
     "output_type": "execute_result"
    }
   ],
   "source": [
    "import requests\n",
    "import json, math, sys, time\n",
    "import openai, re\n",
    "from openai import AzureOpenAI\n",
    "from dotenv import load_dotenv\n",
    "import os, time, glob\n",
    "from tqdm import tqdm\n",
    "from statistics import mode\n",
    "from sklearn.metrics import confusion_matrix\n",
    "import pandas as pd\n",
    "from tqdm import tqdm\n",
    "\n",
    "load_dotenv()"
   ]
  },
  {
   "cell_type": "code",
   "execution_count": 2,
   "id": "fbc32b94-20e9-4aa1-af00-c3317f9b671b",
   "metadata": {},
   "outputs": [],
   "source": [
    "samori_folder = f\"{os.getenv('OAK')}/samori\"\n",
    "comments_folder = f\"{samori_folder}/tiktok/comments\"\n",
    "persons_folder = f\"{samori_folder}/tiktok/persons\""
   ]
  },
  {
   "cell_type": "code",
   "execution_count": 90,
   "id": "be80e974-ee01-4339-9a7c-11ff4e775d02",
   "metadata": {},
   "outputs": [],
   "source": [
    "ann_files = [f\"{persons_folder}/gpt_annotations_1740783487.7482183.txt\", f\"{persons_folder}/gpt_annotations_1740936384.455138.txt\"]"
   ]
  },
  {
   "cell_type": "code",
   "execution_count": 98,
   "id": "807c09fc-4cb1-415b-8bef-bda303956274",
   "metadata": {},
   "outputs": [],
   "source": [
    "df = pd.DataFrame()\n",
    "for ann_file in ann_files:\n",
    "    df_temp = pd.read_csv(ann_file, delimiter=\"\\t\")\n",
    "    df = pd.concat([df, df_temp])"
   ]
  },
  {
   "cell_type": "code",
   "execution_count": 99,
   "id": "87ec7d81-463c-40b5-bbf6-0252c08b65fd",
   "metadata": {},
   "outputs": [
    {
     "data": {
      "text/html": [
       "<div>\n",
       "<style scoped>\n",
       "    .dataframe tbody tr th:only-of-type {\n",
       "        vertical-align: middle;\n",
       "    }\n",
       "\n",
       "    .dataframe tbody tr th {\n",
       "        vertical-align: top;\n",
       "    }\n",
       "\n",
       "    .dataframe thead th {\n",
       "        text-align: right;\n",
       "    }\n",
       "</style>\n",
       "<table border=\"1\" class=\"dataframe\">\n",
       "  <thead>\n",
       "    <tr style=\"text-align: right;\">\n",
       "      <th></th>\n",
       "      <th>id</th>\n",
       "      <th>annotation</th>\n",
       "      <th>explanation</th>\n",
       "      <th>time</th>\n",
       "    </tr>\n",
       "  </thead>\n",
       "  <tbody>\n",
       "    <tr>\n",
       "      <th>0</th>\n",
       "      <td>7.246531e+18</td>\n",
       "      <td>'001'</td>\n",
       "      <td>The comment primarily describes another indivi...</td>\n",
       "      <td>1.740784e+09</td>\n",
       "    </tr>\n",
       "    <tr>\n",
       "      <th>1</th>\n",
       "      <td>7.325092e+18</td>\n",
       "      <td>'100'</td>\n",
       "      <td>The main drug-related message comes from the s...</td>\n",
       "      <td>1.740784e+09</td>\n",
       "    </tr>\n",
       "    <tr>\n",
       "      <th>2</th>\n",
       "      <td>7.247243e+18</td>\n",
       "      <td>'100'</td>\n",
       "      <td>The comment is centered on the speaker’s perso...</td>\n",
       "      <td>1.740784e+09</td>\n",
       "    </tr>\n",
       "    <tr>\n",
       "      <th>3</th>\n",
       "      <td>7.300002e+18</td>\n",
       "      <td>'100'</td>\n",
       "      <td>The primary drug-related narrative is the spea...</td>\n",
       "      <td>1.740784e+09</td>\n",
       "    </tr>\n",
       "    <tr>\n",
       "      <th>4</th>\n",
       "      <td>7.258723e+18</td>\n",
       "      <td>'001'</td>\n",
       "      <td>The comment focuses on expressing love for ano...</td>\n",
       "      <td>1.740784e+09</td>\n",
       "    </tr>\n",
       "    <tr>\n",
       "      <th>...</th>\n",
       "      <td>...</td>\n",
       "      <td>...</td>\n",
       "      <td>...</td>\n",
       "      <td>...</td>\n",
       "    </tr>\n",
       "    <tr>\n",
       "      <th>57895</th>\n",
       "      <td>7.261684e+18</td>\n",
       "      <td>'001'</td>\n",
       "      <td>The comment describes fentanyl's lethality aff...</td>\n",
       "      <td>1.741055e+09</td>\n",
       "    </tr>\n",
       "    <tr>\n",
       "      <th>57896</th>\n",
       "      <td>7.329908e+18</td>\n",
       "      <td>'100'</td>\n",
       "      <td>The use of \"we\" indicates a first-person plura...</td>\n",
       "      <td>1.741055e+09</td>\n",
       "    </tr>\n",
       "    <tr>\n",
       "      <th>57897</th>\n",
       "      <td>7.273756e+18</td>\n",
       "      <td>'001'</td>\n",
       "      <td>The comment discusses politicians' behavior, l...</td>\n",
       "      <td>1.741055e+09</td>\n",
       "    </tr>\n",
       "    <tr>\n",
       "      <th>57898</th>\n",
       "      <td>7.327231e+18</td>\n",
       "      <td>'110'</td>\n",
       "      <td>The comment includes the speaker's own experie...</td>\n",
       "      <td>1.741055e+09</td>\n",
       "    </tr>\n",
       "    <tr>\n",
       "      <th>57899</th>\n",
       "      <td>7.225763e+18</td>\n",
       "      <td>'100'</td>\n",
       "      <td>The comment centers on the speaker's own poten...</td>\n",
       "      <td>1.741055e+09</td>\n",
       "    </tr>\n",
       "  </tbody>\n",
       "</table>\n",
       "<p>121850 rows × 4 columns</p>\n",
       "</div>"
      ],
      "text/plain": [
       "                 id annotation  \\\n",
       "0      7.246531e+18      '001'   \n",
       "1      7.325092e+18      '100'   \n",
       "2      7.247243e+18      '100'   \n",
       "3      7.300002e+18      '100'   \n",
       "4      7.258723e+18      '001'   \n",
       "...             ...        ...   \n",
       "57895  7.261684e+18      '001'   \n",
       "57896  7.329908e+18      '100'   \n",
       "57897  7.273756e+18      '001'   \n",
       "57898  7.327231e+18      '110'   \n",
       "57899  7.225763e+18      '100'   \n",
       "\n",
       "                                             explanation          time  \n",
       "0      The comment primarily describes another indivi...  1.740784e+09  \n",
       "1      The main drug-related message comes from the s...  1.740784e+09  \n",
       "2      The comment is centered on the speaker’s perso...  1.740784e+09  \n",
       "3      The primary drug-related narrative is the spea...  1.740784e+09  \n",
       "4      The comment focuses on expressing love for ano...  1.740784e+09  \n",
       "...                                                  ...           ...  \n",
       "57895  The comment describes fentanyl's lethality aff...  1.741055e+09  \n",
       "57896  The use of \"we\" indicates a first-person plura...  1.741055e+09  \n",
       "57897  The comment discusses politicians' behavior, l...  1.741055e+09  \n",
       "57898  The comment includes the speaker's own experie...  1.741055e+09  \n",
       "57899  The comment centers on the speaker's own poten...  1.741055e+09  \n",
       "\n",
       "[121850 rows x 4 columns]"
      ]
     },
     "execution_count": 99,
     "metadata": {},
     "output_type": "execute_result"
    }
   ],
   "source": [
    "df = df[df[\"annotation\"] != \"'None'\"]\n",
    "df"
   ]
  },
  {
   "cell_type": "code",
   "execution_count": 100,
   "id": "1e99e032-d0a1-41cd-bf65-16718633683c",
   "metadata": {
    "scrolled": true
   },
   "outputs": [],
   "source": [
    "annotations = list(df[\"annotation\"])\n",
    "annotations = [i[1:-1] for i in annotations]"
   ]
  },
  {
   "cell_type": "code",
   "execution_count": 101,
   "id": "dfb3f52a-0897-4681-809c-e3077ff6c305",
   "metadata": {},
   "outputs": [],
   "source": [
    "first = len([i for i in annotations if i == \"100\"])\n",
    "second = len([i for i in annotations if i == \"010\"])\n",
    "third = len([i for i in annotations if i == \"001\"])\n",
    "\n",
    "first_second = len([i for i in annotations if i == \"110\"])\n",
    "first_third = len([i for i in annotations if i == \"101\"])\n",
    "second_third = len([i for i in annotations if i == \"011\"])\n",
    "\n",
    "all_intersection = len([i for i in annotations if i == \"111\"])\n",
    "none_class = len([i for i in annotations if i == \"000\"])"
   ]
  },
  {
   "cell_type": "code",
   "execution_count": 133,
   "id": "061254d5-9d31-48ca-9240-0414f815f95c",
   "metadata": {},
   "outputs": [
    {
     "data": {
      "image/png": "[encoded data removed]",
      "text/plain": [
       "<Figure size 1280x960 with 2 Axes>"
      ]
     },
     "metadata": {},
     "output_type": "display_data"
    }
   ],
   "source": [
    "from matplotlib_venn import venn3, venn3_circles\n",
    "import matplotlib.pyplot as plt\n",
    "import matplotlib.cm as cm\n",
    "import matplotlib.colors as mcolors\n",
    "from matplotlib.cm import ScalarMappable\n",
    "from matplotlib.pyplot import figure\n",
    "\n",
    "figure(figsize=(16, 12), dpi=80)\n",
    "\n",
    "venn_tuple = (first, second, first_second, third, first_third, second_third, all_intersection)\n",
    "\n",
    "region_counts = {\n",
    "    \"100\": first,\n",
    "    \"010\": second,\n",
    "    \"001\": third,\n",
    "    \"110\": first_second,\n",
    "    \"101\": first_third,\n",
    "    \"011\": second_third,\n",
    "    \"111\": all_intersection}\n",
    "\n",
    "max_val = max(venn_tuple)\n",
    "cmap = cm.binary\n",
    "norm = mcolors.Normalize(vmin=0, vmax=max_val)\n",
    "\n",
    "\n",
    "\n",
    "v = venn3(subsets=venn_tuple, \n",
    "          set_labels=('1st Person', '2nd Person', '3rd Person'), \n",
    "          alpha=0.7)\n",
    "\n",
    "venn3_circles(subsets=venn_tuple, linestyle=\"dashed\", linewidth=2) \n",
    "\n",
    "intensities = []\n",
    "for region, count in region_counts.items():\n",
    "    patch = v.get_patch_by_id(region)\n",
    "    if patch is not None:\n",
    "        intensity = count / max_val  \n",
    "        intensities.append(intensity)\n",
    "        patch.set_facecolor(cmap(intensity))\n",
    "\n",
    "if v.set_labels is not None:\n",
    "    for text_obj in v.set_labels:\n",
    "        if text_obj is not None:\n",
    "            text_obj.set_fontsize(30)  # change 18 to your desired font size\n",
    "\n",
    "if v.subset_labels is not None:\n",
    "    for i in range(len(v.subset_labels)):\n",
    "        label = v.subset_labels[i]\n",
    "        if label is not None:\n",
    "            label.set_horizontalalignment('center')\n",
    "            label.set_verticalalignment('center')\n",
    "            # label.set_color(\"white\")\n",
    "            # label.set_color(cm.Set1(0.2))\n",
    "            label.set_color(cm.Pastel1(0))\n",
    "            label.set_fontsize(24)\n",
    "\n",
    "sm = ScalarMappable(cmap=cmap, norm=norm)\n",
    "sm.set_array([])\n",
    "\n",
    "fig = plt.gcf()\n",
    "\n",
    "cax = fig.add_axes([0.85, 0.15, 0.03, 0.7])\n",
    "cbar = plt.colorbar(sm, cax=cax)\n",
    "cbar.set_label(\"Subset Count\")\n",
    "plt.savefig(\"venn_diagram.svg\", dpi=300)\n",
    "plt.show()"
   ]
  },
  {
   "cell_type": "code",
   "execution_count": 110,
   "id": "b079f573-37b2-4f78-af27-dbfa1a2e74ce",
   "metadata": {},
   "outputs": [
    {
     "data": {
      "text/plain": [
       "(0.9963091118800461, 0.9963091118800461, 0.9963091118800461, 1.0)"
      ]
     },
     "execution_count": 110,
     "metadata": {},
     "output_type": "execute_result"
    }
   ],
   "source": [
    "cm.Greys(2)"
   ]
  },
  {
   "cell_type": "code",
   "execution_count": 140,
   "id": "9d1f8ce3-72a6-4129-8957-1c3b713a1be3",
   "metadata": {},
   "outputs": [
    {
     "data": {
      "text/plain": [
       "301      7.257650e+18\n",
       "1124     7.264612e+18\n",
       "4318     7.334917e+18\n",
       "4622     7.319697e+18\n",
       "5559     7.292832e+18\n",
       "             ...     \n",
       "50474    7.363477e+18\n",
       "50815    7.307208e+18\n",
       "51979    7.268335e+18\n",
       "52188    7.248233e+18\n",
       "53409    7.203679e+18\n",
       "Name: id, Length: 118, dtype: float64"
      ]
     },
     "execution_count": 140,
     "metadata": {},
     "output_type": "execute_result"
    }
   ],
   "source": [
    "df[df['annotation']==\"'111'\"]['id']"
   ]
  },
  {
   "cell_type": "code",
   "execution_count": 143,
   "id": "c1909cdc-f259-4da4-971c-e59987a777b5",
   "metadata": {},
   "outputs": [
    {
     "data": {
      "text/plain": [
       "7.334916945688724e+18"
      ]
     },
     "execution_count": 143,
     "metadata": {},
     "output_type": "execute_result"
    }
   ],
   "source": [
    "df[df['annotation']==\"'111'\"]['id'][4318]"
   ]
  },
  {
   "cell_type": "code",
   "execution_count": null,
   "id": "561e18cd-d414-4f7e-a002-031df7385927",
   "metadata": {},
   "outputs": [],
   "source": [
    "from matplotlib_venn import venn3, venn3_circles\n",
    "import matplotlib.pyplot as plt\n",
    "import matplotlib.cm as cm\n",
    "import matplotlib.colors as mcolors\n",
    "from matplotlib.cm import ScalarMappable\n",
    "\n",
    "venn_tuple = (first, second, first_second, third, first_third, second_third, all_intersection)\n",
    "\n",
    "region_counts = {\n",
    "    \"100\": first,\n",
    "    \"010\": second,\n",
    "    \"001\": third,\n",
    "    \"110\": first_second,\n",
    "    \"101\": first_third,\n",
    "    \"011\": second_third,\n",
    "    \"111\": all_intersection}\n",
    "\n",
    "max_val = max(venn_tuple)\n",
    "cmap = cm.binary\n",
    "norm = mcolors.Normalize(vmin=0, vmax=max_val)\n",
    "\n",
    "\n",
    "\n",
    "v = venn3(subsets=venn_tuple, \n",
    "      set_labels=('1st Person', '2nd Person', '3rd Person'), \n",
    "      set_colors=(\"red\", \"yellow\", \"green\"), alpha=0.7)\n",
    "\n",
    "venn3_circles(subsets=venn_tuple, linestyle=\"dashed\", linewidth=2) \n",
    "\n",
    "intensities = []\n",
    "for region, count in region_counts.items():\n",
    "    patch = v.get_patch_by_id(region)\n",
    "    if patch is not None:\n",
    "        intensity = count / max_val  \n",
    "        intensities.append(intensity)\n",
    "        patch.set_facecolor(cmap(intensity))\n",
    "\n",
    "if v.subset_labels is not None:\n",
    "    for i in range(len(v.subset_labels)):\n",
    "        label = v.subset_labels[i]\n",
    "        if label is not None:\n",
    "            label.set_horizontalalignment('center')\n",
    "            label.set_verticalalignment('center')\n",
    "            # label.set_color(\"white\")\n",
    "            label.set_color(cm.hot(0))\n",
    "\n",
    "sm = ScalarMappable(cmap=cmap, norm=norm)\n",
    "sm.set_array([])\n",
    "\n",
    "fig = plt.gcf()\n",
    "\n",
    "cax = fig.add_axes([0.85, 0.15, 0.03, 0.7])\n",
    "cbar = plt.colorbar(sm, cax=cax)\n",
    "cbar.set_label(\"Subset Count\")\n",
    "\n",
    "plt.show()"
   ]
  },
  {
   "cell_type": "code",
   "execution_count": 82,
   "id": "ab3e5272-08ef-42af-87a0-a84bfc775bf6",
   "metadata": {},
   "outputs": [
    {
     "data": {
      "text/plain": [
       "(0.05189484405443485, 0.0, 0.0, 1.0)"
      ]
     },
     "execution_count": 82,
     "metadata": {},
     "output_type": "execute_result"
    }
   ],
   "source": [
    "cm.hot(1)"
   ]
  },
  {
   "cell_type": "code",
   "execution_count": 61,
   "id": "d08ea4bc-394b-40ad-8f84-57798c10927f",
   "metadata": {},
   "outputs": [
    {
     "data": {
      "text/plain": [
       "[1.0,\n",
       " 0.8394864549419497,\n",
       " 0.9341482892069537,\n",
       " 0.3717673075741753,\n",
       " 0.10492044965906996,\n",
       " 0.10485902082437497,\n",
       " 0.0034400147429203267]"
      ]
     },
     "execution_count": 61,
     "metadata": {},
     "output_type": "execute_result"
    }
   ],
   "source": [
    "intensities"
   ]
  },
  {
   "cell_type": "code",
   "execution_count": 24,
   "id": "adf6f2fd-ec4f-448a-b53a-f61e99eb71dc",
   "metadata": {},
   "outputs": [
    {
     "data": {
      "text/plain": [
       "10190"
      ]
     },
     "execution_count": 24,
     "metadata": {},
     "output_type": "execute_result"
    }
   ],
   "source": [
    "none_class"
   ]
  },
  {
   "cell_type": "code",
   "execution_count": 16,
   "id": "17aa9c16-9715-4781-8789-8bef7cab0531",
   "metadata": {},
   "outputs": [
    {
     "data": {
      "text/plain": [
       "array([\"'001'\", \"'100'\", \"'010'\", \"'101'\", \"'000'\", \"'110'\", \"'011'\",\n",
       "       \"'111'\"], dtype=object)"
      ]
     },
     "execution_count": 16,
     "metadata": {},
     "output_type": "execute_result"
    }
   ],
   "source": [
    "df['annotation'].unique()"
   ]
  },
  {
   "cell_type": "code",
   "execution_count": 6,
   "id": "b59aa6f5-98e3-494b-b48e-83fb9370d33c",
   "metadata": {},
   "outputs": [],
   "source": [
    "from matplotlib_venn import venn2, venn2_circles "
   ]
  },
  {
   "cell_type": "code",
   "execution_count": 24,
   "id": "5ead5d74-034b-4182-b072-94ad6b44ad1a",
   "metadata": {},
   "outputs": [
    {
     "data": {
      "text/plain": [
       "(5, 3)"
      ]
     },
     "execution_count": 24,
     "metadata": {},
     "output_type": "execute_result"
    }
   ],
   "source": [
    "len(annotations[0]), len(annotations[0][1:-1])"
   ]
  },
  {
   "cell_type": "code",
   "execution_count": 10,
   "id": "9365790b-3d2b-4137-a63b-f62032d5f753",
   "metadata": {},
   "outputs": [
    {
     "data": {
      "text/plain": [
       "array([\"'001'\", \"'100'\", \"'010'\", \"'101'\", \"'000'\", \"'110'\", \"'None'\",\n",
       "       \"'011'\", \"'111'\"], dtype=object)"
      ]
     },
     "execution_count": 10,
     "metadata": {},
     "output_type": "execute_result"
    }
   ],
   "source": [
    "df[\"annotation\"].unique()"
   ]
  },
  {
   "cell_type": "code",
   "execution_count": 16,
   "id": "b4b824ac-6b38-4acb-9a20-2775210c4c5e",
   "metadata": {},
   "outputs": [
    {
     "data": {
      "text/html": [
       "<div>\n",
       "<style scoped>\n",
       "    .dataframe tbody tr th:only-of-type {\n",
       "        vertical-align: middle;\n",
       "    }\n",
       "\n",
       "    .dataframe tbody tr th {\n",
       "        vertical-align: top;\n",
       "    }\n",
       "\n",
       "    .dataframe thead th {\n",
       "        text-align: right;\n",
       "    }\n",
       "</style>\n",
       "<table border=\"1\" class=\"dataframe\">\n",
       "  <thead>\n",
       "    <tr style=\"text-align: right;\">\n",
       "      <th></th>\n",
       "      <th>id</th>\n",
       "      <th>annotation</th>\n",
       "      <th>explanation</th>\n",
       "      <th>time</th>\n",
       "    </tr>\n",
       "  </thead>\n",
       "  <tbody>\n",
       "    <tr>\n",
       "      <th>0</th>\n",
       "      <td>7.246531e+18</td>\n",
       "      <td>'001'</td>\n",
       "      <td>The comment primarily describes another indivi...</td>\n",
       "      <td>1.740784e+09</td>\n",
       "    </tr>\n",
       "    <tr>\n",
       "      <th>1</th>\n",
       "      <td>7.325092e+18</td>\n",
       "      <td>'100'</td>\n",
       "      <td>The main drug-related message comes from the s...</td>\n",
       "      <td>1.740784e+09</td>\n",
       "    </tr>\n",
       "    <tr>\n",
       "      <th>2</th>\n",
       "      <td>7.247243e+18</td>\n",
       "      <td>'100'</td>\n",
       "      <td>The comment is centered on the speaker’s perso...</td>\n",
       "      <td>1.740784e+09</td>\n",
       "    </tr>\n",
       "    <tr>\n",
       "      <th>3</th>\n",
       "      <td>7.300002e+18</td>\n",
       "      <td>'100'</td>\n",
       "      <td>The primary drug-related narrative is the spea...</td>\n",
       "      <td>1.740784e+09</td>\n",
       "    </tr>\n",
       "    <tr>\n",
       "      <th>4</th>\n",
       "      <td>7.258723e+18</td>\n",
       "      <td>'001'</td>\n",
       "      <td>The comment focuses on expressing love for ano...</td>\n",
       "      <td>1.740784e+09</td>\n",
       "    </tr>\n",
       "    <tr>\n",
       "      <th>...</th>\n",
       "      <td>...</td>\n",
       "      <td>...</td>\n",
       "      <td>...</td>\n",
       "      <td>...</td>\n",
       "    </tr>\n",
       "    <tr>\n",
       "      <th>65820</th>\n",
       "      <td>7.253543e+18</td>\n",
       "      <td>'100'</td>\n",
       "      <td>The comment centers on the speaker’s personal ...</td>\n",
       "      <td>1.740917e+09</td>\n",
       "    </tr>\n",
       "    <tr>\n",
       "      <th>65821</th>\n",
       "      <td>7.356256e+18</td>\n",
       "      <td>'010'</td>\n",
       "      <td>The comment directly addresses another person ...</td>\n",
       "      <td>1.740917e+09</td>\n",
       "    </tr>\n",
       "    <tr>\n",
       "      <th>65822</th>\n",
       "      <td>7.250181e+18</td>\n",
       "      <td>'001'</td>\n",
       "      <td>The comment primarily describes others’ drug-r...</td>\n",
       "      <td>1.740917e+09</td>\n",
       "    </tr>\n",
       "    <tr>\n",
       "      <th>65823</th>\n",
       "      <td>7.224360e+18</td>\n",
       "      <td>'100'</td>\n",
       "      <td>The comment focuses on the speaker and Joey’s ...</td>\n",
       "      <td>1.740917e+09</td>\n",
       "    </tr>\n",
       "    <tr>\n",
       "      <th>65824</th>\n",
       "      <td>7.219680e+18</td>\n",
       "      <td>'100'</td>\n",
       "      <td>The comment centers on the speaker’s own exper...</td>\n",
       "      <td>1.740917e+09</td>\n",
       "    </tr>\n",
       "  </tbody>\n",
       "</table>\n",
       "<p>64865 rows × 4 columns</p>\n",
       "</div>"
      ],
      "text/plain": [
       "                 id annotation  \\\n",
       "0      7.246531e+18      '001'   \n",
       "1      7.325092e+18      '100'   \n",
       "2      7.247243e+18      '100'   \n",
       "3      7.300002e+18      '100'   \n",
       "4      7.258723e+18      '001'   \n",
       "...             ...        ...   \n",
       "65820  7.253543e+18      '100'   \n",
       "65821  7.356256e+18      '010'   \n",
       "65822  7.250181e+18      '001'   \n",
       "65823  7.224360e+18      '100'   \n",
       "65824  7.219680e+18      '100'   \n",
       "\n",
       "                                             explanation          time  \n",
       "0      The comment primarily describes another indivi...  1.740784e+09  \n",
       "1      The main drug-related message comes from the s...  1.740784e+09  \n",
       "2      The comment is centered on the speaker’s perso...  1.740784e+09  \n",
       "3      The primary drug-related narrative is the spea...  1.740784e+09  \n",
       "4      The comment focuses on expressing love for ano...  1.740784e+09  \n",
       "...                                                  ...           ...  \n",
       "65820  The comment centers on the speaker’s personal ...  1.740917e+09  \n",
       "65821  The comment directly addresses another person ...  1.740917e+09  \n",
       "65822  The comment primarily describes others’ drug-r...  1.740917e+09  \n",
       "65823  The comment focuses on the speaker and Joey’s ...  1.740917e+09  \n",
       "65824  The comment centers on the speaker’s own exper...  1.740917e+09  \n",
       "\n",
       "[64865 rows x 4 columns]"
      ]
     },
     "execution_count": 16,
     "metadata": {},
     "output_type": "execute_result"
    }
   ],
   "source": [
    "df[df[\"annotation\"] != \"'None'\"]"
   ]
  },
  {
   "cell_type": "code",
   "execution_count": null,
   "id": "8d58762e-20c1-4787-af86-cb8e14e570f1",
   "metadata": {},
   "outputs": [],
   "source": []
  }
 ],
 "metadata": {
  "kernelspec": {
   "display_name": "lda_env2",
   "language": "python",
   "name": "lda_env2"
  },
  "language_info": {
   "codemirror_mode": {
    "name": "ipython",
    "version": 3
   },
   "file_extension": ".py",
   "mimetype": "text/x-python",
   "name": "python",
   "nbconvert_exporter": "python",
   "pygments_lexer": "ipython3",
   "version": "3.9.20"
  }
 },
 "nbformat": 4,
 "nbformat_minor": 5
}
