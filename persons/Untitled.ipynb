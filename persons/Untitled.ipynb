{
 "cells": [
  {
   "cell_type": "code",
   "execution_count": 1,
   "id": "641c6194-3693-4c02-93c6-e9526d1b8b92",
   "metadata": {},
   "outputs": [
    {
     "data": {
      "text/plain": [
       "True"
      ]
     },
     "execution_count": 1,
     "metadata": {},
     "output_type": "execute_result"
    }
   ],
   "source": [
    "import requests\n",
    "import json\n",
    "# import openai\n",
    "from openai import AzureOpenAI\n",
    "import time\n",
    "from dotenv import load_dotenv\n",
    "import argparse, os\n",
    "\n",
    "load_dotenv()"
   ]
  },
  {
   "cell_type": "code",
   "execution_count": 2,
   "id": "6c893431-5470-46e8-a44e-5e58f54dd059",
   "metadata": {},
   "outputs": [
    {
     "data": {
      "text/plain": [
       "'R21-GPT4'"
      ]
     },
     "execution_count": 2,
     "metadata": {},
     "output_type": "execute_result"
    }
   ],
   "source": [
    "os.getenv(\"DEPLOYMENT_NAME\")"
   ]
  },
  {
   "cell_type": "code",
   "execution_count": 3,
   "id": "ef3696d1-20bd-431a-87f0-4b57965e6df6",
   "metadata": {},
   "outputs": [],
   "source": [
    "test = \"\"\"I broke 4 ribs,I was given 30 TylenolW/Cod. It did absolutely nothing for pain. Ibuprofen gave me a tiny bit of relief.i was surprised.\"\"\""
   ]
  },
  {
   "cell_type": "code",
   "execution_count": 4,
   "id": "a57d8104-1132-42b9-90a3-983a87e7b7d9",
   "metadata": {},
   "outputs": [],
   "source": [
    "context = \"\"\"You are an AI assistant that helps to annotate social media comment data related to opioids and/or drug addiction, and you know everything about identifying the grammartical person (ie first, second, or third person) of a sentence or post\"\"\""
   ]
  },
  {
   "cell_type": "code",
   "execution_count": 6,
   "id": "ffcad92d-6c20-4bb6-b59a-cb7d4dc77d21",
   "metadata": {},
   "outputs": [],
   "source": [
    "prompt = \"\"\"I will give you an opioid-related social media comment to annotate. You will return a onehot integer of length 3 (eg. 010). If the comment contains a first-person or personal account with opioids put 1 in position 1 of the onehot integer else 0. If the comment contains a second-person experience with opioid, put 1 in position 2 of the onehot integer else 0. If the comment contains a third-person experience with opioid, put 1 in position 3 of the onehot integer else 0. Examples: return 100 for 'I am recovering from OUD', 010 for 'I am sorry to hear you lost your son to fentanyl OD', 001 for 'They take fent laced substances'. Note that some comments can have multiple persons-perspective and you will put 1 in the positions corresponding to the persons-perspective present. Example return 110 for 'I lost a partner. I am sorry to hear you lost someone too. My condolences to you and your family', and 011 for 'You should take lower dose. They should be careful with supplies from the street'. \n",
    "Annotate the following:\\n\"\"\" + test"
   ]
  },
  {
   "cell_type": "code",
   "execution_count": 7,
   "id": "5d506f2b-acfb-461c-bc57-b82fb54a0f0b",
   "metadata": {},
   "outputs": [
    {
     "name": "stdout",
     "output_type": "stream",
     "text": [
      "I will give you an opioid-related social media comment to annotate. You will return a onehot integer of length 3 (eg. 010). If the comment contains a first-person or personal account with opioids put 1 in position 1 of the onehot integer else 0. If the comment contains a second-person experience with opioid, put 1 in position 2 of the onehot integer else 0. If the comment contains a third-person experience with opioid, put 1 in position 3 of the onehot integer else 0. Examples: return 100 for 'I am recovering from OUD', 010 for 'I am sorry to hear you lost your son to fentanyl OD', 001 for 'They take fent laced substances'. Note that some comments can have multiple persons-perspective and you will put 1 in the positions corresponding to the persons-perspective present. Example return 110 for 'I lost a partner. I am sorry to hear you lost someone too. My condolences to you and your family', and 011 for 'You should take lower dose. They should be careful with supplies from the street'. \n",
      "Annotate the following:\n",
      "I broke 4 ribs,I was given 30 TylenolW/Cod. It did absolutely nothing for pain. Ibuprofen gave me a tiny bit of relief.i was surprised.\n"
     ]
    }
   ],
   "source": [
    "print(prompt)"
   ]
  },
  {
   "cell_type": "code",
   "execution_count": 11,
   "id": "05143efb-31f4-4c36-bf6d-b514b2d024e6",
   "metadata": {},
   "outputs": [
    {
     "name": "stdout",
     "output_type": "stream",
     "text": [
      "100\n"
     ]
    }
   ],
   "source": [
    "client = AzureOpenAI(\n",
    "  azure_endpoint = os.getenv(\"AZURE_OPENAI_ENDPOINT\"), \n",
    "  api_key=os.getenv(\"AZURE_OPENAI_KEY\"),  \n",
    "  api_version=\"2024-02-01\"\n",
    ")\n",
    "\n",
    "response = client.chat.completions.create(\n",
    "    model=os.getenv(\"DEPLOYMENT_NAME\"), # model = \"deployment_name\".\n",
    "    messages=[\n",
    "        {\"role\": \"system\", \"content\": context},\n",
    "        {\"role\": \"user\", \"content\": prompt},\n",
    "    ]\n",
    ")\n",
    "\n",
    "print(response.choices[0].message.content)"
   ]
  },
  {
   "cell_type": "code",
   "execution_count": 7,
   "id": "b0143af2-66c4-4475-8113-07e2ce5729b6",
   "metadata": {},
   "outputs": [
    {
     "ename": "APIRemovedInV1",
     "evalue": "\n\nYou tried to access openai.ChatCompletion, but this is no longer supported in openai>=1.0.0 - see the README at https://github.com/openai/openai-python for the API.\n\nYou can run `openai migrate` to automatically upgrade your codebase to use the 1.0.0 interface. \n\nAlternatively, you can pin your installation to the old version, e.g. `pip install openai==0.28`\n\nA detailed migration guide is available here: https://github.com/openai/openai-python/discussions/742\n",
     "output_type": "error",
     "traceback": [
      "\u001b[0;31m---------------------------------------------------------------------------\u001b[0m",
      "\u001b[0;31mAPIRemovedInV1\u001b[0m                            Traceback (most recent call last)",
      "Cell \u001b[0;32mIn[7], line 10\u001b[0m\n\u001b[1;32m      6\u001b[0m deployment_name \u001b[38;5;241m=\u001b[39m os\u001b[38;5;241m.\u001b[39mgetenv(\u001b[38;5;124m\"\u001b[39m\u001b[38;5;124mDEPLOYMENT_NAME\u001b[39m\u001b[38;5;124m\"\u001b[39m)\n\u001b[1;32m      8\u001b[0m \u001b[38;5;66;03m# outname = \"%s-output.txt\" % args.drug\u001b[39;00m\n\u001b[0;32m---> 10\u001b[0m response \u001b[38;5;241m=\u001b[39m \u001b[43mopenai\u001b[49m\u001b[38;5;241;43m.\u001b[39;49m\u001b[43mChatCompletion\u001b[49m\u001b[38;5;241;43m.\u001b[39;49m\u001b[43mcreate\u001b[49m\u001b[43m(\u001b[49m\n\u001b[1;32m     11\u001b[0m \u001b[43m                \u001b[49m\u001b[43mengine\u001b[49m\u001b[43m \u001b[49m\u001b[38;5;241;43m=\u001b[39;49m\u001b[43m \u001b[49m\u001b[43mdeployment_name\u001b[49m\u001b[43m,\u001b[49m\n\u001b[1;32m     12\u001b[0m \u001b[43m                \u001b[49m\u001b[43mtemperature\u001b[49m\u001b[43m \u001b[49m\u001b[38;5;241;43m=\u001b[39;49m\u001b[43m \u001b[49m\u001b[38;5;241;43m0.7\u001b[39;49m\u001b[43m,\u001b[49m\n\u001b[1;32m     13\u001b[0m \u001b[43m                \u001b[49m\u001b[43mmessages\u001b[49m\u001b[38;5;241;43m=\u001b[39;49m\u001b[43m[\u001b[49m\n\u001b[1;32m     14\u001b[0m \u001b[43m                            \u001b[49m\u001b[43m{\u001b[49m\u001b[38;5;124;43m\"\u001b[39;49m\u001b[38;5;124;43mrole\u001b[39;49m\u001b[38;5;124;43m\"\u001b[39;49m\u001b[43m:\u001b[49m\u001b[43m \u001b[49m\u001b[38;5;124;43m\"\u001b[39;49m\u001b[38;5;124;43msystem\u001b[39;49m\u001b[38;5;124;43m\"\u001b[39;49m\u001b[43m,\u001b[49m\u001b[43m \u001b[49m\u001b[38;5;124;43m\"\u001b[39;49m\u001b[38;5;124;43mcontent\u001b[39;49m\u001b[38;5;124;43m\"\u001b[39;49m\u001b[43m:\u001b[49m\u001b[43m \u001b[49m\u001b[43mcontext\u001b[49m\u001b[43m}\u001b[49m\u001b[43m,\u001b[49m\n\u001b[1;32m     15\u001b[0m \u001b[43m                            \u001b[49m\u001b[43m{\u001b[49m\u001b[38;5;124;43m\"\u001b[39;49m\u001b[38;5;124;43mrole\u001b[39;49m\u001b[38;5;124;43m\"\u001b[39;49m\u001b[43m:\u001b[49m\u001b[43m \u001b[49m\u001b[38;5;124;43m\"\u001b[39;49m\u001b[38;5;124;43muser\u001b[39;49m\u001b[38;5;124;43m\"\u001b[39;49m\u001b[43m,\u001b[49m\u001b[43m \u001b[49m\u001b[38;5;124;43m\"\u001b[39;49m\u001b[38;5;124;43mcontent\u001b[39;49m\u001b[38;5;124;43m\"\u001b[39;49m\u001b[43m:\u001b[49m\u001b[43m \u001b[49m\u001b[43mprompt\u001b[49m\u001b[43m}\u001b[49m\u001b[43m \u001b[49m\n\u001b[1;32m     16\u001b[0m \u001b[43m                         \u001b[49m\u001b[43m]\u001b[49m\n\u001b[1;32m     17\u001b[0m \u001b[43m                    \u001b[49m\u001b[43m)\u001b[49m\n\u001b[1;32m     19\u001b[0m message \u001b[38;5;241m=\u001b[39m response[\u001b[38;5;124m'\u001b[39m\u001b[38;5;124mchoices\u001b[39m\u001b[38;5;124m'\u001b[39m][\u001b[38;5;241m0\u001b[39m][\u001b[38;5;124m'\u001b[39m\u001b[38;5;124mmessage\u001b[39m\u001b[38;5;124m'\u001b[39m][\u001b[38;5;124m'\u001b[39m\u001b[38;5;124mcontent\u001b[39m\u001b[38;5;124m'\u001b[39m]\n",
      "File \u001b[0;32m/home/groups/rbaltman/samori/miniconda3/envs/lda_env2/lib/python3.9/site-packages/openai/lib/_old_api.py:39\u001b[0m, in \u001b[0;36mAPIRemovedInV1Proxy.__call__\u001b[0;34m(self, *_args, **_kwargs)\u001b[0m\n\u001b[1;32m     38\u001b[0m \u001b[38;5;28;01mdef\u001b[39;00m \u001b[38;5;21m__call__\u001b[39m(\u001b[38;5;28mself\u001b[39m, \u001b[38;5;241m*\u001b[39m_args: Any, \u001b[38;5;241m*\u001b[39m\u001b[38;5;241m*\u001b[39m_kwargs: Any) \u001b[38;5;241m-\u001b[39m\u001b[38;5;241m>\u001b[39m Any:\n\u001b[0;32m---> 39\u001b[0m     \u001b[38;5;28;01mraise\u001b[39;00m APIRemovedInV1(symbol\u001b[38;5;241m=\u001b[39m\u001b[38;5;28mself\u001b[39m\u001b[38;5;241m.\u001b[39m_symbol)\n",
      "\u001b[0;31mAPIRemovedInV1\u001b[0m: \n\nYou tried to access openai.ChatCompletion, but this is no longer supported in openai>=1.0.0 - see the README at https://github.com/openai/openai-python for the API.\n\nYou can run `openai migrate` to automatically upgrade your codebase to use the 1.0.0 interface. \n\nAlternatively, you can pin your installation to the old version, e.g. `pip install openai==0.28`\n\nA detailed migration guide is available here: https://github.com/openai/openai-python/discussions/742\n"
     ]
    }
   ],
   "source": [
    "openai.api_key = os.getenv(\"AZURE_OPENAI_KEY\")\n",
    "openai.api_base = os.getenv(\"AZURE_OPENAI_ENDPOINT\")\n",
    "openai.api_type = 'azure' # from quickstart documentation\n",
    "openai.api_version = '2023-05-15' # from quickstart documentation\n",
    "\n",
    "deployment_name = os.getenv(\"DEPLOYMENT_NAME\")\n",
    "\n",
    "# outname = \"%s-output.txt\" % args.drug\n",
    "\n",
    "response = openai.ChatCompletion.create(\n",
    "                engine = deployment_name,\n",
    "                temperature = 0.7,\n",
    "                messages=[\n",
    "                            {\"role\": \"system\", \"content\": context},\n",
    "                            {\"role\": \"user\", \"content\": prompt} \n",
    "                         ]\n",
    "                    )\n",
    "\n",
    "message = response['choices'][0]['message']['content']"
   ]
  },
  {
   "cell_type": "code",
   "execution_count": null,
   "id": "0819998f-b260-4bf2-aad5-985b2a8dac59",
   "metadata": {},
   "outputs": [],
   "source": []
  },
  {
   "cell_type": "code",
   "execution_count": null,
   "id": "94d64e4b-ca6f-4904-b60f-af4be9a929a9",
   "metadata": {},
   "outputs": [],
   "source": []
  },
  {
   "cell_type": "code",
   "execution_count": null,
   "id": "992e4289-f785-4df6-99bd-dcfa16453164",
   "metadata": {},
   "outputs": [],
   "source": []
  },
  {
   "cell_type": "code",
   "execution_count": null,
   "id": "441830f1-41ab-42ab-a663-ab35dc474c72",
   "metadata": {},
   "outputs": [],
   "source": []
  },
  {
   "cell_type": "code",
   "execution_count": null,
   "id": "9ca53686-1025-4543-8f87-9316bbc70d0c",
   "metadata": {},
   "outputs": [],
   "source": []
  },
  {
   "cell_type": "code",
   "execution_count": null,
   "id": "f90b91bf-ffdd-4dea-8c5a-8acc56a23a4c",
   "metadata": {},
   "outputs": [],
   "source": []
  },
  {
   "cell_type": "code",
   "execution_count": null,
   "id": "3def88a5-acbf-44c9-8196-22941746fc03",
   "metadata": {},
   "outputs": [],
   "source": []
  },
  {
   "cell_type": "code",
   "execution_count": 82,
   "id": "59f7cc57-e6af-493f-bd5c-889196f05247",
   "metadata": {},
   "outputs": [
    {
     "data": {
      "text/plain": [
       "True"
      ]
     },
     "execution_count": 82,
     "metadata": {},
     "output_type": "execute_result"
    }
   ],
   "source": [
    "import requests\n",
    "import json, math\n",
    "# import openai\n",
    "from openai import AzureOpenAI\n",
    "import time\n",
    "from dotenv import load_dotenv\n",
    "import os, time, glob\n",
    "from tqdm import tqdm\n",
    "from statistics import mode\n",
    "from sklearn.metrics import confusion_matrix\n",
    "import pandas as pd\n",
    "\n",
    "load_dotenv()"
   ]
  },
  {
   "cell_type": "code",
   "execution_count": 27,
   "id": "01419b03-9391-4857-9a40-3ce789943edd",
   "metadata": {},
   "outputs": [],
   "source": [
    "def query_o1(prompt):\n",
    "    client = AzureOpenAI(\n",
    "      azure_endpoint = os.getenv(\"o1_endpoint\"), \n",
    "      api_key=os.getenv(\"o1_key\"),  \n",
    "      api_version=\"2024-02-01\"\n",
    "    )\n",
    "    \n",
    "    response = client.chat.completions.create(\n",
    "        model=os.getenv(\"o1_mini\"), # model = \"deployment_name\".\n",
    "        messages=[\n",
    "            {\"role\": \"user\", \"content\": prompt},\n",
    "        ]\n",
    "    )\n",
    "    return response.choices[0].message.content"
   ]
  },
  {
   "cell_type": "code",
   "execution_count": 71,
   "id": "89ec96da-1033-4948-ba12-642ebabf1d15",
   "metadata": {},
   "outputs": [],
   "source": [
    "comments_path = \"/oak/stanford/groups/rbaltman/samori/tiktok/comments/cleaned/comments_5_cleaned.csv\"\n",
    "output_path = \"\"\n",
    "df = pd.read_csv(comments_path)\n",
    "ids = list(df['id'])\n",
    "comments = list(df['text'])"
   ]
  },
  {
   "cell_type": "code",
   "execution_count": 62,
   "id": "a2640c52-ba19-4f64-9b64-27eae2dc1c45",
   "metadata": {},
   "outputs": [],
   "source": [
    "with open(\"./query_template.txt\", \"r\") as f:\n",
    "    query_template = f.read()"
   ]
  },
  {
   "cell_type": "code",
   "execution_count": 67,
   "id": "ca930ad4-96eb-4fe1-8d4e-56fa2680faf7",
   "metadata": {},
   "outputs": [],
   "source": [
    "output_format =  \"\\n\\nResponse format(never deviate):\\n[Annotation]\\n[Explanation]\""
   ]
  },
  {
   "cell_type": "code",
   "execution_count": 99,
   "id": "5faba7a2-4ce3-4fc7-8d94-484aa67fdd85",
   "metadata": {},
   "outputs": [],
   "source": [
    "def annotate_comments(all_ids, comments):\n",
    "    machine_id = 1\n",
    "    num_machines = 2\n",
    "    \n",
    "    with open(\"./query_template.txt\", \"r\") as f:\n",
    "        query_template = f.read()\n",
    "        \n",
    "    output_format =  \"\\n\\nResponse format(never deviate):\\n[Annotation]\\n[Explanation]\"\n",
    "    \n",
    "    annotations = []\n",
    "    reasonings = []\n",
    "    ids = []\n",
    "    \n",
    "    for i in range(len(comments)):\n",
    "        if i%num_machines == machine_id:\n",
    "            comment = comments[i]\n",
    "            comment_ids = all_ids[i]\n",
    "        \n",
    "            prompt = query_template + comment + output_format\n",
    "            response = query_o1(prompt)\n",
    "            \n",
    "            annotation, reasoning = response.split(\"\\n\")\n",
    "\n",
    "            ids.append(comment_ids)\n",
    "            annotations.append(annotation)\n",
    "            reasonings.append(reasoning)\n",
    "            \n",
    "            time.sleep(0.5)\n",
    "    return ids, annotations, reasonings\n",
    "\n",
    "\n",
    "def main(comments_path, output_path):\n",
    "    machine_id = 1\n",
    "    \n",
    "    df = pd.read_csv(comments_path)\n",
    "    \n",
    "    all_ids = list(df['id'])\n",
    "    comments = list(df['text'])\n",
    "\n",
    "    all_ids = all_ids[:10]\n",
    "    comments = comments[:10]\n",
    "\n",
    "    ids, annotations, reasonings = annotate_comments(all_ids, comments)\n",
    "        \n",
    "    gpt_df = pd.DataFrame()\n",
    "    gpt_df[\"id\"] = ids\n",
    "    gpt_df[\"annotation\"] = annotations\n",
    "    gpt_df[\"reasoning\"] = reasonings\n",
    "    gpt_df.to_csv(f\"{output_path}/gpt_annotation_machine_{machine_id}.csv\", index=None)"
   ]
  },
  {
   "cell_type": "code",
   "execution_count": 100,
   "id": "c75a07a2-0f49-4e1d-9332-2ae29ff27eab",
   "metadata": {},
   "outputs": [],
   "source": [
    "main(comments_path,\"./\")"
   ]
  },
  {
   "cell_type": "code",
   "execution_count": 69,
   "id": "62148e9c-cf95-4073-831a-b1d196222577",
   "metadata": {},
   "outputs": [],
   "source": [
    "gpt_df = pd.DataFrame()\n",
    "gpt_df[\"id\"] = ids[:10]\n",
    "gpt_df[\"annotation\"] = annotations\n",
    "gpt_df[\"reasoning\"] = reasonings\n",
    "gpt_df.to_csv(f\"{output_path}/machine_{x}.csv\", index=None)"
   ]
  },
  {
   "cell_type": "code",
   "execution_count": 84,
   "id": "30483ade-5156-433d-b7c6-1888b16b3345",
   "metadata": {},
   "outputs": [],
   "source": [
    "num_samples = math.ceil(len(df)/10)\n"
   ]
  },
  {
   "cell_type": "code",
   "execution_count": 78,
   "id": "63bb9e61-1256-473d-9f14-a838635b77d6",
   "metadata": {},
   "outputs": [
    {
     "data": {
      "text/plain": [
       "['So heartbreaking 💔 prayers and thoughts 😔❤🙏',\n",
       " 'And we have to acknowledge that there is a risk every time you allow a doctor to inject anything into your spine.',\n",
       " 'It makes me so mad that they’re pushing extremely expensive, non-FDA approved, non-effective injections. It’s about the money and it’s wrong.',\n",
       " 'Isn’t it so bad? It time just just encourage and empower all of our pain people the best way we can. And help them avoid the big ones that are realbad',\n",
       " 'They also make you sign away your ability to sue them. I gotta find their intake forms. 🥺',\n",
       " 'Exactly ~ it’s clearly noted on google, FDA, ….they caused more harm than good for me.',\n",
       " 'It’s been rough. We’ve been in a heat dome here, but I’m still struggling with high pain. Be patient with yourself! 🥰🥰🥰',\n",
       " 'injections made my pain worse',\n",
       " 'Thank you Kim for all the information you give us!🥰',\n",
       " 'They also all contain mercury as the preservative. I asked my Dr. for the insert of the injection and pointed out why I was refusing the injections.']"
      ]
     },
     "execution_count": 78,
     "metadata": {},
     "output_type": "execute_result"
    }
   ],
   "source": [
    "list(df.loc[11:20]['text'])"
   ]
  },
  {
   "cell_type": "code",
   "execution_count": 89,
   "id": "341e711c-da56-448f-9eaa-0bfb426c2b41",
   "metadata": {},
   "outputs": [
    {
     "data": {
      "text/plain": [
       "0"
      ]
     },
     "execution_count": 89,
     "metadata": {},
     "output_type": "execute_result"
    }
   ],
   "source": [
    "10%10"
   ]
  },
  {
   "cell_type": "code",
   "execution_count": 70,
   "id": "eb80ae94-f691-4cc3-a8a8-a8ab7f843ec9",
   "metadata": {},
   "outputs": [
    {
     "data": {
      "text/html": [
       "<div>\n",
       "<style scoped>\n",
       "    .dataframe tbody tr th:only-of-type {\n",
       "        vertical-align: middle;\n",
       "    }\n",
       "\n",
       "    .dataframe tbody tr th {\n",
       "        vertical-align: top;\n",
       "    }\n",
       "\n",
       "    .dataframe thead th {\n",
       "        text-align: right;\n",
       "    }\n",
       "</style>\n",
       "<table border=\"1\" class=\"dataframe\">\n",
       "  <thead>\n",
       "    <tr style=\"text-align: right;\">\n",
       "      <th></th>\n",
       "      <th>id</th>\n",
       "      <th>annotation</th>\n",
       "      <th>reasoning</th>\n",
       "    </tr>\n",
       "  </thead>\n",
       "  <tbody>\n",
       "    <tr>\n",
       "      <th>0</th>\n",
       "      <td>7.295967e+18</td>\n",
       "      <td>001</td>\n",
       "      <td>The comment primarily describes others (\"many ...</td>\n",
       "    </tr>\n",
       "    <tr>\n",
       "      <th>1</th>\n",
       "      <td>7.295968e+18</td>\n",
       "      <td>010</td>\n",
       "      <td>The comment directly addresses another individ...</td>\n",
       "    </tr>\n",
       "    <tr>\n",
       "      <th>2</th>\n",
       "      <td>7.295967e+18</td>\n",
       "      <td>100</td>\n",
       "      <td>The comment centers on the speaker's own pain ...</td>\n",
       "    </tr>\n",
       "    <tr>\n",
       "      <th>3</th>\n",
       "      <td>7.187482e+18</td>\n",
       "      <td>010</td>\n",
       "      <td>The comment directly addresses Jackson using s...</td>\n",
       "    </tr>\n",
       "    <tr>\n",
       "      <th>4</th>\n",
       "      <td>7.203023e+18</td>\n",
       "      <td>100</td>\n",
       "      <td>The comment primarily reflects the speaker’s o...</td>\n",
       "    </tr>\n",
       "    <tr>\n",
       "      <th>5</th>\n",
       "      <td>7.210254e+18</td>\n",
       "      <td>110</td>\n",
       "      <td>The comment centers on the speaker’s personal ...</td>\n",
       "    </tr>\n",
       "    <tr>\n",
       "      <th>6</th>\n",
       "      <td>7.210255e+18</td>\n",
       "      <td>100</td>\n",
       "      <td>The comment centers on the speaker’s personal ...</td>\n",
       "    </tr>\n",
       "    <tr>\n",
       "      <th>7</th>\n",
       "      <td>7.211994e+18</td>\n",
       "      <td>010</td>\n",
       "      <td>The comment directly addresses Jackson (using ...</td>\n",
       "    </tr>\n",
       "    <tr>\n",
       "      <th>8</th>\n",
       "      <td>7.207786e+18</td>\n",
       "      <td>110</td>\n",
       "      <td>The comment primarily centers on the speaker's...</td>\n",
       "    </tr>\n",
       "    <tr>\n",
       "      <th>9</th>\n",
       "      <td>7.215409e+18</td>\n",
       "      <td>100</td>\n",
       "      <td>The comment conveys the speaker's personal emo...</td>\n",
       "    </tr>\n",
       "  </tbody>\n",
       "</table>\n",
       "</div>"
      ],
      "text/plain": [
       "             id annotation                                          reasoning\n",
       "0  7.295967e+18        001  The comment primarily describes others (\"many ...\n",
       "1  7.295968e+18        010  The comment directly addresses another individ...\n",
       "2  7.295967e+18        100  The comment centers on the speaker's own pain ...\n",
       "3  7.187482e+18        010  The comment directly addresses Jackson using s...\n",
       "4  7.203023e+18        100  The comment primarily reflects the speaker’s o...\n",
       "5  7.210254e+18        110  The comment centers on the speaker’s personal ...\n",
       "6  7.210255e+18        100  The comment centers on the speaker’s personal ...\n",
       "7  7.211994e+18        010  The comment directly addresses Jackson (using ...\n",
       "8  7.207786e+18        110  The comment primarily centers on the speaker's...\n",
       "9  7.215409e+18        100  The comment conveys the speaker's personal emo..."
      ]
     },
     "execution_count": 70,
     "metadata": {},
     "output_type": "execute_result"
    }
   ],
   "source": [
    "gpt_df"
   ]
  },
  {
   "cell_type": "code",
   "execution_count": 66,
   "id": "f324c674-b739-498c-bcce-00c20a8c2ff7",
   "metadata": {},
   "outputs": [
    {
     "name": "stdout",
     "output_type": "stream",
     "text": [
      "**000**\n",
      "\n",
      "**Explanation:**  \n",
      "The comment primarily focuses on the speaker’s personal experience of loss, mentioning the death of her husband and the greater difficulty in losing her son. However, there is no explicit reference to drug-related issues or experiences within the comment. Since the main message centers on personal grief without directly addressing drug use, recovery, overdose, or related topics, none of the specified drug-related perspectives (first, second, or third person) are central to the comment’s content.\n"
     ]
    }
   ],
   "source": [
    "print(response)"
   ]
  },
  {
   "cell_type": "code",
   "execution_count": null,
   "id": "d99acb64-a3a6-4171-b0d5-9f55163cd7d7",
   "metadata": {},
   "outputs": [],
   "source": []
  },
  {
   "cell_type": "code",
   "execution_count": null,
   "id": "be387a5d-27b7-41b4-983f-5124a28293b1",
   "metadata": {},
   "outputs": [],
   "source": []
  },
  {
   "cell_type": "code",
   "execution_count": null,
   "id": "91fb2667-8f91-4b09-b50c-e6b9555ecda6",
   "metadata": {},
   "outputs": [],
   "source": []
  },
  {
   "cell_type": "code",
   "execution_count": null,
   "id": "eb03fffa-33d3-4caf-b98f-997b8e5fc53c",
   "metadata": {},
   "outputs": [],
   "source": []
  },
  {
   "cell_type": "code",
   "execution_count": null,
   "id": "751508da-74d1-4cc1-bb8b-ec3737bd4a08",
   "metadata": {},
   "outputs": [],
   "source": []
  },
  {
   "cell_type": "code",
   "execution_count": 49,
   "id": "53c528da-6872-46a7-87c7-3b3f94236a20",
   "metadata": {},
   "outputs": [],
   "source": [
    "ids = list(df['id'])\n",
    "comments = list(df['text'])\n",
    "comment = comments[0]"
   ]
  },
  {
   "cell_type": "code",
   "execution_count": 56,
   "id": "87ae5786-7415-44c3-9671-84282a1951bd",
   "metadata": {
    "scrolled": true
   },
   "outputs": [],
   "source": [
    "prompt = query_template + comment + output_format"
   ]
  },
  {
   "cell_type": "code",
   "execution_count": 57,
   "id": "03aee68d-7aad-49fc-8fb6-71c7ecbf0727",
   "metadata": {
    "scrolled": true
   },
   "outputs": [
    {
     "name": "stdout",
     "output_type": "stream",
     "text": [
      "I will give you a social media comment to annotate. This comment is part of a larger drugs discussion (e.g., about opioids, etc). Your task is to determine the perspective(s) expressed about drugs—specifically focusing on the main, central drug-related message of the comment. When considering perspectives, take into account not only the presence of pronouns, but more importantly, whether that perspective is central to the comment’s description of drug use, recovery, overdose loss, or other drug-related experiences. Do not automatically register a perspective simply because a pronoun appears; ensure that its use meaningfully contributes to the drug-related context.\n",
      "\n",
      "You must return a onehot integer of length 3 (e.g., 010) corresponding to the following perspectives:\n",
      "\t- Position 1 (first person): Mark 1 if the comment’s main drug-related message comes from the speaker’s own experience or personal account (e.g., “I am recovering from OUD” or “I’ve taken every opiate under the sun”). Otherwise, mark 0.\n",
      "\t- Position 2 (second person): Mark 1 if the comment directly addresses another individual about their drug use, experience, or advice using second-person pronouns (e.g., “you”, “your”) and this direct address is central to the drug-related content. If such direct addressing is merely incidental or not the focus of the drug discussion, do not mark this perspective.\n",
      "\t- Position 3 (third person): Mark 1 if the comment primarily describes someone else’s or a group’s drug-related experiences using third-person pronouns (e.g., “he”, “she”, “they”) or references, and this outside perspective is central to the comment’s drug story. Avoid marking third person if a pronoun appears only in an aside or incidental remark that is not the main point about drugs.\n",
      "\n",
      "Guidelines and examples:\n",
      "\t- As you analyze the comment, identify which parts form the central drug narrative. Ignore incidental mentions of pronouns that do not contribute to the primary drug-related message.\n",
      "\t- Together with your decision, provide a brief explanation that cites why the comment’s main message is associated with a particular perspective and why any incidental pronoun use was not considered central.\n",
      "\n",
      "For example:\n",
      "\t- For “I am recovering from OUD,” return 100 because the drug-related focus is on the speaker’s personal experience.\n",
      "\t- For “I am sorry to hear you lost your son to fentanyl OD,” return 010 because the comment directly addresses someone about their drug-related loss.\n",
      "\t- For “They take fentanyl-laced substances,” return 001 because the comment describes another group’s drug behavior.\n",
      "\t- For “I lost a partner. I am sorry to hear you lost someone too. My condolences to you and your family,” return 110 if both the speaker’s loss and the direct address are central to the drug-related discussion.\n",
      "\t- For “You should take a lower dose. They should be careful with supplies from the street,” return 011 if the comment’s main advice and warnings pertain to others, even if the mention of “you” is indirect.\n",
      "\n",
      "Important: Focus on the central drug narrative. For example, in the comment below:\n",
      "\"She was there. I have done every dope. Quitting perc is too much hell\"\n",
      "Although the word “She” is used, the dominant, central message is the speaker’s own experience with opiates and drug withdrawal. Therefore, only the first person perspective should be marked (100), and the incidental third-person reference should be ignored.\n",
      "\n",
      "Now, consider the following comment. Please analyze it carefully, decide on the most central drug-related perspective(s), provide a onehot annotation (e.g., 100), and explain your reasoning in detail:\n",
      "Sure do love that sweet angel. Still doesn’t feel real 💕🥲\n",
      "\n",
      "Response format:\n",
      "[Annotation]\n",
      "[Explanation]\n"
     ]
    }
   ],
   "source": [
    "print(prompt)"
   ]
  },
  {
   "cell_type": "code",
   "execution_count": 51,
   "id": "aa1ee7bd-8071-43bd-956f-d567f83acf1f",
   "metadata": {},
   "outputs": [
    {
     "ename": "ValueError",
     "evalue": "too many values to unpack (expected 2)",
     "output_type": "error",
     "traceback": [
      "\u001b[0;31m---------------------------------------------------------------------------\u001b[0m",
      "\u001b[0;31mValueError\u001b[0m                                Traceback (most recent call last)",
      "Cell \u001b[0;32mIn[51], line 2\u001b[0m\n\u001b[1;32m      1\u001b[0m respone \u001b[38;5;241m=\u001b[39m query_o1(prompt)\n\u001b[0;32m----> 2\u001b[0m annotation, reasoning \u001b[38;5;241m=\u001b[39m respone\u001b[38;5;241m.\u001b[39msplit(\u001b[38;5;124m\"\u001b[39m\u001b[38;5;130;01m\\n\u001b[39;00m\u001b[38;5;124m\"\u001b[39m)\n\u001b[1;32m      3\u001b[0m annotation\n",
      "\u001b[0;31mValueError\u001b[0m: too many values to unpack (expected 2)"
     ]
    }
   ],
   "source": [
    "respone = query_o1(prompt)\n",
    "annotation, reasoning = respone.split(\"\\n\")\n",
    "annotation"
   ]
  },
  {
   "cell_type": "code",
   "execution_count": 58,
   "id": "ba8a3f97-f98b-4b14-9438-e9e1abd3d5c9",
   "metadata": {
    "scrolled": true
   },
   "outputs": [
    {
     "name": "stdout",
     "output_type": "stream",
     "text": [
      "many of them have no idea they are using fentanyl!\n",
      "001\n",
      "The comment primarily describes others' behavior by stating \"many of them have no idea they are using fentanyl,\" which centers on third-person perspectives. There are no first-person (\"I\") or second-person (\"you\") references that contribute to the main drug-related message.\n",
      "your children are spiritual warefare!\n",
      "010\n",
      "The comment directly addresses another individual using the second-person pronoun \"your,\" focusing on their children in the context of spiritual warfare. This direct address is central to the drug-related discussion, likely implying a struggle related to the children's involvement with drugs. There is no reference to the speaker’s own experience (first person) or to others outside the addressed individual (third person).\n",
      "i pray they never havevto understand our pain\n",
      "100\n",
      "The comment centers on the speaker's own emotions and experiences, as indicated by \"I pray\" and \"our pain.\" While it references \"they,\" this external group is not the primary focus of the drug-related message. The main narrative is the speaker's personal perspective on their pain and their wish regarding others' understanding.\n",
      "Happy Birthday Jackson, I hope you’re spending it visiting your momma that misses you more and more every day. 💚\n",
      "010\n",
      "The comment directly addresses Jackson using the second-person pronoun \"you,\" focusing on his current situation (\"spending it visiting your momma\"). This direct address is central to the message, while the mention of \"momma\" is incidental and does not shift the primary perspective.\n",
      "I’m so sorry and on his bday. 🥺\n",
      "001\n",
      "The comment uses a third-person pronoun (\"his\") to express sympathy, likely referring to someone who has experienced a drug-related loss. The primary focus is on another individual's situation, making the third-person perspective central to the drug-related message. There are no first or second-person perspectives emphasized in the comment.\n",
      "I wish I could ask you to reassure me it gets easier. but you're years ahead of me. it still hurts. good luck in your new place. I need to let go\n",
      "100\n",
      "The comment primarily centers on the speaker's own struggles and emotions related to letting go, as seen in phrases like \"it still hurts\" and \"I need to let go.\" While the speaker addresses another person for reassurance and acknowledges their progress (\"you're years ahead of me\" and \"good luck in your new place\"), these references serve to highlight the speaker's personal experience and challenges. The second-person elements are supportive but not the central focus of the drug-related message.\n",
      "of the farm I raised my kids on. with my husband. he died in a car wreck in 2012. it was hard losing him. but my son is infinitely harder\n",
      "100\n",
      "The comment centers on the speaker’s personal experiences of raising children on a farm, losing their husband in a car wreck, and the ongoing challenges with their son. The primary drug-related message is derived from the speaker’s own experiences of loss and hardship. Although third-person pronouns like \"he\" and references to the son are present, they serve to illustrate the speaker’s personal narrative rather than describe someone else’s experiences. Therefore, only the first-person perspective is marked.\n",
      "Jackson. I know you put all you had every bit, into loving your boy\n",
      "010\n",
      "The comment directly addresses Jackson using the second-person pronoun \"you,\" focusing on Jackson's effort in loving his son, which is central to the drug-related context (likely relating to a loss from drug overdose). There are no references to the speaker's own experience or descriptions of others outside of Jackson, so only the second-person perspective is marked.\n",
      "His message to you.how proud of you🥺im so sorry. My babygirl was born 1/22/2000 departed 11/29/2020 I only wait for the day I hv her in my arms😭agai\n",
      "110\n",
      "The comment primarily centers on the speaker’s personal experience of losing their child (“My babygirl was born…departed… I only wait for the day I hv her”) marking the first person perspective. Additionally, the speaker directly addresses another individual with condolences and expressions of pride (“His message to you. how proud of you🥺im so sorry”), making the second person perspective also central to the drug-related context. There is no primary focus on a third person’s experience.\n",
      "Sure do love that sweet angel. Still doesn’t feel real 💕🥲\n",
      "100\n",
      "The comment expresses the speaker’s personal feelings (“Sure do love that sweet angel”) and their emotional state (“Still doesn’t feel real”), indicating that the main drug-related message is based on the speaker’s own experience. There is no direct address to others or description of someone else’s experiences.\n"
     ]
    }
   ],
   "source": [
    "annotations = []\n",
    "reasonings = []\n",
    "\n",
    "for i in range(10):\n",
    "    comment = comments[i]\n",
    "    comment_id = ids[i]\n",
    "\n",
    "    prompt = query_template + comment + output_format\n",
    "    response = query_o1(prompt)\n",
    "    print(comment)\n",
    "    print(response)\n",
    "    annotation, reasoning = response.split(\"\\n\")\n",
    "\n",
    "    annotations.append(annotation)\n",
    "    reasonings.append(reasoning)"
   ]
  },
  {
   "cell_type": "code",
   "execution_count": 59,
   "id": "ca81a72d-077d-4d88-b98a-d355678a1ec9",
   "metadata": {},
   "outputs": [],
   "source": [
    "gpt_df = pd.DataFrame()\n",
    "gpt_df[\"id\"] = ids[:10]\n",
    "gpt_df[\"annotation\"] = annotations\n",
    "gpt_df[\"reasoning\"] = reasonings"
   ]
  },
  {
   "cell_type": "code",
   "execution_count": 60,
   "id": "0712e407-50a8-41f2-bf52-6c10068b2c9e",
   "metadata": {},
   "outputs": [
    {
     "data": {
      "text/html": [
       "<div>\n",
       "<style scoped>\n",
       "    .dataframe tbody tr th:only-of-type {\n",
       "        vertical-align: middle;\n",
       "    }\n",
       "\n",
       "    .dataframe tbody tr th {\n",
       "        vertical-align: top;\n",
       "    }\n",
       "\n",
       "    .dataframe thead th {\n",
       "        text-align: right;\n",
       "    }\n",
       "</style>\n",
       "<table border=\"1\" class=\"dataframe\">\n",
       "  <thead>\n",
       "    <tr style=\"text-align: right;\">\n",
       "      <th></th>\n",
       "      <th>id</th>\n",
       "      <th>annotation</th>\n",
       "      <th>reasoning</th>\n",
       "    </tr>\n",
       "  </thead>\n",
       "  <tbody>\n",
       "    <tr>\n",
       "      <th>0</th>\n",
       "      <td>7.295967e+18</td>\n",
       "      <td>001</td>\n",
       "      <td>The comment primarily describes others' behavi...</td>\n",
       "    </tr>\n",
       "    <tr>\n",
       "      <th>1</th>\n",
       "      <td>7.295968e+18</td>\n",
       "      <td>010</td>\n",
       "      <td>The comment directly addresses another individ...</td>\n",
       "    </tr>\n",
       "    <tr>\n",
       "      <th>2</th>\n",
       "      <td>7.295967e+18</td>\n",
       "      <td>100</td>\n",
       "      <td>The comment centers on the speaker's own emoti...</td>\n",
       "    </tr>\n",
       "    <tr>\n",
       "      <th>3</th>\n",
       "      <td>7.187482e+18</td>\n",
       "      <td>010</td>\n",
       "      <td>The comment directly addresses Jackson using t...</td>\n",
       "    </tr>\n",
       "    <tr>\n",
       "      <th>4</th>\n",
       "      <td>7.203023e+18</td>\n",
       "      <td>001</td>\n",
       "      <td>The comment uses a third-person pronoun (\"his\"...</td>\n",
       "    </tr>\n",
       "    <tr>\n",
       "      <th>5</th>\n",
       "      <td>7.210254e+18</td>\n",
       "      <td>100</td>\n",
       "      <td>The comment primarily centers on the speaker's...</td>\n",
       "    </tr>\n",
       "    <tr>\n",
       "      <th>6</th>\n",
       "      <td>7.210255e+18</td>\n",
       "      <td>100</td>\n",
       "      <td>The comment centers on the speaker’s personal ...</td>\n",
       "    </tr>\n",
       "    <tr>\n",
       "      <th>7</th>\n",
       "      <td>7.211994e+18</td>\n",
       "      <td>010</td>\n",
       "      <td>The comment directly addresses Jackson using t...</td>\n",
       "    </tr>\n",
       "    <tr>\n",
       "      <th>8</th>\n",
       "      <td>7.207786e+18</td>\n",
       "      <td>110</td>\n",
       "      <td>The comment primarily centers on the speaker’s...</td>\n",
       "    </tr>\n",
       "    <tr>\n",
       "      <th>9</th>\n",
       "      <td>7.215409e+18</td>\n",
       "      <td>100</td>\n",
       "      <td>The comment expresses the speaker’s personal f...</td>\n",
       "    </tr>\n",
       "  </tbody>\n",
       "</table>\n",
       "</div>"
      ],
      "text/plain": [
       "             id annotation                                          reasoning\n",
       "0  7.295967e+18        001  The comment primarily describes others' behavi...\n",
       "1  7.295968e+18        010  The comment directly addresses another individ...\n",
       "2  7.295967e+18        100  The comment centers on the speaker's own emoti...\n",
       "3  7.187482e+18        010  The comment directly addresses Jackson using t...\n",
       "4  7.203023e+18        001  The comment uses a third-person pronoun (\"his\"...\n",
       "5  7.210254e+18        100  The comment primarily centers on the speaker's...\n",
       "6  7.210255e+18        100  The comment centers on the speaker’s personal ...\n",
       "7  7.211994e+18        010  The comment directly addresses Jackson using t...\n",
       "8  7.207786e+18        110  The comment primarily centers on the speaker’s...\n",
       "9  7.215409e+18        100  The comment expresses the speaker’s personal f..."
      ]
     },
     "execution_count": 60,
     "metadata": {},
     "output_type": "execute_result"
    }
   ],
   "source": [
    "gpt_df"
   ]
  },
  {
   "cell_type": "code",
   "execution_count": 2,
   "id": "c90f2903-b488-474f-9c44-0c5923c46279",
   "metadata": {},
   "outputs": [],
   "source": [
    "import openai"
   ]
  },
  {
   "cell_type": "code",
   "execution_count": 3,
   "id": "a47167f4-37e9-4916-bb7a-e04753454862",
   "metadata": {},
   "outputs": [
    {
     "data": {
      "text/plain": [
       "openai.BadRequestError"
      ]
     },
     "execution_count": 3,
     "metadata": {},
     "output_type": "execute_result"
    }
   ],
   "source": [
    "openai.BadRequestError"
   ]
  }
 ],
 "metadata": {
  "kernelspec": {
   "display_name": "lda_env2",
   "language": "python",
   "name": "lda_env2"
  },
  "language_info": {
   "codemirror_mode": {
    "name": "ipython",
    "version": 3
   },
   "file_extension": ".py",
   "mimetype": "text/x-python",
   "name": "python",
   "nbconvert_exporter": "python",
   "pygments_lexer": "ipython3",
   "version": "3.9.20"
  }
 },
 "nbformat": 4,
 "nbformat_minor": 5
}
