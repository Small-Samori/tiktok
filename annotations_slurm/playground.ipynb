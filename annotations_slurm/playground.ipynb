{
 "cells": [
  {
   "cell_type": "code",
   "execution_count": 2,
   "id": "eef6d779-b860-4473-9251-64e57f2cc72f",
   "metadata": {},
   "outputs": [
    {
     "data": {
      "text/plain": [
       "True"
      ]
     },
     "execution_count": 2,
     "metadata": {},
     "output_type": "execute_result"
    }
   ],
   "source": [
    "import requests\n",
    "import json, math, sys, time\n",
    "import openai, re\n",
    "from openai import AzureOpenAI\n",
    "from dotenv import load_dotenv\n",
    "import os, time, glob\n",
    "from tqdm import tqdm\n",
    "from statistics import mode\n",
    "from sklearn.metrics import confusion_matrix\n",
    "import pandas as pd\n",
    "from tqdm import tqdm\n",
    "\n",
    "load_dotenv()"
   ]
  },
  {
   "cell_type": "code",
   "execution_count": 3,
   "id": "934bf7f7-760c-4109-9033-b4c289f9f4c2",
   "metadata": {},
   "outputs": [],
   "source": [
    "def query_o1(prompt):\n",
    "    client = AzureOpenAI(\n",
    "      azure_endpoint = os.getenv(\"o1_endpoint\"), \n",
    "      api_key=os.getenv(\"o1_key\"),  \n",
    "      api_version=\"2024-02-01\"\n",
    "    )\n",
    "    \n",
    "    response = client.chat.completions.create(\n",
    "        model=os.getenv(\"o1_mini\"), # model = \"deployment_name\".\n",
    "        messages=[\n",
    "            {\"role\": \"user\", \"content\": prompt},\n",
    "        ]\n",
    "    )\n",
    "    return response.choices[0].message.content"
   ]
  },
  {
   "cell_type": "code",
   "execution_count": 4,
   "id": "00f0d685-2203-4f03-b9c8-ba23ad69e26c",
   "metadata": {},
   "outputs": [],
   "source": [
    "def load_query_template(path=\"./query_template2.txt\"):\n",
    "    with open(path, \"r\") as f:\n",
    "        query_template = f.read()\n",
    "    return query_template"
   ]
  },
  {
   "cell_type": "code",
   "execution_count": 5,
   "id": "8f1cb028-0141-4001-aeb8-c8a9c93673e5",
   "metadata": {},
   "outputs": [],
   "source": [
    "def tag_comments(comment_list):\n",
    "    tagged_comments = [f\"<comment>{i}<\\comment>\\n\" for i in comment_list]\n",
    "    tagged_comments_str = \"\".join(tagged_comments)\n",
    "    return tagged_comments_str"
   ]
  },
  {
   "cell_type": "code",
   "execution_count": 6,
   "id": "2c4d1d28-8faa-411f-9b66-f8f12fcbd83c",
   "metadata": {},
   "outputs": [],
   "source": [
    "def extract_ann_exp(response):\n",
    "    pattern = r\"<ann>(.*?)</ann> <exp>(.*?)</exp>\"\n",
    "    \n",
    "    response_list = response.split(\"\\n\")\n",
    "    # AttributeError if one of them does not follow the patter or No match was found\n",
    "    ann_batch = [re.search(pattern, i).group(1) for i in response_list]\n",
    "    exp_batch = [re.search(pattern, i).group(2) for i in response_list]\n",
    "\n",
    "\n",
    "    return ann_batch, exp_batch"
   ]
  },
  {
   "cell_type": "code",
   "execution_count": 7,
   "id": "5de947ba-8ced-4292-95d2-c78713c53ea8",
   "metadata": {},
   "outputs": [],
   "source": [
    "def dumb():\n",
    "    raise openai.RateLimitError "
   ]
  },
  {
   "cell_type": "code",
   "execution_count": 8,
   "id": "8969b737-61f4-4ad4-9dd5-3008a587d9ae",
   "metadata": {},
   "outputs": [],
   "source": [
    "def get_response(prompt, query_func, num_comments):\n",
    "    retry = True; \n",
    "    max_retries_api_error = 10; num_retries_api_error = 0\n",
    "    max_retries_bad_request = 5; num_retries_bad_request = 0\n",
    "\n",
    "    while retry:\n",
    "        try:\n",
    "            response = query_func(prompt)\n",
    "            retry = False\n",
    "            \n",
    "        except openai.BadRequestError as e:\n",
    "            print(e); print(f\"{num_retries_bad_request}/{max_retries_bad_request} tries more ...\")\n",
    "            if num_retries_bad_request < max_retries_bad_request: \n",
    "                time.sleep(3); num_retries_bad_request+=1\n",
    "            else:\n",
    "                response = \"<ann>BadRequestError</ann> <exp>BadRequestError</exp>\\n\" * num_comments\n",
    "                retry = False\n",
    "            \n",
    "        except (openai.RateLimitError, KeyError, openai.Timeout, openai.APIConnectionError, openai.APIError) as e:\n",
    "            print(e); print(f\"{num_retries_api_error}/{max_retries_api_error} tries more ...\")\n",
    "            if num_retries_api_error < max_retries_api_error: \n",
    "                time.sleep(3); num_retries_api_error+=1\n",
    "            else:\n",
    "                response = \"<ann>APIError</ann> <exp>APIError</exp>\\n\" * num_comments\n",
    "                retry = False\n",
    "\n",
    "    return response"
   ]
  },
  {
   "cell_type": "code",
   "execution_count": 9,
   "id": "4959dacc-3cea-4d65-afd2-91a3f7d2e226",
   "metadata": {},
   "outputs": [],
   "source": [
    "def write_to_file(filepath, content):\n",
    "    with open(filepath, \"a\") as f:\n",
    "        f.write(content)"
   ]
  },
  {
   "cell_type": "code",
   "execution_count": 10,
   "id": "76047ac7-77f6-43a8-bc95-5412957013da",
   "metadata": {},
   "outputs": [],
   "source": [
    "def annotate_comments(ids_all, comments_all, filepath, \n",
    "                      batch_size=5, query_func=query_o1, return_results=False):\n",
    "    \n",
    "    query_template = load_query_template()\n",
    "    write_to_file(filepath, \"id\\tannotation\\texplanation\\ttime\\n\")\n",
    "    all_csv_content = \"\"\n",
    "    for start in range(0, len(comments_all), batch_size):\n",
    "        retry = True; max_retries = 10; num_retries = 0\n",
    "        \n",
    "        ids_batch = ids_all[start: start+batch_size]\n",
    "        comments_batch = comments_all[start: start+batch_size]\n",
    "        tagged_comments = tag_comments(comments_batch)\n",
    "\n",
    "        num_comments = len(comments_batch)\n",
    "        prompt = query_template + tagged_comments\n",
    "        response = get_response(prompt, query_func, num_comments)\n",
    "        try:\n",
    "            ann_batch, exp_batch = extract_ann_exp(response)\n",
    "        except AttributeError:\n",
    "            ann_batch, exp_batch = ['None']*num_comments, ['None']*num_comments\n",
    "            \n",
    "        time_list = [time.time()]*num_comments\n",
    "        csv_content = [f\"{ids_batch[i]}\\t'{ann_batch[i]}'\\t{exp_batch[i]}\\t{time_list[i]}\\n\" for i in range(len(ids_batch))]\n",
    "        csv_content = \"\".join(csv_content)\n",
    "        all_csv_content += csv_content\n",
    "        write_to_file(filepath, csv_content)\n",
    "\n",
    "    if return_results: return csv_content\n",
    "        "
   ]
  },
  {
   "cell_type": "code",
   "execution_count": 11,
   "id": "ca610dc2-90e7-488d-a3da-0321e2262e73",
   "metadata": {},
   "outputs": [],
   "source": [
    "samori_folder = f\"{os.getenv('OAK')}/samori\"\n",
    "comments_folder = f\"{samori_folder}/tiktok/comments\"\n",
    "# persons_folder = f\"{samori_folder}/tiktok/persons\"\n",
    "persons_folder = \".\""
   ]
  },
  {
   "cell_type": "code",
   "execution_count": 12,
   "id": "86036462-de89-4536-ae39-77b64d41d5d2",
   "metadata": {},
   "outputs": [],
   "source": [
    "comments_csv_path = f\"{comments_folder}/cleaned/comments_5_cleaned.csv\""
   ]
  },
  {
   "cell_type": "code",
   "execution_count": 28,
   "id": "dc3f1687-50c5-4b19-91c2-d77758c2ad93",
   "metadata": {},
   "outputs": [
    {
     "ename": "TypeError",
     "evalue": "catching classes that do not inherit from BaseException is not allowed",
     "output_type": "error",
     "traceback": [
      "\u001b[0;31m---------------------------------------------------------------------------\u001b[0m",
      "\u001b[0;31mTypeError\u001b[0m                                 Traceback (most recent call last)",
      "Cell \u001b[0;32mIn[27], line 9\u001b[0m, in \u001b[0;36mget_response\u001b[0;34m(prompt, query_func, num_comments)\u001b[0m\n\u001b[1;32m      7\u001b[0m \u001b[38;5;28;01mtry\u001b[39;00m:\n\u001b[1;32m      8\u001b[0m     \u001b[38;5;66;03m# response = query_func(prompt)\u001b[39;00m\n\u001b[0;32m----> 9\u001b[0m     \u001b[43mdumb\u001b[49m\u001b[43m(\u001b[49m\u001b[43m)\u001b[49m\n\u001b[1;32m     10\u001b[0m     retry \u001b[38;5;241m=\u001b[39m \u001b[38;5;28;01mFalse\u001b[39;00m\n",
      "Cell \u001b[0;32mIn[20], line 2\u001b[0m, in \u001b[0;36mdumb\u001b[0;34m()\u001b[0m\n\u001b[1;32m      1\u001b[0m \u001b[38;5;28;01mdef\u001b[39;00m \u001b[38;5;21mdumb\u001b[39m():\n\u001b[0;32m----> 2\u001b[0m     \u001b[38;5;28;01mraise\u001b[39;00m openai\u001b[38;5;241m.\u001b[39mRateLimitError\n",
      "\u001b[0;31mTypeError\u001b[0m: __init__() missing 1 required positional argument: 'message'",
      "\nDuring handling of the above exception, another exception occurred:\n",
      "\u001b[0;31mTypeError\u001b[0m                                 Traceback (most recent call last)",
      "Cell \u001b[0;32mIn[28], line 8\u001b[0m\n\u001b[1;32m      5\u001b[0m comments_all \u001b[38;5;241m=\u001b[39m \u001b[38;5;28mlist\u001b[39m(df[\u001b[38;5;124m'\u001b[39m\u001b[38;5;124mtext\u001b[39m\u001b[38;5;124m'\u001b[39m])\n\u001b[1;32m      6\u001b[0m start_time \u001b[38;5;241m=\u001b[39m time\u001b[38;5;241m.\u001b[39mtime()\n\u001b[0;32m----> 8\u001b[0m \u001b[43mannotate_comments\u001b[49m\u001b[43m(\u001b[49m\u001b[43mids_all\u001b[49m\u001b[43m,\u001b[49m\u001b[43m \u001b[49m\u001b[43mcomments_all\u001b[49m\u001b[43m,\u001b[49m\u001b[43m \u001b[49m\n\u001b[1;32m      9\u001b[0m \u001b[43m                  \u001b[49m\u001b[38;5;124;43mf\u001b[39;49m\u001b[38;5;124;43m\"\u001b[39;49m\u001b[38;5;132;43;01m{\u001b[39;49;00m\u001b[43mpersons_folder\u001b[49m\u001b[38;5;132;43;01m}\u001b[39;49;00m\u001b[38;5;124;43m/gpt_annotations_\u001b[39;49m\u001b[38;5;132;43;01m{\u001b[39;49;00m\u001b[43mstart_time\u001b[49m\u001b[38;5;132;43;01m}\u001b[39;49;00m\u001b[38;5;124;43m.txt\u001b[39;49m\u001b[38;5;124;43m\"\u001b[39;49m\u001b[43m,\u001b[49m\u001b[43m \u001b[49m\n\u001b[1;32m     10\u001b[0m \u001b[43m                  \u001b[49m\u001b[43mbatch_size\u001b[49m\u001b[38;5;241;43m=\u001b[39;49m\u001b[38;5;241;43m5\u001b[39;49m\u001b[43m,\u001b[49m\u001b[43m \u001b[49m\u001b[43mquery_func\u001b[49m\u001b[38;5;241;43m=\u001b[39;49m\u001b[43mquery_o1\u001b[49m\u001b[43m)\u001b[49m\n",
      "Cell \u001b[0;32mIn[23], line 16\u001b[0m, in \u001b[0;36mannotate_comments\u001b[0;34m(ids_all, comments_all, filepath, batch_size, query_func, return_results)\u001b[0m\n\u001b[1;32m     14\u001b[0m num_comments \u001b[38;5;241m=\u001b[39m \u001b[38;5;28mlen\u001b[39m(comments_batch)\n\u001b[1;32m     15\u001b[0m prompt \u001b[38;5;241m=\u001b[39m query_template \u001b[38;5;241m+\u001b[39m tagged_comments\n\u001b[0;32m---> 16\u001b[0m response \u001b[38;5;241m=\u001b[39m \u001b[43mget_response\u001b[49m\u001b[43m(\u001b[49m\u001b[43mprompt\u001b[49m\u001b[43m,\u001b[49m\u001b[43m \u001b[49m\u001b[43mquery_func\u001b[49m\u001b[43m,\u001b[49m\u001b[43m \u001b[49m\u001b[43mnum_comments\u001b[49m\u001b[43m)\u001b[49m\n\u001b[1;32m     17\u001b[0m \u001b[38;5;28;01mtry\u001b[39;00m:\n\u001b[1;32m     18\u001b[0m     ann_batch, exp_batch \u001b[38;5;241m=\u001b[39m extract_ann_exp(response)\n",
      "Cell \u001b[0;32mIn[27], line 20\u001b[0m, in \u001b[0;36mget_response\u001b[0;34m(prompt, query_func, num_comments)\u001b[0m\n\u001b[1;32m     17\u001b[0m         response \u001b[38;5;241m=\u001b[39m \u001b[38;5;124m\"\u001b[39m\u001b[38;5;124m<ann>BadRequestError</ann> <exp>BadRequestError</exp>\u001b[39m\u001b[38;5;130;01m\\n\u001b[39;00m\u001b[38;5;124m\"\u001b[39m \u001b[38;5;241m*\u001b[39m num_comments\n\u001b[1;32m     18\u001b[0m         retry \u001b[38;5;241m=\u001b[39m \u001b[38;5;28;01mFalse\u001b[39;00m\n\u001b[0;32m---> 20\u001b[0m \u001b[38;5;28;01mexcept\u001b[39;00m (openai\u001b[38;5;241m.\u001b[39mRateLimitError, \u001b[38;5;167;01mKeyError\u001b[39;00m, openai\u001b[38;5;241m.\u001b[39mTimeout, openai\u001b[38;5;241m.\u001b[39mAPIConnectionError, openai\u001b[38;5;241m.\u001b[39mAPIError) \u001b[38;5;28;01mas\u001b[39;00m e:\n\u001b[1;32m     21\u001b[0m     \u001b[38;5;28mprint\u001b[39m(e\u001b[38;5;241m.\u001b[39mcode)\n\u001b[1;32m     22\u001b[0m     \u001b[38;5;28;01mif\u001b[39;00m num_retries_api_error \u001b[38;5;241m<\u001b[39m max_retries_api_error: \n",
      "\u001b[0;31mTypeError\u001b[0m: catching classes that do not inherit from BaseException is not allowed"
     ]
    }
   ],
   "source": [
    "df = pd.read_csv(comments_csv_path)\n",
    "df = df.sample(n=5, random_state=43)\n",
    "\n",
    "ids_all = list(df['id'])\n",
    "comments_all = list(df['text'])\n",
    "start_time = time.time()\n",
    "\n",
    "annotate_comments(ids_all, comments_all, \n",
    "                  f\"{persons_folder}/gpt_annotations_{start_time}.txt\", \n",
    "                  batch_size=5, query_func=query_o1)"
   ]
  },
  {
   "cell_type": "code",
   "execution_count": null,
   "id": "28990955-8ce1-4969-81c9-3eaa5ce5c727",
   "metadata": {},
   "outputs": [],
   "source": []
  },
  {
   "cell_type": "code",
   "execution_count": 12,
   "id": "902e2aa9-864e-424f-aca4-4922467c389a",
   "metadata": {},
   "outputs": [],
   "source": [
    "import re "
   ]
  },
  {
   "cell_type": "code",
   "execution_count": 12,
   "id": "a82943cc-2c72-4d75-8e6a-53a1201acca0",
   "metadata": {},
   "outputs": [],
   "source": [
    "df = pd.read_csv(\"./gpt_annotations_1740707468.6469207.txt\", delimiter=\"\\t\")"
   ]
  },
  {
   "cell_type": "code",
   "execution_count": 13,
   "id": "c75867aa-5ccd-4564-9354-c4fee41d4c60",
   "metadata": {},
   "outputs": [
    {
     "data": {
      "text/html": [
       "<div>\n",
       "<style scoped>\n",
       "    .dataframe tbody tr th:only-of-type {\n",
       "        vertical-align: middle;\n",
       "    }\n",
       "\n",
       "    .dataframe tbody tr th {\n",
       "        vertical-align: top;\n",
       "    }\n",
       "\n",
       "    .dataframe thead th {\n",
       "        text-align: right;\n",
       "    }\n",
       "</style>\n",
       "<table border=\"1\" class=\"dataframe\">\n",
       "  <thead>\n",
       "    <tr style=\"text-align: right;\">\n",
       "      <th></th>\n",
       "      <th>id</th>\n",
       "      <th>annotation</th>\n",
       "      <th>explanation</th>\n",
       "      <th>time</th>\n",
       "    </tr>\n",
       "  </thead>\n",
       "  <tbody>\n",
       "    <tr>\n",
       "      <th>0</th>\n",
       "      <td>7.323784e+18</td>\n",
       "      <td>'100'</td>\n",
       "      <td>The comment focuses on the speaker’s personal ...</td>\n",
       "      <td>1.740707e+09</td>\n",
       "    </tr>\n",
       "    <tr>\n",
       "      <th>1</th>\n",
       "      <td>7.323225e+18</td>\n",
       "      <td>'001'</td>\n",
       "      <td>The comment describes deaths of others due to ...</td>\n",
       "      <td>1.740707e+09</td>\n",
       "    </tr>\n",
       "    <tr>\n",
       "      <th>2</th>\n",
       "      <td>7.245067e+18</td>\n",
       "      <td>'001'</td>\n",
       "      <td>The comment focuses on Old Jimmy’s fear relate...</td>\n",
       "      <td>1.740707e+09</td>\n",
       "    </tr>\n",
       "    <tr>\n",
       "      <th>3</th>\n",
       "      <td>7.191048e+18</td>\n",
       "      <td>'010'</td>\n",
       "      <td>The comment directly addresses another individ...</td>\n",
       "      <td>1.740707e+09</td>\n",
       "    </tr>\n",
       "    <tr>\n",
       "      <th>4</th>\n",
       "      <td>7.358853e+18</td>\n",
       "      <td>'101'</td>\n",
       "      <td>The comment reflects the speaker’s personal ex...</td>\n",
       "      <td>1.740707e+09</td>\n",
       "    </tr>\n",
       "    <tr>\n",
       "      <th>5</th>\n",
       "      <td>7.252892e+18</td>\n",
       "      <td>'100'</td>\n",
       "      <td>The comment uses a first-person plural perspec...</td>\n",
       "      <td>1.740707e+09</td>\n",
       "    </tr>\n",
       "    <tr>\n",
       "      <th>6</th>\n",
       "      <td>7.255314e+18</td>\n",
       "      <td>'000'</td>\n",
       "      <td>The comment does not express a central drug-re...</td>\n",
       "      <td>1.740707e+09</td>\n",
       "    </tr>\n",
       "    <tr>\n",
       "      <th>7</th>\n",
       "      <td>7.256563e+18</td>\n",
       "      <td>'001'</td>\n",
       "      <td>The comment primarily describes others' experi...</td>\n",
       "      <td>1.740707e+09</td>\n",
       "    </tr>\n",
       "    <tr>\n",
       "      <th>8</th>\n",
       "      <td>7.260791e+18</td>\n",
       "      <td>'000'</td>\n",
       "      <td>The comment is a personal compliment and does ...</td>\n",
       "      <td>1.740707e+09</td>\n",
       "    </tr>\n",
       "    <tr>\n",
       "      <th>9</th>\n",
       "      <td>7.246782e+18</td>\n",
       "      <td>'100'</td>\n",
       "      <td>The comment expresses the speaker's own commit...</td>\n",
       "      <td>1.740707e+09</td>\n",
       "    </tr>\n",
       "  </tbody>\n",
       "</table>\n",
       "</div>"
      ],
      "text/plain": [
       "             id annotation                                        explanation  \\\n",
       "0  7.323784e+18      '100'  The comment focuses on the speaker’s personal ...   \n",
       "1  7.323225e+18      '001'  The comment describes deaths of others due to ...   \n",
       "2  7.245067e+18      '001'  The comment focuses on Old Jimmy’s fear relate...   \n",
       "3  7.191048e+18      '010'  The comment directly addresses another individ...   \n",
       "4  7.358853e+18      '101'  The comment reflects the speaker’s personal ex...   \n",
       "5  7.252892e+18      '100'  The comment uses a first-person plural perspec...   \n",
       "6  7.255314e+18      '000'  The comment does not express a central drug-re...   \n",
       "7  7.256563e+18      '001'  The comment primarily describes others' experi...   \n",
       "8  7.260791e+18      '000'  The comment is a personal compliment and does ...   \n",
       "9  7.246782e+18      '100'  The comment expresses the speaker's own commit...   \n",
       "\n",
       "           time  \n",
       "0  1.740707e+09  \n",
       "1  1.740707e+09  \n",
       "2  1.740707e+09  \n",
       "3  1.740707e+09  \n",
       "4  1.740707e+09  \n",
       "5  1.740707e+09  \n",
       "6  1.740707e+09  \n",
       "7  1.740707e+09  \n",
       "8  1.740707e+09  \n",
       "9  1.740707e+09  "
      ]
     },
     "execution_count": 13,
     "metadata": {},
     "output_type": "execute_result"
    }
   ],
   "source": [
    "df"
   ]
  },
  {
   "cell_type": "code",
   "execution_count": 160,
   "id": "b1d335c7-c50e-431a-86a2-5fbe65c0135f",
   "metadata": {},
   "outputs": [
    {
     "data": {
      "text/plain": [
       "['I take 2mg daily, not so bad',\n",
       " 'the shit they take is laced with f3nt',\n",
       " 'sorry to hear you lost your son to opioid, I lost mine to fent poisoining',\n",
       " 'I take 2mg daily, not so bad',\n",
       " 'the shit they take is laced with f3nt',\n",
       " 'sorry to hear you lost your son to opioid, I lost mine to fent poisoining',\n",
       " 'I take 2mg daily, not so bad',\n",
       " 'the shit they take is laced with f3nt',\n",
       " 'sorry to hear you lost your son to opioid, I lost mine to fent poisoining',\n",
       " 'I take 2mg daily, not so bad',\n",
       " 'the shit they take is laced with f3nt',\n",
       " 'sorry to hear you lost your son to opioid, I lost mine to fent poisoining',\n",
       " 'I take 2mg daily, not so bad',\n",
       " 'the shit they take is laced with f3nt',\n",
       " 'sorry to hear you lost your son to opioid, I lost mine to fent poisoining']"
      ]
     },
     "execution_count": 160,
     "metadata": {},
     "output_type": "execute_result"
    }
   ],
   "source": [
    "comments_big"
   ]
  },
  {
   "cell_type": "code",
   "execution_count": 156,
   "id": "9b09c07f-f173-4c73-ac4a-69452f1e7725",
   "metadata": {},
   "outputs": [
    {
     "ename": "ValueError",
     "evalue": "DataFrame constructor not properly called!",
     "output_type": "error",
     "traceback": [
      "\u001b[0;31m---------------------------------------------------------------------------\u001b[0m",
      "\u001b[0;31mValueError\u001b[0m                                Traceback (most recent call last)",
      "\u001b[0;32m/tmp/ipykernel_14228/516763050.py\u001b[0m in \u001b[0;36m?\u001b[0;34m()\u001b[0m\n\u001b[0;32m----> 1\u001b[0;31m \u001b[0mpd\u001b[0m\u001b[0;34m.\u001b[0m\u001b[0mDataFrame\u001b[0m\u001b[0;34m(\u001b[0m\u001b[0ma\u001b[0m\u001b[0;34m)\u001b[0m\u001b[0;34m\u001b[0m\u001b[0;34m\u001b[0m\u001b[0m\n\u001b[0m",
      "\u001b[0;32m~/.local/lib/python3.9/site-packages/pandas/core/frame.py\u001b[0m in \u001b[0;36m?\u001b[0;34m(self, data, index, columns, dtype, copy)\u001b[0m\n\u001b[1;32m    777\u001b[0m                 )\n\u001b[1;32m    778\u001b[0m         \u001b[0;31m# For data is scalar\u001b[0m\u001b[0;34m\u001b[0m\u001b[0;34m\u001b[0m\u001b[0m\n\u001b[1;32m    779\u001b[0m         \u001b[0;32melse\u001b[0m\u001b[0;34m:\u001b[0m\u001b[0;34m\u001b[0m\u001b[0;34m\u001b[0m\u001b[0m\n\u001b[1;32m    780\u001b[0m             \u001b[0;32mif\u001b[0m \u001b[0mindex\u001b[0m \u001b[0;32mis\u001b[0m \u001b[0;32mNone\u001b[0m \u001b[0;32mor\u001b[0m \u001b[0mcolumns\u001b[0m \u001b[0;32mis\u001b[0m \u001b[0;32mNone\u001b[0m\u001b[0;34m:\u001b[0m\u001b[0;34m\u001b[0m\u001b[0;34m\u001b[0m\u001b[0m\n\u001b[0;32m--> 781\u001b[0;31m                 \u001b[0;32mraise\u001b[0m \u001b[0mValueError\u001b[0m\u001b[0;34m(\u001b[0m\u001b[0;34m\"DataFrame constructor not properly called!\"\u001b[0m\u001b[0;34m)\u001b[0m\u001b[0;34m\u001b[0m\u001b[0;34m\u001b[0m\u001b[0m\n\u001b[0m\u001b[1;32m    782\u001b[0m \u001b[0;34m\u001b[0m\u001b[0m\n\u001b[1;32m    783\u001b[0m             \u001b[0mindex\u001b[0m \u001b[0;34m=\u001b[0m \u001b[0mensure_index\u001b[0m\u001b[0;34m(\u001b[0m\u001b[0mindex\u001b[0m\u001b[0;34m)\u001b[0m\u001b[0;34m\u001b[0m\u001b[0;34m\u001b[0m\u001b[0m\n\u001b[1;32m    784\u001b[0m             \u001b[0mcolumns\u001b[0m \u001b[0;34m=\u001b[0m \u001b[0mensure_index\u001b[0m\u001b[0;34m(\u001b[0m\u001b[0mcolumns\u001b[0m\u001b[0;34m)\u001b[0m\u001b[0;34m\u001b[0m\u001b[0;34m\u001b[0m\u001b[0m\n",
      "\u001b[0;31mValueError\u001b[0m: DataFrame constructor not properly called!"
     ]
    }
   ],
   "source": [
    "pd.DataFrame()"
   ]
  },
  {
   "cell_type": "code",
   "execution_count": 141,
   "id": "ef82cefa-a936-43ff-b106-605d729a7ee9",
   "metadata": {},
   "outputs": [
    {
     "data": {
      "text/plain": [
       "openai.BadRequestError"
      ]
     },
     "execution_count": 141,
     "metadata": {},
     "output_type": "execute_result"
    }
   ],
   "source": [
    "import openai\n",
    "openai.BadRequestError"
   ]
  },
  {
   "cell_type": "code",
   "execution_count": 146,
   "id": "d785fca8-2b26-4c2e-880f-c63b3b1de7e2",
   "metadata": {},
   "outputs": [
    {
     "data": {
      "text/plain": [
       "AttributeError"
      ]
     },
     "execution_count": 146,
     "metadata": {},
     "output_type": "execute_result"
    }
   ],
   "source": [
    "AttributeError"
   ]
  },
  {
   "cell_type": "code",
   "execution_count": 2,
   "id": "b1e13d55-900e-48f4-a409-c36fb2e0e13f",
   "metadata": {},
   "outputs": [],
   "source": [
    "def main(comments_path, output_folder):\n",
    "    machine_id = int(os.environ.get(\"SLURM_ARRAY_TASK_ID\"))\n",
    "    \n",
    "    df = pd.read_csv(comments_path)\n",
    "    df = df.sample(n=10000, random_state=43)\n",
    "    \n",
    "    all_ids = list(df['id'])\n",
    "    comments = list(df['text'])\n",
    "\n",
    "    # all_ids = all_ids[:30]\n",
    "    # comments = comments[:30]\n",
    "    \n",
    "    # time.sleep(machine_id*)\n",
    "    # ids, annotations, reasonings = annotate_comments(all_ids, comments)\n",
    "    ids, responses = annotate_comments(all_ids, comments)\n",
    "        \n",
    "    gpt_df = pd.DataFrame()\n",
    "    gpt_df[\"id\"] = ids\n",
    "    gpt_df[\"response\"] = responses\n",
    "    # gpt_df[\"annotation\"] = annotations\n",
    "    # gpt_df[\"reasoning\"] = reasonings\n",
    "    gpt_df.to_csv(f\"{output_folder}/gpt_annotation_mono_machine_{machine_id}.csv\", index=None)\n",
    "\n",
    "# if __name__ == \"__main__\":\n",
    "#     input_path = sys.argv[1]\n",
    "#     output_folder = sys.argv[2]\n",
    "\n",
    "#     main(input_path, output_folder)\n",
    "\n"
   ]
  },
  {
   "cell_type": "code",
   "execution_count": 101,
   "id": "2deaee8f-eb28-4245-80f2-13fdd8870465",
   "metadata": {},
   "outputs": [],
   "source": [
    "with open(\"./query_template2.txt\", \"r\") as f:\n",
    "        query_template = f.read()\n"
   ]
  },
  {
   "cell_type": "code",
   "execution_count": 114,
   "id": "1c790917-82f2-4954-8846-77aafab5b616",
   "metadata": {},
   "outputs": [],
   "source": []
  },
  {
   "cell_type": "code",
   "execution_count": 158,
   "id": "452efdfc-238d-487b-ba2c-5231e7944a3a",
   "metadata": {},
   "outputs": [],
   "source": [
    "comments_big = [\"I take 2mg daily, not so bad\", \n",
    "                \"the shit they take is laced with f3nt\", \n",
    "                \"sorry to hear you lost your son to opioid, I lost mine to fent poisoining\"]*5\n",
    "# comments_big"
   ]
  },
  {
   "cell_type": "code",
   "execution_count": 106,
   "id": "3f6f5f8e-3a57-47c3-829b-6b1639b592ce",
   "metadata": {},
   "outputs": [],
   "source": [
    "def tag_comments(comment_list):\n",
    "    tagged_comments = [f\"<comment>{i}<\\comment>\\n\" for i in comment_list]\n",
    "    tagged_comments_str = \"\".join(tagged_comments)\n",
    "    return tagged_comments_str"
   ]
  },
  {
   "cell_type": "code",
   "execution_count": 113,
   "id": "e45d8221-4317-458b-9c93-c1a8d1fe58d7",
   "metadata": {
    "scrolled": true
   },
   "outputs": [
    {
     "name": "stdout",
     "output_type": "stream",
     "text": [
      "['100', '001', '110', '100', '001'] [\"The comment centers on the speaker's own experience with taking 2mg daily, indicating a first-person perspective. There are no second or third person references.\", 'The comment primarily describes others\\' drug use by stating \"they take,\" which indicates a third-person perspective. There are no first or second person elements.', 'The comment includes both the speaker\\'s personal loss (\"I lost mine\") and directly addresses another individual about their loss (\"you lost your son\"), making both first and second person perspectives central to the drug-related discussion.', \"The comment centers on the speaker's own experience with taking 2mg daily, indicating a first-person perspective. There are no second or third person references.\", 'The comment primarily describes others\\' drug use by stating \"they take,\" which indicates a third-person perspective. There are no first or second person elements.']\n"
     ]
    }
   ],
   "source": [
    "batch_size = 5\n",
    "for start in range(0, len(comments_big), batch_size):\n",
    "    comments = comments_big[start: start+batch_size]\n",
    "\n",
    "    tagged_comments = tag_comments(comments)\n",
    "\n",
    "    prompt = query_template + tagged_comments\n",
    "    response = query_o1(prompt)\n",
    "    ann_batch, exp_batch = extract_ann_exp(response)\n",
    "\n",
    "    print(ann_batch, exp_batch)\n",
    "    \n",
    "    break\n",
    "    # tagged_comments"
   ]
  },
  {
   "cell_type": "code",
   "execution_count": 95,
   "id": "03d444c1-169b-4ad4-8ff1-7178ad572a1a",
   "metadata": {},
   "outputs": [],
   "source": [
    "response = query_o1(query_template+tagged_comments_str)\n",
    "ann_batch, exp_batch = extract_ann_exp(response)"
   ]
  },
  {
   "cell_type": "code",
   "execution_count": 97,
   "id": "08e056d8-f467-44ab-a898-aeeb3de06005",
   "metadata": {},
   "outputs": [
    {
     "data": {
      "text/plain": [
       "['The comment expresses the speaker’s own experience with drug use, using the first person perspective.',\n",
       " \"The comment describes others’ drug behavior, using a third-person perspective; 'they' is central to the drug-related content.\",\n",
       " 'The comment includes both the speaker’s personal loss and directly addresses someone else about their loss, making both first and second person perspectives central to the drug-related discussion.']"
      ]
     },
     "execution_count": 97,
     "metadata": {},
     "output_type": "execute_result"
    }
   ],
   "source": [
    "exp_batch"
   ]
  },
  {
   "cell_type": "code",
   "execution_count": 29,
   "id": "10a88cdf-c269-4c2c-901c-6435536f4de3",
   "metadata": {},
   "outputs": [
    {
     "name": "stdout",
     "output_type": "stream",
     "text": [
      "['<ann>100</ann> <exp>The comment describes the speaker’s own drug use with “I take 2mg daily,” making the first person perspective central.</exp>', '<ann>001</ann> <exp>The comment describes others’ drug use with “they take,” focusing on third person perspective.</exp>', '<ann>110</ann> <exp>The comment both addresses another individual about their loss (“you lost your son”) and shares the speaker’s own loss (“I lost mine”), making both first and second person perspectives central.</exp>']\n"
     ]
    }
   ],
   "source": [
    "response_list = response.split(\"\\n\")\n",
    "annotations_batch = \n",
    "annotations = []\n",
    "\n",
    "print(response_list)"
   ]
  },
  {
   "cell_type": "code",
   "execution_count": 93,
   "id": "ded289d6-e8a1-42d1-8258-f5b993a4498f",
   "metadata": {},
   "outputs": [],
   "source": [
    "def extract_ann_exp(response):\n",
    "    pattern = r\"<ann>(.*?)</ann> <exp>(.*?)</exp>\"\n",
    "    \n",
    "    response_list = response.split(\"\\n\")\n",
    "    # AttributeError if one of them does not follow the patter or No match was found\n",
    "    ann_batch = [re.search(pattern, i).group(1) for i in response_list]\n",
    "    exp_batch = [re.search(pattern, i).group(2) for i in response_list]\n",
    "\n",
    "\n",
    "    return ann_batch, exp_batch\n",
    "    "
   ]
  },
  {
   "cell_type": "code",
   "execution_count": 94,
   "id": "e16935a0-c5cc-4bd3-b3fa-f5e18928c4bf",
   "metadata": {},
   "outputs": [
    {
     "data": {
      "text/plain": [
       "(['100', '001', '110'],\n",
       " ['The comment describes the speaker’s own drug use with “I take 2mg daily,” making the first person perspective central.',\n",
       "  'The comment describes others’ drug use with “they take,” focusing on third person perspective.',\n",
       "  'The comment both addresses another individual about their loss (“you lost your son”) and shares the speaker’s own loss (“I lost mine”), making both first and second person perspectives central.'])"
      ]
     },
     "execution_count": 94,
     "metadata": {},
     "output_type": "execute_result"
    }
   ],
   "source": [
    "extract_ann_exp(response)"
   ]
  },
  {
   "cell_type": "code",
   "execution_count": 71,
   "id": "54460225-8904-4d94-8556-6981f41d5547",
   "metadata": {},
   "outputs": [
    {
     "data": {
      "text/plain": [
       "'<ann>100</ann> <exp>The comment describes the speaker’s own drug use with “I take 2mg daily,” making the first person perspective central.</exp>\\n<ann>001</ann> <exp>The comment describes others’ drug use with “they take,” focusing on third person perspective.</exp>\\n<ann>110</ann> <exp>The comment both addresses another individual about their loss (“you lost your son”) and shares the speaker’s own loss (“I lost mine”), making both first and second person perspectives central.</exp>'"
      ]
     },
     "execution_count": 71,
     "metadata": {},
     "output_type": "execute_result"
    }
   ],
   "source": [
    "response"
   ]
  },
  {
   "cell_type": "code",
   "execution_count": 28,
   "id": "9017469a-78f3-4818-b7a3-c51fea18cd83",
   "metadata": {},
   "outputs": [
    {
     "name": "stdout",
     "output_type": "stream",
     "text": [
      "<ann>100</ann> <exp>The comment describes the speaker’s own drug use with “I take 2mg daily,” making the first person perspective central.</exp>\n",
      "<ann>001</ann> <exp>The comment describes others’ drug use with “they take,” focusing on third person perspective.</exp>\n",
      "<ann>110</ann> <exp>The comment both addresses another individual about their loss (“you lost your son”) and shares the speaker’s own loss (“I lost mine”), making both first and second person perspectives central.</exp>\n"
     ]
    }
   ],
   "source": [
    "print(response)"
   ]
  },
  {
   "cell_type": "code",
   "execution_count": 69,
   "id": "026c08ca-688d-49c5-a147-d5cdc6df67f0",
   "metadata": {},
   "outputs": [
    {
     "data": {
      "text/plain": [
       "['The comment describes the speaker’s own drug use with “I take 2mg daily,” making the first person perspective central.',\n",
       " 'The comment describes others’ drug use with “they take,” focusing on third person perspective.',\n",
       " 'The comment both addresses another individual about their loss (“you lost your son”) and shares the speaker’s own loss (“I lost mine”), making both first and second person perspectives central.']"
      ]
     },
     "execution_count": 69,
     "metadata": {},
     "output_type": "execute_result"
    }
   ],
   "source": [
    "[re.search(pattern, i).group(2) for i in response_list]"
   ]
  },
  {
   "cell_type": "code",
   "execution_count": 63,
   "id": "a4379bd5-e7f2-498f-80c5-cca6d50de928",
   "metadata": {},
   "outputs": [
    {
     "name": "stdout",
     "output_type": "stream",
     "text": [
      "Text 1: 110\n",
      "Text 2: The comment both addresses another individual about their loss (“you lost your son”) and shares the speaker’s own loss (“I lost mine”), making both first and second person perspectives central.\n"
     ]
    }
   ],
   "source": [
    "import re\n",
    "\n",
    "# s = \"<ann>text1</ann> <exp>text2</exp>\"\n",
    "\n",
    "pattern = r\"<ann>(.*?)</ann>\\s<exp>(.*?)</exp>\"\n",
    "match = re.search(pattern, response_list[2]) \n",
    "if match: \n",
    "    text1 = match.group(1) \n",
    "    text2 = match.group(2) \n",
    "    print(\"Text 1:\", text1) \n",
    "    print(\"Text 2:\", text2) \n",
    "else: print(\"Pattern not found.\")"
   ]
  },
  {
   "cell_type": "code",
   "execution_count": 62,
   "id": "0bab5403-8bf8-4b21-ac87-e94a4b64a950",
   "metadata": {},
   "outputs": [
    {
     "data": {
      "text/plain": [
       "<re.Match object; span=(0, 219), match='<ann>110</ann> <exp>The comment both addresses an>"
      ]
     },
     "execution_count": 62,
     "metadata": {},
     "output_type": "execute_result"
    }
   ],
   "source": [
    "match"
   ]
  },
  {
   "cell_type": "code",
   "execution_count": 65,
   "id": "75431ba0-6fe1-4e95-a6e0-93a7acabad25",
   "metadata": {},
   "outputs": [
    {
     "data": {
      "text/plain": [
       "'<ann>100</ann> <exp>The comment describes the speaker’s own drug use with “I take 2mg daily,” making the first person perspective central.</exp>'"
      ]
     },
     "execution_count": 65,
     "metadata": {},
     "output_type": "execute_result"
    }
   ],
   "source": [
    "response_list[0]"
   ]
  },
  {
   "cell_type": "code",
   "execution_count": 66,
   "id": "e596efd7-1563-4d2b-9c89-0ba49ab1696f",
   "metadata": {},
   "outputs": [
    {
     "name": "stdout",
     "output_type": "stream",
     "text": [
      "<ann>(.*?)</ann>\\s<exp>(.*?)</exp>\n"
     ]
    }
   ],
   "source": [
    "print(pattern)"
   ]
  },
  {
   "cell_type": "code",
   "execution_count": 48,
   "id": "e76a4562-9454-4197-966f-13066bcf2e10",
   "metadata": {},
   "outputs": [
    {
     "data": {
      "text/plain": [
       "'<ann>text1</ann> <exp>text2</exp>'"
      ]
     },
     "execution_count": 48,
     "metadata": {},
     "output_type": "execute_result"
    }
   ],
   "source": [
    "s"
   ]
  }
 ],
 "metadata": {
  "kernelspec": {
   "display_name": "lda_env2",
   "language": "python",
   "name": "lda_env2"
  },
  "language_info": {
   "codemirror_mode": {
    "name": "ipython",
    "version": 3
   },
   "file_extension": ".py",
   "mimetype": "text/x-python",
   "name": "python",
   "nbconvert_exporter": "python",
   "pygments_lexer": "ipython3",
   "version": "3.9.20"
  }
 },
 "nbformat": 4,
 "nbformat_minor": 5
}
