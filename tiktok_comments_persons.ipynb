{
 "cells": [
  {
   "cell_type": "code",
   "execution_count": 1,
   "id": "641c6194-3693-4c02-93c6-e9526d1b8b92",
   "metadata": {},
   "outputs": [
    {
     "data": {
      "text/plain": [
       "True"
      ]
     },
     "execution_count": 1,
     "metadata": {},
     "output_type": "execute_result"
    }
   ],
   "source": [
    "import requests\n",
    "import json\n",
    "# import openai\n",
    "from openai import AzureOpenAI\n",
    "import time\n",
    "from dotenv import load_dotenv\n",
    "import os, time, glob\n",
    "from tqdm import tqdm\n",
    "from statistics import mode\n",
    "from sklearn.metrics import confusion_matrix\n",
    "import pandas as pd\n",
    "\n",
    "load_dotenv()"
   ]
  },
  {
   "cell_type": "code",
   "execution_count": 12,
   "id": "6c893431-5470-46e8-a44e-5e58f54dd059",
   "metadata": {},
   "outputs": [
    {
     "data": {
      "text/plain": [
       "'GPT-4O'"
      ]
     },
     "execution_count": 12,
     "metadata": {},
     "output_type": "execute_result"
    }
   ],
   "source": [
    "os.getenv(\"GPT-4O\")"
   ]
  },
  {
   "cell_type": "code",
   "execution_count": 13,
   "id": "ef3696d1-20bd-431a-87f0-4b57965e6df6",
   "metadata": {},
   "outputs": [],
   "source": [
    "test = \"\"\"you might want to check dosing, you may be on too high of a dose or vice versa im only sleepy when I'm on too high of a dose and I'm 4 years in\"\"\""
   ]
  },
  {
   "cell_type": "code",
   "execution_count": 14,
   "id": "a57d8104-1132-42b9-90a3-983a87e7b7d9",
   "metadata": {},
   "outputs": [],
   "source": [
    "context = \"\"\"You are an AI assistant that helps to annotate social media comment data related to opioids and/or drug addiction, and you know everything about identifying the grammartical person (ie first, second, or third person) of a sentence or post\"\"\""
   ]
  },
  {
   "cell_type": "code",
   "execution_count": 218,
   "id": "ffcad92d-6c20-4bb6-b59a-cb7d4dc77d21",
   "metadata": {},
   "outputs": [],
   "source": [
    "prompt = \"\"\"I will give you a social media comment to annotate. This comment is part of a larger drugs (such as opioids, etc) discussion, and you will tell me what the person's perpective in relation to drug is. This relation can take many forms. It could be active use of drugs (such as opioids), recovery from addiction, loss of a loved one to drugs, etc. You will return a onehot integer of length 3 (eg. 010). \n",
    "\n",
    "If the comment contains a personal account with opioids put 1 in position 1 of the onehot integer else 0.\n",
    "\n",
    "If the comment contains another person's experience or account with opioid, put 1 in position 2 of the onehot integer else 0. \n",
    "\n",
    "If the comment contains a third-person experience with opioid, put 1 in position 3 of the onehot integer else 0. \n",
    "\n",
    "Examples: return 100 for 'I am recovering from OUD', 010 for 'I am sorry to hear you lost your son to fentanyl OD', 001 for 'They take fent laced substances'. \n",
    "\n",
    "Note that some comments can have multiple persons-perspective and you will put 1 in the positions corresponding to the persons-perspective present. Example return 110 for 'I lost a partner. I am sorry to hear you lost someone too. My condolences to you and your family', and 011 for 'You should take lower dose. They should be careful with supplies from the street'.\n",
    "\n",
    "Also note that you are making this decision based on only opioid aspects of the comments I give you.\n",
    "  \n",
    "Consider the following comment, reason about it for a bit and then the annotation and explain:\\n\"\"\" + test + \"\\n\\nResponse format: [Annotation]\\n[Explanation]\""
   ]
  },
  {
   "cell_type": "code",
   "execution_count": 208,
   "id": "5d506f2b-acfb-461c-bc57-b82fb54a0f0b",
   "metadata": {},
   "outputs": [
    {
     "name": "stdout",
     "output_type": "stream",
     "text": [
      "I will give you a social media comment to annotate. This comment is part of a larger opioid discussion, and you will tell me what the person's perpective in relation to opioid is. This relation can take many forms. It could be active use of opioids or drugs, recovery from addiction, loss of a loved one to opioids or drugs, etc. You will return a onehot integer of length 3 (eg. 010). \n",
      "\n",
      "If the comment contains a personal account with opioids put 1 in position 1 of the onehot integer else 0.\n",
      "\n",
      "If the comment contains another person's experience or account with opioid, put 1 in position 2 of the onehot integer else 0. \n",
      "\n",
      "If the comment contains a third-person experience with opioid, put 1 in position 3 of the onehot integer else 0. \n",
      "\n",
      "Examples: return 100 for 'I am recovering from OUD', 010 for 'I am sorry to hear you lost your son to fentanyl OD', 001 for 'They take fent laced substances'. \n",
      "\n",
      "Note that some comments can have multiple persons-perspective and you will put 1 in the positions corresponding to the persons-perspective present. Example return 110 for 'I lost a partner. I am sorry to hear you lost someone too. My condolences to you and your family', and 011 for 'You should take lower dose. They should be careful with supplies from the street'.\n",
      "\n",
      "Also note that you are making this decision based on only opioid aspects of the comments I give you.\n",
      "  \n",
      "Consider the following comment, reason about it for a bit and then the annotation and explain:\n",
      "you might want to check dosing, you may be on too high of a dose or vice versa im only sleepy when I'm on too high of a dose and I'm 4 years in\n",
      "\n",
      "Response format: [Annotation]\n",
      "[Explanation]\n"
     ]
    }
   ],
   "source": [
    "print(prompt)"
   ]
  },
  {
   "cell_type": "code",
   "execution_count": 195,
   "id": "05143efb-31f4-4c36-bf6d-b514b2d024e6",
   "metadata": {},
   "outputs": [
    {
     "name": "stdout",
     "output_type": "stream",
     "text": [
      "Given the comment: \"you might want to check dosing, you may be on too high of a dose or vice versa im only sleepy when I'm on too high of a dose and I'm 4 years in\".\n",
      "\n",
      "Let's break it down:\n",
      "\n",
      "1. The person starts with a suggestion to another person: \"you might want to check dosing, you may be on too high of a dose or vice versa.\" This indicates they are addressing someone else and discussing that person's opioid dosing.\n",
      "\n",
      "2. Then they mention their own experience: \"im only sleepy when I'm on too high of a dose and I'm 4 years in,\" which indicates past or ongoing personal use, emphasizing their experience over four years.\n",
      "\n",
      "These perspectives map directly onto the given conditions:\n",
      "\n",
      "- The first part of the comment includes a second-person perspective, addressing 'you':\n",
      "  - Thus, we will set position 2 (second person) to 1.\n",
      "- The second part of the comment includes a first-person perspective, reflecting on the speaker's own experience:\n",
      "  - Thus, we will set position 1 (first person) to 1.\n",
      "\n",
      "Since there is no mention of a third-person perspective, we set the third position to 0.\n",
      "\n",
      "Therefore, the final onehot integer annotation is: **110**.\n",
      "\n",
      "Explanation:\n",
      "1. First-person account present (personal experience): 1\n",
      "2. Second-person account present (addressing someone else): 1\n",
      "3. Third-person account not present: 0\n"
     ]
    }
   ],
   "source": [
    "client = AzureOpenAI(\n",
    "  azure_endpoint = os.getenv(\"AZURE_OPENAI_ENDPOINT\"), \n",
    "  api_key=os.getenv(\"AZURE_OPENAI_KEY\"),  \n",
    "  api_version=\"2024-02-01\"\n",
    ")\n",
    "\n",
    "response = client.chat.completions.create(\n",
    "    model=os.getenv(\"GPT-4O\"), # model = \"deployment_name\".\n",
    "    messages=[\n",
    "        {\"role\": \"system\", \"content\": context},\n",
    "        {\"role\": \"user\", \"content\": prompt},\n",
    "    ]\n",
    ")\n",
    "\n",
    "print(response.choices[0].message.content)"
   ]
  },
  {
   "cell_type": "code",
   "execution_count": 128,
   "id": "1e44619a-ee8e-49e2-acf5-6afde08a3dcb",
   "metadata": {},
   "outputs": [],
   "source": [
    "endpoint_url = \"https://tiktokplayground.openai.azure.com/openai/deployments/o1-mini-2/chat/completions?api-version=2024-08-01-preview\"\n",
    "key = \"coiL9LJyH2NWxiTK49ubEi0ulIJu4ECWAPTlbVbWEDmoLRRx8croJQQJ99BBACYeBjFXJ3w3AAABACOGtsy2\"\n",
    "o1_mini = \"o1-mini-2\""
   ]
  },
  {
   "cell_type": "code",
   "execution_count": 196,
   "id": "5d87bc10-cdc1-463f-b871-13537e04ca1d",
   "metadata": {},
   "outputs": [
    {
     "name": "stdout",
     "output_type": "stream",
     "text": [
      "**Annotation:** `110`\n",
      "\n",
      "**Explanation:**\n",
      "- **Position 1 (Personal account):** The commenter shares their own experience with dosing and being on opioids for four years (\"I'm only sleepy when I'm on too high of a dose and I'm 4 years in\"), indicating a personal involvement.\n",
      "- **Position 2 (Another person's experience):** They address someone else directly by offering advice (\"you might want to check dosing, you may be on too high of a dose or vice versa\"), which relates to another person's experience.\n",
      "- **Position 3 (Third-person experience):** There's no mention of a third person's experience in the comment.\n",
      "\n",
      "Therefore, the one-hot annotation is `110`.\n"
     ]
    }
   ],
   "source": [
    "client = AzureOpenAI(\n",
    "  azure_endpoint = endpoint_url, \n",
    "  api_key=key,  \n",
    "  api_version=\"2024-02-01\"\n",
    ")\n",
    "\n",
    "response = client.chat.completions.create(\n",
    "    model=o1_mini, # model = \"deployment_name\".\n",
    "    messages=[\n",
    "        {\"role\": \"user\", \"content\": prompt},\n",
    "    ]\n",
    ")\n",
    "\n",
    "print(response.choices[0].message.content)"
   ]
  },
  {
   "cell_type": "code",
   "execution_count": 15,
   "id": "b52fefd9-6ae4-47e3-a6ef-df399bc6bbdc",
   "metadata": {},
   "outputs": [],
   "source": [
    "def query_o1(prompt):\n",
    "    client = AzureOpenAI(\n",
    "      azure_endpoint = os.getenv(\"o1_endpoint\"), \n",
    "      api_key=os.getenv(\"o1_key\"),  \n",
    "      api_version=\"2024-02-01\"\n",
    "    )\n",
    "    \n",
    "    response = client.chat.completions.create(\n",
    "        model=os.getenv(\"o1_mini\"), # model = \"deployment_name\".\n",
    "        messages=[\n",
    "            {\"role\": \"user\", \"content\": prompt},\n",
    "        ]\n",
    "    )\n",
    "    return response.choices[0].message.content"
   ]
  },
  {
   "cell_type": "code",
   "execution_count": 212,
   "id": "64114df7-21e6-4dfd-9cfb-5f03cbb48d13",
   "metadata": {},
   "outputs": [
    {
     "name": "stdout",
     "output_type": "stream",
     "text": [
      "100\n",
      "The comment includes a personal account of opioid use, as the individual mentions their own experience with dosing (\"I'm only sleepy when I'm on too high of a dose\") and the duration of their use (\"I'm 4 years in\"). There are no references to another person's or a third person's experiences.\n"
     ]
    }
   ],
   "source": [
    "print(query_o1(prompt))"
   ]
  },
  {
   "cell_type": "code",
   "execution_count": 16,
   "id": "e1741267-92c9-4f2e-aa04-37a4100d16ef",
   "metadata": {},
   "outputs": [],
   "source": [
    "def query(context, prompt):\n",
    "    client = AzureOpenAI(\n",
    "      azure_endpoint = os.getenv(\"AZURE_OPENAI_ENDPOINT\"), \n",
    "      api_key=os.getenv(\"AZURE_OPENAI_KEY\"),  \n",
    "      api_version=\"2024-02-01\"\n",
    "    )\n",
    "    \n",
    "    response = client.chat.completions.create(\n",
    "        model=os.getenv(\"DEPLOYMENT_NAME\"), # model = \"deployment_name\".\n",
    "        messages=[\n",
    "            {\"role\": \"system\", \"content\": context},\n",
    "            {\"role\": \"user\", \"content\": prompt},\n",
    "        ]\n",
    "    )\n",
    "    return response.choices[0].message.content"
   ]
  },
  {
   "cell_type": "markdown",
   "id": "800dadf9-95a2-472b-ad3f-397c816e5c77",
   "metadata": {},
   "source": [
    "# Person - o1_mini"
   ]
  },
  {
   "cell_type": "code",
   "execution_count": 223,
   "id": "d116b613-b70f-40b4-adde-770c98b4aef7",
   "metadata": {},
   "outputs": [],
   "source": [
    "prompt_template = \"\"\"I will give you a social media comment to annotate. This comment is part of a larger drugs (such as opioids, etc) discussion, and you will tell me what the person's perpective in relation to drug is. This relation can take many forms. It could be active use of drugs, recovery from addiction, loss of a loved one to drugs, etc. You will return a onehot integer of length 3 (eg. 010). \n",
    "\n",
    "If the comment contains a personal account with drugs put 1 in position 1 of the onehot integer else 0.\n",
    "\n",
    "If the comment contains another person's experience or account with drugs, put 1 in position 2 of the onehot integer else 0. \n",
    "\n",
    "If the comment contains a third-person experience with drugs, put 1 in position 3 of the onehot integer else 0. \n",
    "\n",
    "Examples: return 100 for 'I am recovering from OUD', 010 for 'I am sorry to hear you lost your son to fentanyl OD', 001 for 'They take fent laced substances'. \n",
    "\n",
    "Note that some comments can have multiple persons-perspective and you will put 1 in the positions corresponding to the persons-perspective present. Example return 110 for 'I lost a partner. I am sorry to hear you lost someone too. My condolences to you and your family', and 011 for 'You should take lower dose. They should be careful with supplies from the street'.\n",
    "\n",
    "Also note that you are making this decision based on only drug aspects of the comments I give you.\n",
    "  \n",
    "Consider the following comment, reason about it for a bit and then the annotation and explain:\\n\"\"\""
   ]
  },
  {
   "cell_type": "code",
   "execution_count": 25,
   "id": "b8f93ca4-493c-483e-9d43-61ed059a8703",
   "metadata": {},
   "outputs": [],
   "source": [
    "prompt_template = \"\"\"\"\n",
    "I will give you a social media comment to annotate. This comment is part of a larger drugs discussion (e.g., about opioids, etc). Your task is to determine the perspective(s) expressed about drugs—specifically focusing on the main, central drug-related message of the comment. When considering perspectives, take into account not only the presence of pronouns, but more importantly, whether that perspective is central to the comment’s description of drug use, recovery, overdose loss, or other drug-related experiences. Do not automatically register a perspective simply because a pronoun appears; ensure that its use meaningfully contributes to the drug-related context.\n",
    "\n",
    "You must return a onehot integer of length 3 (e.g., 010) corresponding to the following perspectives:\n",
    "\t- Position 1 (first person): Mark 1 if the comment’s main drug-related message comes from the speaker’s own experience or personal account (e.g., “I am recovering from OUD” or “I’ve taken every opiate under the sun”). Otherwise, mark 0.\n",
    "\t- Position 2 (second person): Mark 1 if the comment directly addresses another individual about their drug use, experience, or advice using second-person pronouns (e.g., “you”, “your”) and this direct address is central to the drug-related content. If such direct addressing is merely incidental or not the focus of the drug discussion, do not mark this perspective.\n",
    "\t- Position 3 (third person): Mark 1 if the comment primarily describes someone else’s or a group’s drug-related experiences using third-person pronouns (e.g., “he”, “she”, “they”) or references, and this outside perspective is central to the comment’s drug story. Avoid marking third person if a pronoun appears only in an aside or incidental remark that is not the main point about drugs.\n",
    "\n",
    "Guidelines and examples:\n",
    "\t- As you analyze the comment, identify which parts form the central drug narrative. Ignore incidental mentions of pronouns that do not contribute to the primary drug-related message.\n",
    "\t- Together with your decision, provide a brief explanation that cites why the comment’s main message is associated with a particular perspective and why any incidental pronoun use was not considered central.\n",
    "\n",
    "For example:\n",
    "\t- For “I am recovering from OUD,” return 100 because the drug-related focus is on the speaker’s personal experience.\n",
    "\t- For “I am sorry to hear you lost your son to fentanyl OD,” return 010 because the comment directly addresses someone about their drug-related loss.\n",
    "\t- For “They take fentanyl-laced substances,” return 001 because the comment describes another group’s drug behavior.\n",
    "\t- For “I lost a partner. I am sorry to hear you lost someone too. My condolences to you and your family,” return 110 if both the speaker’s loss and the direct address are central to the drug-related discussion.\n",
    "\t- For “You should take a lower dose. They should be careful with supplies from the street,” return 011 if the comment’s main advice and warnings pertain to others, even if the mention of “you” is indirect.\n",
    "\n",
    "Important: Focus on the central drug narrative. For example, in the comment below:\n",
    "\"She was there. I have done every dope. Quitting perc is too much hell\"\n",
    "Although the word “She” is used, the dominant, central message is the speaker’s own experience with opiates and drug withdrawal. Therefore, only the first person perspective should be marked (100), and the incidental third-person reference should be ignored.\n",
    "\n",
    "Now, consider the following comment. Please analyze it carefully, decide on the most central drug-related perspective(s), provide a onehot annotation (e.g., 100), and explain your reasoning in detail:\n",
    "\"\"\""
   ]
  },
  {
   "cell_type": "code",
   "execution_count": 26,
   "id": "d7b07a40-e9eb-4098-98a2-b8471fae9d1d",
   "metadata": {},
   "outputs": [],
   "source": [
    "format = \"\\n\\nResponse format: [Annotation]\\n[Explanation]\""
   ]
  },
  {
   "cell_type": "code",
   "execution_count": 27,
   "id": "277727b7-8578-4790-b249-64b855921f0c",
   "metadata": {},
   "outputs": [],
   "source": [
    "with open(\"./persons.txt\") as f:\n",
    "    comments = f.read()\n",
    "    comments = comments.split(\"\\n\\n\")"
   ]
  },
  {
   "cell_type": "code",
   "execution_count": 58,
   "id": "68f1b22b-c671-4774-92e7-9fcc470759ab",
   "metadata": {},
   "outputs": [
    {
     "name": "stderr",
     "output_type": "stream",
     "text": [
      "100%|██████████| 28/28 [14:50<00:00, 31.82s/it]\n"
     ]
    }
   ],
   "source": [
    "for i in tqdm(range(len(comments))):\n",
    "    comment = comments[i]\n",
    "    annots = ''\n",
    "    explanation = ''\n",
    "    for _ in range(5):\n",
    "        prompt = prompt_template + comment + format\n",
    "        response = query_o1(prompt)\n",
    "        annot = response.split(\"\\n\")[0]\n",
    "        exp = response.split(\"\\n\")[1]\n",
    "        \n",
    "        annots += annot + \"\\n\"\n",
    "        explanation += exp + \"\\n\\n\"\n",
    "        time.sleep(0.5)\n",
    "        \n",
    "    with open(f\"./prompt_3_redo/sample_{i+1}.txt\", \"w\") as f:\n",
    "        f.write(annots)\n",
    "    with open(f\"./prompt_3_redo/sample_{i+1}_exp.out\", \"w\") as f:\n",
    "        f.write(explanation)"
   ]
  },
  {
   "cell_type": "code",
   "execution_count": 30,
   "id": "8263e460-1c5b-4383-bee9-90f16fc4e991",
   "metadata": {},
   "outputs": [
    {
     "data": {
      "text/plain": [
       "'001\\nThe comment primarily describes the experiences of patients with severe pain and the perceptions of others regarding pain medication use. It uses third-person references (\"patients,\" \"people\") to discuss how misunderstandings about pain meds contribute to unnecessary suffering and self-harm. There are no first-person accounts or direct addresses to others, making the third-person perspective central to the drug-related message.'"
      ]
     },
     "execution_count": 30,
     "metadata": {},
     "output_type": "execute_result"
    }
   ],
   "source": [
    "response"
   ]
  },
  {
   "cell_type": "markdown",
   "id": "e4b79fe6-311a-4303-b631-369857013958",
   "metadata": {},
   "source": [
    "# Persons"
   ]
  },
  {
   "cell_type": "code",
   "execution_count": 49,
   "id": "8f019e0c-d63d-48fc-a29d-8912d297ebc2",
   "metadata": {},
   "outputs": [],
   "source": [
    "context = \"\"\"You are an AI assistant that helps to annotate social media comment data related to opioids and/or drug addiction, and you know everything about identifying the grammartical person (ie first, second, or third person) of a sentence or post\"\"\""
   ]
  },
  {
   "cell_type": "code",
   "execution_count": 50,
   "id": "e8278697-4195-468d-b428-9e880fde5fe6",
   "metadata": {},
   "outputs": [],
   "source": [
    "prompt_template = \"\"\"I will give you an opioid-related social media comment to annotate. You will return a onehot integer of length 3 (eg. 010). If the comment contains a first-person or personal account with opioids put 1 in position 1 of the onehot integer else 0. If the comment contains a second-person experience with opioid, put 1 in position 2 of the onehot integer else 0. If the comment contains a third-person experience with opioid, put 1 in position 3 of the onehot integer else 0. Examples: return 100 for 'I am recovering from OUD', 010 for 'I am sorry to hear you lost your son to fentanyl OD', 001 for 'They take fent laced substances'. Note that some comments can have multiple persons-perspective and you will put 1 in the positions corresponding to the persons-perspective present. Example return 110 for 'I lost a partner. I am sorry to hear you lost someone too. My condolences to you and your family', and 011 for 'You should take lower dose. They should be careful with supplies from the street'. \n",
    "Annotate the following (only return the annotation):\\n\"\"\""
   ]
  },
  {
   "cell_type": "code",
   "execution_count": 51,
   "id": "a5ee70c5-89f3-480b-a145-20f5f80af1e7",
   "metadata": {},
   "outputs": [],
   "source": [
    "with open(\"./persons.txt\") as f:\n",
    "    comments = f.read()\n",
    "    comments = comments.split(\"\\n\\n\")"
   ]
  },
  {
   "cell_type": "code",
   "execution_count": 52,
   "id": "7293278d-198a-4109-a156-b3c94ff512ff",
   "metadata": {},
   "outputs": [
    {
     "name": "stderr",
     "output_type": "stream",
     "text": [
      "100%|██████████| 28/28 [18:52<00:00, 40.44s/it]\n"
     ]
    }
   ],
   "source": [
    "for i in tqdm(range(len(comments))):\n",
    "    comment = comments[i]\n",
    "    text = ''\n",
    "    for _ in range(20):\n",
    "        prompt = prompt_template + comment\n",
    "        response = query(context, prompt)\n",
    "        text += response + \"\\n\"\n",
    "        time.sleep(0.5)\n",
    "    with open(f\"./persons_predictions/sample_{i}.txt\", \"w\") as f:\n",
    "        f.write(text)"
   ]
  },
  {
   "cell_type": "markdown",
   "id": "879d9f57-f9a6-4052-b185-d04fb04afcdc",
   "metadata": {},
   "source": [
    "# Expert"
   ]
  },
  {
   "cell_type": "code",
   "execution_count": 42,
   "id": "45c64460-b7db-493f-a410-de1139b535ec",
   "metadata": {},
   "outputs": [],
   "source": [
    "context = \"You are an AI assistant that helps to annotate social media comment data related to opioids and/or drug addiction, and you can differentiate between comments generated by experts and those that are not\""
   ]
  },
  {
   "cell_type": "code",
   "execution_count": 39,
   "id": "001f74c2-0f87-46ce-8445-b44256f7f21c",
   "metadata": {},
   "outputs": [],
   "source": [
    "prompt_template = \"\"\"I will give you an opioid-related social media comment to annotate. Return 1 if the post is written by an expert and 0 if it is not. An expert here is broadly defined as someone who works in healthcare. Some posts have hints that the author works in healthcare. Example: 'Neurosurgeon here, I see alot of patients', 'I am a physician assistant, and I have seen a lot of that', 'My patients respond well to XYZ drug'. Post that don't have hint that the author work in healthcare is not considered generated by an expert. Example: '8 months clean now', 'I am so sorry to hear this', etc. Return 1 for generated comments, 0 otherwise.\n",
    "Annotate the following:\\n\"\"\""
   ]
  },
  {
   "cell_type": "code",
   "execution_count": 44,
   "id": "503460c1-b865-4285-8148-201626a4fb28",
   "metadata": {},
   "outputs": [],
   "source": [
    "with open(\"./experts.txt\") as f:\n",
    "    comments = f.read()\n",
    "    comments = comments.split(\"\\n\\n\")"
   ]
  },
  {
   "cell_type": "code",
   "execution_count": 48,
   "id": "5dcd2b43-8872-4dd1-abcb-196cd2389140",
   "metadata": {
    "scrolled": true
   },
   "outputs": [
    {
     "name": "stderr",
     "output_type": "stream",
     "text": [
      "100%|██████████| 13/13 [00:16<00:00,  1.24s/it]"
     ]
    },
    {
     "name": "stdout",
     "output_type": "stream",
     "text": [
      "1111110000000\n"
     ]
    },
    {
     "name": "stderr",
     "output_type": "stream",
     "text": [
      "\n"
     ]
    }
   ],
   "source": [
    "text = \"\"\n",
    "for i in tqdm(range(len(comments))):\n",
    "    comment = comments[i]\n",
    "    prompt = prompt_template + comment\n",
    "    response = query(context, prompt)\n",
    "    text += response\n",
    "    time.sleep(0.5)\n",
    "\n",
    "print(text)"
   ]
  },
  {
   "cell_type": "code",
   "execution_count": 47,
   "id": "08b9a5eb-e313-4389-ac98-9740923bb128",
   "metadata": {},
   "outputs": [
    {
     "data": {
      "text/plain": [
       "'1111110000000'"
      ]
     },
     "execution_count": 47,
     "metadata": {},
     "output_type": "execute_result"
    }
   ],
   "source": [
    "text"
   ]
  },
  {
   "cell_type": "markdown",
   "id": "9afad6ff-8529-4909-8f12-c5faba73aef6",
   "metadata": {},
   "source": [
    "# Person Analysis"
   ]
  },
  {
   "cell_type": "code",
   "execution_count": 72,
   "id": "bc9f5080-5664-4650-bfa1-a179d352eda0",
   "metadata": {},
   "outputs": [
    {
     "name": "stdout",
     "output_type": "stream",
     "text": [
      "['100', '100', '100', '100', '100', '100', '100', '100', '110', '100', '010', '010', '010', '010', '010', '010', '010', '110', '001', '001', '011', '001', '001', '001', '001', '001', '011', '001']\n"
     ]
    }
   ],
   "source": [
    "response_files = glob.glob(\"./prompt_3_redo/*.txt\")\n",
    "all_sample_preds = []\n",
    "\n",
    "for i in range(len(response_files)):\n",
    "    response_file = f\"./prompt_3_redo/sample_{i+1}.txt\"\n",
    "    with open(response_file, \"r\") as f:\n",
    "        preds = f.read().split('\\n')\n",
    "        preds = preds[:-1]\n",
    "\n",
    "    first = mode([i[0] for i in preds])\n",
    "    second = mode([i[1] for i in preds])\n",
    "    third = mode([i[2] for i in preds])\n",
    "    \n",
    "    all_sample_preds.append(first+second+third)\n",
    "print(all_sample_preds)"
   ]
  },
  {
   "cell_type": "code",
   "execution_count": null,
   "id": "a848a8ca-508b-4475-9500-e83b74fc3060",
   "metadata": {},
   "outputs": [],
   "source": []
  },
  {
   "cell_type": "code",
   "execution_count": 48,
   "id": "9bee096c-ea35-412d-91b6-f1378ff8dbb0",
   "metadata": {},
   "outputs": [
    {
     "data": {
      "text/plain": [
       "28"
      ]
     },
     "execution_count": 48,
     "metadata": {},
     "output_type": "execute_result"
    }
   ],
   "source": [
    "len(all_sample_preds)"
   ]
  },
  {
   "cell_type": "code",
   "execution_count": 73,
   "id": "61173015-1833-4664-915d-601643500bdb",
   "metadata": {},
   "outputs": [],
   "source": [
    "first_preds = [int(i[0]) for i in all_sample_preds]\n",
    "second_preds = [int(i[1]) for i in all_sample_preds]\n",
    "third_preds = [int(i[2]) for i in all_sample_preds]"
   ]
  },
  {
   "cell_type": "code",
   "execution_count": 74,
   "id": "d128f77b-4941-4f50-90d9-093562d398c6",
   "metadata": {},
   "outputs": [
    {
     "name": "stdout",
     "output_type": "stream",
     "text": [
      "['100', '100', '100', '100', '101', '101', '101', '100', '100', '100', '010', '010', '010', '010', '010', '010', '010', '110', '001', '001', '011', '001', '001', '001', '001', '001', '001', '001']\n"
     ]
    }
   ],
   "source": [
    "with open(\"./persons_label.txt\", \"r\") as f:\n",
    "    gt = f.read().split(\"\\n\")\n",
    "    print(gt)\n",
    "    \n",
    "first_gt = [int(i[0]) for i in gt]\n",
    "second_gt = [int(i[1]) for i in gt]\n",
    "third_gt = [int(i[2]) for i in gt]"
   ]
  },
  {
   "cell_type": "code",
   "execution_count": null,
   "id": "54faa4db-11ca-4e49-b0c4-0c13453b8891",
   "metadata": {},
   "outputs": [],
   "source": []
  },
  {
   "cell_type": "code",
   "execution_count": null,
   "id": "682e04ea-a66d-4fed-9a05-c62763637c01",
   "metadata": {},
   "outputs": [],
   "source": []
  },
  {
   "cell_type": "code",
   "execution_count": 76,
   "id": "d6800668-1867-4ba7-a213-e86480a91c50",
   "metadata": {},
   "outputs": [
    {
     "data": {
      "text/plain": [
       "array([[17,  0],\n",
       "       [ 0, 11]])"
      ]
     },
     "execution_count": 76,
     "metadata": {},
     "output_type": "execute_result"
    }
   ],
   "source": [
    "confusion_matrix(first_gt, first_preds)"
   ]
  },
  {
   "cell_type": "code",
   "execution_count": 70,
   "id": "e1e71199-29ca-4ad5-ad61-d34960adcfb8",
   "metadata": {},
   "outputs": [
    {
     "data": {
      "text/plain": [
       "array([[17,  2],\n",
       "       [ 0,  9]])"
      ]
     },
     "execution_count": 70,
     "metadata": {},
     "output_type": "execute_result"
    }
   ],
   "source": [
    "confusion_matrix(second_gt, second_preds)"
   ]
  },
  {
   "cell_type": "code",
   "execution_count": 75,
   "id": "76eafd57-719b-4e00-bfa2-addecd47172b",
   "metadata": {},
   "outputs": [
    {
     "data": {
      "text/plain": [
       "array([[15,  0],\n",
       "       [ 3, 10]])"
      ]
     },
     "execution_count": 75,
     "metadata": {},
     "output_type": "execute_result"
    }
   ],
   "source": [
    "confusion_matrix(third_gt, third_preds)"
   ]
  },
  {
   "cell_type": "code",
   "execution_count": 81,
   "id": "6dd1a82f-50fa-46db-8332-7670d3130b45",
   "metadata": {},
   "outputs": [],
   "source": [
    "tn, fp, fn, tp = confusion_matrix(third_gt, third_preds).ravel()"
   ]
  },
  {
   "cell_type": "code",
   "execution_count": 82,
   "id": "f99c3d31-0a36-41ff-9e23-b17cc4dc9972",
   "metadata": {},
   "outputs": [
    {
     "data": {
      "text/plain": [
       "(1.0, 1.0)"
      ]
     },
     "execution_count": 82,
     "metadata": {},
     "output_type": "execute_result"
    }
   ],
   "source": [
    "tp/(tp+fp), tn/(tn+fp)"
   ]
  },
  {
   "cell_type": "code",
   "execution_count": null,
   "id": "b4d690ca-c75d-4a73-8e61-f28282108a74",
   "metadata": {},
   "outputs": [],
   "source": []
  },
  {
   "cell_type": "markdown",
   "id": "115498df-0e33-46e7-b7ac-53eaa497e2ea",
   "metadata": {},
   "source": [
    "# Entire Dataset"
   ]
  },
  {
   "cell_type": "code",
   "execution_count": 68,
   "id": "29ff2e58-33d6-41ab-aebc-458380ab89d5",
   "metadata": {},
   "outputs": [],
   "source": [
    "oak = os.getenv(\"OAK\")\n",
    "clean_comments_folder = f\"{oak}/samori/tiktok/comments/cleaned\"\n",
    "\n",
    "cleaned_df = pd.read_csv(f\"{clean_comments_folder}/comments_3_cleaned.csv\")\n",
    "texts = cleaned_df['text']"
   ]
  },
  {
   "cell_type": "code",
   "execution_count": 78,
   "id": "eae548cf-7d5d-42da-bc7d-d240e779895c",
   "metadata": {},
   "outputs": [],
   "source": [
    "context = \"\"\"You are an AI assistant that helps to annotate social media comment data related to opioids and/or drug addiction, and you know everything about identifying the grammartical person (ie first, second, or third person) of a sentence or post\"\"\""
   ]
  },
  {
   "cell_type": "code",
   "execution_count": 79,
   "id": "40fe080b-6829-42c7-92a3-c31e24194260",
   "metadata": {},
   "outputs": [],
   "source": [
    "prompt_template = \"\"\"I will give you an opioid-related social media comment to annotate. You will return a onehot integer of length 3 (eg. 010). If the comment contains a first-person or personal account with opioids put 1 in position 1 of the onehot integer else 0. If the comment contains a second-person experience with opioid, put 1 in position 2 of the onehot integer else 0. If the comment contains a third-person experience with opioid, put 1 in position 3 of the onehot integer else 0. Examples: return 100 for 'I am recovering from OUD', 010 for 'I am sorry to hear you lost your son to fentanyl OD', 001 for 'They take fent laced substances'. Note that some comments can have multiple persons-perspective and you will put 1 in the positions corresponding to the persons-perspective present. Example return 110 for 'I lost a partner. I am sorry to hear you lost someone too. My condolences to you and your family', and 011 for 'You should take lower dose. They should be careful with supplies from the street'. \n",
    "Annotate the following (only return the annotation):\\n\"\"\""
   ]
  },
  {
   "cell_type": "code",
   "execution_count": 86,
   "id": "79ff26a1-f29b-4b71-b0f6-764971a64786",
   "metadata": {},
   "outputs": [
    {
     "name": "stderr",
     "output_type": "stream",
     "text": [
      "  0%|          | 0/9 [00:00<?, ?it/s]"
     ]
    },
    {
     "name": "stdout",
     "output_type": "stream",
     "text": [
      "many of them have no idea they are using fentanyl!\n"
     ]
    },
    {
     "name": "stderr",
     "output_type": "stream",
     "text": [
      " 11%|█         | 1/9 [00:01<00:09,  1.14s/it]"
     ]
    },
    {
     "name": "stdout",
     "output_type": "stream",
     "text": [
      "your children are spiritual warefare!\n"
     ]
    },
    {
     "name": "stderr",
     "output_type": "stream",
     "text": [
      " 22%|██▏       | 2/9 [00:02<00:08,  1.16s/it]"
     ]
    },
    {
     "name": "stdout",
     "output_type": "stream",
     "text": [
      "i pray they never havevto understand our pain\n"
     ]
    },
    {
     "name": "stderr",
     "output_type": "stream",
     "text": [
      " 33%|███▎      | 3/9 [00:03<00:06,  1.16s/it]"
     ]
    },
    {
     "name": "stdout",
     "output_type": "stream",
     "text": [
      "Happy Birthday Jackson, I hope you’re spending it visiting your momma that misses you more and more every day. 💚\n"
     ]
    },
    {
     "name": "stderr",
     "output_type": "stream",
     "text": [
      " 44%|████▍     | 4/9 [00:04<00:05,  1.16s/it]"
     ]
    },
    {
     "name": "stdout",
     "output_type": "stream",
     "text": [
      "I’m so sorry and on his bday. 🥺\n"
     ]
    },
    {
     "name": "stderr",
     "output_type": "stream",
     "text": [
      " 56%|█████▌    | 5/9 [00:05<00:04,  1.15s/it]"
     ]
    },
    {
     "name": "stdout",
     "output_type": "stream",
     "text": [
      "I wish I could ask you to reassure me it gets easier. but you're years ahead of me. it still hurts. good luck in your new place. I need to let go\n"
     ]
    },
    {
     "name": "stderr",
     "output_type": "stream",
     "text": [
      " 67%|██████▋   | 6/9 [00:06<00:03,  1.15s/it]"
     ]
    },
    {
     "name": "stdout",
     "output_type": "stream",
     "text": [
      "of the farm I raised my kids on. with my husband. he died in a car wreck in 2012. it was hard losing him. but my son is infinitely harder\n"
     ]
    },
    {
     "name": "stderr",
     "output_type": "stream",
     "text": [
      " 78%|███████▊  | 7/9 [00:08<00:02,  1.18s/it]"
     ]
    },
    {
     "name": "stdout",
     "output_type": "stream",
     "text": [
      "Jackson. I know you put all you had every bit, into loving your boy\n"
     ]
    },
    {
     "name": "stderr",
     "output_type": "stream",
     "text": [
      " 89%|████████▉ | 8/9 [00:09<00:01,  1.17s/it]"
     ]
    },
    {
     "name": "stdout",
     "output_type": "stream",
     "text": [
      "His message to you.how proud of you🥺im so sorry. My babygirl was born 1/22/2000 departed 11/29/2020 I only wait for the day I hv her in my arms😭agai\n"
     ]
    },
    {
     "name": "stderr",
     "output_type": "stream",
     "text": [
      "100%|██████████| 9/9 [00:10<00:00,  1.16s/it]\n"
     ]
    }
   ],
   "source": [
    "annotations = \"\"\n",
    "for i in tqdm(range(9)):\n",
    "    text = texts[i]\n",
    "    print(text)\n",
    "    prompt = prompt_template + text\n",
    "    response = query(context, prompt)\n",
    "    annotations += response + \"\\n\"\n",
    "    time.sleep(0.5)"
   ]
  },
  {
   "cell_type": "code",
   "execution_count": 87,
   "id": "9b44b32e-1805-4a64-80a4-3f208b93adeb",
   "metadata": {},
   "outputs": [
    {
     "name": "stdout",
     "output_type": "stream",
     "text": [
      "001\n",
      "000\n",
      "001\n",
      "001\n",
      "010\n",
      "110\n",
      "001\n",
      "010\n",
      "011\n",
      "\n"
     ]
    }
   ],
   "source": [
    "print(annotations)"
   ]
  },
  {
   "cell_type": "code",
   "execution_count": 82,
   "id": "a7575b62-fa26-476b-8f31-1f0e7e014ff5",
   "metadata": {},
   "outputs": [
    {
     "data": {
      "text/plain": [
       "'your children are spiritual warefare!'"
      ]
     },
     "execution_count": 82,
     "metadata": {},
     "output_type": "execute_result"
    }
   ],
   "source": [
    "texts[1]"
   ]
  }
 ],
 "metadata": {
  "kernelspec": {
   "display_name": "lda_env2",
   "language": "python",
   "name": "lda_env2"
  },
  "language_info": {
   "codemirror_mode": {
    "name": "ipython",
    "version": 3
   },
   "file_extension": ".py",
   "mimetype": "text/x-python",
   "name": "python",
   "nbconvert_exporter": "python",
   "pygments_lexer": "ipython3",
   "version": "3.9.20"
  }
 },
 "nbformat": 4,
 "nbformat_minor": 5
}
