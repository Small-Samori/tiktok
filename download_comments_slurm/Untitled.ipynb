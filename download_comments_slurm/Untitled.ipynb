{
 "cells": [
  {
   "cell_type": "code",
   "execution_count": 1,
   "id": "f0529c8e-0924-4b75-863b-45d199bdd00d",
   "metadata": {},
   "outputs": [
    {
     "data": {
      "text/plain": [
       "True"
      ]
     },
     "execution_count": 1,
     "metadata": {},
     "output_type": "execute_result"
    }
   ],
   "source": [
    "import requests\n",
    "import dotenv\n",
    "import os, time\n",
    "import pandas as pd\n",
    "import glob, json\n",
    "\n",
    "dotenv.load_dotenv()"
   ]
  },
  {
   "cell_type": "code",
   "execution_count": 2,
   "id": "08b95e35-f574-42b3-860d-6591c4319d9c",
   "metadata": {},
   "outputs": [
    {
     "data": {
      "text/plain": [
       "True"
      ]
     },
     "execution_count": 2,
     "metadata": {},
     "output_type": "execute_result"
    }
   ],
   "source": [
    "scratch = os.getenv('SCRATCH')\n",
    "hashtag_folder = f\"{scratch}/tiktok/hashtag_data\"\n",
    "\n",
    "oak = os.getenv('OAK')\n",
    "\n",
    "video_folder = f\"{oak}/samori/tiktok/videos\"\n",
    "comments_folder = f\"{oak}/samori/tiktok/comments\"\n",
    "comments_folder2 = f\"{scratch}/samori/tiktok/comments\"\n",
    "os.path.exists(comments_folder)"
   ]
  },
  {
   "cell_type": "code",
   "execution_count": 23,
   "id": "9768aa3b-e267-4608-b6db-c3b498fb4f24",
   "metadata": {},
   "outputs": [],
   "source": [
    "def get_access_token(client_key, client_secret):\n",
    "    \n",
    "    endpoint_url = \"https://open.tiktokapis.com/v2/oauth/token/\"\n",
    "    headers = {\n",
    "        'Content-Type': 'application/x-www-form-urlencoded',\n",
    "    }\n",
    "\n",
    "    data = {\n",
    "        'client_key': client_key,\n",
    "        'client_secret': client_secret,\n",
    "        'grant_type': 'client_credentials'\n",
    "    }\n",
    "\n",
    "    response = requests.post(endpoint_url, headers=headers, data=data)\n",
    "\n",
    "    if response.status_code == 200:\n",
    "        response_json = response.json()\n",
    "        return response_json\n",
    "        \n",
    "    else:\n",
    "        # If the request was not successful, print the error response JSON\n",
    "        print(\"Error:\", response.json())"
   ]
  },
  {
   "cell_type": "code",
   "execution_count": 24,
   "id": "9e8d760b-86ca-4c32-b5cc-debdcbe96dfd",
   "metadata": {},
   "outputs": [],
   "source": [
    "def query_comments_api(query_body, query_params, headers, save_folder):\n",
    "    endpoint_name = \"comments\"\n",
    "    endpoint = \"https://open.tiktokapis.com/v2/research/video/comment/list/\"\n",
    "    \n",
    "    video_id = query_body[\"video_id\"]\n",
    "    prev_cursor = query_body[\"cursor\"]\n",
    "    \n",
    "    # make post request\n",
    "    response = requests.post(endpoint, json=query_body, params=query_params, headers=headers)\n",
    "    status_code = response.status_code\n",
    "\n",
    "    if response.status_code != 200:\n",
    "        try:\n",
    "            response_json = response.json()\n",
    "        except json.JSONDecodeError as e:\n",
    "            response_json = \"Error reading json\"\n",
    "            \n",
    "        return video_id, False, prev_cursor, response_json, status_code \n",
    "\n",
    "    \n",
    "    # extracting information for pagination\n",
    "    data = response.json().get(\"data\", {})\n",
    "    \n",
    "    has_more = data[\"has_more\"]\n",
    "    cursor = data[\"cursor\"]\n",
    "\n",
    "    # saving queried data\n",
    "    records = data.get(endpoint_name, [])\n",
    "    df = pd.DataFrame(records)\n",
    "    if len(df) != 0:\n",
    "        df.to_csv(f\"{save_folder}/{endpoint_name}_{video_id}_{cursor}.csv\", index=False)\n",
    "\n",
    "    return video_id, has_more, cursor, len(df), status_code"
   ]
  },
  {
   "cell_type": "code",
   "execution_count": 56,
   "id": "fea35cc6-594b-450d-8fd7-398d011e9776",
   "metadata": {},
   "outputs": [],
   "source": [
    "def query_comments_api_paginate(fields, cursor, video_id, save_folder, log_name, credentials, log_dir=\"./logs_comments_cron_download\"):\n",
    "    \n",
    "    access_token = credentials[\"access_token\"]\n",
    "    token_type = credentials[\"token_type\"]\n",
    "    \n",
    "    query_params = {\"fields\": fields}\n",
    "    query_body = {\n",
    "        \"video_id\":video_id, \n",
    "        \"max_count\":100, \"cursor\":cursor\n",
    "    }\n",
    "    \n",
    "    headers = {\n",
    "        \"Content-Type\": \"application/json\",\n",
    "        \"Authorization\": f\"{token_type} {access_token}\"\n",
    "    }\n",
    "    \n",
    "    has_more = True\n",
    "\n",
    "    # pagination loop\n",
    "    while has_more:\n",
    "        query_body.update({\"cursor\": cursor})\n",
    "            \n",
    "        video_id, has_more, cursor, samples, status_code = query_comments_api(query_body, query_params, headers, save_folder)\n",
    "\n",
    "        with open(f\"{log_dir}/{log_name}\", \"a\") as f:\n",
    "            f.write(f\"{cursor}\\t{has_more}\\t{samples}\\t{video_id}\\t{status_code}\\n\")\n",
    "\n",
    "        # print(f\"{cursor}\\t{has_more}\\t{samples}\\t{video_id}\\t{status_code}\")\n",
    "        time.sleep(5)\n",
    "        \n",
    "    return status_code"
   ]
  },
  {
   "cell_type": "code",
   "execution_count": 55,
   "id": "42e8c6fe-a5bf-4402-9f98-c532c0aea59c",
   "metadata": {},
   "outputs": [],
   "source": [
    "def get_comments(video_ids, fields, cursor, save_folder, log_dir=\"./logs_comments_cron_download\"):\n",
    "\n",
    "    client_key = os.getenv(\"CLIENT_KEY\")\n",
    "    client_secret = os.getenv(\"CLIENT_SECRET\")\n",
    "    \n",
    "    credentials = get_access_token(client_key, client_secret)\n",
    "\n",
    "    logs = glob.glob(f'{log_dir}/*.txt')\n",
    "    log_name = f\"comments_cron_download_{len(logs)+1}.txt\"\n",
    "\n",
    "    col_names = [\"cursor\", \"has_more\",\"samples\",\"video_id\",\"status_code\"]\n",
    "    downloaded_vid_ids = []\n",
    "    for log in logs:\n",
    "        log_data = pd.read_csv(log, sep='\\t', names=col_names, header=None)\n",
    "        log_ids = list(log_data['video_id'])\n",
    "        log_ids = [str(i) for i in log_ids]\n",
    "        \n",
    "        downloaded_vid_ids += log_ids\n",
    "    downloaded_vid_ids = list(set(downloaded_vid_ids))\n",
    "\n",
    "    status_code = 200\n",
    "    i = 0\n",
    "    for video_id in video_ids:\n",
    "        if str(video_id) not in downloaded_vid_ids:\n",
    "            if status_code != 429:\n",
    "                if status_code == 401:\n",
    "                    credentials = get_access_token(client_key, client_secret)\n",
    "                    status_code = query_comments_api_paginate(fields, cursor, video_id, save_folder, log_name, credentials)\n",
    "                else:\n",
    "                    status_code = query_comments_api_paginate(fields, cursor, video_id, save_folder, log_name, credentials)\n",
    "                i += 1\n",
    "            else:\n",
    "                break\n",
    "        \n",
    "        if i == 10:\n",
    "            break"
   ]
  },
  {
   "cell_type": "code",
   "execution_count": 3,
   "id": "377cf594-2cd3-4d03-b2ef-f8160fe885d4",
   "metadata": {},
   "outputs": [],
   "source": [
    "oak = os.getenv('OAK')\n",
    "video_folder = f\"{oak}/samori/tiktok/videos\"\n",
    "comments_folder = f\"{oak}/samori/tiktok/comments\"\n",
    "\n",
    "video_data = pd.read_csv(f\"{video_folder}/combined/all_months.csv\")\n",
    "video_ids = list(video_data['id'])\n",
    "\n",
    "\n",
    "fields = \"id,video_id,text,like_count,reply_count,parent_comment_id,create_time\"\n",
    "cursor = 0\n",
    "save_folder = f\"{comments_folder}/downloads\"\n",
    "\n",
    "# get_comments(video_ids, fields, cursor, save_folder)"
   ]
  },
  {
   "cell_type": "code",
   "execution_count": 20,
   "id": "247bc0a9-7e98-475e-ad6a-a76c6417af97",
   "metadata": {},
   "outputs": [
    {
     "data": {
      "text/plain": [
       "numpy.int64"
      ]
     },
     "execution_count": 20,
     "metadata": {},
     "output_type": "execute_result"
    }
   ],
   "source": [
    "df = pd.read_csv(\"./logs_comments_cron_download/comment_cron_download_1.txt\", sep='\\t', names=[\"cursor\", \"has_more\",\"samples\",\"video_id\",\"status_code\"], header=None)\n",
    "type(df['video_id'][0])"
   ]
  },
  {
   "cell_type": "code",
   "execution_count": 5,
   "id": "7eee8a08-e58c-4075-9988-ab8dda86ffe7",
   "metadata": {},
   "outputs": [
    {
     "data": {
      "text/plain": [
       "52047"
      ]
     },
     "execution_count": 5,
     "metadata": {},
     "output_type": "execute_result"
    }
   ],
   "source": [
    "video_data['id'].nunique()"
   ]
  },
  {
   "cell_type": "code",
   "execution_count": 11,
   "id": "85155f12-5edc-443d-99bb-cae45e2e3c09",
   "metadata": {},
   "outputs": [
    {
     "data": {
      "text/html": [
       "<div>\n",
       "<style scoped>\n",
       "    .dataframe tbody tr th:only-of-type {\n",
       "        vertical-align: middle;\n",
       "    }\n",
       "\n",
       "    .dataframe tbody tr th {\n",
       "        vertical-align: top;\n",
       "    }\n",
       "\n",
       "    .dataframe thead th {\n",
       "        text-align: right;\n",
       "    }\n",
       "</style>\n",
       "<table border=\"1\" class=\"dataframe\">\n",
       "  <thead>\n",
       "    <tr style=\"text-align: right;\">\n",
       "      <th></th>\n",
       "      <th>cursor</th>\n",
       "      <th>has_more</th>\n",
       "      <th>samples</th>\n",
       "      <th>video_id</th>\n",
       "      <th>status_code</th>\n",
       "    </tr>\n",
       "  </thead>\n",
       "  <tbody>\n",
       "    <tr>\n",
       "      <th>0</th>\n",
       "      <td>2</td>\n",
       "      <td>False</td>\n",
       "      <td>2</td>\n",
       "      <td>7397530974424239391</td>\n",
       "      <td>200</td>\n",
       "    </tr>\n",
       "    <tr>\n",
       "      <th>1</th>\n",
       "      <td>2</td>\n",
       "      <td>False</td>\n",
       "      <td>2</td>\n",
       "      <td>7397527779362884907</td>\n",
       "      <td>200</td>\n",
       "    </tr>\n",
       "    <tr>\n",
       "      <th>2</th>\n",
       "      <td>0</td>\n",
       "      <td>False</td>\n",
       "      <td>0</td>\n",
       "      <td>7397527531559144746</td>\n",
       "      <td>200</td>\n",
       "    </tr>\n",
       "    <tr>\n",
       "      <th>3</th>\n",
       "      <td>1</td>\n",
       "      <td>False</td>\n",
       "      <td>1</td>\n",
       "      <td>7397524502109768990</td>\n",
       "      <td>200</td>\n",
       "    </tr>\n",
       "    <tr>\n",
       "      <th>4</th>\n",
       "      <td>0</td>\n",
       "      <td>False</td>\n",
       "      <td>{'error': {'code': 'invalid_params', 'message'...</td>\n",
       "      <td>7397523042047380779</td>\n",
       "      <td>400</td>\n",
       "    </tr>\n",
       "    <tr>\n",
       "      <th>...</th>\n",
       "      <td>...</td>\n",
       "      <td>...</td>\n",
       "      <td>...</td>\n",
       "      <td>...</td>\n",
       "      <td>...</td>\n",
       "    </tr>\n",
       "    <tr>\n",
       "      <th>997</th>\n",
       "      <td>501</td>\n",
       "      <td>False</td>\n",
       "      <td>37</td>\n",
       "      <td>7202616852357352747</td>\n",
       "      <td>200</td>\n",
       "    </tr>\n",
       "    <tr>\n",
       "      <th>998</th>\n",
       "      <td>8</td>\n",
       "      <td>False</td>\n",
       "      <td>8</td>\n",
       "      <td>7202615002048498990</td>\n",
       "      <td>200</td>\n",
       "    </tr>\n",
       "    <tr>\n",
       "      <th>999</th>\n",
       "      <td>4</td>\n",
       "      <td>False</td>\n",
       "      <td>4</td>\n",
       "      <td>7202613846291402027</td>\n",
       "      <td>200</td>\n",
       "    </tr>\n",
       "    <tr>\n",
       "      <th>1000</th>\n",
       "      <td>0</td>\n",
       "      <td>False</td>\n",
       "      <td>0</td>\n",
       "      <td>7202610878707928366</td>\n",
       "      <td>200</td>\n",
       "    </tr>\n",
       "    <tr>\n",
       "      <th>1001</th>\n",
       "      <td>0</td>\n",
       "      <td>False</td>\n",
       "      <td>{'data': {}, 'error': {'code': 'daily_quota_li...</td>\n",
       "      <td>7202610693164551466</td>\n",
       "      <td>429</td>\n",
       "    </tr>\n",
       "  </tbody>\n",
       "</table>\n",
       "<p>24752 rows × 5 columns</p>\n",
       "</div>"
      ],
      "text/plain": [
       "      cursor  has_more                                            samples  \\\n",
       "0          2     False                                                  2   \n",
       "1          2     False                                                  2   \n",
       "2          0     False                                                  0   \n",
       "3          1     False                                                  1   \n",
       "4          0     False  {'error': {'code': 'invalid_params', 'message'...   \n",
       "...      ...       ...                                                ...   \n",
       "997      501     False                                                 37   \n",
       "998        8     False                                                  8   \n",
       "999        4     False                                                  4   \n",
       "1000       0     False                                                  0   \n",
       "1001       0     False  {'data': {}, 'error': {'code': 'daily_quota_li...   \n",
       "\n",
       "                 video_id  status_code  \n",
       "0     7397530974424239391          200  \n",
       "1     7397527779362884907          200  \n",
       "2     7397527531559144746          200  \n",
       "3     7397524502109768990          200  \n",
       "4     7397523042047380779          400  \n",
       "...                   ...          ...  \n",
       "997   7202616852357352747          200  \n",
       "998   7202615002048498990          200  \n",
       "999   7202613846291402027          200  \n",
       "1000  7202610878707928366          200  \n",
       "1001  7202610693164551466          429  \n",
       "\n",
       "[24752 rows x 5 columns]"
      ]
     },
     "execution_count": 11,
     "metadata": {},
     "output_type": "execute_result"
    }
   ],
   "source": [
    "log_files = glob.glob(\"./logs_download_comments_slurm/*.txt\")\n",
    "\n",
    "all_logs = pd.DataFrame()\n",
    "\n",
    "for file in log_files:\n",
    "    df = pd.read_csv(file, sep='\\t', names=[\"cursor\", \"has_more\",\"samples\",\"video_id\",\"status_code\"], header=None)\n",
    "    all_logs = pd.concat([all_logs, df], axis = 0)\n",
    "\n",
    "all_logs"
   ]
  },
  {
   "cell_type": "code",
   "execution_count": 12,
   "id": "53d54733-87a8-4efa-851e-5475797ad3ee",
   "metadata": {},
   "outputs": [
    {
     "data": {
      "text/plain": [
       "21289"
      ]
     },
     "execution_count": 12,
     "metadata": {},
     "output_type": "execute_result"
    }
   ],
   "source": [
    "all_logs['video_id'].nunique()"
   ]
  },
  {
   "cell_type": "code",
   "execution_count": null,
   "id": "18aa99a8-a7c9-4794-8566-0ab8227112cd",
   "metadata": {},
   "outputs": [],
   "source": []
  }
 ],
 "metadata": {
  "kernelspec": {
   "display_name": "esm_env",
   "language": "python",
   "name": "esm_env"
  },
  "language_info": {
   "codemirror_mode": {
    "name": "ipython",
    "version": 3
   },
   "file_extension": ".py",
   "mimetype": "text/x-python",
   "name": "python",
   "nbconvert_exporter": "python",
   "pygments_lexer": "ipython3",
   "version": "3.12.2"
  }
 },
 "nbformat": 4,
 "nbformat_minor": 5
}
